{
 "cells": [
  {
   "cell_type": "markdown",
   "metadata": {},
   "source": [
    "# Feature Extraction w/ Fine-Tuned VGG16 Model"
   ]
  },
  {
   "cell_type": "code",
   "execution_count": 4,
   "metadata": {
    "collapsed": true
   },
   "outputs": [],
   "source": [
    "# Standard data science libraries\n",
    "import pandas as pd\n",
    "import numpy as np\n",
    "# Visualization\n",
    "import matplotlib.pyplot as plt\n",
    "import seaborn as sns\n",
    "# Display all cell outputs\n",
    "from IPython.core.interactiveshell import InteractiveShell\n",
    "InteractiveShell.ast_node_interactivity = 'all'\n",
    "# Other libraries\n",
    "import time\n",
    "import pickle\n",
    "import re\n",
    "from os import listdir\n",
    "from os.path import isfile, join\n",
    "from scipy import spatial\n",
    "# keras packages\n",
    "from keras import models\n",
    "from keras import layers\n",
    "from keras import optimizers\n",
    "from keras.applications.vgg16 import VGG16\n",
    "from keras.preprocessing import image\n",
    "from keras.applications.vgg16 import preprocess_input\n",
    "from keras.preprocessing.image import ImageDataGenerator, load_img\n",
    "from keras.datasets import fashion_mnist\n",
    "from keras.models import Model,load_model"
   ]
  },
  {
   "cell_type": "code",
   "execution_count": 5,
   "metadata": {},
   "outputs": [
    {
     "ename": "FileNotFoundError",
     "evalue": "[Errno 2] No such file or directory: 'FT_VGG16.pickle'",
     "output_type": "error",
     "traceback": [
      "\u001b[0;31m---------------------------------------------------------------------------\u001b[0m",
      "\u001b[0;31mFileNotFoundError\u001b[0m                         Traceback (most recent call last)",
      "\u001b[0;32m<ipython-input-5-4b7484836c96>\u001b[0m in \u001b[0;36m<module>\u001b[0;34m()\u001b[0m\n\u001b[1;32m      1\u001b[0m \u001b[0;31m# load the fine-tuned model\u001b[0m\u001b[0;34m\u001b[0m\u001b[0;34m\u001b[0m\u001b[0;34m\u001b[0m\u001b[0m\n\u001b[0;32m----> 2\u001b[0;31m \u001b[0;32mwith\u001b[0m \u001b[0mopen\u001b[0m\u001b[0;34m(\u001b[0m\u001b[0;34m'FT_VGG16.pickle'\u001b[0m\u001b[0;34m,\u001b[0m \u001b[0;34m'rb'\u001b[0m\u001b[0;34m)\u001b[0m \u001b[0;32mas\u001b[0m \u001b[0mf\u001b[0m\u001b[0;34m:\u001b[0m\u001b[0;34m\u001b[0m\u001b[0;34m\u001b[0m\u001b[0m\n\u001b[0m\u001b[1;32m      3\u001b[0m     \u001b[0mmodel\u001b[0m \u001b[0;34m=\u001b[0m \u001b[0mpickle\u001b[0m\u001b[0;34m.\u001b[0m\u001b[0mload\u001b[0m\u001b[0;34m(\u001b[0m\u001b[0mf\u001b[0m\u001b[0;34m)\u001b[0m\u001b[0;34m\u001b[0m\u001b[0;34m\u001b[0m\u001b[0m\n",
      "\u001b[0;31mFileNotFoundError\u001b[0m: [Errno 2] No such file or directory: 'FT_VGG16.pickle'"
     ]
    }
   ],
   "source": [
    "# load the fine-tuned model\n",
    "with open('FT_VGG16.pickle', 'rb') as f:\n",
    "    model = pickle.load(f)"
   ]
  },
  {
   "cell_type": "code",
   "execution_count": 7,
   "metadata": {
    "collapsed": true
   },
   "outputs": [],
   "source": [
    "# import h5py\n",
    "# f = h5py.File('small_last4_updated.h5','r+')\n",
    "# data_p = f.attrs['training_config']\n",
    "# data_p = data_p.decode().replace(\"learning_rate\",\"lr\").encode()\n",
    "# f.attrs['training_config'] = data_p\n",
    "# f.close()\n",
    "\n",
    "\n",
    "# model = load_model('small_last4.h5')"
   ]
  },
  {
   "cell_type": "code",
   "execution_count": 9,
   "metadata": {},
   "outputs": [
    {
     "name": "stdout",
     "output_type": "stream",
     "text": [
      "WARNING:tensorflow:From /Users/elenasm7/anaconda/lib/python3.6/site-packages/tensorflow/python/framework/op_def_library.py:263: colocate_with (from tensorflow.python.framework.ops) is deprecated and will be removed in a future version.\n",
      "Instructions for updating:\n",
      "Colocations handled automatically by placer.\n",
      "WARNING:tensorflow:From /Users/elenasm7/anaconda/lib/python3.6/site-packages/keras/backend/tensorflow_backend.py:3445: calling dropout (from tensorflow.python.ops.nn_ops) with keep_prob is deprecated and will be removed in a future version.\n",
      "Instructions for updating:\n",
      "Please use `rate` instead of `keep_prob`. Rate should be set to `rate = 1 - keep_prob`.\n",
      "WARNING:tensorflow:From /Users/elenasm7/anaconda/lib/python3.6/site-packages/tensorflow/python/ops/math_ops.py:3066: to_int32 (from tensorflow.python.ops.math_ops) is deprecated and will be removed in a future version.\n",
      "Instructions for updating:\n",
      "Use tf.cast instead.\n"
     ]
    },
    {
     "name": "stderr",
     "output_type": "stream",
     "text": [
      "/Users/elenasm7/anaconda/lib/python3.6/site-packages/keras/engine/saving.py:327: UserWarning: Error in loading the saved optimizer state. As a result, your model is starting with a freshly initialized optimizer.\n",
      "  warnings.warn('Error in loading the saved optimizer '\n"
     ]
    }
   ],
   "source": [
    "model = load_model('small_last4_updated.h5')"
   ]
  },
  {
   "cell_type": "code",
   "execution_count": 10,
   "metadata": {},
   "outputs": [
    {
     "name": "stdout",
     "output_type": "stream",
     "text": [
      "_________________________________________________________________\n",
      "Layer (type)                 Output Shape              Param #   \n",
      "=================================================================\n",
      "vgg16 (Model)                (None, 1, 1, 512)         14714688  \n",
      "_________________________________________________________________\n",
      "flatten_1 (Flatten)          (None, 512)               0         \n",
      "_________________________________________________________________\n",
      "dense_1 (Dense)              (None, 1024)              525312    \n",
      "_________________________________________________________________\n",
      "dropout_1 (Dropout)          (None, 1024)              0         \n",
      "_________________________________________________________________\n",
      "dense_2 (Dense)              (None, 8)                 8200      \n",
      "=================================================================\n",
      "Total params: 15,248,200\n",
      "Trainable params: 7,612,936\n",
      "Non-trainable params: 7,635,264\n",
      "_________________________________________________________________\n"
     ]
    }
   ],
   "source": [
    "model.summary()"
   ]
  },
  {
   "cell_type": "code",
   "execution_count": 11,
   "metadata": {},
   "outputs": [],
   "source": [
    "# test out function that returns output of an intermediate layer\n",
    "\n",
    "img_path1 = 'omybag__36.png'\n",
    "# img_path2 = './data_original/totes/top_48.png'\n",
    "# img_path3 = './data_original/circles/gunas_18.png'\n",
    "# img_path4 = './data_original/shoulder_bags/av_18.png'\n",
    "\n",
    "layer_name = 'dense_1'\n",
    "intermediate_layer_model = Model(inputs=model.input,\n",
    "                                 outputs=model.get_layer(layer_name).output)\n",
    "\n",
    "def get_img_features(img_path):\n",
    "    img = image.load_img(img_path, target_size=(48, 48))\n",
    "    img_data = image.img_to_array(img)\n",
    "    img_data = np.expand_dims(img_data, axis=0)\n",
    "    img_data = preprocess_input(img_data)\n",
    "    \n",
    "    intermediate_output = intermediate_layer_model.predict(img_data)\n",
    "    return intermediate_output"
   ]
  },
  {
   "cell_type": "code",
   "execution_count": 12,
   "metadata": {
    "collapsed": true
   },
   "outputs": [],
   "source": [
    "features1 = get_img_features(img_path1)\n",
    "# features2 = get_img_features(img_path2)\n",
    "# features3 = get_img_features(img_path3)\n",
    "# features4 = get_img_features(img_path4)"
   ]
  },
  {
   "cell_type": "code",
   "execution_count": 13,
   "metadata": {},
   "outputs": [
    {
     "data": {
      "text/plain": [
       "(1, 1024)"
      ]
     },
     "execution_count": 13,
     "metadata": {},
     "output_type": "execute_result"
    }
   ],
   "source": [
    "features1.shape"
   ]
  },
  {
   "cell_type": "markdown",
   "metadata": {},
   "source": [
    "#### Test cosine similarity calculation"
   ]
  },
  {
   "cell_type": "code",
   "execution_count": 298,
   "metadata": {
    "collapsed": true
   },
   "outputs": [],
   "source": [
    "def get_cosine_sim(feature1, feature2):\n",
    "    '''\n",
    "    function to return cosine similarity between two feature matrices\n",
    "    '''\n",
    "    return 1 - spatial.distance.cosine(features1, features1)"
   ]
  },
  {
   "cell_type": "code",
   "execution_count": 40,
   "metadata": {},
   "outputs": [
    {
     "data": {
      "text/plain": [
       "1.0"
      ]
     },
     "execution_count": 40,
     "metadata": {},
     "output_type": "execute_result"
    }
   ],
   "source": [
    "# Note that spatial.distance.cosine computes the distance, and not the similarity. \n",
    "# So, you must subtract the value from 1 to get the similarity.\n",
    "cosine_sim = 1 - spatial.distance.cosine(features1, features1)\n",
    "cosine_sim # same bag"
   ]
  },
  {
   "cell_type": "code",
   "execution_count": 42,
   "metadata": {},
   "outputs": [
    {
     "data": {
      "text/plain": [
       "0.36654725670814514"
      ]
     },
     "execution_count": 42,
     "metadata": {},
     "output_type": "execute_result"
    }
   ],
   "source": [
    "cosine_sim2 = 1 - spatial.distance.cosine(features1, features3)\n",
    "cosine_sim2 # tote bag and circle bag"
   ]
  },
  {
   "cell_type": "code",
   "execution_count": 43,
   "metadata": {},
   "outputs": [
    {
     "data": {
      "text/plain": [
       "0.3918082118034363"
      ]
     },
     "execution_count": 43,
     "metadata": {},
     "output_type": "execute_result"
    }
   ],
   "source": [
    "cosine_sim3 = 1 - spatial.distance.cosine(features1, features4)\n",
    "cosine_sim3"
   ]
  },
  {
   "cell_type": "code",
   "execution_count": 44,
   "metadata": {},
   "outputs": [
    {
     "data": {
      "text/plain": [
       "0.36654725670814514"
      ]
     },
     "execution_count": 44,
     "metadata": {},
     "output_type": "execute_result"
    }
   ],
   "source": [
    "cosine_sim4 = 1 - spatial.distance.cosine(features1, features3)\n",
    "cosine_sim4"
   ]
  },
  {
   "cell_type": "markdown",
   "metadata": {},
   "source": [
    "#### Load the dataframe to store the feature matrices.\n",
    "\n",
    "Clean up the dataframe as needed (especially the price column).\n",
    "\n"
   ]
  },
  {
   "cell_type": "code",
   "execution_count": 262,
   "metadata": {
    "collapsed": true
   },
   "outputs": [],
   "source": [
    "with open('df_bags.pickle', 'rb') as f:\n",
    "    df= pickle.load(f)"
   ]
  },
  {
   "cell_type": "code",
   "execution_count": 263,
   "metadata": {
    "collapsed": true
   },
   "outputs": [],
   "source": [
    "df.price.fillna(value=0, inplace=True)\n",
    "df.price.replace(to_replace='Sold Out', value=0, inplace=True)"
   ]
  },
  {
   "cell_type": "code",
   "execution_count": 264,
   "metadata": {
    "collapsed": true
   },
   "outputs": [],
   "source": [
    "df.price = df.price.astype(str)"
   ]
  },
  {
   "cell_type": "code",
   "execution_count": 265,
   "metadata": {
    "collapsed": true,
    "scrolled": false
   },
   "outputs": [],
   "source": [
    "df['cleaned_price'] = df['price'].apply(lambda x: re.findall('[0-9|$|€][0-9.]*', x))\n",
    "df['cleaned_price'] = df['cleaned_price'].apply(lambda x: float(str(x[0]).replace('$', '').replace('€','')))"
   ]
  },
  {
   "cell_type": "code",
   "execution_count": 266,
   "metadata": {},
   "outputs": [
    {
     "data": {
      "text/html": [
       "<div>\n",
       "<style scoped>\n",
       "    .dataframe tbody tr th:only-of-type {\n",
       "        vertical-align: middle;\n",
       "    }\n",
       "\n",
       "    .dataframe tbody tr th {\n",
       "        vertical-align: top;\n",
       "    }\n",
       "\n",
       "    .dataframe thead th {\n",
       "        text-align: right;\n",
       "    }\n",
       "</style>\n",
       "<table border=\"1\" class=\"dataframe\">\n",
       "  <thead>\n",
       "    <tr style=\"text-align: right;\">\n",
       "      <th></th>\n",
       "      <th>index</th>\n",
       "      <th>name</th>\n",
       "      <th>brand</th>\n",
       "      <th>price</th>\n",
       "      <th>bag_url</th>\n",
       "      <th>img_filename</th>\n",
       "      <th>label</th>\n",
       "      <th>is_ethical</th>\n",
       "      <th>source</th>\n",
       "      <th>cleaned_price</th>\n",
       "    </tr>\n",
       "  </thead>\n",
       "  <tbody>\n",
       "    <tr>\n",
       "      <th>0</th>\n",
       "      <td>0</td>\n",
       "      <td>Tote</td>\n",
       "      <td>Victoria's Secret</td>\n",
       "      <td>$21.99$74</td>\n",
       "      <td>https://www.thredup.com/product/handbags-victo...</td>\n",
       "      <td>thredup_vic_0.png</td>\n",
       "      <td>Totes</td>\n",
       "      <td>1</td>\n",
       "      <td>thredup</td>\n",
       "      <td>21.99</td>\n",
       "    </tr>\n",
       "    <tr>\n",
       "      <th>1</th>\n",
       "      <td>1</td>\n",
       "      <td>Tote</td>\n",
       "      <td>Anne Klein</td>\n",
       "      <td>$17.99$69</td>\n",
       "      <td>https://www.thredup.com/product/handbags-anne-...</td>\n",
       "      <td>thredup_ann_1.png</td>\n",
       "      <td>Totes</td>\n",
       "      <td>1</td>\n",
       "      <td>thredup</td>\n",
       "      <td>17.99</td>\n",
       "    </tr>\n",
       "    <tr>\n",
       "      <th>2</th>\n",
       "      <td>2</td>\n",
       "      <td>Tote</td>\n",
       "      <td>Unbranded</td>\n",
       "      <td>$16.99$60</td>\n",
       "      <td>https://www.thredup.com/product/handbags-unbra...</td>\n",
       "      <td>thredup_unb_2.png</td>\n",
       "      <td>Totes</td>\n",
       "      <td>1</td>\n",
       "      <td>thredup</td>\n",
       "      <td>16.99</td>\n",
       "    </tr>\n",
       "    <tr>\n",
       "      <th>3</th>\n",
       "      <td>3</td>\n",
       "      <td>Tote</td>\n",
       "      <td>Unbranded</td>\n",
       "      <td>$15.99$60</td>\n",
       "      <td>https://www.thredup.com/product/handbags-unbra...</td>\n",
       "      <td>thredup_unb_3.png</td>\n",
       "      <td>Totes</td>\n",
       "      <td>1</td>\n",
       "      <td>thredup</td>\n",
       "      <td>15.99</td>\n",
       "    </tr>\n",
       "    <tr>\n",
       "      <th>4</th>\n",
       "      <td>4</td>\n",
       "      <td>Tote</td>\n",
       "      <td>Victoria's Secret</td>\n",
       "      <td>$25.99$68</td>\n",
       "      <td>https://www.thredup.com/product/handbags-victo...</td>\n",
       "      <td>thredup_vic_4.png</td>\n",
       "      <td>Totes</td>\n",
       "      <td>1</td>\n",
       "      <td>thredup</td>\n",
       "      <td>25.99</td>\n",
       "    </tr>\n",
       "  </tbody>\n",
       "</table>\n",
       "</div>"
      ],
      "text/plain": [
       "   index  name              brand      price  \\\n",
       "0      0  Tote  Victoria's Secret  $21.99$74   \n",
       "1      1  Tote         Anne Klein  $17.99$69   \n",
       "2      2  Tote          Unbranded  $16.99$60   \n",
       "3      3  Tote          Unbranded  $15.99$60   \n",
       "4      4  Tote  Victoria's Secret  $25.99$68   \n",
       "\n",
       "                                             bag_url       img_filename  \\\n",
       "0  https://www.thredup.com/product/handbags-victo...  thredup_vic_0.png   \n",
       "1  https://www.thredup.com/product/handbags-anne-...  thredup_ann_1.png   \n",
       "2  https://www.thredup.com/product/handbags-unbra...  thredup_unb_2.png   \n",
       "3  https://www.thredup.com/product/handbags-unbra...  thredup_unb_3.png   \n",
       "4  https://www.thredup.com/product/handbags-victo...  thredup_vic_4.png   \n",
       "\n",
       "   label  is_ethical   source  cleaned_price  \n",
       "0  Totes           1  thredup          21.99  \n",
       "1  Totes           1  thredup          17.99  \n",
       "2  Totes           1  thredup          16.99  \n",
       "3  Totes           1  thredup          15.99  \n",
       "4  Totes           1  thredup          25.99  "
      ]
     },
     "execution_count": 266,
     "metadata": {},
     "output_type": "execute_result"
    }
   ],
   "source": [
    "df.head()"
   ]
  },
  {
   "cell_type": "code",
   "execution_count": 267,
   "metadata": {},
   "outputs": [
    {
     "data": {
      "text/plain": [
       "0    21.99\n",
       "1    17.99\n",
       "2    16.99\n",
       "3    15.99\n",
       "4    25.99\n",
       "Name: cleaned_price, dtype: float64"
      ]
     },
     "execution_count": 267,
     "metadata": {},
     "output_type": "execute_result"
    }
   ],
   "source": [
    "df.cleaned_price.head()"
   ]
  },
  {
   "cell_type": "markdown",
   "metadata": {},
   "source": [
    "Fix label column"
   ]
  },
  {
   "cell_type": "code",
   "execution_count": 268,
   "metadata": {
    "collapsed": true
   },
   "outputs": [],
   "source": [
    "# set variables for each label image directory\n",
    "backpack_path = './data_original/backpacks'\n",
    "bucket_path = './data_original/bucket_bags'\n",
    "circle_path = './data_original/circles'\n",
    "clutch_path = './data_original/clutches'\n",
    "fanny_path = './data_original/fanny_packs'\n",
    "shoulder_path = './data_original/shoulder_bags'\n",
    "tote_path = './data_original/totes'\n",
    "weekender_path = './data_original/weekenders'"
   ]
  },
  {
   "cell_type": "code",
   "execution_count": 269,
   "metadata": {
    "collapsed": true
   },
   "outputs": [],
   "source": [
    "# get list of all files in each directory\n",
    "backpacks = [f for f in listdir(backpack_path) if isfile(join(backpack_path, f))]\n",
    "buckets = [f for f in listdir(bucket_path) if isfile(join(bucket_path, f))]\n",
    "circles = [f for f in listdir(circle_path) if isfile(join(circle_path, f))]\n",
    "clutches = [f for f in listdir(clutch_path) if isfile(join(clutch_path, f))]\n",
    "fanny_packs = [f for f in listdir(fanny_path) if isfile(join(fanny_path, f))]\n",
    "shoulder_bags = [f for f in listdir(shoulder_path) if isfile(join(shoulder_path, f))]\n",
    "totes = [f for f in listdir(tote_path) if isfile(join(tote_path, f))]\n",
    "weekenders = [f for f in listdir(weekender_path) if isfile(join(weekender_path, f))]"
   ]
  },
  {
   "cell_type": "code",
   "execution_count": 270,
   "metadata": {
    "collapsed": true
   },
   "outputs": [],
   "source": [
    "def assign_label(row):\n",
    "    '''\n",
    "    function to apply to dataframe that assigns correct label to filename\n",
    "    '''\n",
    "    if row['img_filename'] in backpacks:\n",
    "        return \"backpacks\"\n",
    "    elif row['img_filename'] in circles:\n",
    "        return \"circles\"\n",
    "    elif row['img_filename'] in clutches:\n",
    "        return 'clutches'\n",
    "    elif row['img_filename'] in fanny_packs:\n",
    "        return 'fanny_packs'\n",
    "    elif row['img_filename'] in shoulder_bags:\n",
    "        return 'shoulder_bags'\n",
    "    elif row['img_filename'] in totes:\n",
    "        return 'totes'\n",
    "    elif row['img_filename'] in buckets:\n",
    "        return 'bucket_bags'\n",
    "    elif row['img_filename'] in weekenders:\n",
    "        return 'weekenders'\n",
    "    else:\n",
    "        return row['label']"
   ]
  },
  {
   "cell_type": "code",
   "execution_count": 271,
   "metadata": {
    "collapsed": true
   },
   "outputs": [],
   "source": [
    "# apply function to label column in dataframe\n",
    "df['label'] = df.apply(assign_label, axis=1)"
   ]
  },
  {
   "cell_type": "code",
   "execution_count": 272,
   "metadata": {},
   "outputs": [
    {
     "data": {
      "text/html": [
       "<div>\n",
       "<style scoped>\n",
       "    .dataframe tbody tr th:only-of-type {\n",
       "        vertical-align: middle;\n",
       "    }\n",
       "\n",
       "    .dataframe tbody tr th {\n",
       "        vertical-align: top;\n",
       "    }\n",
       "\n",
       "    .dataframe thead th {\n",
       "        text-align: right;\n",
       "    }\n",
       "</style>\n",
       "<table border=\"1\" class=\"dataframe\">\n",
       "  <thead>\n",
       "    <tr style=\"text-align: right;\">\n",
       "      <th></th>\n",
       "      <th>index</th>\n",
       "      <th>name</th>\n",
       "      <th>brand</th>\n",
       "      <th>price</th>\n",
       "      <th>bag_url</th>\n",
       "      <th>img_filename</th>\n",
       "      <th>label</th>\n",
       "      <th>is_ethical</th>\n",
       "      <th>source</th>\n",
       "      <th>cleaned_price</th>\n",
       "    </tr>\n",
       "  </thead>\n",
       "  <tbody>\n",
       "    <tr>\n",
       "      <th>0</th>\n",
       "      <td>0</td>\n",
       "      <td>Tote</td>\n",
       "      <td>Victoria's Secret</td>\n",
       "      <td>$21.99$74</td>\n",
       "      <td>https://www.thredup.com/product/handbags-victo...</td>\n",
       "      <td>thredup_vic_0.png</td>\n",
       "      <td>totes</td>\n",
       "      <td>1</td>\n",
       "      <td>thredup</td>\n",
       "      <td>21.99</td>\n",
       "    </tr>\n",
       "    <tr>\n",
       "      <th>1</th>\n",
       "      <td>1</td>\n",
       "      <td>Tote</td>\n",
       "      <td>Anne Klein</td>\n",
       "      <td>$17.99$69</td>\n",
       "      <td>https://www.thredup.com/product/handbags-anne-...</td>\n",
       "      <td>thredup_ann_1.png</td>\n",
       "      <td>totes</td>\n",
       "      <td>1</td>\n",
       "      <td>thredup</td>\n",
       "      <td>17.99</td>\n",
       "    </tr>\n",
       "    <tr>\n",
       "      <th>2</th>\n",
       "      <td>2</td>\n",
       "      <td>Tote</td>\n",
       "      <td>Unbranded</td>\n",
       "      <td>$16.99$60</td>\n",
       "      <td>https://www.thredup.com/product/handbags-unbra...</td>\n",
       "      <td>thredup_unb_2.png</td>\n",
       "      <td>totes</td>\n",
       "      <td>1</td>\n",
       "      <td>thredup</td>\n",
       "      <td>16.99</td>\n",
       "    </tr>\n",
       "    <tr>\n",
       "      <th>3</th>\n",
       "      <td>3</td>\n",
       "      <td>Tote</td>\n",
       "      <td>Unbranded</td>\n",
       "      <td>$15.99$60</td>\n",
       "      <td>https://www.thredup.com/product/handbags-unbra...</td>\n",
       "      <td>thredup_unb_3.png</td>\n",
       "      <td>totes</td>\n",
       "      <td>1</td>\n",
       "      <td>thredup</td>\n",
       "      <td>15.99</td>\n",
       "    </tr>\n",
       "    <tr>\n",
       "      <th>4</th>\n",
       "      <td>4</td>\n",
       "      <td>Tote</td>\n",
       "      <td>Victoria's Secret</td>\n",
       "      <td>$25.99$68</td>\n",
       "      <td>https://www.thredup.com/product/handbags-victo...</td>\n",
       "      <td>thredup_vic_4.png</td>\n",
       "      <td>totes</td>\n",
       "      <td>1</td>\n",
       "      <td>thredup</td>\n",
       "      <td>25.99</td>\n",
       "    </tr>\n",
       "  </tbody>\n",
       "</table>\n",
       "</div>"
      ],
      "text/plain": [
       "   index  name              brand      price  \\\n",
       "0      0  Tote  Victoria's Secret  $21.99$74   \n",
       "1      1  Tote         Anne Klein  $17.99$69   \n",
       "2      2  Tote          Unbranded  $16.99$60   \n",
       "3      3  Tote          Unbranded  $15.99$60   \n",
       "4      4  Tote  Victoria's Secret  $25.99$68   \n",
       "\n",
       "                                             bag_url       img_filename  \\\n",
       "0  https://www.thredup.com/product/handbags-victo...  thredup_vic_0.png   \n",
       "1  https://www.thredup.com/product/handbags-anne-...  thredup_ann_1.png   \n",
       "2  https://www.thredup.com/product/handbags-unbra...  thredup_unb_2.png   \n",
       "3  https://www.thredup.com/product/handbags-unbra...  thredup_unb_3.png   \n",
       "4  https://www.thredup.com/product/handbags-victo...  thredup_vic_4.png   \n",
       "\n",
       "   label  is_ethical   source  cleaned_price  \n",
       "0  totes           1  thredup          21.99  \n",
       "1  totes           1  thredup          17.99  \n",
       "2  totes           1  thredup          16.99  \n",
       "3  totes           1  thredup          15.99  \n",
       "4  totes           1  thredup          25.99  "
      ]
     },
     "execution_count": 272,
     "metadata": {},
     "output_type": "execute_result"
    }
   ],
   "source": [
    "# df = df.drop('index', axis=1)\n",
    "df.head()"
   ]
  },
  {
   "cell_type": "code",
   "execution_count": 273,
   "metadata": {},
   "outputs": [
    {
     "data": {
      "text/plain": [
       "totes            1553\n",
       "backpacks        1520\n",
       "shoulder_bags    1453\n",
       "clutches          491\n",
       "Clutches          415\n",
       "fanny_packs       385\n",
       "bucket_bags       277\n",
       "weekenders        277\n",
       "Totes             172\n",
       "circles           138\n",
       "Shoulder Bags      68\n",
       "Bucket Bags         4\n",
       "Weekenders          2\n",
       "Name: label, dtype: int64"
      ]
     },
     "execution_count": 273,
     "metadata": {},
     "output_type": "execute_result"
    }
   ],
   "source": [
    "df['label'].value_counts()"
   ]
  },
  {
   "cell_type": "code",
   "execution_count": 274,
   "metadata": {
    "collapsed": true
   },
   "outputs": [],
   "source": [
    "def clean_label_name(row):\n",
    "    if row['label'] == 'Clutches':\n",
    "        return 'clutches'\n",
    "    elif row['label'] == 'Totes':\n",
    "        return 'totes'\n",
    "    elif row['label'] =='Shoulder Bags':\n",
    "        return 'shoulder_bags'\n",
    "    elif row['label'] =='Bucket Bags':\n",
    "        return 'bucket_bags'\n",
    "    elif row['label']=='Weekenders':\n",
    "        return 'weekenders'\n",
    "    else:\n",
    "        return row['label']"
   ]
  },
  {
   "cell_type": "code",
   "execution_count": 275,
   "metadata": {
    "collapsed": true
   },
   "outputs": [],
   "source": [
    "df['label'] = df.apply(clean_label_name, axis=1)"
   ]
  },
  {
   "cell_type": "code",
   "execution_count": 276,
   "metadata": {},
   "outputs": [
    {
     "data": {
      "text/html": [
       "<div>\n",
       "<style scoped>\n",
       "    .dataframe tbody tr th:only-of-type {\n",
       "        vertical-align: middle;\n",
       "    }\n",
       "\n",
       "    .dataframe tbody tr th {\n",
       "        vertical-align: top;\n",
       "    }\n",
       "\n",
       "    .dataframe thead th {\n",
       "        text-align: right;\n",
       "    }\n",
       "</style>\n",
       "<table border=\"1\" class=\"dataframe\">\n",
       "  <thead>\n",
       "    <tr style=\"text-align: right;\">\n",
       "      <th></th>\n",
       "      <th>index</th>\n",
       "      <th>name</th>\n",
       "      <th>brand</th>\n",
       "      <th>price</th>\n",
       "      <th>bag_url</th>\n",
       "      <th>img_filename</th>\n",
       "      <th>label</th>\n",
       "      <th>is_ethical</th>\n",
       "      <th>source</th>\n",
       "      <th>cleaned_price</th>\n",
       "    </tr>\n",
       "  </thead>\n",
       "  <tbody>\n",
       "    <tr>\n",
       "      <th>0</th>\n",
       "      <td>0</td>\n",
       "      <td>Tote</td>\n",
       "      <td>Victoria's Secret</td>\n",
       "      <td>$21.99$74</td>\n",
       "      <td>https://www.thredup.com/product/handbags-victo...</td>\n",
       "      <td>thredup_vic_0.png</td>\n",
       "      <td>totes</td>\n",
       "      <td>1</td>\n",
       "      <td>thredup</td>\n",
       "      <td>21.99</td>\n",
       "    </tr>\n",
       "    <tr>\n",
       "      <th>1</th>\n",
       "      <td>1</td>\n",
       "      <td>Tote</td>\n",
       "      <td>Anne Klein</td>\n",
       "      <td>$17.99$69</td>\n",
       "      <td>https://www.thredup.com/product/handbags-anne-...</td>\n",
       "      <td>thredup_ann_1.png</td>\n",
       "      <td>totes</td>\n",
       "      <td>1</td>\n",
       "      <td>thredup</td>\n",
       "      <td>17.99</td>\n",
       "    </tr>\n",
       "    <tr>\n",
       "      <th>2</th>\n",
       "      <td>2</td>\n",
       "      <td>Tote</td>\n",
       "      <td>Unbranded</td>\n",
       "      <td>$16.99$60</td>\n",
       "      <td>https://www.thredup.com/product/handbags-unbra...</td>\n",
       "      <td>thredup_unb_2.png</td>\n",
       "      <td>totes</td>\n",
       "      <td>1</td>\n",
       "      <td>thredup</td>\n",
       "      <td>16.99</td>\n",
       "    </tr>\n",
       "    <tr>\n",
       "      <th>3</th>\n",
       "      <td>3</td>\n",
       "      <td>Tote</td>\n",
       "      <td>Unbranded</td>\n",
       "      <td>$15.99$60</td>\n",
       "      <td>https://www.thredup.com/product/handbags-unbra...</td>\n",
       "      <td>thredup_unb_3.png</td>\n",
       "      <td>totes</td>\n",
       "      <td>1</td>\n",
       "      <td>thredup</td>\n",
       "      <td>15.99</td>\n",
       "    </tr>\n",
       "    <tr>\n",
       "      <th>4</th>\n",
       "      <td>4</td>\n",
       "      <td>Tote</td>\n",
       "      <td>Victoria's Secret</td>\n",
       "      <td>$25.99$68</td>\n",
       "      <td>https://www.thredup.com/product/handbags-victo...</td>\n",
       "      <td>thredup_vic_4.png</td>\n",
       "      <td>totes</td>\n",
       "      <td>1</td>\n",
       "      <td>thredup</td>\n",
       "      <td>25.99</td>\n",
       "    </tr>\n",
       "  </tbody>\n",
       "</table>\n",
       "</div>"
      ],
      "text/plain": [
       "   index  name              brand      price  \\\n",
       "0      0  Tote  Victoria's Secret  $21.99$74   \n",
       "1      1  Tote         Anne Klein  $17.99$69   \n",
       "2      2  Tote          Unbranded  $16.99$60   \n",
       "3      3  Tote          Unbranded  $15.99$60   \n",
       "4      4  Tote  Victoria's Secret  $25.99$68   \n",
       "\n",
       "                                             bag_url       img_filename  \\\n",
       "0  https://www.thredup.com/product/handbags-victo...  thredup_vic_0.png   \n",
       "1  https://www.thredup.com/product/handbags-anne-...  thredup_ann_1.png   \n",
       "2  https://www.thredup.com/product/handbags-unbra...  thredup_unb_2.png   \n",
       "3  https://www.thredup.com/product/handbags-unbra...  thredup_unb_3.png   \n",
       "4  https://www.thredup.com/product/handbags-victo...  thredup_vic_4.png   \n",
       "\n",
       "   label  is_ethical   source  cleaned_price  \n",
       "0  totes           1  thredup          21.99  \n",
       "1  totes           1  thredup          17.99  \n",
       "2  totes           1  thredup          16.99  \n",
       "3  totes           1  thredup          15.99  \n",
       "4  totes           1  thredup          25.99  "
      ]
     },
     "execution_count": 276,
     "metadata": {},
     "output_type": "execute_result"
    }
   ],
   "source": [
    "df.head()"
   ]
  },
  {
   "cell_type": "code",
   "execution_count": 277,
   "metadata": {},
   "outputs": [
    {
     "data": {
      "text/plain": [
       "totes            1725\n",
       "shoulder_bags    1521\n",
       "backpacks        1520\n",
       "clutches          906\n",
       "fanny_packs       385\n",
       "bucket_bags       281\n",
       "weekenders        279\n",
       "circles           138\n",
       "Name: label, dtype: int64"
      ]
     },
     "execution_count": 277,
     "metadata": {},
     "output_type": "execute_result"
    }
   ],
   "source": [
    "df['label'].value_counts()"
   ]
  },
  {
   "cell_type": "markdown",
   "metadata": {},
   "source": [
    "#### Apply the the feature extraction function to the dataframe"
   ]
  },
  {
   "cell_type": "code",
   "execution_count": 278,
   "metadata": {
    "collapsed": true
   },
   "outputs": [],
   "source": [
    "def apply_feature_function(row):\n",
    "    try:\n",
    "        img_path = './data_original/'+ row['label']+'/'+ row['img_filename']\n",
    "        return get_img_features(img_path)\n",
    "    except:\n",
    "        return 'file not found'"
   ]
  },
  {
   "cell_type": "code",
   "execution_count": 279,
   "metadata": {},
   "outputs": [
    {
     "name": "stderr",
     "output_type": "stream",
     "text": [
      "/Users/gracejeong/anaconda3/lib/python3.7/site-packages/PIL/Image.py:952: UserWarning: Palette images with Transparency   expressed in bytes should be converted to RGBA images\n",
      "  ' expressed in bytes should be converted ' +\n",
      "/Users/gracejeong/anaconda3/lib/python3.7/site-packages/PIL/Image.py:952: UserWarning: Palette images with Transparency   expressed in bytes should be converted to RGBA images\n",
      "  ' expressed in bytes should be converted ' +\n",
      "/Users/gracejeong/anaconda3/lib/python3.7/site-packages/PIL/Image.py:952: UserWarning: Palette images with Transparency   expressed in bytes should be converted to RGBA images\n",
      "  ' expressed in bytes should be converted ' +\n",
      "/Users/gracejeong/anaconda3/lib/python3.7/site-packages/PIL/Image.py:952: UserWarning: Palette images with Transparency   expressed in bytes should be converted to RGBA images\n",
      "  ' expressed in bytes should be converted ' +\n",
      "/Users/gracejeong/anaconda3/lib/python3.7/site-packages/PIL/Image.py:952: UserWarning: Palette images with Transparency   expressed in bytes should be converted to RGBA images\n",
      "  ' expressed in bytes should be converted ' +\n",
      "/Users/gracejeong/anaconda3/lib/python3.7/site-packages/PIL/Image.py:952: UserWarning: Palette images with Transparency   expressed in bytes should be converted to RGBA images\n",
      "  ' expressed in bytes should be converted ' +\n"
     ]
    }
   ],
   "source": [
    "df['feature_matrix'] = df.apply(apply_feature_function, axis=1)"
   ]
  },
  {
   "cell_type": "code",
   "execution_count": 280,
   "metadata": {},
   "outputs": [
    {
     "data": {
      "text/html": [
       "<div>\n",
       "<style scoped>\n",
       "    .dataframe tbody tr th:only-of-type {\n",
       "        vertical-align: middle;\n",
       "    }\n",
       "\n",
       "    .dataframe tbody tr th {\n",
       "        vertical-align: top;\n",
       "    }\n",
       "\n",
       "    .dataframe thead th {\n",
       "        text-align: right;\n",
       "    }\n",
       "</style>\n",
       "<table border=\"1\" class=\"dataframe\">\n",
       "  <thead>\n",
       "    <tr style=\"text-align: right;\">\n",
       "      <th></th>\n",
       "      <th>index</th>\n",
       "      <th>name</th>\n",
       "      <th>brand</th>\n",
       "      <th>price</th>\n",
       "      <th>bag_url</th>\n",
       "      <th>img_filename</th>\n",
       "      <th>label</th>\n",
       "      <th>is_ethical</th>\n",
       "      <th>source</th>\n",
       "      <th>cleaned_price</th>\n",
       "      <th>feature_matrix</th>\n",
       "    </tr>\n",
       "  </thead>\n",
       "  <tbody>\n",
       "    <tr>\n",
       "      <th>0</th>\n",
       "      <td>0</td>\n",
       "      <td>Tote</td>\n",
       "      <td>Victoria's Secret</td>\n",
       "      <td>$21.99$74</td>\n",
       "      <td>https://www.thredup.com/product/handbags-victo...</td>\n",
       "      <td>thredup_vic_0.png</td>\n",
       "      <td>totes</td>\n",
       "      <td>1</td>\n",
       "      <td>thredup</td>\n",
       "      <td>21.99</td>\n",
       "      <td>[[0.0, 34.082092, 120.07053, 34.426167, 60.972...</td>\n",
       "    </tr>\n",
       "    <tr>\n",
       "      <th>1</th>\n",
       "      <td>1</td>\n",
       "      <td>Tote</td>\n",
       "      <td>Anne Klein</td>\n",
       "      <td>$17.99$69</td>\n",
       "      <td>https://www.thredup.com/product/handbags-anne-...</td>\n",
       "      <td>thredup_ann_1.png</td>\n",
       "      <td>totes</td>\n",
       "      <td>1</td>\n",
       "      <td>thredup</td>\n",
       "      <td>17.99</td>\n",
       "      <td>[[0.0, 59.236874, 93.56827, 3.9990442, 0.0, 25...</td>\n",
       "    </tr>\n",
       "    <tr>\n",
       "      <th>2</th>\n",
       "      <td>2</td>\n",
       "      <td>Tote</td>\n",
       "      <td>Unbranded</td>\n",
       "      <td>$16.99$60</td>\n",
       "      <td>https://www.thredup.com/product/handbags-unbra...</td>\n",
       "      <td>thredup_unb_2.png</td>\n",
       "      <td>totes</td>\n",
       "      <td>1</td>\n",
       "      <td>thredup</td>\n",
       "      <td>16.99</td>\n",
       "      <td>[[0.0, 62.95456, 4.9559455, 45.43826, 0.0, 143...</td>\n",
       "    </tr>\n",
       "    <tr>\n",
       "      <th>3</th>\n",
       "      <td>3</td>\n",
       "      <td>Tote</td>\n",
       "      <td>Unbranded</td>\n",
       "      <td>$15.99$60</td>\n",
       "      <td>https://www.thredup.com/product/handbags-unbra...</td>\n",
       "      <td>thredup_unb_3.png</td>\n",
       "      <td>totes</td>\n",
       "      <td>1</td>\n",
       "      <td>thredup</td>\n",
       "      <td>15.99</td>\n",
       "      <td>[[0.0, 32.848614, 31.133387, 28.699326, 4.2855...</td>\n",
       "    </tr>\n",
       "    <tr>\n",
       "      <th>4</th>\n",
       "      <td>4</td>\n",
       "      <td>Tote</td>\n",
       "      <td>Victoria's Secret</td>\n",
       "      <td>$25.99$68</td>\n",
       "      <td>https://www.thredup.com/product/handbags-victo...</td>\n",
       "      <td>thredup_vic_4.png</td>\n",
       "      <td>totes</td>\n",
       "      <td>1</td>\n",
       "      <td>thredup</td>\n",
       "      <td>25.99</td>\n",
       "      <td>[[0.0, 55.67337, 91.1055, 17.396587, 8.476363,...</td>\n",
       "    </tr>\n",
       "  </tbody>\n",
       "</table>\n",
       "</div>"
      ],
      "text/plain": [
       "   index  name              brand      price  \\\n",
       "0      0  Tote  Victoria's Secret  $21.99$74   \n",
       "1      1  Tote         Anne Klein  $17.99$69   \n",
       "2      2  Tote          Unbranded  $16.99$60   \n",
       "3      3  Tote          Unbranded  $15.99$60   \n",
       "4      4  Tote  Victoria's Secret  $25.99$68   \n",
       "\n",
       "                                             bag_url       img_filename  \\\n",
       "0  https://www.thredup.com/product/handbags-victo...  thredup_vic_0.png   \n",
       "1  https://www.thredup.com/product/handbags-anne-...  thredup_ann_1.png   \n",
       "2  https://www.thredup.com/product/handbags-unbra...  thredup_unb_2.png   \n",
       "3  https://www.thredup.com/product/handbags-unbra...  thredup_unb_3.png   \n",
       "4  https://www.thredup.com/product/handbags-victo...  thredup_vic_4.png   \n",
       "\n",
       "   label  is_ethical   source  cleaned_price  \\\n",
       "0  totes           1  thredup          21.99   \n",
       "1  totes           1  thredup          17.99   \n",
       "2  totes           1  thredup          16.99   \n",
       "3  totes           1  thredup          15.99   \n",
       "4  totes           1  thredup          25.99   \n",
       "\n",
       "                                      feature_matrix  \n",
       "0  [[0.0, 34.082092, 120.07053, 34.426167, 60.972...  \n",
       "1  [[0.0, 59.236874, 93.56827, 3.9990442, 0.0, 25...  \n",
       "2  [[0.0, 62.95456, 4.9559455, 45.43826, 0.0, 143...  \n",
       "3  [[0.0, 32.848614, 31.133387, 28.699326, 4.2855...  \n",
       "4  [[0.0, 55.67337, 91.1055, 17.396587, 8.476363,...  "
      ]
     },
     "execution_count": 280,
     "metadata": {},
     "output_type": "execute_result"
    }
   ],
   "source": [
    "df.head()"
   ]
  },
  {
   "cell_type": "code",
   "execution_count": 281,
   "metadata": {},
   "outputs": [
    {
     "data": {
      "text/plain": [
       "661"
      ]
     },
     "execution_count": 281,
     "metadata": {},
     "output_type": "execute_result"
    }
   ],
   "source": [
    "# see how many image files are missing feature matrix \n",
    "len(df[df['feature_matrix']=='file not found'])"
   ]
  },
  {
   "cell_type": "code",
   "execution_count": 291,
   "metadata": {
    "collapsed": true
   },
   "outputs": [],
   "source": [
    "df_dropped_missing = df[df['feature_matrix']!='file not found']"
   ]
  },
  {
   "cell_type": "code",
   "execution_count": 292,
   "metadata": {},
   "outputs": [
    {
     "data": {
      "text/plain": [
       "(6094, 11)"
      ]
     },
     "execution_count": 292,
     "metadata": {},
     "output_type": "execute_result"
    }
   ],
   "source": [
    "df_dropped_missing.shape"
   ]
  },
  {
   "cell_type": "code",
   "execution_count": 297,
   "metadata": {
    "collapsed": true
   },
   "outputs": [],
   "source": [
    "# save final dataframe with feature matrix\n",
    "with open('df_w_features.pickle', 'wb') as f:\n",
    "    pickle.dump(df_dropped_missing, f)"
   ]
  }
 ],
 "metadata": {
  "hide_input": false,
  "kernelspec": {
   "display_name": "Python 3",
   "language": "python",
   "name": "python3"
  },
  "language_info": {
   "codemirror_mode": {
    "name": "ipython",
    "version": 3
   },
   "file_extension": ".py",
   "mimetype": "text/x-python",
   "name": "python",
   "nbconvert_exporter": "python",
   "pygments_lexer": "ipython3",
   "version": "3.6.8"
  }
 },
 "nbformat": 4,
 "nbformat_minor": 2
}
