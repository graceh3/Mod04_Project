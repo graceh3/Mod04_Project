{
 "cells": [
  {
   "cell_type": "markdown",
   "metadata": {},
   "source": [
    "# Using Selenium and Beautiful Soup--Uniqulo\n",
    "\n",
    "In this section we will be using selenium and beautiful soup to scrape all of the women's tops from Uniqlo.\n",
    "First, we will use selenium to get everylink for the shirts, and then use Beautiful Soup to get the correct picture.\n",
    "\n",
    "Some great sources used to help in this: \n",
    "- [Selenium Website for Locating Elements](https://selenium-python.readthedocs.io/locating-elements.html)\n",
    "- [Stackover flow to Save Images](https://stackoverflow.com/questions/18497840/beautifulsoup-how-to-open-images-and-download-them)\n",
    "- [Get all image src's with specific class](https://stackoverflow.com/questions/8289957/python-2-7-beautiful-soup-img-src-extract)\n",
    "\n",
    "\n",
    "Our steps are as follows: \n",
    "1. [first]()\n",
    "2. [second]()\n",
    "3. [third]()\n",
    "4. [fourth]() \n",
    "\n",
    "#### Import your needed Libraries:"
   ]
  },
  {
   "cell_type": "code",
   "execution_count": 80,
   "metadata": {},
   "outputs": [],
   "source": [
    "import time\n",
    "import requests\n",
    "from selenium import webdriver\n",
    "from webdriver_manager.chrome import ChromeDriverManager\n",
    "from bs4 import BeautifulSoup\n",
    "import cv2\n",
    "import numpy as np "
   ]
  },
  {
   "cell_type": "markdown",
   "metadata": {},
   "source": [
    "#### Create variables for each of the URL\n",
    "\n",
    "We will do this for each of the pages we will be pulling from on Uniqulo."
   ]
  },
  {
   "cell_type": "code",
   "execution_count": 26,
   "metadata": {
    "collapsed": true
   },
   "outputs": [],
   "source": [
    "t_shirts = 'https://www.uniqlo.com/us/en/women/t-shirts-and-tops'\n",
    "grahic_t = 'https://www.uniqlo.com/us/en/ut-graphic-tees/shop-all-women/short-sleeve-t-shirts?ptid=ut-graphic-tees-shop-all-women'\n",
    "shirts = 'https://www.uniqlo.com/us/en/women/shirts-and-blouses'"
   ]
  },
  {
   "cell_type": "markdown",
   "metadata": {},
   "source": [
    "#### Create our Chrome Driver element and get Links:\n",
    "\n",
    "Here I am using the Chrome Driver Manager because I was facing some issues using the driver, but this resolved all of them.\n",
    "\n",
    "We will use our function __'get_product_links'__ to return a list of all of the product URLs."
   ]
  },
  {
   "cell_type": "code",
   "execution_count": null,
   "metadata": {
    "collapsed": true
   },
   "outputs": [],
   "source": [
    "def get_product_links(url):\n",
    "    driver = webdriver.Chrome(ChromeDriverManager().install()) \n",
    "    driver.get(url)\n",
    "    links = driver.find_elements_by_partial_link_text('WOMEN')\n",
    "    driver.quit()\n",
    "    return links"
   ]
  },
  {
   "cell_type": "code",
   "execution_count": 23,
   "metadata": {},
   "outputs": [
    {
     "name": "stdout",
     "output_type": "stream",
     "text": [
      "\n",
      "Checking for mac64 chromedriver:2.46 in cache\n",
      "Driver found in /Users/elenasm7/.wdm/chromedriver/2.46/mac64/chromedriver\n"
     ]
    }
   ],
   "source": [
    "t_shirt_links = get_product_links(t_shirts)\n",
    "grahic_t_links = get_product_links(grahic_t)\n",
    "shirt_links = get_product_links(shirts)"
   ]
  },
  {
   "cell_type": "markdown",
   "metadata": {},
   "source": [
    "#### Use a for loop to make sure these items look right. \n",
    "\n",
    "We are using a for loop and calling '.get_attribute('href')' on each element. If we run this without it we will only get the selenium object back.\n"
   ]
  },
  {
   "cell_type": "code",
   "execution_count": 25,
   "metadata": {
    "scrolled": true
   },
   "outputs": [
    {
     "name": "stdout",
     "output_type": "stream",
     "text": [
      "https://www.uniqlo.com/us/en/women\n",
      "https://www.uniqlo.com/us/en/women/uniqlo-and-alexanderwang\n",
      "https://www.uniqlo.com/us/en/women\n",
      "https://www.uniqlo.com/us/en/women-drape-crew-neck-short-sleeve-t-shirt-413696.html?dwvar_413696_color=COL70&cgid=women-t-shirts-and-tops\n",
      "https://www.uniqlo.com/us/en/women-u-crew-neck-short-sleeve-t-shirt-414443.html?dwvar_414443_color=COL55&cgid=women-t-shirts-and-tops\n",
      "https://www.uniqlo.com/us/en/women-u-relax-fit-crew-neck-short-sleeve-t-shirt-415793.html?dwvar_415793_color=COL08&cgid=women-t-shirts-and-tops\n",
      "https://www.uniqlo.com/us/en/women-cropped-crew-neck-short-sleeve-t-shirt-413675.html?dwvar_413675_color=COL53&cgid=women-t-shirts-and-tops\n",
      "https://www.uniqlo.com/us/en/women-striped-cropped-crew-neck-short-sleeve-t-shirt-413728.html?dwvar_413728_color=COL68&cgid=women-t-shirts-and-tops\n",
      "https://www.uniqlo.com/us/en/women-ribbed-crew-neck-short-sleeve-t-shirt-413996.html?dwvar_413996_color=COL02&cgid=women-t-shirts-and-tops\n",
      "https://www.uniqlo.com/us/en/women-waffle-crew-neck-short-sleeve-t-shirt-415632.html?dwvar_415632_color=COL10&cgid=women-t-shirts-and-tops\n",
      "https://www.uniqlo.com/us/en/women-waffle-sleeveless-t-shirt-417088.html?dwvar_417088_color=COL03&cgid=women-t-shirts-and-tops\n",
      "https://www.uniqlo.com/us/en/women-ribbed-tank-top-413997.html?dwvar_413997_color=COL69&cgid=women-t-shirts-and-tops\n",
      "https://www.uniqlo.com/us/en/women-ribbed-striped-u-neck-half-sleeve-t-shirt-417659.html?dwvar_417659_color=COL01&cgid=women-t-shirts-and-tops\n",
      "https://www.uniqlo.com/us/en/women-ribbed-u-neck-half-sleeve-t-shirt-414444.html?dwvar_414444_color=COL64&cgid=women-t-shirts-and-tops\n",
      "https://www.uniqlo.com/us/en/women-1*1-ribbed-cotton-crew-neck-3%2F4-sleeve-t-shirt-413672.html?dwvar_413672_color=COL10&cgid=women-t-shirts-and-tops\n",
      "https://www.uniqlo.com/us/en/women-1*1-ribbed-cotton-crew-neck-long-sleeve-t-shirt-413670.html?dwvar_413670_color=COL41&cgid=women-t-shirts-and-tops\n",
      "https://www.uniqlo.com/us/en/women-1*1-ribbed-cotton-v-neck-long-sleeve-t-shirt-413993.html?dwvar_413993_color=COL54&cgid=women-t-shirts-and-tops\n",
      "https://www.uniqlo.com/us/en/women-airism-uv-cut-high-neck-long-sleeve-t-shirt-hana-tajima-414455.html?dwvar_414455_color=COL00&cgid=women-t-shirts-and-tops\n",
      "https://www.uniqlo.com/us/en/women-crepe-gathered-half-sleeve-t-shirt-415432.html?dwvar_415432_color=COL01&cgid=women-t-shirts-and-tops\n",
      "https://www.uniqlo.com/us/en/women-mercerized-cotton-gathered-half-sleeve-t-shirt-420154.html?dwvar_420154_color=COL10&cgid=women-t-shirts-and-tops\n",
      "https://www.uniqlo.com/us/en/women-lace-short-sleeve-t-shirt-415356.html?dwvar_415356_color=COL69&cgid=women-t-shirts-and-tops\n",
      "https://www.uniqlo.com/us/en/women-mercerized-cotton-asymmetric-short-sleeve-t-shirt-jw-anderson-417546.html?dwvar_417546_color=COL00&cgid=women-t-shirts-and-tops\n",
      "https://www.uniqlo.com/us/en/women-2-way-ribbed-lace-tank-top-online-exclusive-413691.html?dwvar_413691_color=COL52&cgid=women-t-shirts-and-tops\n",
      "https://www.uniqlo.com/us/en/women-mercerized-cotton-sleeveless-t-shirt-416804.html?dwvar_416804_color=COL07&cgid=women-t-shirts-and-tops\n",
      "https://www.uniqlo.com/us/en/women-supima-cotton-crew-neck-short-sleeve-t-shirt-413674.html?dwvar_413674_color=COL00&cgid=women-t-shirts-and-tops\n",
      "https://www.uniqlo.com/us/en/women-supima-cotton-v-neck-short-sleeve-t-shirt-413701.html?dwvar_413701_color=COL66&cgid=women-t-shirts-and-tops\n",
      "https://www.uniqlo.com/us/en/women-dry-ex-crew-neck-short-sleeve-t-shirt-413839.html?dwvar_413839_color=COL08&cgid=women-t-shirts-and-tops\n",
      "https://www.uniqlo.com/us/en/women-dry-ex-crew-neck-short-sleeve-t-shirt-417849.html?dwvar_417849_color=COL11&cgid=women-t-shirts-and-tops\n",
      "https://www.uniqlo.com/us/en/women-dry-ex-crew-neck-short-sleeve-t-shirt-417850.html?dwvar_417850_color=COL71&cgid=women-t-shirts-and-tops\n",
      "https://www.uniqlo.com/us/en/women-airism-seamless-v-neck-long-t-shirt-413843.html?dwvar_413843_color=COL12&cgid=women-t-shirts-and-tops\n",
      "https://www.uniqlo.com/us/en/women-heattech-stretch-fleece-crew-neck-long-sleeve-t-shirt-409211.html?dwvar_409211_color=COL67&cgid=women-t-shirts-and-tops\n",
      "https://www.uniqlo.com/us/en/women-stretch-pique-short-sleeve-polo-shirt-413697.html?dwvar_413697_color=COL00&cgid=women-t-shirts-and-tops\n",
      "https://www.uniqlo.com/us/en/women-stretch-pique-short-sleeve-polo-shirt-413697.html?dwvar_413697_color=COL69&cgid=women-t-shirts-and-tops\n",
      "https://www.uniqlo.com/us/en/women-stretch-pique-short-sleeve-polo-shirt-413697.html?dwvar_413697_color=COL14&cgid=women-t-shirts-and-tops\n",
      "https://www.uniqlo.com/us/en/women-stretch-pique-short-sleeve-polo-shirt-413697.html?dwvar_413697_color=COL03&cgid=women-t-shirts-and-tops\n",
      "https://www.uniqlo.com/us/en/women-stretch-pique-short-sleeve-polo-shirt-413697.html?dwvar_413697_color=COL09&cgid=women-t-shirts-and-tops\n",
      "https://www.uniqlo.com/us/en/women-stretch-pique-short-sleeve-polo-shirt-413697.html?dwvar_413697_color=COL68&cgid=women-t-shirts-and-tops\n",
      "https://www.uniqlo.com/us/en/women-stretch-pique-short-sleeve-polo-shirt-413697.html?dwvar_413697_color=COL10&cgid=women-t-shirts-and-tops\n",
      "https://www.uniqlo.com/us/en/women-stretch-pique-short-sleeve-polo-shirt-413697.html?dwvar_413697_color=COL43&cgid=women-t-shirts-and-tops\n",
      "https://www.uniqlo.com/us/en/women-stretch-pique-short-sleeve-polo-shirt-413697.html?dwvar_413697_color=COL52&cgid=women-t-shirts-and-tops\n"
     ]
    }
   ],
   "source": [
    "for link in t_shirt_links:\n",
    "    print(link.get_attribute('href'))"
   ]
  },
  {
   "cell_type": "code",
   "execution_count": null,
   "metadata": {
    "collapsed": true
   },
   "outputs": [],
   "source": [
    "for link in grahic_t_links:\n",
    "    print(link.get_attribute('href'))"
   ]
  },
  {
   "cell_type": "code",
   "execution_count": null,
   "metadata": {
    "collapsed": true
   },
   "outputs": [],
   "source": [
    "for link in shirt_links:\n",
    "    print(link.get_attribute('href'))"
   ]
  },
  {
   "cell_type": "markdown",
   "metadata": {},
   "source": [
    "Everthing except for the first three items look good! So, lets's update our list of links to exclude those."
   ]
  },
  {
   "cell_type": "code",
   "execution_count": 27,
   "metadata": {
    "collapsed": true
   },
   "outputs": [],
   "source": [
    "t_shirt_links = t_shirt_links[3:]\n",
    "grahic_t_links = grahic_t_links[3:]\n",
    "shirt_links = shirt_links[3:]"
   ]
  },
  {
   "cell_type": "markdown",
   "metadata": {},
   "source": [
    "#### Get all of the image URLs:\n",
    "\n",
    "Use function to get all image URL's from each page:"
   ]
  },
  {
   "cell_type": "code",
   "execution_count": 77,
   "metadata": {
    "collapsed": true
   },
   "outputs": [],
   "source": [
    "def get_image_srcs(URLs):\n",
    "    srcs = []\n",
    "    for item in URLs:\n",
    "        unq_page = requests.get(item.get_attribute('href'))\n",
    "        soup = BeautifulSoup(unq_page.content, 'lxml')\n",
    "        srcs.append([x['src'] for x in soup.findAll('img', {'class': 'productthumbnail'})])\n",
    "        time.sleep(1)\n",
    "    return [img for sublst in srcs for img in sublst ]\n",
    "        "
   ]
  },
  {
   "cell_type": "code",
   "execution_count": null,
   "metadata": {},
   "outputs": [],
   "source": [
    "t_shirt_src = get_image_srcs(t_shirt_links)"
   ]
  },
  {
   "cell_type": "code",
   "execution_count": null,
   "metadata": {
    "collapsed": true
   },
   "outputs": [],
   "source": [
    "grap_t_src = get_image_srcs(grahic_t_links)"
   ]
  },
  {
   "cell_type": "code",
   "execution_count": null,
   "metadata": {
    "collapsed": true
   },
   "outputs": [],
   "source": [
    "shirt_src = get_image_srcs(shirt_links)"
   ]
  },
  {
   "cell_type": "markdown",
   "metadata": {},
   "source": [
    "#### Save the Images:\n",
    "\n",
    "From the URL lists created above we will use the 'save_src_image' function we defined to save the images to our folder."
   ]
  },
  {
   "cell_type": "code",
   "execution_count": null,
   "metadata": {
    "collapsed": true
   },
   "outputs": [],
   "source": []
  },
  {
   "cell_type": "code",
   "execution_count": null,
   "metadata": {
    "collapsed": true
   },
   "outputs": [],
   "source": [
    "def save_src_image(imag_srcs,num):\n",
    "    start_time = time.time()\n",
    "    for i, url in enumerate(imag_srcs):\n",
    "        time.sleep(0.5)\n",
    "        try:\n",
    "            request = urllib.request.Request(url)\n",
    "            response = urllib.request.urlopen(request)\n",
    "            binary_str = response.read()\n",
    "            byte_array = bytearray(binary_str)\n",
    "            numpy_array = np.asarray(byte_array, dtype='int8')\n",
    "            image = cv2.imdecode(numpy_array, cv2.IMREAD_UNCHANGED)\n",
    "            cv2.imwrite(\"Uniqulo_pics/\"+\"uq_{}\".format(i)+\".png\", image)\n",
    "            print(\"Saved \"+\"uq_{}\".format(i)+\".png\")\n",
    "        except Exception as e:\n",
    "            print(str(e))\n",
    "    end_time = time.time()\n",
    "    return \"Done\"  "
   ]
  },
  {
   "cell_type": "code",
   "execution_count": 74,
   "metadata": {},
   "outputs": [
    {
     "name": "stdout",
     "output_type": "stream",
     "text": [
      "Saved uq_0.png\n",
      "Saved uq_1.png\n",
      "Saved uq_2.png\n",
      "Saved uq_3.png\n",
      "Saved uq_4.png\n",
      "Saved uq_5.png\n",
      "Saved uq_6.png\n",
      "Saved uq_7.png\n",
      "Saved uq_8.png\n",
      "Saved uq_9.png\n",
      "Saved uq_10.png\n",
      "Saved uq_11.png\n",
      "Done\n"
     ]
    }
   ],
   "source": [
    "start_time = time.time()\n",
    "for i, url in enumerate(image_srcs):\n",
    "#     print(url)\n",
    "    time.sleep(0.5)\n",
    "    try:\n",
    "        request = urllib.request.Request(url)\n",
    "        response = urllib.request.urlopen(request)\n",
    "        binary_str = response.read()\n",
    "        byte_array = bytearray(binary_str)\n",
    "        numpy_array = np.asarray(byte_array, dtype='int8')\n",
    "        image = cv2.imdecode(numpy_array, cv2.IMREAD_UNCHANGED)\n",
    "        cv2.imwrite(\"Uniqulo_pics/\"+\"uq_{}\".format(i)+\".png\", image)\n",
    "        print(\"Saved \"+\"uq_{}\".format(i)+\".png\")\n",
    "    except Exception as e:\n",
    "        print(str(e))\n",
    "\n",
    "end_time = time.time()\n",
    "print(\"Done\")\n",
    "# print(\"Total time: \"+ str(end_time - start_time) +'sec')"
   ]
  },
  {
   "cell_type": "code",
   "execution_count": null,
   "metadata": {
    "collapsed": true
   },
   "outputs": [],
   "source": []
  }
 ],
 "metadata": {
  "kernelspec": {
   "display_name": "Python 3",
   "language": "python",
   "name": "python3"
  },
  "language_info": {
   "codemirror_mode": {
    "name": "ipython",
    "version": 3
   },
   "file_extension": ".py",
   "mimetype": "text/x-python",
   "name": "python",
   "nbconvert_exporter": "python",
   "pygments_lexer": "ipython3",
   "version": "3.6.8"
  }
 },
 "nbformat": 4,
 "nbformat_minor": 2
}
