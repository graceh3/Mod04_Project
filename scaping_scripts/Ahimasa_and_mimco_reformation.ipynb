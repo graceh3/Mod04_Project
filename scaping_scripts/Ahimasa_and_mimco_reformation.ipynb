{
 "cells": [
  {
   "cell_type": "markdown",
   "metadata": {},
   "source": [
    "# Using Selenium and Requests: _Ahimasa Collective, Mimco, and Reformation_\n",
    "\n",
    "In this section we will be using selenium and beautiful soup to scrape all of the women's bags from Ahimasa Collective and Mimco.First, we will use selenium to get everylink for the bags, and then use Beautiful Soup to get the correct picture,price, product link, and description.\n",
    "\n",
    "Some great sources used to help in this: \n",
    "- [Selenium Website for Locating Elements](https://selenium-python.readthedocs.io/locating-elements.html)\n",
    "- [Stackover flow to Save Images](https://stackoverflow.com/questions/18497840/beautifulsoup-how-to-open-images-and-download-them)\n",
    "- [Get all image src's with specific class](https://stackoverflow.com/questions/8289957/python-2-7-beautiful-soup-img-src-extract)\n",
    "\n",
    "\n",
    "Our steps are as follows: \n",
    "1. [first]()\n",
    "2. [second]()\n",
    "3. [third]()\n",
    "4. [fourth]() \n",
    "\n",
    "#### Import your needed Libraries:"
   ]
  },
  {
   "cell_type": "code",
   "execution_count": 1,
   "metadata": {
    "collapsed": true
   },
   "outputs": [],
   "source": [
    "import time\n",
    "import requests\n",
    "from selenium import webdriver\n",
    "from webdriver_manager.chrome import ChromeDriverManager\n",
    "from bs4 import BeautifulSoup\n",
    "import cv2\n",
    "import numpy as np \n",
    "import pandas as pd\n",
    "import re\n",
    "from PIL import Image\n",
    "import requests\n",
    "from io import BytesIO\n"
   ]
  },
  {
   "cell_type": "markdown",
   "metadata": {},
   "source": [
    "#### Create variables for each of the URL\n",
    "\n",
    "We will do this for each of the pages we will be pulling from on _Ahimasa Collective and Mimco_."
   ]
  },
  {
   "cell_type": "code",
   "execution_count": 3,
   "metadata": {
    "collapsed": true
   },
   "outputs": [],
   "source": [
    "ahimasa_co ='https://www.theahimsacollective.com/collections/all'\n",
    "mimco = ['https://www.mimco-accessories.com/shop/bags/backpacks','https://www.mimco-accessories.com/shop/bags/belt-bags',\n",
    "        'https://www.mimco-accessories.com/shop/bags/hip-bags','https://www.mimco-accessories.com/shop/bags/shoulder-bags#catpage=3',\n",
    "        'https://www.mimco-accessories.com/shop/bags/tote-bags#catpage=3']"
   ]
  },
  {
   "cell_type": "code",
   "execution_count": 4,
   "metadata": {
    "collapsed": true
   },
   "outputs": [],
   "source": [
    "page = requests.get(ahimasa_co)\n",
    "soup = BeautifulSoup(page.content, 'lxml')"
   ]
  },
  {
   "cell_type": "code",
   "execution_count": 24,
   "metadata": {},
   "outputs": [],
   "source": [
    "class_ = 'grid-view-item__image-wrapper js'\n",
    "divs = soup.findAll('div', {'class':class_})\n",
    "images = ['https:'+ x.img['src'] for x in divs]\n",
    "infos = soup.findAll('span', {'class':'product-price__price'})\n",
    "prices = [x.text for x in infos]\n",
    "name_div = soup.findAll('div',{'class':'h4 grid-view-item__title'})\n",
    "names = [x.text for x in name_div]"
   ]
  },
  {
   "cell_type": "code",
   "execution_count": null,
   "metadata": {
    "collapsed": true
   },
   "outputs": [],
   "source": []
  },
  {
   "cell_type": "code",
   "execution_count": 26,
   "metadata": {},
   "outputs": [],
   "source": [
    "ahimasa_dict = {'description':names,'price':prices,'link':images}\n",
    "ahimasa_df = pd.DataFrame(ahimasa_dict)"
   ]
  },
  {
   "cell_type": "code",
   "execution_count": null,
   "metadata": {
    "collapsed": true
   },
   "outputs": [],
   "source": []
  },
  {
   "cell_type": "code",
   "execution_count": 77,
   "metadata": {},
   "outputs": [],
   "source": [
    "keep1 = list(ahimasa_df.description.values[3:9])\n",
    "keep2 = list(ahimasa_df.description.values[15:17])\n",
    "keep3 = ahimasa_df.description.values[-1]\n",
    "# keep = np.concatenate([keep1,keep2,keep3])"
   ]
  },
  {
   "cell_type": "code",
   "execution_count": 78,
   "metadata": {},
   "outputs": [],
   "source": [
    "keep1.extend(keep2)\n",
    "keep1.append(keep3)\n",
    "keep1"
   ]
  },
  {
   "cell_type": "code",
   "execution_count": 95,
   "metadata": {
    "collapsed": true
   },
   "outputs": [],
   "source": [
    "ind = []\n",
    "for i,val in enumerate(ahimasa_df.description):\n",
    "    if val in keep1:\n",
    "        ind.append(i)"
   ]
  },
  {
   "cell_type": "code",
   "execution_count": 94,
   "metadata": {},
   "outputs": [],
   "source": [
    "ahimasa_df = ahimasa_df.loc[ind, : ]"
   ]
  },
  {
   "cell_type": "code",
   "execution_count": 112,
   "metadata": {},
   "outputs": [
    {
     "data": {
      "text/plain": [
       "'rl'"
      ]
     },
     "execution_count": 112,
     "metadata": {},
     "output_type": "execute_result"
    }
   ],
   "source": [
    "s = 'raven lily'\n",
    "s\n",
    "''.join([i[0] for i in s.split(' ')])"
   ]
  },
  {
   "cell_type": "code",
   "execution_count": 123,
   "metadata": {
    "collapsed": true
   },
   "outputs": [],
   "source": [
    "c = 0\n",
    "def save_src_image_apply(company,short,url):\n",
    "    start_time = time.time()\n",
    "    time.sleep(1)\n",
    "    \n",
    "    try:\n",
    "        global c\n",
    "        c += 1\n",
    "        response = requests.get(url)\n",
    "        img = Image.open(BytesIO(response.content))\n",
    "        image_save_loc = company+short+'_'+str(c)+'.jpg'\n",
    "        img.save(image_save_loc, \"JPEG\")\n",
    "        print(\"Saved \"+short+\"_{}\".format(c)+\".jpg\")\n",
    "        return short+\"_\"+ str(c)+\".jpg\"\n",
    "    except Exception as e:\n",
    "        return e"
   ]
  },
  {
   "cell_type": "code",
   "execution_count": 121,
   "metadata": {},
   "outputs": [
    {
     "name": "stdout",
     "output_type": "stream",
     "text": [
      "Saved a_co_1.jpg\n",
      "1\n",
      "Saved a_co_2.jpg\n",
      "2\n",
      "Saved a_co_3.jpg\n",
      "3\n",
      "Saved a_co_4.jpg\n",
      "4\n",
      "Saved a_co_5.jpg\n",
      "5\n",
      "Saved a_co_6.jpg\n",
      "6\n",
      "Saved a_co_7.jpg\n",
      "7\n",
      "Saved a_co_8.jpg\n",
      "8\n",
      "Saved a_co_9.jpg\n",
      "9\n"
     ]
    }
   ],
   "source": [
    "ahimasa_df['img'] = ahimasa_df.link.apply(lambda x: save_src_image_apply('ahimasa_co/','a_co',x))"
   ]
  },
  {
   "cell_type": "code",
   "execution_count": 246,
   "metadata": {},
   "outputs": [],
   "source": [
    "ahimasa_df.to_csv('data/ahimasa_co.csv')"
   ]
  },
  {
   "cell_type": "markdown",
   "metadata": {},
   "source": [
    "##### Mimco:"
   ]
  },
  {
   "cell_type": "code",
   "execution_count": 126,
   "metadata": {},
   "outputs": [],
   "source": [
    "link = 'https://www.mimco-accessories.com/shop/bags/tote-bags#catpage=3'\n",
    "\n",
    "page = requests.get(link)\n",
    "soup = BeautifulSoup(page.content, 'lxml')\n",
    "\n",
    "bags = soup.findAll('a', {'class':'product_link'})\n",
    "images = ['https://www.mimco-accessories.com'+ x.img['src'] for x in bags]\n",
    "names = [x['title'].lower() for x in bags]\n",
    "prices_tag = soup.findAll('span', {'class':'value'})\n",
    "prices = [x.text for x in prices_tag]"
   ]
  },
  {
   "cell_type": "code",
   "execution_count": null,
   "metadata": {
    "collapsed": true
   },
   "outputs": [],
   "source": [
    "url = 'https://www.mimco-accessories.com/shop/bags/tote-bags#catpage=3'\n",
    "\n",
    "def products_to_DF(links):\n",
    "    images = []\n",
    "    names = []\n",
    "    prices = []\n",
    "    \n",
    "    for link in links: \n",
    "        page = requests.get(link)\n",
    "        soup = BeautifulSoup(page.content, 'lxml')\n",
    "        \n",
    "        bags = soup.findAll('figure', {'class':'product-list-item-thumbnail'})\n",
    "        images.extend(['https:'+ x.img['src'] for x in bags])\n",
    "        names.extend([x.img['alt'] for x in bags])\n",
    "        prices_tag = soup.findAll('p', {'class':'product-list-item-price'})\n",
    "        prices.extend([x.text for x in prices_tag])\n",
    "    \n",
    "    return pd.DataFrame({'description':names,'link':images,'price':prices})"
   ]
  },
  {
   "cell_type": "code",
   "execution_count": 234,
   "metadata": {},
   "outputs": [],
   "source": [
    "def scrape_mimco(urls):\n",
    "    \n",
    "    all_ = []\n",
    "    links = []\n",
    "    desc = []\n",
    "    prices = []\n",
    "    \n",
    "    for url in urls:\n",
    "\n",
    "        browser = webdriver.Chrome(ChromeDriverManager().install())\n",
    "        browser.get(url)\n",
    "\n",
    "        lenOfPage = browser.execute_script(\"window.scrollTo(0, document.body.scrollHeight);var lenOfPage=document.body.scrollHeight;return lenOfPage;\")\n",
    "        match=False\n",
    "        while(match==False):\n",
    "            lastCount = lenOfPage\n",
    "            time.sleep(3)\n",
    "            elements = (browser.find_elements_by_class_name(name= 'product_link'))\n",
    "            all_.extend(elements)\n",
    "            links_start = [e.get_attribute('innerHTML') for e in elements]\n",
    "            links_2 = [re.search('.*?\\\" src\\=\\\"(.*)\\\" data\\-mouseimage', link) for link in links_start]\n",
    "            links.extend(['https://www.mimco-accessories.com'+link.group(1) for link in links_2])\n",
    "            desc.extend([e.get_attribute('title') for e in elements])\n",
    "            elements2 = (browser.find_elements_by_class_name(name= 'value'))\n",
    "            prices.extend([e.text for e in elements2])\n",
    "            lenOfPage = browser.execute_script(\"window.scrollTo(0, document.body.scrollHeight);var lenOfPage=document.body.scrollHeight;return lenOfPage;\")\n",
    "\n",
    "            if lastCount==lenOfPage:\n",
    "                match=True\n",
    "        browser.close()\n",
    "    \n",
    "    df = pd.DataFrame({'description':desc,'link':links,'price':prices}).drop_duplicates()\n",
    "    return df.reset_index(drop=True)\n"
   ]
  },
  {
   "cell_type": "markdown",
   "metadata": {},
   "source": [
    "##### Create a dataframe using the function above:"
   ]
  },
  {
   "cell_type": "code",
   "execution_count": 235,
   "metadata": {},
   "outputs": [
    {
     "name": "stdout",
     "output_type": "stream",
     "text": [
      "\n",
      "Checking for mac64 chromedriver:2.46 in cache\n",
      "Driver found in /Users/elenasm7/.wdm/chromedriver/2.46/mac64/chromedriver\n",
      "\n",
      "Checking for mac64 chromedriver:2.46 in cache\n",
      "Driver found in /Users/elenasm7/.wdm/chromedriver/2.46/mac64/chromedriver\n",
      "\n",
      "Checking for mac64 chromedriver:2.46 in cache\n",
      "Driver found in /Users/elenasm7/.wdm/chromedriver/2.46/mac64/chromedriver\n",
      "\n",
      "Checking for mac64 chromedriver:2.46 in cache\n",
      "Driver found in /Users/elenasm7/.wdm/chromedriver/2.46/mac64/chromedriver\n"
     ]
    }
   ],
   "source": [
    "mimco_df = scrape_mimco(['https://www.mimco-accessories.com/shop/bags/tote-bags',\n",
    "                         'https://www.mimco-accessories.com/shop/bags/shoulder-bags',\n",
    "                         'https://www.mimco-accessories.com/shop/bags/belt-bags',\n",
    "                         'https://www.mimco-accessories.com/shop/bags/hip-bags'])"
   ]
  },
  {
   "cell_type": "code",
   "execution_count": 237,
   "metadata": {},
   "outputs": [
    {
     "data": {
      "text/html": [
       "<div>\n",
       "<style scoped>\n",
       "    .dataframe tbody tr th:only-of-type {\n",
       "        vertical-align: middle;\n",
       "    }\n",
       "\n",
       "    .dataframe tbody tr th {\n",
       "        vertical-align: top;\n",
       "    }\n",
       "\n",
       "    .dataframe thead th {\n",
       "        text-align: right;\n",
       "    }\n",
       "</style>\n",
       "<table border=\"1\" class=\"dataframe\">\n",
       "  <thead>\n",
       "    <tr style=\"text-align: right;\">\n",
       "      <th></th>\n",
       "      <th>description</th>\n",
       "      <th>link</th>\n",
       "      <th>price</th>\n",
       "    </tr>\n",
       "  </thead>\n",
       "  <tbody>\n",
       "    <tr>\n",
       "      <th>0</th>\n",
       "      <td>SENTIMENT MINI TOTE</td>\n",
       "      <td>https://www.mimco-accessories.com/ProductImage...</td>\n",
       "      <td>293.78</td>\n",
       "    </tr>\n",
       "    <tr>\n",
       "      <th>1</th>\n",
       "      <td>FLIP SIDE TOTE</td>\n",
       "      <td>https://www.mimco-accessories.com/ProductImage...</td>\n",
       "      <td>331.33</td>\n",
       "    </tr>\n",
       "    <tr>\n",
       "      <th>2</th>\n",
       "      <td>MODERNIST TOTE</td>\n",
       "      <td>https://www.mimco-accessories.com/ProductImage...</td>\n",
       "      <td>367.41</td>\n",
       "    </tr>\n",
       "    <tr>\n",
       "      <th>3</th>\n",
       "      <td>FLIP SIDE TOTE</td>\n",
       "      <td>https://www.mimco-accessories.com/ProductImage...</td>\n",
       "      <td>331.33</td>\n",
       "    </tr>\n",
       "    <tr>\n",
       "      <th>4</th>\n",
       "      <td>SUBLIME TOTE</td>\n",
       "      <td>https://www.mimco-accessories.com/ProductImage...</td>\n",
       "      <td>293.78</td>\n",
       "    </tr>\n",
       "    <tr>\n",
       "      <th>5</th>\n",
       "      <td>SENTIMENT MINI TOTE</td>\n",
       "      <td>https://www.mimco-accessories.com/ProductImage...</td>\n",
       "      <td>293.78</td>\n",
       "    </tr>\n",
       "    <tr>\n",
       "      <th>6</th>\n",
       "      <td>Flip Side Tote</td>\n",
       "      <td>https://www.mimco-accessories.com/ProductImage...</td>\n",
       "      <td>331.33</td>\n",
       "    </tr>\n",
       "    <tr>\n",
       "      <th>7</th>\n",
       "      <td>HYDRO TOTE</td>\n",
       "      <td>https://www.mimco-accessories.com/ProductImage...</td>\n",
       "      <td>183.34</td>\n",
       "    </tr>\n",
       "    <tr>\n",
       "      <th>8</th>\n",
       "      <td>Amorphous Mini Tote</td>\n",
       "      <td>https://www.mimco-accessories.com/ProductImage...</td>\n",
       "      <td>331.33</td>\n",
       "    </tr>\n",
       "    <tr>\n",
       "      <th>9</th>\n",
       "      <td>SUBLIME TOTE</td>\n",
       "      <td>https://www.mimco-accessories.com/ProductImage...</td>\n",
       "      <td>293.78</td>\n",
       "    </tr>\n",
       "  </tbody>\n",
       "</table>\n",
       "</div>"
      ],
      "text/plain": [
       "           description                                               link  \\\n",
       "0  SENTIMENT MINI TOTE  https://www.mimco-accessories.com/ProductImage...   \n",
       "1       FLIP SIDE TOTE  https://www.mimco-accessories.com/ProductImage...   \n",
       "2       MODERNIST TOTE  https://www.mimco-accessories.com/ProductImage...   \n",
       "3       FLIP SIDE TOTE  https://www.mimco-accessories.com/ProductImage...   \n",
       "4         SUBLIME TOTE  https://www.mimco-accessories.com/ProductImage...   \n",
       "5  SENTIMENT MINI TOTE  https://www.mimco-accessories.com/ProductImage...   \n",
       "6       Flip Side Tote  https://www.mimco-accessories.com/ProductImage...   \n",
       "7           HYDRO TOTE  https://www.mimco-accessories.com/ProductImage...   \n",
       "8  Amorphous Mini Tote  https://www.mimco-accessories.com/ProductImage...   \n",
       "9         SUBLIME TOTE  https://www.mimco-accessories.com/ProductImage...   \n",
       "\n",
       "    price  \n",
       "0  293.78  \n",
       "1  331.33  \n",
       "2  367.41  \n",
       "3  331.33  \n",
       "4  293.78  \n",
       "5  293.78  \n",
       "6  331.33  \n",
       "7  183.34  \n",
       "8  331.33  \n",
       "9  293.78  "
      ]
     },
     "execution_count": 237,
     "metadata": {},
     "output_type": "execute_result"
    }
   ],
   "source": [
    "mimco_df.head(10)"
   ]
  },
  {
   "cell_type": "markdown",
   "metadata": {},
   "source": [
    "### Download Mimco images:\n",
    "\n",
    "Download images using the __*save_src_image_apply*__ function. Create a new column in the df using apply."
   ]
  },
  {
   "cell_type": "code",
   "execution_count": 240,
   "metadata": {
    "collapsed": true
   },
   "outputs": [],
   "source": [
    "c = 0\n",
    "def save_src_image_apply(company,short,url):\n",
    "    start_time = time.time()\n",
    "    time.sleep(1)\n",
    "    \n",
    "    try:\n",
    "        global c\n",
    "        c += 1\n",
    "        response = requests.get(url)\n",
    "        img = Image.open(BytesIO(response.content))\n",
    "        image_save_loc = company+short+'_'+str(c)+'.png'\n",
    "        img.save(image_save_loc, \"PNG\")\n",
    "        print(\"Saved \"+short+\"_{}\".format(c)+\".png\")\n",
    "        return short+\"_\"+ str(c)+\".png\"\n",
    "    except Exception as e:\n",
    "        return e"
   ]
  },
  {
   "cell_type": "code",
   "execution_count": 241,
   "metadata": {},
   "outputs": [
    {
     "name": "stdout",
     "output_type": "stream",
     "text": [
      "Saved mimco_1.png\n",
      "Saved mimco_2.png\n",
      "Saved mimco_3.png\n",
      "Saved mimco_4.png\n",
      "Saved mimco_5.png\n",
      "Saved mimco_6.png\n",
      "Saved mimco_7.png\n",
      "Saved mimco_8.png\n",
      "Saved mimco_9.png\n",
      "Saved mimco_10.png\n",
      "Saved mimco_11.png\n",
      "Saved mimco_12.png\n",
      "Saved mimco_13.png\n",
      "Saved mimco_14.png\n",
      "Saved mimco_15.png\n",
      "Saved mimco_16.png\n",
      "Saved mimco_17.png\n",
      "Saved mimco_18.png\n",
      "Saved mimco_19.png\n",
      "Saved mimco_20.png\n",
      "Saved mimco_21.png\n",
      "Saved mimco_22.png\n",
      "Saved mimco_23.png\n",
      "Saved mimco_24.png\n",
      "Saved mimco_25.png\n",
      "Saved mimco_26.png\n",
      "Saved mimco_27.png\n",
      "Saved mimco_28.png\n",
      "Saved mimco_29.png\n",
      "Saved mimco_30.png\n",
      "Saved mimco_31.png\n",
      "Saved mimco_32.png\n",
      "Saved mimco_33.png\n",
      "Saved mimco_34.png\n",
      "Saved mimco_35.png\n",
      "Saved mimco_36.png\n",
      "Saved mimco_37.png\n",
      "Saved mimco_38.png\n",
      "Saved mimco_39.png\n",
      "Saved mimco_40.png\n",
      "Saved mimco_41.png\n",
      "Saved mimco_42.png\n",
      "Saved mimco_43.png\n",
      "Saved mimco_44.png\n",
      "Saved mimco_45.png\n",
      "Saved mimco_46.png\n",
      "Saved mimco_47.png\n",
      "Saved mimco_48.png\n",
      "Saved mimco_49.png\n",
      "Saved mimco_50.png\n",
      "Saved mimco_51.png\n",
      "Saved mimco_52.png\n",
      "Saved mimco_53.png\n",
      "Saved mimco_54.png\n",
      "Saved mimco_55.png\n",
      "Saved mimco_56.png\n",
      "Saved mimco_57.png\n",
      "Saved mimco_58.png\n",
      "Saved mimco_59.png\n",
      "Saved mimco_60.png\n",
      "Saved mimco_61.png\n",
      "Saved mimco_62.png\n",
      "Saved mimco_63.png\n",
      "Saved mimco_64.png\n",
      "Saved mimco_65.png\n",
      "Saved mimco_66.png\n",
      "Saved mimco_67.png\n",
      "Saved mimco_68.png\n",
      "Saved mimco_69.png\n",
      "Saved mimco_70.png\n",
      "Saved mimco_71.png\n",
      "Saved mimco_72.png\n",
      "Saved mimco_73.png\n",
      "Saved mimco_74.png\n",
      "Saved mimco_75.png\n",
      "Saved mimco_76.png\n",
      "Saved mimco_77.png\n",
      "Saved mimco_78.png\n",
      "Saved mimco_79.png\n",
      "Saved mimco_80.png\n",
      "Saved mimco_81.png\n",
      "Saved mimco_82.png\n",
      "Saved mimco_83.png\n",
      "Saved mimco_84.png\n",
      "Saved mimco_85.png\n",
      "Saved mimco_86.png\n",
      "Saved mimco_87.png\n",
      "Saved mimco_88.png\n",
      "Saved mimco_89.png\n",
      "Saved mimco_90.png\n",
      "Saved mimco_91.png\n",
      "Saved mimco_92.png\n",
      "Saved mimco_93.png\n",
      "Saved mimco_94.png\n",
      "Saved mimco_95.png\n",
      "Saved mimco_96.png\n",
      "Saved mimco_97.png\n",
      "Saved mimco_98.png\n",
      "Saved mimco_99.png\n",
      "Saved mimco_100.png\n",
      "Saved mimco_101.png\n",
      "Saved mimco_102.png\n",
      "Saved mimco_103.png\n",
      "Saved mimco_104.png\n",
      "Saved mimco_105.png\n",
      "Saved mimco_106.png\n",
      "Saved mimco_107.png\n",
      "Saved mimco_108.png\n",
      "Saved mimco_109.png\n",
      "Saved mimco_110.png\n",
      "Saved mimco_111.png\n",
      "Saved mimco_112.png\n",
      "Saved mimco_113.png\n",
      "Saved mimco_114.png\n",
      "Saved mimco_115.png\n",
      "Saved mimco_116.png\n",
      "Saved mimco_117.png\n",
      "Saved mimco_118.png\n"
     ]
    }
   ],
   "source": [
    "mimco_df['img'] = mimco_df.link.apply(lambda x: save_src_image_apply('mimco/','mimco',x))"
   ]
  },
  {
   "cell_type": "code",
   "execution_count": 245,
   "metadata": {
    "collapsed": true
   },
   "outputs": [],
   "source": [
    "mimco_df.to_csv('data/mimco.csv')"
   ]
  },
  {
   "cell_type": "markdown",
   "metadata": {},
   "source": [
    "### Reformation\n",
    "\n",
    "This process will be a little more manual due to the few products, and the quality of the pictures.\n",
    "We will manually create a dataframe with all the correct columns."
   ]
  },
  {
   "cell_type": "code",
   "execution_count": 242,
   "metadata": {
    "collapsed": true
   },
   "outputs": [],
   "source": [
    "links = ['https://res.cloudinary.com/reformation/image/upload/q_auto:eco/c_scale,w_auto:breakpoints_100_2560_9_20:862/v1/prod/product_images/canvas-tote/comic/5c8027039dd3aa5a5ac64ca8/original.jpg',\n",
    "         'https://res.cloudinary.com/reformation/image/upload/q_auto:eco/c_scale,w_auto:breakpoints_100_2560_9_20:862/v1/prod/product_images/canvas-tote/black/5c8027059dd3aa5a5ac64caa/original.jpg',\n",
    "         'https://res.cloudinary.com/reformation/image/upload/q_auto:eco/c_scale,w_auto:breakpoints_100_2560_9_20:862/v1/prod/product_images/canvas-tote/natural/5c8027049dd3aa5a5ac64ca9/original.jpg']\n",
    "desc = ['Beach Tote - Comic','Beach Tote - Black','Beach Tote - Natural']\n",
    "prices = [38.0]*3\n",
    "imgs = ['ref_1.jpg','ref_2.jpg','ref_3.jpg']\n",
    "\n",
    "ref_df = pd.DataFrame({'link':links,'description':desc,'price':prices,'img':imgs})"
   ]
  },
  {
   "cell_type": "code",
   "execution_count": 244,
   "metadata": {},
   "outputs": [],
   "source": [
    "ref_df.to_csv('data/reformation.csv')"
   ]
  },
  {
   "cell_type": "code",
   "execution_count": null,
   "metadata": {
    "collapsed": true
   },
   "outputs": [],
   "source": []
  }
 ],
 "metadata": {
  "kernelspec": {
   "display_name": "Python 3",
   "language": "python",
   "name": "python3"
  },
  "language_info": {
   "codemirror_mode": {
    "name": "ipython",
    "version": 3
   },
   "file_extension": ".py",
   "mimetype": "text/x-python",
   "name": "python",
   "nbconvert_exporter": "python",
   "pygments_lexer": "ipython3",
   "version": "3.6.8"
  }
 },
 "nbformat": 4,
 "nbformat_minor": 2
}
