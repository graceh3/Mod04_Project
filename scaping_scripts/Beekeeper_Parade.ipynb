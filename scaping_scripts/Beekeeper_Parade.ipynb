{
 "cells": [
  {
   "cell_type": "code",
   "execution_count": 120,
   "metadata": {},
   "outputs": [],
   "source": [
    "import requests\n",
    "from bs4 import BeautifulSoup\n",
    "import pandas as pd\n",
    "import numpy as np\n",
    "import time\n",
    "import urllib\n",
    "pd.set_option('display.max_rows', None)\n",
    "pd.set_option('display.max_columns', None)\n",
    "pd.set_option('display.width', 10000)\n",
    "import pickle"
   ]
  },
  {
   "cell_type": "code",
   "execution_count": 51,
   "metadata": {},
   "outputs": [],
   "source": [
    "urls=['https://beekeeperparade.com/collections/royal-backpacks',\n",
    "     'https://beekeeperparade.com/collections/junior-backpacks',\n",
    "     'https://beekeeperparade.com/collections/weekender-bags',\n",
    "     'https://beekeeperparade.com/collections/bumbags/Bumbag',\n",
    "     'https://beekeeperparade.com/collections/tote-bags-1/Tote']\n",
    "\n",
    "class_=['Backpacks', 'Backpacks', 'Weekenders', 'Belt Bags', 'Totes']"
   ]
  },
  {
   "cell_type": "code",
   "execution_count": 103,
   "metadata": {},
   "outputs": [],
   "source": [
    "all_names = []\n",
    "all_urls = []\n",
    "all_imgurls = []\n",
    "all_prices = []"
   ]
  },
  {
   "cell_type": "code",
   "execution_count": 104,
   "metadata": {},
   "outputs": [],
   "source": [
    "# loop through bag url list and get bag name, price, \n",
    "for i, url in enumerate(urls):\n",
    "    page= requests.get(url)\n",
    "    soup = BeautifulSoup(page.content, 'lxml')\n",
    "\n",
    "    bag_elements = soup.findAll('p', {'class':'h6 name_wrapper'}) \n",
    "    bag_names = [b.text for b in bag_elements]\n",
    "    all_names.extend(bag_names)\n",
    "\n",
    "    img_elements = soup.findAll('a', {'class':'grid__image'}) \n",
    "    img_links = ['http:'+ x.img['src'] for x in img_elements]\n",
    "    bag_links = ['https://beekeeperparade.com/'+ x['href'] for x in img_elements]\n",
    "    all_urls.extend(bag_links)\n",
    "    all_imgurls.extend(img_links)\n",
    "\n",
    "    price_elements = soup.findAll('span', {'class':'money'})\n",
    "    prices = [p.text for p in price_elements]\n",
    "    all_prices.extend(prices)"
   ]
  },
  {
   "cell_type": "code",
   "execution_count": 105,
   "metadata": {},
   "outputs": [
    {
     "name": "stdout",
     "output_type": "stream",
     "text": [
      "167\n",
      "167\n",
      "167\n",
      "177\n"
     ]
    }
   ],
   "source": [
    "print(len(all_names))\n",
    "print(len(all_urls))\n",
    "print(len(all_imgurls))\n",
    "print(len(all_prices))"
   ]
  },
  {
   "cell_type": "code",
   "execution_count": 106,
   "metadata": {},
   "outputs": [],
   "source": [
    "all_prices1 = [p for p in all_prices if p!= '$0.00']"
   ]
  },
  {
   "cell_type": "markdown",
   "metadata": {},
   "source": [
    "**Save bag images locally**"
   ]
  },
  {
   "cell_type": "code",
   "execution_count": 56,
   "metadata": {},
   "outputs": [
    {
     "name": "stdout",
     "output_type": "stream",
     "text": [
      "Saved beekeeper_1.png\n",
      "Saved beekeeper_2.png\n",
      "Saved beekeeper_3.png\n",
      "Saved beekeeper_4.png\n",
      "Saved beekeeper_5.png\n",
      "Saved beekeeper_6.png\n",
      "Saved beekeeper_7.png\n",
      "Saved beekeeper_8.png\n",
      "Saved beekeeper_9.png\n",
      "Saved beekeeper_10.png\n",
      "Saved beekeeper_11.png\n",
      "Saved beekeeper_12.png\n",
      "Saved beekeeper_13.png\n",
      "Saved beekeeper_14.png\n",
      "Saved beekeeper_15.png\n",
      "Saved beekeeper_16.png\n",
      "Saved beekeeper_17.png\n",
      "Saved beekeeper_18.png\n",
      "Saved beekeeper_19.png\n",
      "Saved beekeeper_20.png\n",
      "Saved beekeeper_21.png\n",
      "Saved beekeeper_22.png\n",
      "Saved beekeeper_23.png\n",
      "Saved beekeeper_24.png\n",
      "Saved beekeeper_25.png\n",
      "Saved beekeeper_26.png\n",
      "Saved beekeeper_27.png\n",
      "Saved beekeeper_28.png\n",
      "Saved beekeeper_29.png\n",
      "Saved beekeeper_30.png\n",
      "Saved beekeeper_31.png\n",
      "Saved beekeeper_32.png\n",
      "Saved beekeeper_33.png\n",
      "Saved beekeeper_34.png\n",
      "Saved beekeeper_35.png\n",
      "Saved beekeeper_36.png\n",
      "Saved beekeeper_37.png\n",
      "Saved beekeeper_38.png\n",
      "Saved beekeeper_39.png\n",
      "Saved beekeeper_40.png\n",
      "Saved beekeeper_41.png\n",
      "Saved beekeeper_42.png\n",
      "Saved beekeeper_43.png\n",
      "Saved beekeeper_44.png\n",
      "Saved beekeeper_45.png\n",
      "Saved beekeeper_46.png\n",
      "Saved beekeeper_47.png\n",
      "Saved beekeeper_48.png\n",
      "Saved beekeeper_49.png\n",
      "Saved beekeeper_50.png\n",
      "Saved beekeeper_51.png\n",
      "Saved beekeeper_52.png\n",
      "Saved beekeeper_53.png\n",
      "Saved beekeeper_54.png\n",
      "Saved beekeeper_55.png\n",
      "Saved beekeeper_56.png\n",
      "Saved beekeeper_57.png\n",
      "Saved beekeeper_58.png\n",
      "Saved beekeeper_59.png\n",
      "Saved beekeeper_60.png\n",
      "Saved beekeeper_61.png\n",
      "Saved beekeeper_62.png\n",
      "Saved beekeeper_63.png\n",
      "Saved beekeeper_64.png\n",
      "Saved beekeeper_65.png\n",
      "Saved beekeeper_66.png\n",
      "Saved beekeeper_67.png\n",
      "Saved beekeeper_68.png\n",
      "Saved beekeeper_69.png\n",
      "Saved beekeeper_70.png\n",
      "Saved beekeeper_71.png\n",
      "Saved beekeeper_72.png\n",
      "Saved beekeeper_73.png\n",
      "Saved beekeeper_74.png\n",
      "Saved beekeeper_75.png\n",
      "Saved beekeeper_76.png\n",
      "Saved beekeeper_77.png\n",
      "Saved beekeeper_78.png\n",
      "Saved beekeeper_79.png\n",
      "Saved beekeeper_80.png\n",
      "Saved beekeeper_81.png\n",
      "Saved beekeeper_82.png\n",
      "Saved beekeeper_83.png\n",
      "Saved beekeeper_84.png\n",
      "Saved beekeeper_85.png\n",
      "Saved beekeeper_86.png\n",
      "Saved beekeeper_87.png\n",
      "Saved beekeeper_88.png\n",
      "Saved beekeeper_89.png\n",
      "Saved beekeeper_90.png\n",
      "Saved beekeeper_91.png\n",
      "Saved beekeeper_92.png\n",
      "Saved beekeeper_93.png\n",
      "Saved beekeeper_94.png\n",
      "Saved beekeeper_95.png\n",
      "Saved beekeeper_96.png\n",
      "Saved beekeeper_97.png\n",
      "Saved beekeeper_98.png\n",
      "Saved beekeeper_99.png\n",
      "Saved beekeeper_100.png\n",
      "Saved beekeeper_101.png\n",
      "Saved beekeeper_102.png\n",
      "Saved beekeeper_103.png\n",
      "Saved beekeeper_104.png\n",
      "Saved beekeeper_105.png\n",
      "Saved beekeeper_106.png\n",
      "Saved beekeeper_107.png\n",
      "Saved beekeeper_108.png\n",
      "Saved beekeeper_109.png\n",
      "Saved beekeeper_110.png\n",
      "Saved beekeeper_111.png\n",
      "Saved beekeeper_112.png\n",
      "Saved beekeeper_113.png\n",
      "Saved beekeeper_114.png\n",
      "Saved beekeeper_115.png\n",
      "Saved beekeeper_116.png\n",
      "Saved beekeeper_117.png\n",
      "Saved beekeeper_118.png\n",
      "Saved beekeeper_119.png\n",
      "Saved beekeeper_120.png\n",
      "Saved beekeeper_121.png\n",
      "Saved beekeeper_122.png\n",
      "Saved beekeeper_123.png\n",
      "Saved beekeeper_124.png\n",
      "Saved beekeeper_125.png\n",
      "Saved beekeeper_126.png\n",
      "Saved beekeeper_127.png\n",
      "Saved beekeeper_128.png\n",
      "Saved beekeeper_129.png\n",
      "Saved beekeeper_130.png\n",
      "Saved beekeeper_131.png\n",
      "Saved beekeeper_132.png\n",
      "Saved beekeeper_133.png\n",
      "Saved beekeeper_134.png\n",
      "Saved beekeeper_135.png\n",
      "Saved beekeeper_136.png\n",
      "Saved beekeeper_137.png\n",
      "Saved beekeeper_138.png\n",
      "Saved beekeeper_139.png\n",
      "Saved beekeeper_140.png\n",
      "Saved beekeeper_141.png\n",
      "Saved beekeeper_142.png\n",
      "Saved beekeeper_143.png\n",
      "Saved beekeeper_144.png\n",
      "Saved beekeeper_145.png\n",
      "Saved beekeeper_146.png\n",
      "Saved beekeeper_147.png\n",
      "Saved beekeeper_148.png\n",
      "Saved beekeeper_149.png\n",
      "Saved beekeeper_150.png\n",
      "Saved beekeeper_151.png\n",
      "Saved beekeeper_152.png\n",
      "Saved beekeeper_153.png\n",
      "Saved beekeeper_154.png\n",
      "Saved beekeeper_155.png\n",
      "Saved beekeeper_156.png\n",
      "Saved beekeeper_157.png\n",
      "Saved beekeeper_158.png\n",
      "Saved beekeeper_159.png\n",
      "Saved beekeeper_160.png\n",
      "Saved beekeeper_161.png\n",
      "Saved beekeeper_162.png\n",
      "Saved beekeeper_163.png\n",
      "Saved beekeeper_164.png\n",
      "Saved beekeeper_165.png\n",
      "Saved beekeeper_166.png\n",
      "Saved beekeeper_167.png\n",
      "Done\n"
     ]
    }
   ],
   "source": [
    "# loop through links to request and save image locally\n",
    "for i, url in enumerate(all_imgurls):\n",
    "    time.sleep(1)\n",
    "    try:\n",
    "        local_filename = \"../data_original/Beekeeper/\"+\"beekeeper_{}\".format(i+1)+\".png\"\n",
    "        urllib.request.urlretrieve(url, local_filename)\n",
    "        print(\"Saved \"+\"beekeeper_{}\".format(i+1)+\".png\")\n",
    "    except Exception as e:\n",
    "        print(str(e))\n",
    "\n",
    "print(\"Done\")"
   ]
  },
  {
   "cell_type": "markdown",
   "metadata": {},
   "source": [
    "**Create dataframe**"
   ]
  },
  {
   "cell_type": "code",
   "execution_count": 107,
   "metadata": {},
   "outputs": [],
   "source": [
    "beekeeper_dict={'name': all_names, 'bag_url': all_urls, 'price':all_prices1}"
   ]
  },
  {
   "cell_type": "code",
   "execution_count": 108,
   "metadata": {},
   "outputs": [],
   "source": [
    "df_beekeeper=pd.DataFrame(beekeeper_dict)"
   ]
  },
  {
   "cell_type": "code",
   "execution_count": 109,
   "metadata": {},
   "outputs": [],
   "source": [
    "df_beekeeper['brand'] = 'Beekeeper Parade'\n",
    "df_beekeeper['source'] = 'Beekeeper Parade'\n",
    "df_beekeeper['is_ethical'] = 1"
   ]
  },
  {
   "cell_type": "code",
   "execution_count": 110,
   "metadata": {},
   "outputs": [
    {
     "data": {
      "text/html": [
       "<div>\n",
       "<style scoped>\n",
       "    .dataframe tbody tr th:only-of-type {\n",
       "        vertical-align: middle;\n",
       "    }\n",
       "\n",
       "    .dataframe tbody tr th {\n",
       "        vertical-align: top;\n",
       "    }\n",
       "\n",
       "    .dataframe thead th {\n",
       "        text-align: right;\n",
       "    }\n",
       "</style>\n",
       "<table border=\"1\" class=\"dataframe\">\n",
       "  <thead>\n",
       "    <tr style=\"text-align: right;\">\n",
       "      <th></th>\n",
       "      <th>name</th>\n",
       "      <th>bag_url</th>\n",
       "      <th>price</th>\n",
       "      <th>brand</th>\n",
       "      <th>source</th>\n",
       "      <th>is_ethical</th>\n",
       "    </tr>\n",
       "  </thead>\n",
       "  <tbody>\n",
       "    <tr>\n",
       "      <td>0</td>\n",
       "      <td>\\n        The Botanical Garden Royal BeeKeeper...</td>\n",
       "      <td>https://beekeeperparade.com//collections/royal...</td>\n",
       "      <td>$129.00</td>\n",
       "      <td>Beekeeper Parade</td>\n",
       "      <td>Beekeeper Parade</td>\n",
       "      <td>1</td>\n",
       "    </tr>\n",
       "    <tr>\n",
       "      <td>1</td>\n",
       "      <td>\\n        The Shishi Lion BeeKeeper Royal Back...</td>\n",
       "      <td>https://beekeeperparade.com//collections/royal...</td>\n",
       "      <td>$129.00</td>\n",
       "      <td>Beekeeper Parade</td>\n",
       "      <td>Beekeeper Parade</td>\n",
       "      <td>1</td>\n",
       "    </tr>\n",
       "    <tr>\n",
       "      <td>2</td>\n",
       "      <td>\\n        The World is Not Enough BeeKeeper Ro...</td>\n",
       "      <td>https://beekeeperparade.com//collections/royal...</td>\n",
       "      <td>$129.00</td>\n",
       "      <td>Beekeeper Parade</td>\n",
       "      <td>Beekeeper Parade</td>\n",
       "      <td>1</td>\n",
       "    </tr>\n",
       "    <tr>\n",
       "      <td>3</td>\n",
       "      <td>\\n        The Panda Mustard Corduroy BeeKeeper...</td>\n",
       "      <td>https://beekeeperparade.com//collections/royal...</td>\n",
       "      <td>$129.00</td>\n",
       "      <td>Beekeeper Parade</td>\n",
       "      <td>Beekeeper Parade</td>\n",
       "      <td>1</td>\n",
       "    </tr>\n",
       "    <tr>\n",
       "      <td>4</td>\n",
       "      <td>\\n        The Cherry Blossom Fuchsia BeeKeeper...</td>\n",
       "      <td>https://beekeeperparade.com//collections/royal...</td>\n",
       "      <td>$129.00</td>\n",
       "      <td>Beekeeper Parade</td>\n",
       "      <td>Beekeeper Parade</td>\n",
       "      <td>1</td>\n",
       "    </tr>\n",
       "  </tbody>\n",
       "</table>\n",
       "</div>"
      ],
      "text/plain": [
       "                                                name                                            bag_url    price             brand            source  is_ethical\n",
       "0  \\n        The Botanical Garden Royal BeeKeeper...  https://beekeeperparade.com//collections/royal...  $129.00  Beekeeper Parade  Beekeeper Parade           1\n",
       "1  \\n        The Shishi Lion BeeKeeper Royal Back...  https://beekeeperparade.com//collections/royal...  $129.00  Beekeeper Parade  Beekeeper Parade           1\n",
       "2  \\n        The World is Not Enough BeeKeeper Ro...  https://beekeeperparade.com//collections/royal...  $129.00  Beekeeper Parade  Beekeeper Parade           1\n",
       "3  \\n        The Panda Mustard Corduroy BeeKeeper...  https://beekeeperparade.com//collections/royal...  $129.00  Beekeeper Parade  Beekeeper Parade           1\n",
       "4  \\n        The Cherry Blossom Fuchsia BeeKeeper...  https://beekeeperparade.com//collections/royal...  $129.00  Beekeeper Parade  Beekeeper Parade           1"
      ]
     },
     "execution_count": 110,
     "metadata": {},
     "output_type": "execute_result"
    }
   ],
   "source": [
    "df_beekeeper.head()"
   ]
  },
  {
   "cell_type": "code",
   "execution_count": 112,
   "metadata": {},
   "outputs": [],
   "source": [
    "def assign_label(row):\n",
    "    if 'backpack' in row['name'].lower():\n",
    "        return 'Backpacks'\n",
    "    elif 'tote' in row['name'].lower():\n",
    "        return 'Totes'\n",
    "    elif 'weekender' in row['name'].lower():\n",
    "        return 'Weekenders'\n",
    "    elif 'bumbag' in row['name'].lower():\n",
    "        return 'Belt Bags'"
   ]
  },
  {
   "cell_type": "code",
   "execution_count": 113,
   "metadata": {},
   "outputs": [],
   "source": [
    "df_beekeeper['label'] = df_beekeeper.apply(assign_label, axis=1)"
   ]
  },
  {
   "cell_type": "code",
   "execution_count": 114,
   "metadata": {},
   "outputs": [],
   "source": [
    "df_beekeeper['name'] = df_beekeeper['name'].map(lambda x: x.replace('\\n', '').strip())"
   ]
  },
  {
   "cell_type": "code",
   "execution_count": 115,
   "metadata": {},
   "outputs": [],
   "source": [
    "img_filenames = [f'beekeeper_{i+1}.png' for i in range(len(all_imgurls))]"
   ]
  },
  {
   "cell_type": "code",
   "execution_count": 116,
   "metadata": {},
   "outputs": [],
   "source": [
    "df_beekeeper['img_filename'] = img_filenames"
   ]
  },
  {
   "cell_type": "code",
   "execution_count": 117,
   "metadata": {},
   "outputs": [
    {
     "data": {
      "text/html": [
       "<div>\n",
       "<style scoped>\n",
       "    .dataframe tbody tr th:only-of-type {\n",
       "        vertical-align: middle;\n",
       "    }\n",
       "\n",
       "    .dataframe tbody tr th {\n",
       "        vertical-align: top;\n",
       "    }\n",
       "\n",
       "    .dataframe thead th {\n",
       "        text-align: right;\n",
       "    }\n",
       "</style>\n",
       "<table border=\"1\" class=\"dataframe\">\n",
       "  <thead>\n",
       "    <tr style=\"text-align: right;\">\n",
       "      <th></th>\n",
       "      <th>name</th>\n",
       "      <th>bag_url</th>\n",
       "      <th>price</th>\n",
       "      <th>brand</th>\n",
       "      <th>source</th>\n",
       "      <th>is_ethical</th>\n",
       "      <th>label</th>\n",
       "      <th>img_filename</th>\n",
       "    </tr>\n",
       "  </thead>\n",
       "  <tbody>\n",
       "    <tr>\n",
       "      <td>0</td>\n",
       "      <td>The Botanical Garden Royal BeeKeeper Backpack ...</td>\n",
       "      <td>https://beekeeperparade.com//collections/royal...</td>\n",
       "      <td>$129.00</td>\n",
       "      <td>Beekeeper Parade</td>\n",
       "      <td>Beekeeper Parade</td>\n",
       "      <td>1</td>\n",
       "      <td>Backpacks</td>\n",
       "      <td>beekeeper_1.png</td>\n",
       "    </tr>\n",
       "    <tr>\n",
       "      <td>1</td>\n",
       "      <td>The Shishi Lion BeeKeeper Royal Backpack (Mast...</td>\n",
       "      <td>https://beekeeperparade.com//collections/royal...</td>\n",
       "      <td>$129.00</td>\n",
       "      <td>Beekeeper Parade</td>\n",
       "      <td>Beekeeper Parade</td>\n",
       "      <td>1</td>\n",
       "      <td>Backpacks</td>\n",
       "      <td>beekeeper_2.png</td>\n",
       "    </tr>\n",
       "    <tr>\n",
       "      <td>2</td>\n",
       "      <td>The World is Not Enough BeeKeeper Royal Backpa...</td>\n",
       "      <td>https://beekeeperparade.com//collections/royal...</td>\n",
       "      <td>$129.00</td>\n",
       "      <td>Beekeeper Parade</td>\n",
       "      <td>Beekeeper Parade</td>\n",
       "      <td>1</td>\n",
       "      <td>Backpacks</td>\n",
       "      <td>beekeeper_3.png</td>\n",
       "    </tr>\n",
       "    <tr>\n",
       "      <td>3</td>\n",
       "      <td>The Panda Mustard Corduroy BeeKeeper Royal Bac...</td>\n",
       "      <td>https://beekeeperparade.com//collections/royal...</td>\n",
       "      <td>$129.00</td>\n",
       "      <td>Beekeeper Parade</td>\n",
       "      <td>Beekeeper Parade</td>\n",
       "      <td>1</td>\n",
       "      <td>Backpacks</td>\n",
       "      <td>beekeeper_4.png</td>\n",
       "    </tr>\n",
       "    <tr>\n",
       "      <td>4</td>\n",
       "      <td>The Cherry Blossom Fuchsia BeeKeeper Backpack ...</td>\n",
       "      <td>https://beekeeperparade.com//collections/royal...</td>\n",
       "      <td>$129.00</td>\n",
       "      <td>Beekeeper Parade</td>\n",
       "      <td>Beekeeper Parade</td>\n",
       "      <td>1</td>\n",
       "      <td>Backpacks</td>\n",
       "      <td>beekeeper_5.png</td>\n",
       "    </tr>\n",
       "  </tbody>\n",
       "</table>\n",
       "</div>"
      ],
      "text/plain": [
       "                                                name                                            bag_url    price             brand            source  is_ethical      label     img_filename\n",
       "0  The Botanical Garden Royal BeeKeeper Backpack ...  https://beekeeperparade.com//collections/royal...  $129.00  Beekeeper Parade  Beekeeper Parade           1  Backpacks  beekeeper_1.png\n",
       "1  The Shishi Lion BeeKeeper Royal Backpack (Mast...  https://beekeeperparade.com//collections/royal...  $129.00  Beekeeper Parade  Beekeeper Parade           1  Backpacks  beekeeper_2.png\n",
       "2  The World is Not Enough BeeKeeper Royal Backpa...  https://beekeeperparade.com//collections/royal...  $129.00  Beekeeper Parade  Beekeeper Parade           1  Backpacks  beekeeper_3.png\n",
       "3  The Panda Mustard Corduroy BeeKeeper Royal Bac...  https://beekeeperparade.com//collections/royal...  $129.00  Beekeeper Parade  Beekeeper Parade           1  Backpacks  beekeeper_4.png\n",
       "4  The Cherry Blossom Fuchsia BeeKeeper Backpack ...  https://beekeeperparade.com//collections/royal...  $129.00  Beekeeper Parade  Beekeeper Parade           1  Backpacks  beekeeper_5.png"
      ]
     },
     "execution_count": 117,
     "metadata": {},
     "output_type": "execute_result"
    }
   ],
   "source": [
    "df_beekeeper.head()"
   ]
  },
  {
   "cell_type": "code",
   "execution_count": 118,
   "metadata": {},
   "outputs": [
    {
     "data": {
      "text/plain": [
       "'https://beekeeperparade.com//collections/royal-backpacks/products/the-panda-mustard-corduroy-beekeeper-royal-backpack-masterpiece-range'"
      ]
     },
     "execution_count": 118,
     "metadata": {},
     "output_type": "execute_result"
    }
   ],
   "source": [
    "df_beekeeper.bag_url[3]"
   ]
  },
  {
   "cell_type": "code",
   "execution_count": 119,
   "metadata": {},
   "outputs": [
    {
     "data": {
      "text/plain": [
       "'beekeeper_4.png'"
      ]
     },
     "execution_count": 119,
     "metadata": {},
     "output_type": "execute_result"
    }
   ],
   "source": [
    "df_beekeeper.img_filename[3]"
   ]
  },
  {
   "cell_type": "code",
   "execution_count": 121,
   "metadata": {},
   "outputs": [],
   "source": [
    "df_beekeeper.to_pickle('df_beekeeper.pickle')"
   ]
  },
  {
   "cell_type": "code",
   "execution_count": null,
   "metadata": {},
   "outputs": [],
   "source": []
  }
 ],
 "metadata": {
  "kernelspec": {
   "display_name": "Python 3",
   "language": "python",
   "name": "python3"
  },
  "language_info": {
   "codemirror_mode": {
    "name": "ipython",
    "version": 3
   },
   "file_extension": ".py",
   "mimetype": "text/x-python",
   "name": "python",
   "nbconvert_exporter": "python",
   "pygments_lexer": "ipython3",
   "version": "3.7.4"
  }
 },
 "nbformat": 4,
 "nbformat_minor": 2
}
