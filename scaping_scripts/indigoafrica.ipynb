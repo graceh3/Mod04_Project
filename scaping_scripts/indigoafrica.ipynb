{
 "cells": [
  {
   "cell_type": "markdown",
   "metadata": {},
   "source": [
    "# _Indigo*Africa_ Product Scraping\n",
    "\n",
    "\n",
    "##### import needed libraries:"
   ]
  },
  {
   "cell_type": "code",
   "execution_count": 1,
   "metadata": {
    "collapsed": true
   },
   "outputs": [],
   "source": [
    "import time\n",
    "import requests\n",
    "from selenium import webdriver\n",
    "from webdriver_manager.chrome import ChromeDriverManager\n",
    "from bs4 import BeautifulSoup\n",
    "import cv2\n",
    "import numpy as np \n",
    "import pandas as pd\n",
    "import re\n",
    "import urllib\n",
    "from PIL import Image\n",
    "import requests\n",
    "from io import BytesIO"
   ]
  },
  {
   "cell_type": "markdown",
   "metadata": {},
   "source": [
    "##### Create variables for each of the URL\n",
    "\n",
    "We will do this for each of the pages we will be pulling from on Kayu."
   ]
  },
  {
   "cell_type": "code",
   "execution_count": 4,
   "metadata": {
    "collapsed": true
   },
   "outputs": [],
   "source": [
    "IA1 = ['https://indegoafrica.org/collections/woven-bags?page=1',\n",
    "       'https://indegoafrica.org/collections/woven-bags?page=2',\n",
    "       'https://indegoafrica.org/collections/woven-bags?page=3']"
   ]
  },
  {
   "cell_type": "markdown",
   "metadata": {},
   "source": [
    "__Use the function defined below to create a dataframe of all purses__:"
   ]
  },
  {
   "cell_type": "code",
   "execution_count": 28,
   "metadata": {
    "collapsed": true
   },
   "outputs": [],
   "source": [
    "def products_to_DF(links):\n",
    "    images = []\n",
    "    names = []\n",
    "    prices = []\n",
    "    \n",
    "    for link in links: \n",
    "        page = requests.get(link)\n",
    "        soup = BeautifulSoup(page.content, 'lxml')\n",
    "        \n",
    "        bags = soup.findAll('figure', {'class':'product-list-item-thumbnail'})\n",
    "        images.extend(['https:'+ x.img['src'] for x in bags])\n",
    "        names.extend([x.img['alt'] for x in bags])\n",
    "        prices_tag = soup.findAll('p', {'class':'product-list-item-price'})\n",
    "        prices.extend([x.text for x in prices_tag])\n",
    "    \n",
    "    return pd.DataFrame({'description':names,'link':images,'price':prices})"
   ]
  },
  {
   "cell_type": "code",
   "execution_count": 29,
   "metadata": {},
   "outputs": [],
   "source": [
    "indigoAf_df = products_to_DF(IA1)"
   ]
  },
  {
   "cell_type": "markdown",
   "metadata": {},
   "source": [
    "__Let's check out the df to make sure everything looks ok:__"
   ]
  },
  {
   "cell_type": "code",
   "execution_count": 31,
   "metadata": {},
   "outputs": [
    {
     "data": {
      "text/html": [
       "<div>\n",
       "<style scoped>\n",
       "    .dataframe tbody tr th:only-of-type {\n",
       "        vertical-align: middle;\n",
       "    }\n",
       "\n",
       "    .dataframe tbody tr th {\n",
       "        vertical-align: top;\n",
       "    }\n",
       "\n",
       "    .dataframe thead th {\n",
       "        text-align: right;\n",
       "    }\n",
       "</style>\n",
       "<table border=\"1\" class=\"dataframe\">\n",
       "  <thead>\n",
       "    <tr style=\"text-align: right;\">\n",
       "      <th></th>\n",
       "      <th>description</th>\n",
       "      <th>link</th>\n",
       "      <th>price</th>\n",
       "    </tr>\n",
       "  </thead>\n",
       "  <tbody>\n",
       "    <tr>\n",
       "      <th>0</th>\n",
       "      <td>Natural Bolga Tote - Pink</td>\n",
       "      <td>https://cdn.shopify.com/s/files/1/0031/6622/pr...</td>\n",
       "      <td>\\n\\n  $150.00 USD\\n\\n\\n</td>\n",
       "    </tr>\n",
       "    <tr>\n",
       "      <th>1</th>\n",
       "      <td>Turret Two Tone Bag</td>\n",
       "      <td>https://cdn.shopify.com/s/files/1/0031/6622/pr...</td>\n",
       "      <td>\\n\\n  $85.00 USD\\n\\n\\n</td>\n",
       "    </tr>\n",
       "    <tr>\n",
       "      <th>2</th>\n",
       "      <td>Conch Bucket</td>\n",
       "      <td>https://cdn.shopify.com/s/files/1/0031/6622/pr...</td>\n",
       "      <td>\\n\\n  $150.00 USD\\n\\n\\n</td>\n",
       "    </tr>\n",
       "    <tr>\n",
       "      <th>3</th>\n",
       "      <td>Junonia Bag</td>\n",
       "      <td>https://cdn.shopify.com/s/files/1/0031/6622/pr...</td>\n",
       "      <td>\\n\\n  $85.00 USD\\n\\n\\n</td>\n",
       "    </tr>\n",
       "    <tr>\n",
       "      <th>4</th>\n",
       "      <td>Neon Ellie Tote</td>\n",
       "      <td>https://cdn.shopify.com/s/files/1/0031/6622/pr...</td>\n",
       "      <td>\\n\\n  $200.00 USD\\n\\n\\n</td>\n",
       "    </tr>\n",
       "    <tr>\n",
       "      <th>5</th>\n",
       "      <td>Lucine Bucket Bag - Salmon</td>\n",
       "      <td>https://cdn.shopify.com/s/files/1/0031/6622/pr...</td>\n",
       "      <td>\\n\\n  $150.00 USD\\n\\n\\nOnly 3 left!\\n</td>\n",
       "    </tr>\n",
       "    <tr>\n",
       "      <th>6</th>\n",
       "      <td>Lucine Bucket Bag - Blocked</td>\n",
       "      <td>https://cdn.shopify.com/s/files/1/0031/6622/pr...</td>\n",
       "      <td>\\n\\n  $150.00 USD\\n\\n\\nOnly 3 left!\\n</td>\n",
       "    </tr>\n",
       "    <tr>\n",
       "      <th>7</th>\n",
       "      <td>Lucine Bucket Bag - Multi</td>\n",
       "      <td>https://cdn.shopify.com/s/files/1/0031/6622/pr...</td>\n",
       "      <td>\\n\\n  $150.00 USD\\n\\n\\n</td>\n",
       "    </tr>\n",
       "    <tr>\n",
       "      <th>8</th>\n",
       "      <td>Lucine Bucket Bag - Lime</td>\n",
       "      <td>https://cdn.shopify.com/s/files/1/0031/6622/pr...</td>\n",
       "      <td>\\n\\n  $150.00 USD\\n\\n\\n</td>\n",
       "    </tr>\n",
       "    <tr>\n",
       "      <th>9</th>\n",
       "      <td>Cardita Bucket Bag</td>\n",
       "      <td>https://cdn.shopify.com/s/files/1/0031/6622/pr...</td>\n",
       "      <td>\\n\\n  $150.00 USD\\n\\n\\n</td>\n",
       "    </tr>\n",
       "  </tbody>\n",
       "</table>\n",
       "</div>"
      ],
      "text/plain": [
       "                   description  \\\n",
       "0    Natural Bolga Tote - Pink   \n",
       "1          Turret Two Tone Bag   \n",
       "2                 Conch Bucket   \n",
       "3                  Junonia Bag   \n",
       "4              Neon Ellie Tote   \n",
       "5   Lucine Bucket Bag - Salmon   \n",
       "6  Lucine Bucket Bag - Blocked   \n",
       "7    Lucine Bucket Bag - Multi   \n",
       "8     Lucine Bucket Bag - Lime   \n",
       "9           Cardita Bucket Bag   \n",
       "\n",
       "                                                link  \\\n",
       "0  https://cdn.shopify.com/s/files/1/0031/6622/pr...   \n",
       "1  https://cdn.shopify.com/s/files/1/0031/6622/pr...   \n",
       "2  https://cdn.shopify.com/s/files/1/0031/6622/pr...   \n",
       "3  https://cdn.shopify.com/s/files/1/0031/6622/pr...   \n",
       "4  https://cdn.shopify.com/s/files/1/0031/6622/pr...   \n",
       "5  https://cdn.shopify.com/s/files/1/0031/6622/pr...   \n",
       "6  https://cdn.shopify.com/s/files/1/0031/6622/pr...   \n",
       "7  https://cdn.shopify.com/s/files/1/0031/6622/pr...   \n",
       "8  https://cdn.shopify.com/s/files/1/0031/6622/pr...   \n",
       "9  https://cdn.shopify.com/s/files/1/0031/6622/pr...   \n",
       "\n",
       "                                   price  \n",
       "0                \\n\\n  $150.00 USD\\n\\n\\n  \n",
       "1                 \\n\\n  $85.00 USD\\n\\n\\n  \n",
       "2                \\n\\n  $150.00 USD\\n\\n\\n  \n",
       "3                 \\n\\n  $85.00 USD\\n\\n\\n  \n",
       "4                \\n\\n  $200.00 USD\\n\\n\\n  \n",
       "5  \\n\\n  $150.00 USD\\n\\n\\nOnly 3 left!\\n  \n",
       "6  \\n\\n  $150.00 USD\\n\\n\\nOnly 3 left!\\n  \n",
       "7                \\n\\n  $150.00 USD\\n\\n\\n  \n",
       "8                \\n\\n  $150.00 USD\\n\\n\\n  \n",
       "9                \\n\\n  $150.00 USD\\n\\n\\n  "
      ]
     },
     "execution_count": 31,
     "metadata": {},
     "output_type": "execute_result"
    }
   ],
   "source": [
    "indigoAf_df.head(10)"
   ]
  },
  {
   "cell_type": "markdown",
   "metadata": {},
   "source": [
    "##### Now, let's use the function _**save_src_image_apply**_ to download the images:\n",
    "\n",
    "We will download the images to the appropriate folder and save the files names in the dataframe."
   ]
  },
  {
   "cell_type": "code",
   "execution_count": 34,
   "metadata": {
    "collapsed": true
   },
   "outputs": [],
   "source": [
    "c = 0\n",
    "def save_src_image_apply(company,short,url):\n",
    "    start_time = time.time()\n",
    "    time.sleep(1)\n",
    "    \n",
    "    try:\n",
    "        global c\n",
    "        c += 1\n",
    "        response = requests.get(url)\n",
    "        img = Image.open(BytesIO(response.content))\n",
    "        image_save_loc = company+short+'_'+str(c)+'.png'\n",
    "        img.save(image_save_loc, \"PNG\")\n",
    "        print(\"Saved \"+short+\"_{}\".format(c)+\".png\")\n",
    "        print(c)\n",
    "        return short+\"_\"+ str(c)+\".png\"\n",
    "    except Exception as e:\n",
    "        print(str(e))\n",
    "        return e"
   ]
  },
  {
   "cell_type": "code",
   "execution_count": 35,
   "metadata": {
    "scrolled": true
   },
   "outputs": [
    {
     "name": "stdout",
     "output_type": "stream",
     "text": [
      "Saved ia_1.png\n",
      "1\n",
      "Saved ia_2.png\n",
      "2\n",
      "Saved ia_3.png\n",
      "3\n",
      "Saved ia_4.png\n",
      "4\n",
      "Saved ia_5.png\n",
      "5\n",
      "Saved ia_6.png\n",
      "6\n",
      "Saved ia_7.png\n",
      "7\n",
      "Saved ia_8.png\n",
      "8\n",
      "Saved ia_9.png\n",
      "9\n",
      "Saved ia_10.png\n",
      "10\n",
      "Saved ia_11.png\n",
      "11\n",
      "Saved ia_12.png\n",
      "12\n",
      "Saved ia_13.png\n",
      "13\n",
      "Saved ia_14.png\n",
      "14\n",
      "Saved ia_15.png\n",
      "15\n",
      "Saved ia_16.png\n",
      "16\n",
      "Saved ia_17.png\n",
      "17\n",
      "Saved ia_18.png\n",
      "18\n",
      "Saved ia_19.png\n",
      "19\n",
      "Saved ia_20.png\n",
      "20\n",
      "Saved ia_21.png\n",
      "21\n",
      "Saved ia_22.png\n",
      "22\n",
      "Saved ia_23.png\n",
      "23\n",
      "Saved ia_24.png\n",
      "24\n",
      "Saved ia_25.png\n",
      "25\n",
      "Saved ia_26.png\n",
      "26\n",
      "Saved ia_27.png\n",
      "27\n",
      "Saved ia_28.png\n",
      "28\n",
      "Saved ia_29.png\n",
      "29\n",
      "Saved ia_30.png\n",
      "30\n",
      "Saved ia_31.png\n",
      "31\n",
      "Saved ia_32.png\n",
      "32\n",
      "Saved ia_33.png\n",
      "33\n",
      "Saved ia_34.png\n",
      "34\n",
      "Saved ia_35.png\n",
      "35\n",
      "Saved ia_36.png\n",
      "36\n",
      "Saved ia_37.png\n",
      "37\n",
      "Saved ia_38.png\n",
      "38\n",
      "Saved ia_39.png\n",
      "39\n",
      "Saved ia_40.png\n",
      "40\n",
      "Saved ia_41.png\n",
      "41\n",
      "Saved ia_42.png\n",
      "42\n",
      "Saved ia_43.png\n",
      "43\n",
      "Saved ia_44.png\n",
      "44\n",
      "Saved ia_45.png\n",
      "45\n",
      "Saved ia_46.png\n",
      "46\n",
      "Saved ia_47.png\n",
      "47\n",
      "Saved ia_48.png\n",
      "48\n",
      "Saved ia_49.png\n",
      "49\n",
      "Saved ia_50.png\n",
      "50\n",
      "Saved ia_51.png\n",
      "51\n",
      "Saved ia_52.png\n",
      "52\n"
     ]
    }
   ],
   "source": [
    "indigoAf_df['img'] = indigoAf_df.link.apply(lambda x: save_src_image_apply('IndigoAfrica/','ia',x))"
   ]
  },
  {
   "cell_type": "code",
   "execution_count": 36,
   "metadata": {
    "collapsed": true
   },
   "outputs": [],
   "source": [
    "indigoAf_df.to_csv('data/indigoAf_df.csv')"
   ]
  },
  {
   "cell_type": "code",
   "execution_count": null,
   "metadata": {
    "collapsed": true
   },
   "outputs": [],
   "source": []
  }
 ],
 "metadata": {
  "kernelspec": {
   "display_name": "Python 3",
   "language": "python",
   "name": "python3"
  },
  "language_info": {
   "codemirror_mode": {
    "name": "ipython",
    "version": 3
   },
   "file_extension": ".py",
   "mimetype": "text/x-python",
   "name": "python",
   "nbconvert_exporter": "python",
   "pygments_lexer": "ipython3",
   "version": "3.6.8"
  }
 },
 "nbformat": 4,
 "nbformat_minor": 2
}
