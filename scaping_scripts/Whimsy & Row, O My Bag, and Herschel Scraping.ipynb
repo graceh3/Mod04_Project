{
 "cells": [
  {
   "cell_type": "markdown",
   "metadata": {},
   "source": [
    "# Using Selenium, Beatutiful Soup & Requests: _Hershel, O My Bag & Whimsy and Row_\n",
    "\n",
    "In this section we will be using selenium and beautiful soup to scrape all of the women's bags from Hershel, O My Bag & Whimsy and Row. We will get the: picture,price, product link, and description.\n",
    "\n",
    "Resources used to help in this process can be found in other notebooks.\n",
    "\n",
    "#### Import your needed Libraries:"
   ]
  },
  {
   "cell_type": "code",
   "execution_count": 50,
   "metadata": {},
   "outputs": [
    {
     "name": "stdout",
     "output_type": "stream",
     "text": [
      "The autoreload extension is already loaded. To reload it, use:\n",
      "  %reload_ext autoreload\n"
     ]
    }
   ],
   "source": [
    "import time\n",
    "import requests\n",
    "from selenium import webdriver\n",
    "from webdriver_manager.chrome import ChromeDriverManager\n",
    "from bs4 import BeautifulSoup\n",
    "import cv2\n",
    "import numpy as np \n",
    "import pandas as pd\n",
    "import re\n",
    "from PIL import Image\n",
    "import requests\n",
    "from io import BytesIO\n",
    "from scraping_functions import *\n",
    "%load_ext autoreload\n",
    "%autoreload 2"
   ]
  },
  {
   "cell_type": "markdown",
   "metadata": {},
   "source": [
    "#### Create variables for each of the URL\n",
    "\n",
    "We will do this for each of the pages we will be pulling from on _Hershel, O My Bag & Whimsy and Row_."
   ]
  },
  {
   "cell_type": "code",
   "execution_count": 2,
   "metadata": {
    "collapsed": true
   },
   "outputs": [],
   "source": [
    "hershel_backpacks = 'https://herschel.com/shop/womens/backpacks'\n",
    "hershel_fp = 'https://herschel.com/shop/womens/hip-packs'\n",
    "hershel_totes = 'https://herschel.com/shop/womens/totes'\n",
    "hershel_messenger = 'https://herschel.com/shop/womens/messengers'\n",
    "\n",
    "O_my_bag = 'https://www.omybag.nl/product-category/women/women-bags/'\n",
    "\n",
    "#only the first 13-ish bags\n",
    "WR_bags = 'https://whimsyandrow.com/collections/bags-clutches-pouches?sort_by=title-ascending'"
   ]
  },
  {
   "cell_type": "markdown",
   "metadata": {},
   "source": [
    "### O My Bag:\n",
    "\n",
    "Now that we have our page variables set up, we can scrape the bags. After inspecting on the website it appears we can just use beautiful soup for this task."
   ]
  },
  {
   "cell_type": "code",
   "execution_count": 5,
   "metadata": {},
   "outputs": [],
   "source": [
    "omb_page = requests.get(O_my_bag)\n",
    "omb_soup = BeautifulSoup(omb_page.content, 'lxml')\n",
    "divs_imgs = omb_soup.findAll('div', {'class':'content-product'})"
   ]
  },
  {
   "cell_type": "code",
   "execution_count": 13,
   "metadata": {},
   "outputs": [],
   "source": [
    "omb_links = omb_soup.findAll('a', {'class':'woocommerce-LoopProduct-link'})\n",
    "omb_href = [x['href'] for x in omb_links]"
   ]
  },
  {
   "cell_type": "markdown",
   "metadata": {},
   "source": [
    "Now let's grab the images:"
   ]
  },
  {
   "cell_type": "code",
   "execution_count": 25,
   "metadata": {},
   "outputs": [],
   "source": [
    "omb_images_tags = omb_soup.findAll('img', {'class':'attachment-woocommerce_thumbnail'})\n",
    "omb_images = [x['src'] for x in omb_images_tags]"
   ]
  },
  {
   "cell_type": "markdown",
   "metadata": {},
   "source": [
    "Now, let's get into the details like price and name:"
   ]
  },
  {
   "cell_type": "code",
   "execution_count": 27,
   "metadata": {
    "collapsed": true
   },
   "outputs": [],
   "source": [
    "omb_prod_details = omb_soup.findAll('div', {'class':'product-details'})"
   ]
  },
  {
   "cell_type": "code",
   "execution_count": 38,
   "metadata": {},
   "outputs": [],
   "source": [
    "omb_names = [x.find('div', {'class': 'product-title'}).text.strip() for x in omb_prod_details]\n",
    "omb_prices = [x.find('span', {'class': 'price'}).text.strip() for x in omb_prod_details]"
   ]
  },
  {
   "cell_type": "markdown",
   "metadata": {},
   "source": [
    "### Create a DataFrame and use our function to download pictures :\n",
    "\n",
    "Below we will use the lists created above and make a dataframe. Then we will define a function to download the images into our directory, and save the image file name in a new column of the DataFrame."
   ]
  },
  {
   "cell_type": "code",
   "execution_count": 57,
   "metadata": {
    "collapsed": true
   },
   "outputs": [],
   "source": [
    "table = [omb_names,omb_prices,omb_href,omb_images]\n",
    "OMB_df = pd.DataFrame(table).transpose()"
   ]
  },
  {
   "cell_type": "code",
   "execution_count": 58,
   "metadata": {},
   "outputs": [],
   "source": [
    "OMB_df.rename( columns={0:'product_name', 1: 'product_price',2:'URL',3:'img_url'},inplace=True)"
   ]
  },
  {
   "cell_type": "code",
   "execution_count": 59,
   "metadata": {},
   "outputs": [
    {
     "data": {
      "text/html": [
       "<div>\n",
       "<style scoped>\n",
       "    .dataframe tbody tr th:only-of-type {\n",
       "        vertical-align: middle;\n",
       "    }\n",
       "\n",
       "    .dataframe tbody tr th {\n",
       "        vertical-align: top;\n",
       "    }\n",
       "\n",
       "    .dataframe thead th {\n",
       "        text-align: right;\n",
       "    }\n",
       "</style>\n",
       "<table border=\"1\" class=\"dataframe\">\n",
       "  <thead>\n",
       "    <tr style=\"text-align: right;\">\n",
       "      <th></th>\n",
       "      <th>product_name</th>\n",
       "      <th>product_price</th>\n",
       "      <th>URL</th>\n",
       "      <th>img_url</th>\n",
       "    </tr>\n",
       "  </thead>\n",
       "  <tbody>\n",
       "    <tr>\n",
       "      <th>0</th>\n",
       "      <td>Lola – Black Croco – Soft Grain / Classic Leather</td>\n",
       "      <td>€169.00</td>\n",
       "      <td>https://www.omybag.nl/shop/women/lola-black-so...</td>\n",
       "      <td>https://static1.omybag.nl/wp-content/uploads/2...</td>\n",
       "    </tr>\n",
       "    <tr>\n",
       "      <th>1</th>\n",
       "      <td>Jean Backpack – Black – Soft Grain Leather</td>\n",
       "      <td>€299.00</td>\n",
       "      <td>https://www.omybag.nl/shop/women/jean-backpack...</td>\n",
       "      <td>https://www.omybag.nl/wp-content/uploads/2019/...</td>\n",
       "    </tr>\n",
       "    <tr>\n",
       "      <th>2</th>\n",
       "      <td>Mila (short handle) – Natural – Classic Leather</td>\n",
       "      <td>€329.00</td>\n",
       "      <td>https://www.omybag.nl/shop/men/mila-short-hand...</td>\n",
       "      <td>https://static2.omybag.nl/wp-content/uploads/2...</td>\n",
       "    </tr>\n",
       "  </tbody>\n",
       "</table>\n",
       "</div>"
      ],
      "text/plain": [
       "                                        product_name product_price  \\\n",
       "0  Lola – Black Croco – Soft Grain / Classic Leather       €169.00   \n",
       "1         Jean Backpack – Black – Soft Grain Leather       €299.00   \n",
       "2    Mila (short handle) – Natural – Classic Leather       €329.00   \n",
       "\n",
       "                                                 URL  \\\n",
       "0  https://www.omybag.nl/shop/women/lola-black-so...   \n",
       "1  https://www.omybag.nl/shop/women/jean-backpack...   \n",
       "2  https://www.omybag.nl/shop/men/mila-short-hand...   \n",
       "\n",
       "                                             img_url  \n",
       "0  https://static1.omybag.nl/wp-content/uploads/2...  \n",
       "1  https://www.omybag.nl/wp-content/uploads/2019/...  \n",
       "2  https://static2.omybag.nl/wp-content/uploads/2...  "
      ]
     },
     "execution_count": 59,
     "metadata": {},
     "output_type": "execute_result"
    }
   ],
   "source": [
    "OMB_df.head(3)"
   ]
  },
  {
   "cell_type": "markdown",
   "metadata": {},
   "source": [
    "#### Save all images using an apply"
   ]
  },
  {
   "cell_type": "code",
   "execution_count": 65,
   "metadata": {},
   "outputs": [
    {
     "name": "stdout",
     "output_type": "stream",
     "text": [
      "Saved omybag__1.png\n",
      "Saved omybag__2.png\n",
      "Saved omybag__3.png\n",
      "Saved omybag__4.png\n",
      "Saved omybag__5.png\n",
      "Saved omybag__6.png\n",
      "Saved omybag__7.png\n",
      "Saved omybag__8.png\n",
      "Saved omybag__9.png\n",
      "Saved omybag__10.png\n",
      "Saved omybag__11.png\n",
      "Saved omybag__12.png\n",
      "Saved omybag__13.png\n",
      "Saved omybag__14.png\n",
      "Saved omybag__15.png\n",
      "Saved omybag__16.png\n",
      "Saved omybag__17.png\n",
      "Saved omybag__18.png\n",
      "Saved omybag__19.png\n",
      "Saved omybag__20.png\n",
      "Saved omybag__21.png\n",
      "Saved omybag__22.png\n",
      "Saved omybag__23.png\n",
      "Saved omybag__24.png\n",
      "Saved omybag__25.png\n",
      "Saved omybag__26.png\n",
      "Saved omybag__27.png\n",
      "Saved omybag__28.png\n",
      "Saved omybag__29.png\n",
      "Saved omybag__30.png\n",
      "Saved omybag__31.png\n",
      "Saved omybag__32.png\n",
      "Saved omybag__33.png\n",
      "Saved omybag__34.png\n",
      "Saved omybag__35.png\n",
      "Saved omybag__36.png\n",
      "Saved omybag__37.png\n",
      "Saved omybag__38.png\n",
      "Saved omybag__39.png\n",
      "Saved omybag__40.png\n",
      "Saved omybag__41.png\n",
      "Saved omybag__42.png\n",
      "Saved omybag__43.png\n",
      "Saved omybag__44.png\n",
      "Saved omybag__45.png\n",
      "Saved omybag__46.png\n",
      "Saved omybag__47.png\n",
      "Saved omybag__48.png\n",
      "Saved omybag__49.png\n",
      "Saved omybag__50.png\n",
      "Saved omybag__51.png\n",
      "Saved omybag__52.png\n",
      "Saved omybag__53.png\n",
      "Saved omybag__54.png\n",
      "Saved omybag__55.png\n",
      "Saved omybag__56.png\n",
      "Saved omybag__57.png\n",
      "Saved omybag__58.png\n",
      "Saved omybag__59.png\n",
      "Saved omybag__60.png\n",
      "Saved omybag__61.png\n",
      "Saved omybag__62.png\n",
      "Saved omybag__63.png\n",
      "Saved omybag__64.png\n",
      "Saved omybag__65.png\n",
      "Saved omybag__66.png\n",
      "Saved omybag__67.png\n",
      "Saved omybag__68.png\n",
      "Saved omybag__69.png\n",
      "Saved omybag__70.png\n",
      "Saved omybag__71.png\n",
      "Saved omybag__72.png\n",
      "Saved omybag__73.png\n",
      "Saved omybag__74.png\n",
      "Saved omybag__75.png\n",
      "Saved omybag__76.png\n",
      "Saved omybag__77.png\n",
      "Saved omybag__78.png\n",
      "Saved omybag__79.png\n",
      "Saved omybag__80.png\n",
      "Saved omybag__81.png\n",
      "Saved omybag__82.png\n",
      "Saved omybag__83.png\n",
      "Saved omybag__84.png\n",
      "Saved omybag__85.png\n",
      "Saved omybag__86.png\n",
      "Saved omybag__87.png\n",
      "Saved omybag__88.png\n",
      "Saved omybag__89.png\n",
      "Saved omybag__90.png\n",
      "Saved omybag__91.png\n",
      "Saved omybag__92.png\n",
      "Saved omybag__93.png\n",
      "Saved omybag__94.png\n",
      "Saved omybag__95.png\n",
      "Saved omybag__96.png\n",
      "Saved omybag__97.png\n",
      "Saved omybag__98.png\n",
      "Saved omybag__99.png\n",
      "Saved omybag__100.png\n",
      "Saved omybag__101.png\n",
      "Saved omybag__102.png\n",
      "Saved omybag__103.png\n",
      "Saved omybag__104.png\n",
      "Saved omybag__105.png\n",
      "Saved omybag__106.png\n",
      "Saved omybag__107.png\n",
      "Saved omybag__108.png\n",
      "Saved omybag__109.png\n",
      "Saved omybag__110.png\n",
      "Saved omybag__111.png\n",
      "Saved omybag__112.png\n",
      "Saved omybag__113.png\n",
      "Saved omybag__114.png\n",
      "Saved omybag__115.png\n",
      "Saved omybag__116.png\n",
      "Saved omybag__117.png\n",
      "Saved omybag__118.png\n"
     ]
    }
   ],
   "source": [
    "c = 0\n",
    "OMB_df['img'] = OMB_df.img_url.apply(lambda x: save_src_image_apply('../../data/','omybag_',x))"
   ]
  },
  {
   "cell_type": "code",
   "execution_count": 67,
   "metadata": {},
   "outputs": [],
   "source": [
    "OMB_df.to_csv('../../omb_df.csv')"
   ]
  },
  {
   "cell_type": "markdown",
   "metadata": {},
   "source": [
    "### Whimsy and Row:"
   ]
  },
  {
   "cell_type": "code",
   "execution_count": 73,
   "metadata": {
    "collapsed": true
   },
   "outputs": [],
   "source": [
    "wr_page = requests.get(WR_bags)\n",
    "wr_soup = BeautifulSoup(wr_page.content, 'lxml')\n",
    "divs_wr = wr_soup.findAll('div', {'class':'product-frame'})"
   ]
  },
  {
   "cell_type": "code",
   "execution_count": 106,
   "metadata": {},
   "outputs": [],
   "source": [
    "wr_url = ['https://whimsyandrow.com' + x.find('a')['href'] for x in divs_wr[:-3]]\n",
    "wr_names = [x.find('a')['title'] for x in divs_wr[:-3]]\n",
    "wr_images_url = ['https:'+x.find('img')['src'] for x in divs_wr[:-3]] "
   ]
  },
  {
   "cell_type": "markdown",
   "metadata": {},
   "source": [
    "Now, let's get the prices which are in a different div:"
   ]
  },
  {
   "cell_type": "code",
   "execution_count": 97,
   "metadata": {},
   "outputs": [],
   "source": [
    "divs_wr_2 = wr_soup.findAll('div', {'class':'product-title'})\n",
    "prices = [x.find('h6').text for x in divs_wr_2[:-3]]"
   ]
  },
  {
   "cell_type": "markdown",
   "metadata": {},
   "source": [
    "### Create this whimsy and Row DF and save the images:"
   ]
  },
  {
   "cell_type": "code",
   "execution_count": 107,
   "metadata": {},
   "outputs": [],
   "source": [
    "table = [wr_names,prices,wr_url,wr_images_url]\n",
    "wr_df = pd.DataFrame(table).transpose()\n",
    "wr_df.rename(columns={0:'product_name', 1: 'product_price',2:'URL',3:'img_url'},inplace=True)"
   ]
  },
  {
   "cell_type": "markdown",
   "metadata": {},
   "source": [
    "#### Save all images using an apply:"
   ]
  },
  {
   "cell_type": "code",
   "execution_count": 112,
   "metadata": {},
   "outputs": [
    {
     "name": "stdout",
     "output_type": "stream",
     "text": [
      "Saved whimsy_row__1.png\n",
      "Saved whimsy_row__2.png\n",
      "Saved whimsy_row__3.png\n",
      "Saved whimsy_row__4.png\n",
      "Saved whimsy_row__5.png\n",
      "Saved whimsy_row__6.png\n",
      "Saved whimsy_row__7.png\n",
      "Saved whimsy_row__8.png\n",
      "Saved whimsy_row__9.png\n",
      "Saved whimsy_row__10.png\n",
      "Saved whimsy_row__11.png\n",
      "Saved whimsy_row__12.png\n",
      "Saved whimsy_row__13.png\n"
     ]
    }
   ],
   "source": [
    "c = 0\n",
    "wr_df['img'] = wr_df.img_url.apply(lambda x: save_src_image_apply('../../data/','whimsy_row_',x))"
   ]
  },
  {
   "cell_type": "code",
   "execution_count": null,
   "metadata": {
    "collapsed": true
   },
   "outputs": [],
   "source": [
    "OMB_df.to_csv('../../omb_df.csv')"
   ]
  }
 ],
 "metadata": {
  "kernelspec": {
   "display_name": "Python 3",
   "language": "python",
   "name": "python3"
  },
  "language_info": {
   "codemirror_mode": {
    "name": "ipython",
    "version": 3
   },
   "file_extension": ".py",
   "mimetype": "text/x-python",
   "name": "python",
   "nbconvert_exporter": "python",
   "pygments_lexer": "ipython3",
   "version": "3.6.8"
  }
 },
 "nbformat": 4,
 "nbformat_minor": 2
}
