{
 "cells": [
  {
   "cell_type": "markdown",
   "metadata": {
    "collapsed": true
   },
   "source": [
    "# Using Selenium and Requests: _Hershel, Fjall Raven & Rains_\n",
    "\n",
    "In this section we will be using selenium and beautiful soup to scrape all of the women's bags from Ahimasa Collective and Mimco.First, we will use selenium to get everylink for the bags, and then use Beautiful Soup to get the correct picture,price, product link, and description.\n",
    "\n",
    "Some great sources used to help in this: \n",
    "- [Selenium Website for Locating Elements](https://selenium-python.readthedocs.io/locating-elements.html)\n",
    "- [Stackover flow to Save Images](https://stackoverflow.com/questions/18497840/beautifulsoup-how-to-open-images-and-download-them)\n",
    "- [Get all image src's with specific class](https://stackoverflow.com/questions/8289957/python-2-7-beautiful-soup-img-src-extract)\n",
    "\n",
    "#### Import your needed Libraries:"
   ]
  },
  {
   "cell_type": "code",
   "execution_count": 5,
   "metadata": {
    "collapsed": true
   },
   "outputs": [],
   "source": [
    "import time\n",
    "import requests\n",
    "from selenium import webdriver\n",
    "from webdriver_manager.chrome import ChromeDriverManager\n",
    "from bs4 import BeautifulSoup\n",
    "import cv2\n",
    "import numpy as np \n",
    "import pandas as pd\n",
    "import re\n",
    "from PIL import Image\n",
    "import requests\n",
    "from io import BytesIO"
   ]
  },
  {
   "cell_type": "markdown",
   "metadata": {},
   "source": [
    "#### Create variables for each of the URL\n",
    "\n",
    "We will do this for each of the pages we will be pulling from on _Hershel, Fjall Raven & Rains_."
   ]
  },
  {
   "cell_type": "code",
   "execution_count": 9,
   "metadata": {
    "collapsed": true
   },
   "outputs": [],
   "source": [
    "hershel = ''\n",
    "fjall_raven = 'https://www.fjallraven.us/collections/backpacks'\n",
    "rains = 'https://www.us.rains.com/collections/backpacks'"
   ]
  },
  {
   "cell_type": "markdown",
   "metadata": {},
   "source": [
    "### Rains:\n",
    "\n",
    "We will start with Rains, grabbing all of their bags with every colors. The name of the picture files, the prices and the names of the items will be saved in a DataFrame."
   ]
  },
  {
   "cell_type": "code",
   "execution_count": 96,
   "metadata": {
    "collapsed": true
   },
   "outputs": [],
   "source": [
    "page = requests.get(rains)\n",
    "soup = BeautifulSoup(page.content, 'lxml')\n",
    "class_1 = 'flexslider collection'\n",
    "class_2 = 'details_outer'\n",
    "divs_imgs = soup.findAll('div', {'class':class_1})"
   ]
  },
  {
   "cell_type": "markdown",
   "metadata": {},
   "source": [
    "After inspecting, we can tell that these are all of the bags on the page. However, let's drop item 14 as it is not a bookbag. In the list comprehension we use [::2] to skip everyother item in the list of images for each item. These are the hover images which we do not need"
   ]
  },
  {
   "cell_type": "code",
   "execution_count": 97,
   "metadata": {
    "collapsed": true
   },
   "outputs": [],
   "source": [
    "images = [x.findAll('img')[::2] for x in divs_imgs]\n",
    "del images[13]"
   ]
  },
  {
   "cell_type": "code",
   "execution_count": 98,
   "metadata": {
    "collapsed": true
   },
   "outputs": [],
   "source": [
    "flat_imgs = [img for img_li in images for img in img_li]\n",
    "\n",
    "rains_colors = [x['alt'] for x in flat_imgs]\n",
    "rains_urls = ['https:' + x['data-src'] for x in flat_imgs]"
   ]
  },
  {
   "cell_type": "code",
   "execution_count": 99,
   "metadata": {
    "collapsed": true
   },
   "outputs": [],
   "source": [
    "divs = soup.findAll('div', {'class':class_2})"
   ]
  },
  {
   "cell_type": "code",
   "execution_count": 100,
   "metadata": {
    "collapsed": true
   },
   "outputs": [],
   "source": [
    "name = [x.find('a')['title'] for x in divs]\n",
    "pri = [x.find('a').find('span',{'class':'price_lg'}).text.replace('\\n','').strip() for x in divs]\n",
    "prices = [float(x.replace(' USD','').replace('$','')) for x in pri]"
   ]
  },
  {
   "cell_type": "code",
   "execution_count": 121,
   "metadata": {
    "collapsed": true
   },
   "outputs": [],
   "source": [
    "del name[13]\n",
    "del prices[13]"
   ]
  },
  {
   "cell_type": "code",
   "execution_count": 111,
   "metadata": {
    "collapsed": true
   },
   "outputs": [],
   "source": [
    "div_num = [len(i) for i in images]"
   ]
  },
  {
   "cell_type": "code",
   "execution_count": 122,
   "metadata": {
    "collapsed": true
   },
   "outputs": [],
   "source": [
    "name_count = []\n",
    "prices_count = []\n",
    "for i in range(0,len(div_num)):\n",
    "    name_count.append([name[i]]*div_num[i])\n",
    "    prices_count.append([prices[i]]*div_num[i])"
   ]
  },
  {
   "cell_type": "code",
   "execution_count": 125,
   "metadata": {
    "collapsed": true
   },
   "outputs": [],
   "source": [
    "names_rains = [name for name_li in name_count for name in name_li]\n",
    "prices_rains = [price for price_li in prices_count for price in price_li]"
   ]
  },
  {
   "cell_type": "markdown",
   "metadata": {},
   "source": [
    "### Create a DataFrame and create a function to download pictures :\n",
    "\n",
    "Below we will use the lists created above and make a dataframe. Then we will define a function to download the images into our directory, and save the image file name in a new column of the DataFrame."
   ]
  },
  {
   "cell_type": "code",
   "execution_count": 133,
   "metadata": {
    "collapsed": true
   },
   "outputs": [],
   "source": [
    "table = [names_rains,prices_rains,rains_colors,rains_urls]\n",
    "rains_df = pd.DataFrame(table).transpose()\n",
    "rains_df.rename( columns={0:'Names', 1: 'Prices',2:'Color',3:'URL'},inplace=True)"
   ]
  },
  {
   "cell_type": "code",
   "execution_count": 156,
   "metadata": {},
   "outputs": [
    {
     "data": {
      "text/html": [
       "<div>\n",
       "<style scoped>\n",
       "    .dataframe tbody tr th:only-of-type {\n",
       "        vertical-align: middle;\n",
       "    }\n",
       "\n",
       "    .dataframe tbody tr th {\n",
       "        vertical-align: top;\n",
       "    }\n",
       "\n",
       "    .dataframe thead th {\n",
       "        text-align: right;\n",
       "    }\n",
       "</style>\n",
       "<table border=\"1\" class=\"dataframe\">\n",
       "  <thead>\n",
       "    <tr style=\"text-align: right;\">\n",
       "      <th></th>\n",
       "      <th>Names</th>\n",
       "      <th>Prices</th>\n",
       "      <th>Color</th>\n",
       "      <th>URL</th>\n",
       "      <th>img</th>\n",
       "    </tr>\n",
       "  </thead>\n",
       "  <tbody>\n",
       "    <tr>\n",
       "      <th>0</th>\n",
       "      <td>Backpack</td>\n",
       "      <td>110</td>\n",
       "      <td>Black</td>\n",
       "      <td>https://cdn.shopify.com/s/files/1/2418/1767/pr...</td>\n",
       "      <td>rains__1.jpg</td>\n",
       "    </tr>\n",
       "    <tr>\n",
       "      <th>1</th>\n",
       "      <td>Backpack</td>\n",
       "      <td>110</td>\n",
       "      <td>Blue</td>\n",
       "      <td>https://cdn.shopify.com/s/files/1/2418/1767/pr...</td>\n",
       "      <td>rains__2.jpg</td>\n",
       "    </tr>\n",
       "    <tr>\n",
       "      <th>2</th>\n",
       "      <td>Backpack</td>\n",
       "      <td>110</td>\n",
       "      <td>Green</td>\n",
       "      <td>https://cdn.shopify.com/s/files/1/2418/1767/pr...</td>\n",
       "      <td>rains__3.jpg</td>\n",
       "    </tr>\n",
       "  </tbody>\n",
       "</table>\n",
       "</div>"
      ],
      "text/plain": [
       "      Names Prices  Color                                                URL  \\\n",
       "0  Backpack    110  Black  https://cdn.shopify.com/s/files/1/2418/1767/pr...   \n",
       "1  Backpack    110   Blue  https://cdn.shopify.com/s/files/1/2418/1767/pr...   \n",
       "2  Backpack    110  Green  https://cdn.shopify.com/s/files/1/2418/1767/pr...   \n",
       "\n",
       "            img  \n",
       "0  rains__1.jpg  \n",
       "1  rains__2.jpg  \n",
       "2  rains__3.jpg  "
      ]
     },
     "execution_count": 156,
     "metadata": {},
     "output_type": "execute_result"
    }
   ],
   "source": [
    "rains_df.head(3)"
   ]
  },
  {
   "cell_type": "code",
   "execution_count": 20,
   "metadata": {
    "collapsed": true
   },
   "outputs": [],
   "source": [
    "def save_src_image_apply(company,short,url):\n",
    "    start_time = time.time()\n",
    "    time.sleep(1)\n",
    "    \n",
    "    try:\n",
    "        global c\n",
    "        c += 1\n",
    "        response = requests.get(url)\n",
    "        img = Image.open(BytesIO(response.content))\n",
    "        image_save_loc = company+short+'_'+str(c)+'.jpg'\n",
    "        img.save(image_save_loc, \"JPEG\")\n",
    "        print(\"Saved \"+short+\"_{}\".format(c)+\".jpg\")\n",
    "        return short+\"_\"+ str(c)+\".jpg\"\n",
    "    except Exception as e:\n",
    "        return e"
   ]
  },
  {
   "cell_type": "markdown",
   "metadata": {},
   "source": [
    "#### Save all images using an apply"
   ]
  },
  {
   "cell_type": "code",
   "execution_count": 153,
   "metadata": {
    "scrolled": true
   },
   "outputs": [
    {
     "name": "stdout",
     "output_type": "stream",
     "text": [
      "Saved rains__1.jpg\n",
      "Saved rains__2.jpg\n",
      "Saved rains__3.jpg\n",
      "Saved rains__4.jpg\n",
      "Saved rains__5.jpg\n",
      "Saved rains__6.jpg\n",
      "Saved rains__7.jpg\n",
      "Saved rains__8.jpg\n",
      "Saved rains__9.jpg\n",
      "Saved rains__10.jpg\n",
      "Saved rains__11.jpg\n",
      "Saved rains__12.jpg\n",
      "Saved rains__13.jpg\n",
      "Saved rains__14.jpg\n",
      "Saved rains__15.jpg\n",
      "Saved rains__16.jpg\n",
      "Saved rains__17.jpg\n",
      "Saved rains__18.jpg\n",
      "Saved rains__19.jpg\n",
      "Saved rains__20.jpg\n",
      "Saved rains__21.jpg\n",
      "Saved rains__22.jpg\n",
      "Saved rains__23.jpg\n",
      "Saved rains__24.jpg\n",
      "Saved rains__25.jpg\n",
      "Saved rains__26.jpg\n",
      "Saved rains__27.jpg\n",
      "Saved rains__28.jpg\n",
      "Saved rains__29.jpg\n",
      "Saved rains__30.jpg\n",
      "Saved rains__31.jpg\n",
      "Saved rains__32.jpg\n",
      "Saved rains__33.jpg\n",
      "Saved rains__34.jpg\n",
      "Saved rains__35.jpg\n",
      "Saved rains__36.jpg\n",
      "Saved rains__37.jpg\n",
      "Saved rains__38.jpg\n",
      "Saved rains__39.jpg\n",
      "Saved rains__40.jpg\n",
      "Saved rains__41.jpg\n",
      "Saved rains__42.jpg\n",
      "Saved rains__43.jpg\n",
      "Saved rains__44.jpg\n",
      "Saved rains__45.jpg\n",
      "Saved rains__46.jpg\n",
      "Saved rains__47.jpg\n",
      "Saved rains__48.jpg\n"
     ]
    }
   ],
   "source": [
    "c = 0\n",
    "rains_df['img'] = rains_df.URL.apply(lambda x: save_src_image_apply('../../Rains_backpacks/','rains_',x))"
   ]
  },
  {
   "cell_type": "code",
   "execution_count": 155,
   "metadata": {
    "collapsed": true
   },
   "outputs": [],
   "source": [
    "rains_df.to_csv('../../rains_df.csv')"
   ]
  },
  {
   "cell_type": "markdown",
   "metadata": {},
   "source": [
    "## Fjall Raven\n",
    "\n",
    "Repeat earlier steps for Fjall Raven backpacks:"
   ]
  },
  {
   "cell_type": "code",
   "execution_count": 10,
   "metadata": {},
   "outputs": [],
   "source": [
    "page_2 = requests.get(fjall_raven)\n",
    "soup_2 = BeautifulSoup(page_2.content, 'lxml')\n",
    "item_class = 'grid-view-item__link'\n",
    "divs_items = soup_2.findAll('div', {'class':item_class})"
   ]
  },
  {
   "cell_type": "markdown",
   "metadata": {},
   "source": [
    "Define variables to store the class names for each of the itmes that we need:"
   ]
  },
  {
   "cell_type": "code",
   "execution_count": 11,
   "metadata": {
    "collapsed": true
   },
   "outputs": [],
   "source": [
    "thumb_class ='product-single__thumbnails'\n",
    "title_class = 'h4 grid-view-item__title'\n",
    "price_class = 'h4 grid-view-item__price'"
   ]
  },
  {
   "cell_type": "markdown",
   "metadata": {},
   "source": [
    "Use these classes in __list comprehensions__ to loop through the list of divs and further filter the items we need:"
   ]
  },
  {
   "cell_type": "code",
   "execution_count": 12,
   "metadata": {
    "collapsed": true
   },
   "outputs": [],
   "source": [
    "names_FR = [x.find('div', {'class':title_class}).text for x in divs_items]\n",
    "prices_FR = [x.find('div',{'class':price_class}).text for x in divs_items]\n",
    "links = ['https://www.fjallraven.us/'+x.find('a')['href'] for x in divs_items]\n",
    "colors_divs = [x.find('select').findAll('option') for x in divs_items]\n",
    "colors_FR = [[x.text.replace('\\n','').strip() for x in i]for i in colors_divs]"
   ]
  },
  {
   "cell_type": "markdown",
   "metadata": {},
   "source": [
    "Use each link to grab the images for each color bag:"
   ]
  },
  {
   "cell_type": "code",
   "execution_count": 13,
   "metadata": {
    "collapsed": true
   },
   "outputs": [],
   "source": [
    "del names_FR[20]\n",
    "del prices_FR[20]\n",
    "del links[20]"
   ]
  },
  {
   "cell_type": "code",
   "execution_count": 14,
   "metadata": {
    "collapsed": true
   },
   "outputs": [],
   "source": [
    "imgs_FR = []\n",
    "skips = [2,2,1,1,2,2,1,1,1,1,1,1,1,1,1,1,1,4,3,3,1,1]\n",
    "for i,link in enumerate(links):\n",
    "    loop_page = requests.get(link)\n",
    "    soup_loop = BeautifulSoup(loop_page.content, 'lxml')\n",
    "    img_list = soup_loop.find('ul',{'class':thumb_class})\n",
    "    img_items = img_list.findAll('a')[::skips[i]]\n",
    "    imgs_FR.append(['https:'+x['data-zoom'] for x in img_items])"
   ]
  },
  {
   "cell_type": "markdown",
   "metadata": {},
   "source": [
    "Use lengths of color and image lists for each item to make price and name lists long enough:"
   ]
  },
  {
   "cell_type": "code",
   "execution_count": 15,
   "metadata": {
    "collapsed": true
   },
   "outputs": [],
   "source": [
    "price_FR_count = []\n",
    "names_FR_count = []\n",
    "for i in range(0,len(names_FR)):\n",
    "    names_FR_count.append([names_FR[i]]*len(imgs_FR[i]))\n",
    "    price_FR_count.append([prices_FR[i]]*len(imgs_FR[i]))"
   ]
  },
  {
   "cell_type": "markdown",
   "metadata": {},
   "source": [
    "Flatten all lists from list of lists to just a single list:"
   ]
  },
  {
   "cell_type": "code",
   "execution_count": 16,
   "metadata": {
    "collapsed": true
   },
   "outputs": [],
   "source": [
    "names_fjall = [name for name_li in names_FR_count for name in name_li]\n",
    "prices_fjall = [price for price_li in price_FR_count for price in price_li]\n",
    "colors_fjall = [color for color_li in colors_FR for color in color_li]\n",
    "imgs_fjall = [img for imgs_li in imgs_FR for img in imgs_li]"
   ]
  },
  {
   "cell_type": "code",
   "execution_count": 17,
   "metadata": {
    "collapsed": true
   },
   "outputs": [],
   "source": [
    "table_FR = [names_fjall,prices_fjall,imgs_fjall]\n",
    "fjallraven_df = pd.DataFrame(table_FR).transpose()\n",
    "fjallraven_df.rename( columns={0:'Names', 1: 'Prices',2:'URL'},inplace=True)"
   ]
  },
  {
   "cell_type": "markdown",
   "metadata": {},
   "source": [
    "Clean prices:"
   ]
  },
  {
   "cell_type": "code",
   "execution_count": 18,
   "metadata": {
    "collapsed": true
   },
   "outputs": [],
   "source": [
    "fjallraven_df.Prices = fjallraven_df.Prices.apply(lambda x: float(x.replace('$','')))\n"
   ]
  },
  {
   "cell_type": "markdown",
   "metadata": {},
   "source": [
    "#### Save images and file names:\n",
    "\n",
    "Use function from before to save images and create the column with the file name:"
   ]
  },
  {
   "cell_type": "code",
   "execution_count": 21,
   "metadata": {},
   "outputs": [
    {
     "name": "stdout",
     "output_type": "stream",
     "text": [
      "Saved FJ__1.jpg\n",
      "Saved FJ__2.jpg\n",
      "Saved FJ__3.jpg\n",
      "Saved FJ__4.jpg\n",
      "Saved FJ__5.jpg\n",
      "Saved FJ__6.jpg\n",
      "Saved FJ__7.jpg\n",
      "Saved FJ__8.jpg\n",
      "Saved FJ__9.jpg\n",
      "Saved FJ__10.jpg\n",
      "Saved FJ__11.jpg\n",
      "Saved FJ__12.jpg\n",
      "Saved FJ__13.jpg\n",
      "Saved FJ__14.jpg\n",
      "Saved FJ__15.jpg\n",
      "Saved FJ__16.jpg\n",
      "Saved FJ__17.jpg\n",
      "Saved FJ__18.jpg\n",
      "Saved FJ__19.jpg\n",
      "Saved FJ__20.jpg\n",
      "Saved FJ__21.jpg\n",
      "Saved FJ__22.jpg\n",
      "Saved FJ__23.jpg\n",
      "Saved FJ__24.jpg\n",
      "Saved FJ__25.jpg\n",
      "Saved FJ__26.jpg\n",
      "Saved FJ__27.jpg\n",
      "Saved FJ__28.jpg\n",
      "Saved FJ__29.jpg\n",
      "Saved FJ__30.jpg\n",
      "Saved FJ__31.jpg\n",
      "Saved FJ__32.jpg\n",
      "Saved FJ__33.jpg\n",
      "Saved FJ__34.jpg\n",
      "Saved FJ__35.jpg\n",
      "Saved FJ__36.jpg\n",
      "Saved FJ__37.jpg\n",
      "Saved FJ__38.jpg\n",
      "Saved FJ__39.jpg\n",
      "Saved FJ__40.jpg\n",
      "Saved FJ__41.jpg\n",
      "Saved FJ__42.jpg\n",
      "Saved FJ__43.jpg\n",
      "Saved FJ__44.jpg\n",
      "Saved FJ__45.jpg\n",
      "Saved FJ__46.jpg\n",
      "Saved FJ__47.jpg\n",
      "Saved FJ__48.jpg\n",
      "Saved FJ__49.jpg\n",
      "Saved FJ__50.jpg\n",
      "Saved FJ__51.jpg\n",
      "Saved FJ__52.jpg\n",
      "Saved FJ__53.jpg\n",
      "Saved FJ__54.jpg\n",
      "Saved FJ__55.jpg\n",
      "Saved FJ__56.jpg\n",
      "Saved FJ__57.jpg\n",
      "Saved FJ__58.jpg\n",
      "Saved FJ__59.jpg\n",
      "Saved FJ__60.jpg\n",
      "Saved FJ__61.jpg\n",
      "Saved FJ__62.jpg\n",
      "Saved FJ__63.jpg\n",
      "Saved FJ__64.jpg\n",
      "Saved FJ__65.jpg\n",
      "Saved FJ__66.jpg\n",
      "Saved FJ__67.jpg\n",
      "Saved FJ__68.jpg\n",
      "Saved FJ__69.jpg\n",
      "Saved FJ__70.jpg\n",
      "Saved FJ__71.jpg\n",
      "Saved FJ__72.jpg\n",
      "Saved FJ__73.jpg\n",
      "Saved FJ__74.jpg\n",
      "Saved FJ__75.jpg\n",
      "Saved FJ__76.jpg\n",
      "Saved FJ__77.jpg\n",
      "Saved FJ__78.jpg\n",
      "Saved FJ__79.jpg\n",
      "Saved FJ__80.jpg\n",
      "Saved FJ__81.jpg\n",
      "Saved FJ__82.jpg\n",
      "Saved FJ__83.jpg\n",
      "Saved FJ__84.jpg\n",
      "Saved FJ__85.jpg\n",
      "Saved FJ__86.jpg\n",
      "Saved FJ__87.jpg\n",
      "Saved FJ__88.jpg\n",
      "Saved FJ__89.jpg\n",
      "Saved FJ__90.jpg\n",
      "Saved FJ__91.jpg\n",
      "Saved FJ__92.jpg\n",
      "Saved FJ__93.jpg\n",
      "Saved FJ__94.jpg\n",
      "Saved FJ__95.jpg\n",
      "Saved FJ__96.jpg\n",
      "Saved FJ__97.jpg\n",
      "Saved FJ__98.jpg\n",
      "Saved FJ__99.jpg\n",
      "Saved FJ__100.jpg\n",
      "Saved FJ__101.jpg\n",
      "Saved FJ__102.jpg\n",
      "Saved FJ__103.jpg\n",
      "Saved FJ__104.jpg\n",
      "Saved FJ__105.jpg\n",
      "Saved FJ__106.jpg\n",
      "Saved FJ__107.jpg\n",
      "Saved FJ__108.jpg\n",
      "Saved FJ__109.jpg\n",
      "Saved FJ__110.jpg\n",
      "Saved FJ__111.jpg\n",
      "Saved FJ__112.jpg\n",
      "Saved FJ__113.jpg\n",
      "Saved FJ__114.jpg\n",
      "Saved FJ__115.jpg\n",
      "Saved FJ__116.jpg\n",
      "Saved FJ__117.jpg\n",
      "Saved FJ__118.jpg\n",
      "Saved FJ__119.jpg\n",
      "Saved FJ__120.jpg\n",
      "Saved FJ__121.jpg\n",
      "Saved FJ__122.jpg\n",
      "Saved FJ__123.jpg\n",
      "Saved FJ__124.jpg\n",
      "Saved FJ__125.jpg\n",
      "Saved FJ__126.jpg\n",
      "Saved FJ__127.jpg\n",
      "Saved FJ__128.jpg\n",
      "Saved FJ__129.jpg\n",
      "Saved FJ__130.jpg\n",
      "Saved FJ__131.jpg\n",
      "Saved FJ__132.jpg\n",
      "Saved FJ__133.jpg\n",
      "Saved FJ__134.jpg\n",
      "Saved FJ__135.jpg\n",
      "Saved FJ__136.jpg\n",
      "Saved FJ__137.jpg\n",
      "Saved FJ__138.jpg\n",
      "Saved FJ__139.jpg\n",
      "Saved FJ__140.jpg\n",
      "Saved FJ__141.jpg\n",
      "Saved FJ__142.jpg\n",
      "Saved FJ__143.jpg\n",
      "Saved FJ__144.jpg\n",
      "Saved FJ__145.jpg\n",
      "Saved FJ__146.jpg\n",
      "Saved FJ__147.jpg\n",
      "Saved FJ__148.jpg\n",
      "Saved FJ__149.jpg\n",
      "Saved FJ__150.jpg\n",
      "Saved FJ__151.jpg\n",
      "Saved FJ__152.jpg\n",
      "Saved FJ__153.jpg\n",
      "Saved FJ__154.jpg\n",
      "Saved FJ__155.jpg\n",
      "Saved FJ__156.jpg\n",
      "Saved FJ__157.jpg\n",
      "Saved FJ__158.jpg\n",
      "Saved FJ__159.jpg\n",
      "Saved FJ__160.jpg\n",
      "Saved FJ__161.jpg\n",
      "Saved FJ__162.jpg\n",
      "Saved FJ__163.jpg\n",
      "Saved FJ__164.jpg\n",
      "Saved FJ__165.jpg\n",
      "Saved FJ__166.jpg\n"
     ]
    }
   ],
   "source": [
    "c = 0\n",
    "fjallraven_df['img'] = fjallraven_df.URL.apply(lambda x: save_src_image_apply('../../fjall_raven_2/','FJ_',x))\n"
   ]
  },
  {
   "cell_type": "code",
   "execution_count": 22,
   "metadata": {
    "collapsed": true
   },
   "outputs": [],
   "source": [
    "bad_bags = ['FJ__17.jpg','FJ__18.jpg','FJ__29.jpg','FJ__53.jpg',\n",
    "           'FJ__54.jpg','FJ__55.jpg','FJ__56.jpg','FJ__57.jpg','FJ__58.jpg',\n",
    "           'FJ__59.jpg','FJ__60.jpg','FJ__61.jpg','FJ__62.jpg','FJ__63.jpg','FJ__64.jpg'\n",
    "           'FJ__65.jpg','FJ__66.jpg','FJ__67.jpg','FJ__68.jpg','FJ__69.jpg',\n",
    "           'FJ__70.jpg','FJ__78.jpg','FJ__83.jpg','FJ__84.jpg','FJ__85.jpg',\n",
    "           'FJ__17.jpg','FJ__104.jpg','FJ__107.jpg','FJ__108.jpg','FJ__111.jpg',\n",
    "           'FJ__112.jpg','FJ__114.jpg','FJ__115.jpg','FJ__117.jpg','FJ__118.jpg',\n",
    "           'FJ__120.jpg','FJ__121.jpg','FJ__127.jpg','FJ__145.jpg','FJ__151.jpg',\n",
    "            'FJ__152.jpg','FJ__153.jpg','FJ__157.jpg','FJ__17.jpg','FJ__17.jpg'\n",
    "           'FJ__17.jpg','FJ__17.jpg','FJ__157.jpg','FJ__17.jpg','FJ__17.jpg','FJ__17.jpg',\n",
    "           'FJ__17.jpg','FJ__17.jpg']\n",
    "\n",
    "fjallraven_df = fjallraven_df[fjallraven_df.img.apply(lambda x: x in bad_bags)]\n",
    "fjallraven_df.to_csv('../../fjallraven_df.csv')"
   ]
  },
  {
   "cell_type": "markdown",
   "metadata": {},
   "source": [
    "#### Fjall Raven #2"
   ]
  },
  {
   "cell_type": "code",
   "execution_count": 23,
   "metadata": {},
   "outputs": [],
   "source": [
    "fjallrave_2 = 'https://www.fjallraven.us/collections/kanken?page=1&sort_by=price-descending'\n",
    "page_3 = requests.get(fjallrave_2)\n",
    "soup_3 = BeautifulSoup(page_3.content, 'lxml')\n",
    "item_class = 'grid-view-item__link'\n",
    "divs_items_2 = soup_3.findAll('div', {'class':item_class})"
   ]
  },
  {
   "cell_type": "markdown",
   "metadata": {},
   "source": [
    "For the most part our code to grab these images will not change. However, we will be adding a try-except. Some of the bags only have one picture and therefore do not have the same classes:"
   ]
  },
  {
   "cell_type": "code",
   "execution_count": 31,
   "metadata": {},
   "outputs": [],
   "source": [
    "names_FR_2 = [x.find('div', {'class':title_class}).text for x in divs_items_2]\n",
    "prices_FR_2 = [x.find('div',{'class':price_class}).text for x in divs_items_2]\n",
    "links_2 = ['https://www.fjallraven.us/'+x.find('a')['href'] for x in divs_items_2]"
   ]
  },
  {
   "cell_type": "code",
   "execution_count": 43,
   "metadata": {
    "collapsed": true
   },
   "outputs": [],
   "source": [
    "imgs_FR_2 = []\n",
    "single_photo = 'product-single__photos'\n",
    "skips_2 = [10,10,1,4,1,3,1,2,2,1,2,1,2,1,1,1,1,2,1,2,1,1,2]\n",
    "for i,link in enumerate(links_2):\n",
    "    loop_page = requests.get(link)\n",
    "    soup_loop = BeautifulSoup(loop_page.content, 'lxml')\n",
    "    try:\n",
    "        img_list = soup_loop.find('ul',{'class':thumb_class})\n",
    "        img_items = img_list.findAll('a')[::skips_2[i]]\n",
    "        imgs_FR_2.append(['https:'+x['data-zoom'] for x in img_items])\n",
    "    except:\n",
    "        img_list = soup_loop.find('div',{'class':single_photo})\n",
    "        img_items = img_list.findAll('img')\n",
    "        imgs_FR_2.append(['https:'+x['src'] for x in img_items])\n"
   ]
  },
  {
   "cell_type": "code",
   "execution_count": 44,
   "metadata": {},
   "outputs": [],
   "source": [
    "price_FR_count_2 = []\n",
    "names_FR_count_2 = []\n",
    "for i in range(0,len(names_FR_2)):\n",
    "    names_FR_count_2.append([names_FR_2[i]]*len(imgs_FR_2[i]))\n",
    "    price_FR_count_2.append([prices_FR_2[i]]*len(imgs_FR_2[i]))"
   ]
  },
  {
   "cell_type": "code",
   "execution_count": null,
   "metadata": {
    "collapsed": true
   },
   "outputs": [],
   "source": []
  },
  {
   "cell_type": "code",
   "execution_count": 45,
   "metadata": {
    "collapsed": true
   },
   "outputs": [],
   "source": [
    "names_fjall_2 = [name for name_li in names_FR_count_2 for name in name_li]\n",
    "prices_fjall_2 = [price for price_li in price_FR_count_2 for price in price_li]\n",
    "imgs_fjall_2 = [img for imgs_li in imgs_FR_2 for img in imgs_li]"
   ]
  },
  {
   "cell_type": "code",
   "execution_count": 46,
   "metadata": {
    "collapsed": true
   },
   "outputs": [],
   "source": [
    "table_FR_2 = [names_fjall_2,prices_fjall_2,imgs_fjall_2]\n",
    "fjallraven_df_2 = pd.DataFrame(table_FR_2).transpose()\n",
    "fjallraven_df_2.rename( columns={0:'Names', 1: 'Prices',2:'URL'},inplace=True)"
   ]
  },
  {
   "cell_type": "code",
   "execution_count": 47,
   "metadata": {},
   "outputs": [
    {
     "data": {
      "text/html": [
       "<div>\n",
       "<style scoped>\n",
       "    .dataframe tbody tr th:only-of-type {\n",
       "        vertical-align: middle;\n",
       "    }\n",
       "\n",
       "    .dataframe tbody tr th {\n",
       "        vertical-align: top;\n",
       "    }\n",
       "\n",
       "    .dataframe thead th {\n",
       "        text-align: right;\n",
       "    }\n",
       "</style>\n",
       "<table border=\"1\" class=\"dataframe\">\n",
       "  <thead>\n",
       "    <tr style=\"text-align: right;\">\n",
       "      <th></th>\n",
       "      <th>Names</th>\n",
       "      <th>Prices</th>\n",
       "      <th>URL</th>\n",
       "    </tr>\n",
       "  </thead>\n",
       "  <tbody>\n",
       "    <tr>\n",
       "      <th>0</th>\n",
       "      <td>Kånken Messenger Bag</td>\n",
       "      <td>$240</td>\n",
       "      <td>https://cdn.shopify.com/s/files/1/0790/7429/pr...</td>\n",
       "    </tr>\n",
       "    <tr>\n",
       "      <th>1</th>\n",
       "      <td>Kånken Messenger Bag</td>\n",
       "      <td>$240</td>\n",
       "      <td>https://cdn.shopify.com/s/files/1/0790/7429/pr...</td>\n",
       "    </tr>\n",
       "    <tr>\n",
       "      <th>2</th>\n",
       "      <td>Kånken Messenger Bag</td>\n",
       "      <td>$240</td>\n",
       "      <td>https://cdn.shopify.com/s/files/1/0790/7429/pr...</td>\n",
       "    </tr>\n",
       "    <tr>\n",
       "      <th>3</th>\n",
       "      <td>Kånken Messenger Bag</td>\n",
       "      <td>$240</td>\n",
       "      <td>https://cdn.shopify.com/s/files/1/0790/7429/pr...</td>\n",
       "    </tr>\n",
       "    <tr>\n",
       "      <th>4</th>\n",
       "      <td>Kånken Tarpaulin Print Bag</td>\n",
       "      <td>$230</td>\n",
       "      <td>https://cdn.shopify.com/s/files/1/0790/7429/pr...</td>\n",
       "    </tr>\n",
       "  </tbody>\n",
       "</table>\n",
       "</div>"
      ],
      "text/plain": [
       "                        Names Prices  \\\n",
       "0        Kånken Messenger Bag   $240   \n",
       "1        Kånken Messenger Bag   $240   \n",
       "2        Kånken Messenger Bag   $240   \n",
       "3        Kånken Messenger Bag   $240   \n",
       "4  Kånken Tarpaulin Print Bag   $230   \n",
       "\n",
       "                                                 URL  \n",
       "0  https://cdn.shopify.com/s/files/1/0790/7429/pr...  \n",
       "1  https://cdn.shopify.com/s/files/1/0790/7429/pr...  \n",
       "2  https://cdn.shopify.com/s/files/1/0790/7429/pr...  \n",
       "3  https://cdn.shopify.com/s/files/1/0790/7429/pr...  \n",
       "4  https://cdn.shopify.com/s/files/1/0790/7429/pr...  "
      ]
     },
     "execution_count": 47,
     "metadata": {},
     "output_type": "execute_result"
    }
   ],
   "source": [
    "fjallraven_df_2.head()"
   ]
  },
  {
   "cell_type": "code",
   "execution_count": 48,
   "metadata": {},
   "outputs": [],
   "source": [
    "fjallraven_df_2.Prices = fjallraven_df_2.Prices.apply(lambda x: float(x.replace('$','')))"
   ]
  },
  {
   "cell_type": "code",
   "execution_count": 49,
   "metadata": {},
   "outputs": [
    {
     "name": "stdout",
     "output_type": "stream",
     "text": [
      "Saved FJ__167.jpg\n",
      "Saved FJ__168.jpg\n",
      "Saved FJ__169.jpg\n",
      "Saved FJ__170.jpg\n",
      "Saved FJ__171.jpg\n",
      "Saved FJ__172.jpg\n",
      "Saved FJ__173.jpg\n",
      "Saved FJ__174.jpg\n",
      "Saved FJ__175.jpg\n",
      "Saved FJ__176.jpg\n",
      "Saved FJ__177.jpg\n",
      "Saved FJ__178.jpg\n",
      "Saved FJ__179.jpg\n",
      "Saved FJ__180.jpg\n",
      "Saved FJ__181.jpg\n",
      "Saved FJ__182.jpg\n",
      "Saved FJ__183.jpg\n",
      "Saved FJ__184.jpg\n",
      "Saved FJ__185.jpg\n",
      "Saved FJ__186.jpg\n",
      "Saved FJ__187.jpg\n",
      "Saved FJ__188.jpg\n",
      "Saved FJ__189.jpg\n",
      "Saved FJ__190.jpg\n",
      "Saved FJ__191.jpg\n",
      "Saved FJ__192.jpg\n",
      "Saved FJ__193.jpg\n",
      "Saved FJ__194.jpg\n",
      "Saved FJ__195.jpg\n",
      "Saved FJ__196.jpg\n",
      "Saved FJ__197.jpg\n",
      "Saved FJ__198.jpg\n",
      "Saved FJ__199.jpg\n",
      "Saved FJ__200.jpg\n",
      "Saved FJ__201.jpg\n",
      "Saved FJ__202.jpg\n",
      "Saved FJ__203.jpg\n",
      "Saved FJ__204.jpg\n",
      "Saved FJ__205.jpg\n",
      "Saved FJ__206.jpg\n",
      "Saved FJ__207.jpg\n",
      "Saved FJ__208.jpg\n",
      "Saved FJ__209.jpg\n",
      "Saved FJ__210.jpg\n",
      "Saved FJ__211.jpg\n",
      "Saved FJ__212.jpg\n",
      "Saved FJ__213.jpg\n",
      "Saved FJ__214.jpg\n",
      "Saved FJ__215.jpg\n",
      "Saved FJ__216.jpg\n",
      "Saved FJ__217.jpg\n",
      "Saved FJ__218.jpg\n",
      "Saved FJ__219.jpg\n",
      "Saved FJ__220.jpg\n",
      "Saved FJ__221.jpg\n",
      "Saved FJ__222.jpg\n",
      "Saved FJ__223.jpg\n",
      "Saved FJ__224.jpg\n",
      "Saved FJ__225.jpg\n",
      "Saved FJ__226.jpg\n",
      "Saved FJ__227.jpg\n",
      "Saved FJ__228.jpg\n",
      "Saved FJ__229.jpg\n",
      "Saved FJ__230.jpg\n",
      "Saved FJ__231.jpg\n",
      "Saved FJ__232.jpg\n",
      "Saved FJ__233.jpg\n",
      "Saved FJ__234.jpg\n",
      "Saved FJ__235.jpg\n",
      "Saved FJ__236.jpg\n",
      "Saved FJ__237.jpg\n",
      "Saved FJ__238.jpg\n",
      "Saved FJ__239.jpg\n",
      "Saved FJ__240.jpg\n",
      "Saved FJ__241.jpg\n",
      "Saved FJ__242.jpg\n",
      "Saved FJ__243.jpg\n",
      "Saved FJ__244.jpg\n",
      "Saved FJ__245.jpg\n",
      "Saved FJ__246.jpg\n",
      "Saved FJ__247.jpg\n",
      "Saved FJ__248.jpg\n",
      "Saved FJ__249.jpg\n",
      "Saved FJ__250.jpg\n",
      "Saved FJ__251.jpg\n",
      "Saved FJ__252.jpg\n",
      "Saved FJ__253.jpg\n",
      "Saved FJ__254.jpg\n",
      "Saved FJ__255.jpg\n",
      "Saved FJ__256.jpg\n",
      "Saved FJ__257.jpg\n",
      "Saved FJ__258.jpg\n",
      "Saved FJ__259.jpg\n",
      "Saved FJ__260.jpg\n",
      "Saved FJ__261.jpg\n",
      "Saved FJ__262.jpg\n",
      "Saved FJ__263.jpg\n",
      "Saved FJ__264.jpg\n",
      "Saved FJ__265.jpg\n",
      "Saved FJ__266.jpg\n",
      "Saved FJ__267.jpg\n",
      "Saved FJ__268.jpg\n",
      "Saved FJ__269.jpg\n",
      "Saved FJ__270.jpg\n",
      "Saved FJ__271.jpg\n",
      "Saved FJ__272.jpg\n",
      "Saved FJ__273.jpg\n",
      "Saved FJ__274.jpg\n",
      "Saved FJ__275.jpg\n",
      "Saved FJ__276.jpg\n",
      "Saved FJ__277.jpg\n",
      "Saved FJ__278.jpg\n",
      "Saved FJ__279.jpg\n",
      "Saved FJ__280.jpg\n",
      "Saved FJ__281.jpg\n",
      "Saved FJ__282.jpg\n",
      "Saved FJ__283.jpg\n",
      "Saved FJ__284.jpg\n",
      "Saved FJ__285.jpg\n",
      "Saved FJ__286.jpg\n",
      "Saved FJ__287.jpg\n",
      "Saved FJ__288.jpg\n",
      "Saved FJ__289.jpg\n",
      "Saved FJ__290.jpg\n",
      "Saved FJ__291.jpg\n",
      "Saved FJ__292.jpg\n",
      "Saved FJ__293.jpg\n",
      "Saved FJ__294.jpg\n",
      "Saved FJ__295.jpg\n",
      "Saved FJ__296.jpg\n",
      "Saved FJ__297.jpg\n",
      "Saved FJ__298.jpg\n",
      "Saved FJ__299.jpg\n",
      "Saved FJ__300.jpg\n",
      "Saved FJ__301.jpg\n",
      "Saved FJ__302.jpg\n",
      "Saved FJ__303.jpg\n",
      "Saved FJ__304.jpg\n",
      "Saved FJ__305.jpg\n",
      "Saved FJ__306.jpg\n",
      "Saved FJ__307.jpg\n",
      "Saved FJ__308.jpg\n",
      "Saved FJ__309.jpg\n",
      "Saved FJ__310.jpg\n",
      "Saved FJ__311.jpg\n",
      "Saved FJ__312.jpg\n",
      "Saved FJ__313.jpg\n",
      "Saved FJ__314.jpg\n",
      "Saved FJ__315.jpg\n",
      "Saved FJ__316.jpg\n",
      "Saved FJ__317.jpg\n",
      "Saved FJ__318.jpg\n",
      "Saved FJ__319.jpg\n",
      "Saved FJ__320.jpg\n",
      "Saved FJ__321.jpg\n",
      "Saved FJ__322.jpg\n",
      "Saved FJ__323.jpg\n",
      "Saved FJ__324.jpg\n",
      "Saved FJ__325.jpg\n",
      "Saved FJ__326.jpg\n",
      "Saved FJ__327.jpg\n",
      "Saved FJ__328.jpg\n",
      "Saved FJ__329.jpg\n",
      "Saved FJ__330.jpg\n",
      "Saved FJ__331.jpg\n",
      "Saved FJ__332.jpg\n",
      "Saved FJ__333.jpg\n",
      "Saved FJ__334.jpg\n",
      "Saved FJ__335.jpg\n",
      "Saved FJ__336.jpg\n",
      "Saved FJ__337.jpg\n",
      "Saved FJ__338.jpg\n",
      "Saved FJ__339.jpg\n",
      "Saved FJ__340.jpg\n",
      "Saved FJ__341.jpg\n",
      "Saved FJ__342.jpg\n",
      "Saved FJ__343.jpg\n",
      "Saved FJ__344.jpg\n",
      "Saved FJ__345.jpg\n",
      "Saved FJ__346.jpg\n",
      "Saved FJ__347.jpg\n",
      "Saved FJ__348.jpg\n"
     ]
    }
   ],
   "source": [
    "c = 166\n",
    "fjallraven_df_2['img'] = fjallraven_df_2.URL.apply(lambda x: save_src_image_apply('../../fjall_raven_2/','FJ_',x))"
   ]
  },
  {
   "cell_type": "code",
   "execution_count": 50,
   "metadata": {
    "collapsed": true
   },
   "outputs": [],
   "source": [
    "bad_bags_2 = ['FJ_177','FJ_178','FJ_179','FJ_180','FJ_181','FJ_182','FJ_183',\n",
    "              'FJ_184','FJ_185','FJ_186','FJ_187','FJ_188','FJ_189','FJ_190',\n",
    "              'FJ_191','FJ_192','FJ_193','FJ_194','FJ_195','FJ_196','FJ_197',\n",
    "              'FJ_198','FJ_199','FJ_200','FJ_201','FJ_202','FJ_204','FJ_205',\n",
    "              'FJ_206','FJ_207','FJ_208','FJ_209','FJ_210','FJ_211','FJ_234',\n",
    "              'FJ_235','FJ_259','FJ_260','FJ_261','FJ_278','FJ_279','FJ_280',\n",
    "              'FJ_296','FJ_297','FJ_298','FJ_314','FJ_315','FJ_316','FJ_317',\n",
    "              'FJ_323','FJ_325','FJ_327','FJ_329','FJ_332','FJ_339','FJ_341',\n",
    "              'FJ_343','FJ_348']\n",
    "\n",
    "fjallraven_df_2 = fjallraven_df_2[fjallraven_df_2.img.apply(lambda x: x in bad_bags_2)]\n",
    "fjallraven_df_2.to_csv('../../fjallraven_df_2.csv')"
   ]
  },
  {
   "cell_type": "code",
   "execution_count": null,
   "metadata": {
    "collapsed": true
   },
   "outputs": [],
   "source": []
  }
 ],
 "metadata": {
  "kernelspec": {
   "display_name": "Python 3",
   "language": "python",
   "name": "python3"
  },
  "language_info": {
   "codemirror_mode": {
    "name": "ipython",
    "version": 3
   },
   "file_extension": ".py",
   "mimetype": "text/x-python",
   "name": "python",
   "nbconvert_exporter": "python",
   "pygments_lexer": "ipython3",
   "version": "3.6.8"
  }
 },
 "nbformat": 4,
 "nbformat_minor": 2
}
