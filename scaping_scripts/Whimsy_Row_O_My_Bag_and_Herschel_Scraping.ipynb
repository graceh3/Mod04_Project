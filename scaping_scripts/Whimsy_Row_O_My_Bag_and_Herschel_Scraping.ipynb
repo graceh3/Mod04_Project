{
 "cells": [
  {
   "cell_type": "markdown",
   "metadata": {},
   "source": [
    "# Using Selenium, Beatutiful Soup & Requests: _Hershel, O My Bag & Whimsy and Row_\n",
    "\n",
    "In this section we will be using selenium and beautiful soup to scrape all of the women's bags from Hershel, O My Bag & Whimsy and Row. We will get the: picture,price, product link, and description.\n",
    "\n",
    "Resources used to help in this process can be found in other notebooks.\n",
    "\n",
    "#### Import your needed Libraries:"
   ]
  },
  {
   "cell_type": "code",
   "execution_count": 10,
   "metadata": {},
   "outputs": [
    {
     "name": "stdout",
     "output_type": "stream",
     "text": [
      "The autoreload extension is already loaded. To reload it, use:\n",
      "  %reload_ext autoreload\n"
     ]
    }
   ],
   "source": [
    "import time\n",
    "import requests\n",
    "from selenium import webdriver\n",
    "from webdriver_manager.chrome import ChromeDriverManager\n",
    "from bs4 import BeautifulSoup\n",
    "import cv2\n",
    "import numpy as np \n",
    "import pandas as pd\n",
    "import re\n",
    "from PIL import Image\n",
    "import requests\n",
    "from io import BytesIO\n",
    "from scraping_functions import *\n",
    "import numpy as np\n",
    "%load_ext autoreload\n",
    "%autoreload 2"
   ]
  },
  {
   "cell_type": "markdown",
   "metadata": {},
   "source": [
    "#### Create variables for each of the URL\n",
    "\n",
    "We will do this for each of the pages we will be pulling from on _Hershel, O My Bag & Whimsy and Row_."
   ]
  },
  {
   "cell_type": "code",
   "execution_count": null,
   "metadata": {
    "collapsed": true
   },
   "outputs": [],
   "source": [
    "hershel_backpacks = 'https://herschel.com/shop/womens/backpacks'\n",
    "hershel_fp = 'https://herschel.com/shop/womens/hip-packs'\n",
    "hershel_totes = 'https://herschel.com/shop/womens/totes'\n",
    "hershel_duffles = 'https://herschel.com/shop/womens/duffles'\n",
    "\n",
    "O_my_bag = 'https://www.omybag.nl/product-category/women/women-bags/'\n",
    "\n",
    "#only the first 13-ish bags\n",
    "WR_bags = 'https://whimsyandrow.com/collections/bags-clutches-pouches?sort_by=title-ascending'"
   ]
  },
  {
   "cell_type": "markdown",
   "metadata": {},
   "source": [
    "### O My Bag:\n",
    "\n",
    "Now that we have our page variables set up, we can scrape the bags. After inspecting on the website it appears we can just use beautiful soup for this task."
   ]
  },
  {
   "cell_type": "code",
   "execution_count": null,
   "metadata": {
    "collapsed": true
   },
   "outputs": [],
   "source": [
    "omb_page = requests.get(O_my_bag)\n",
    "omb_soup = BeautifulSoup(omb_page.content, 'lxml')\n",
    "divs_imgs = omb_soup.findAll('div', {'class':'content-product'})"
   ]
  },
  {
   "cell_type": "code",
   "execution_count": null,
   "metadata": {
    "collapsed": true
   },
   "outputs": [],
   "source": [
    "omb_links = omb_soup.findAll('a', {'class':'woocommerce-LoopProduct-link'})\n",
    "omb_href = [x['href'] for x in omb_links]"
   ]
  },
  {
   "cell_type": "markdown",
   "metadata": {},
   "source": [
    "Now let's grab the images:"
   ]
  },
  {
   "cell_type": "code",
   "execution_count": null,
   "metadata": {
    "collapsed": true
   },
   "outputs": [],
   "source": [
    "omb_images_tags = omb_soup.findAll('img', {'class':'attachment-woocommerce_thumbnail'})\n",
    "omb_images = [x['src'] for x in omb_images_tags]"
   ]
  },
  {
   "cell_type": "markdown",
   "metadata": {},
   "source": [
    "Now, let's get into the details like price and name:"
   ]
  },
  {
   "cell_type": "code",
   "execution_count": null,
   "metadata": {
    "collapsed": true
   },
   "outputs": [],
   "source": [
    "omb_prod_details = omb_soup.findAll('div', {'class':'product-details'})"
   ]
  },
  {
   "cell_type": "code",
   "execution_count": null,
   "metadata": {
    "collapsed": true
   },
   "outputs": [],
   "source": [
    "omb_names = [x.find('div', {'class': 'product-title'}).text.strip() for x in omb_prod_details]\n",
    "omb_prices = [x.find('span', {'class': 'price'}).text.strip() for x in omb_prod_details]"
   ]
  },
  {
   "cell_type": "markdown",
   "metadata": {},
   "source": [
    "### Create a DataFrame and use our function to download pictures :\n",
    "\n",
    "Below we will use the lists created above and make a dataframe. Then we will define a function to download the images into our directory, and save the image file name in a new column of the DataFrame."
   ]
  },
  {
   "cell_type": "code",
   "execution_count": null,
   "metadata": {
    "collapsed": true
   },
   "outputs": [],
   "source": [
    "table = [omb_names,omb_prices,omb_href,omb_images]\n",
    "OMB_df = pd.DataFrame(table).transpose()"
   ]
  },
  {
   "cell_type": "code",
   "execution_count": null,
   "metadata": {
    "collapsed": true
   },
   "outputs": [],
   "source": [
    "OMB_df.rename( columns={0:'product_name', 1: 'product_price',2:'URL',3:'img_url'},inplace=True)"
   ]
  },
  {
   "cell_type": "code",
   "execution_count": null,
   "metadata": {
    "collapsed": true
   },
   "outputs": [],
   "source": [
    "OMB_df.head(3)"
   ]
  },
  {
   "cell_type": "markdown",
   "metadata": {},
   "source": [
    "#### Save all images using an apply"
   ]
  },
  {
   "cell_type": "code",
   "execution_count": null,
   "metadata": {
    "collapsed": true
   },
   "outputs": [],
   "source": [
    "c = 0\n",
    "OMB_df['img'] = OMB_df.img_url.apply(lambda x: save_src_image_apply('../../data/','omybag_',x))"
   ]
  },
  {
   "cell_type": "code",
   "execution_count": null,
   "metadata": {
    "collapsed": true
   },
   "outputs": [],
   "source": [
    "OMB_df.to_csv('../../omb_df.csv')"
   ]
  },
  {
   "cell_type": "markdown",
   "metadata": {},
   "source": [
    "### Whimsy and Row:"
   ]
  },
  {
   "cell_type": "code",
   "execution_count": null,
   "metadata": {
    "collapsed": true
   },
   "outputs": [],
   "source": [
    "wr_page = requests.get(WR_bags)\n",
    "wr_soup = BeautifulSoup(wr_page.content, 'lxml')\n",
    "divs_wr = wr_soup.findAll('div', {'class':'product-frame'})"
   ]
  },
  {
   "cell_type": "code",
   "execution_count": null,
   "metadata": {
    "collapsed": true
   },
   "outputs": [],
   "source": [
    "wr_url = ['https://whimsyandrow.com' + x.find('a')['href'] for x in divs_wr[:-3]]\n",
    "wr_names = [x.find('a')['title'] for x in divs_wr[:-3]]\n",
    "wr_images_url = ['https:'+x.find('img')['src'] for x in divs_wr[:-3]] "
   ]
  },
  {
   "cell_type": "markdown",
   "metadata": {},
   "source": [
    "Now, let's get the prices which are in a different div:"
   ]
  },
  {
   "cell_type": "code",
   "execution_count": null,
   "metadata": {
    "collapsed": true
   },
   "outputs": [],
   "source": [
    "divs_wr_2 = wr_soup.findAll('div', {'class':'product-title'})\n",
    "prices = [x.find('h6').text for x in divs_wr_2[:-3]]"
   ]
  },
  {
   "cell_type": "markdown",
   "metadata": {},
   "source": [
    "### Create this whimsy and Row DF and save the images:"
   ]
  },
  {
   "cell_type": "code",
   "execution_count": null,
   "metadata": {
    "collapsed": true
   },
   "outputs": [],
   "source": [
    "table = [wr_names,prices,wr_url,wr_images_url]\n",
    "wr_df = pd.DataFrame(table).transpose()\n",
    "wr_df.rename(columns={0:'product_name', 1: 'product_price',2:'URL',3:'img_url'},inplace=True)"
   ]
  },
  {
   "cell_type": "markdown",
   "metadata": {},
   "source": [
    "#### Save all images using an apply:"
   ]
  },
  {
   "cell_type": "code",
   "execution_count": null,
   "metadata": {
    "collapsed": true
   },
   "outputs": [],
   "source": [
    "c = 0\n",
    "wr_df['img'] = wr_df.img_url.apply(lambda x: save_src_image_apply('../../data/','whimsy_row_',x))"
   ]
  },
  {
   "cell_type": "code",
   "execution_count": null,
   "metadata": {
    "collapsed": true
   },
   "outputs": [],
   "source": [
    "wr_df.to_csv('../../whimsy_row_df.csv')"
   ]
  },
  {
   "cell_type": "markdown",
   "metadata": {},
   "source": [
    "### _Hershel_:"
   ]
  },
  {
   "cell_type": "code",
   "execution_count": null,
   "metadata": {
    "collapsed": true
   },
   "outputs": [],
   "source": [
    "h_page_1 = requests.get(hershel_backpacks)\n",
    "h_soup_1 = BeautifulSoup(h_page_1.content, 'lxml')\n",
    "divs_h = h_soup_1.findAll('div', {'class':'col-lg-4 col-md-6 col-xs-12 m-b-2'})"
   ]
  },
  {
   "cell_type": "code",
   "execution_count": null,
   "metadata": {
    "collapsed": true
   },
   "outputs": [],
   "source": [
    "#three of the bookbags do not have multiple colors\n",
    "colors_carousel = [x.findAll('div',{'class':'carousel'}) if x.findAll('div',{'class':'carousel'}) \n",
    "                   else x.find('div',{'class':'product-image'}) for x in divs_h]\n",
    "\n",
    "h_bb_imgs = [i[0].findAll('img',{'class':'swatch'}) if str(type(i)) == \"<class 'bs4.element.ResultSet'>\" \n",
    "             else [i.find('img')] for i in colors_carousel]"
   ]
  },
  {
   "cell_type": "code",
   "execution_count": null,
   "metadata": {
    "collapsed": true
   },
   "outputs": [],
   "source": [
    "h_bookbag_colors = [[i['data-color'] if 'data-color' in str(i) else 'NA' for i in x] for x in h_bb_imgs]\n",
    "h_bookbag_img = [['https://herschel.com'+i['data-product-image'] if 'data-product-image' in \n",
    "                  str(i) else 'https://herschel.com'+i['data-src'] for i in x] for x in h_bb_imgs]"
   ]
  },
  {
   "cell_type": "code",
   "execution_count": null,
   "metadata": {
    "collapsed": true
   },
   "outputs": [],
   "source": [
    "names = [x.find('div',{'class':'col-xs-6 title-line'}).text for x in divs_h]"
   ]
  },
  {
   "cell_type": "code",
   "execution_count": null,
   "metadata": {
    "collapsed": true
   },
   "outputs": [],
   "source": [
    "prices = [x.find('span',{'class':'hsco-set-currency'}).text for x in divs_h]\n",
    "prod_h_url = [x.find('a',{'class':'js-product-grid-link'})['href'] for x in divs_h]"
   ]
  },
  {
   "cell_type": "code",
   "execution_count": null,
   "metadata": {
    "collapsed": true
   },
   "outputs": [],
   "source": [
    "names_adj = []\n",
    "for i in range(len(names)):\n",
    "    n = len(h_bb_imgs[i])\n",
    "    names_adj.extend([names[i]]*n)"
   ]
  },
  {
   "cell_type": "code",
   "execution_count": null,
   "metadata": {
    "collapsed": true
   },
   "outputs": [],
   "source": [
    "prices_adj =  []\n",
    "for i in range(len(prices)):\n",
    "    n = len(h_bb_imgs[i])\n",
    "    prices_adj.extend([prices[i]]*n)"
   ]
  },
  {
   "cell_type": "code",
   "execution_count": null,
   "metadata": {
    "collapsed": true
   },
   "outputs": [],
   "source": [
    "prod_h_url_adj =  []\n",
    "for i in range(len(prod_h_url)):\n",
    "    n = len(h_bb_imgs[i])\n",
    "    prod_h_url_adj.extend([prod_h_url[i]]*n)"
   ]
  },
  {
   "cell_type": "code",
   "execution_count": null,
   "metadata": {
    "collapsed": true
   },
   "outputs": [],
   "source": [
    "len(h_bookbag_img),len(names)"
   ]
  },
  {
   "cell_type": "code",
   "execution_count": null,
   "metadata": {
    "collapsed": true
   },
   "outputs": [],
   "source": [
    "len(names_adj),len(prices_adj),len(prod_h_url_adj)"
   ]
  },
  {
   "cell_type": "markdown",
   "metadata": {},
   "source": [
    "Let's flatten the lists of colors and images:"
   ]
  },
  {
   "cell_type": "code",
   "execution_count": null,
   "metadata": {
    "collapsed": true
   },
   "outputs": [],
   "source": [
    "h_bookbag_colors_fl = [color for sublist in h_bookbag_colors for color in sublist]\n",
    "h_bookbag_img_fl = [img for sublist in h_bookbag_img for img in sublist]\n",
    "# len(h_bookbag_colors_fl),len(h_bookbag_img_fl)"
   ]
  },
  {
   "cell_type": "markdown",
   "metadata": {},
   "source": [
    "Make the DataFrame:"
   ]
  },
  {
   "cell_type": "code",
   "execution_count": null,
   "metadata": {
    "collapsed": true
   },
   "outputs": [],
   "source": [
    "table = [names_adj,prices_adj,h_bookbag_colors_fl,prod_h_url_adj,h_bookbag_img_fl]\n",
    "herschel_df = pd.DataFrame(table).transpose()\n",
    "herschel_df.rename(columns={0:'product_name', 1: 'product_price',2:'color',3:'URL',4:'img_url'},inplace=True)"
   ]
  },
  {
   "cell_type": "markdown",
   "metadata": {},
   "source": [
    "#### Save all images using an apply:"
   ]
  },
  {
   "cell_type": "code",
   "execution_count": null,
   "metadata": {
    "collapsed": true
   },
   "outputs": [],
   "source": [
    "c = 0\n",
    "herschel_df['img'] = herschel_df.img_url.apply(lambda x: save_src_image_apply('../../data/','herschel',x))"
   ]
  },
  {
   "cell_type": "code",
   "execution_count": null,
   "metadata": {
    "collapsed": true
   },
   "outputs": [],
   "source": [
    "herschel_df.to_csv('../../herschel_df.csv')"
   ]
  },
  {
   "cell_type": "markdown",
   "metadata": {},
   "source": [
    "### Herschel Fannie Packs:"
   ]
  },
  {
   "cell_type": "code",
   "execution_count": null,
   "metadata": {
    "collapsed": true
   },
   "outputs": [],
   "source": [
    "h_page_1 = requests.get(hershel_fp)\n",
    "h_soup_1 = BeautifulSoup(h_page_1.content, 'lxml')\n",
    "divs_h = h_soup_1.findAll('div', {'class':'col-lg-4 col-md-6 col-xs-12 m-b-2'})"
   ]
  },
  {
   "cell_type": "code",
   "execution_count": null,
   "metadata": {
    "collapsed": true
   },
   "outputs": [],
   "source": [
    "colors_carousel_fp = [x.findAll('div',{'class':'carousel'}) if x.findAll('div',{'class':'carousel'}) \n",
    "                   else x.find('div',{'class':'product-image'}) for x in divs_h]\n",
    "h_fp_imgs = [i[0].findAll('img',{'class':'swatch'}) if str(type(i)) == \"<class 'bs4.element.ResultSet'>\" \n",
    "             else [i.find('img')] for i in colors_carousel_fp]"
   ]
  },
  {
   "cell_type": "code",
   "execution_count": null,
   "metadata": {
    "collapsed": true
   },
   "outputs": [],
   "source": [
    "h_fannie_colors = [[i['data-color'] if 'data-color' in str(i) else 'NA' for i in x] for x in h_fp_imgs]\n",
    "h_fannie_img = [['https://herschel.com'+i['data-product-image'] if 'data-product-image' in \n",
    "                  str(i) else 'https://herschel.com'+i['data-src'] for i in x] for x in h_fp_imgs]\n",
    "names_fp = [x.find('div',{'class':'col-xs-6 title-line'}).text for x in divs_h]\n",
    "prices_fp = [x.find('span',{'class':'hsco-set-currency'}).text for x in divs_h]\n",
    "prod_h_url_fp = ['https://herschel.com'+x.find('a',{'class':'js-product-grid-link'})['href'] for x in divs_h]"
   ]
  },
  {
   "cell_type": "markdown",
   "metadata": {},
   "source": [
    "Extend prices, names, and product url lists to ensure they have the same lengths as all of the colors."
   ]
  },
  {
   "cell_type": "code",
   "execution_count": null,
   "metadata": {
    "collapsed": true
   },
   "outputs": [],
   "source": [
    "names_adj_fp = []\n",
    "for i in range(len(names_fp)):\n",
    "    n = len(h_bb_imgs_fp[i])\n",
    "    names_adj_fp.extend([names_fp[i]]*n)\n",
    "    \n",
    "prices_adj_fp =  []\n",
    "for i in range(len(prices_fp)):\n",
    "    n = len(h_fp_imgs[i])\n",
    "    prices_adj_fp.extend([prices_fp[i]]*n)\n",
    "\n",
    "prod_h_url_adj_fp =  []\n",
    "for i in range(len(prod_h_url_fp)):\n",
    "    n = len(h_fp_imgs[i])\n",
    "    prod_h_url_adj_fp.extend([prod_h_url_fp[i]]*n)"
   ]
  },
  {
   "cell_type": "markdown",
   "metadata": {},
   "source": [
    "Flatten the images and colors lists:"
   ]
  },
  {
   "cell_type": "code",
   "execution_count": null,
   "metadata": {
    "collapsed": true
   },
   "outputs": [],
   "source": [
    "h_fp_colors_fl = [color for sublist in h_fannie_colors for color in sublist]\n",
    "h_fp_img_fl = [img for sublist in h_fannie_img for img in sublist]\n",
    "len(h_fp_colors_fl),len(h_fp_img_fl),len(prod_h_url_adj_fp)"
   ]
  },
  {
   "cell_type": "markdown",
   "metadata": {},
   "source": [
    "Create the DataFrame of the Herschel Fannie Packs:"
   ]
  },
  {
   "cell_type": "code",
   "execution_count": null,
   "metadata": {
    "collapsed": true
   },
   "outputs": [],
   "source": [
    "table = [names_adj_fp,prices_adj_fp,h_fp_colors_fl,prod_h_url_adj_fp,h_fp_img_fl]\n",
    "herschel_df_fp = pd.DataFrame(table).transpose()\n",
    "herschel_df_fp.rename(columns={0:'product_name', 1: 'product_price',2:'color',3:'URL',4:'img_url'},inplace=True)"
   ]
  },
  {
   "cell_type": "code",
   "execution_count": null,
   "metadata": {
    "collapsed": true
   },
   "outputs": [],
   "source": [
    "herschel_df_fp.head()"
   ]
  },
  {
   "cell_type": "markdown",
   "metadata": {},
   "source": [
    "#### Save all images using an apply:"
   ]
  },
  {
   "cell_type": "code",
   "execution_count": null,
   "metadata": {
    "collapsed": true
   },
   "outputs": [],
   "source": [
    "c = 0\n",
    "herschel_df_fp['img'] = herschel_df_fp.img_url.apply(lambda x: save_src_image_apply('../../data/','herschel_fp',x))"
   ]
  },
  {
   "cell_type": "code",
   "execution_count": null,
   "metadata": {
    "collapsed": true
   },
   "outputs": [],
   "source": [
    "herschel_df_fp.to_csv('../../herschel_df_fp.csv')"
   ]
  },
  {
   "cell_type": "markdown",
   "metadata": {},
   "source": [
    "### Herschel Totes:"
   ]
  },
  {
   "cell_type": "code",
   "execution_count": null,
   "metadata": {
    "collapsed": true
   },
   "outputs": [],
   "source": [
    "h_page_1 = requests.get(hershel_totes)\n",
    "h_soup_1 = BeautifulSoup(h_page_1.content, 'lxml')\n",
    "divs_h = h_soup_1.findAll('div', {'class':'col-lg-4 col-md-6 col-xs-12 m-b-2'})"
   ]
  },
  {
   "cell_type": "code",
   "execution_count": null,
   "metadata": {
    "collapsed": true
   },
   "outputs": [],
   "source": [
    "colors_carousel_t = [x.findAll('div',{'class':'carousel'}) if x.findAll('div',{'class':'carousel'}) \n",
    "                   else x.find('div',{'class':'product-image'}) for x in divs_h]\n",
    "h_t_imgs = [i[0].findAll('img',{'class':'swatch'}) if str(type(i)) == \"<class 'bs4.element.ResultSet'>\" \n",
    "             else [i.find('img')] for i in colors_carousel_t]"
   ]
  },
  {
   "cell_type": "code",
   "execution_count": null,
   "metadata": {
    "collapsed": true
   },
   "outputs": [],
   "source": [
    "h_tote_colors = [[i['data-color'] if 'data-color' in str(i) else 'NA' for i in x] for x in h_t_imgs]\n",
    "h_tote_img = [['https://herschel.com'+i['data-product-image'] if 'data-product-image' in \n",
    "                  str(i) else 'https://herschel.com'+i['data-src'] for i in x] for x in h_t_imgs]\n",
    "names_t = [x.find('div',{'class':'col-xs-6 title-line'}).text for x in divs_h]\n",
    "prices_t = [x.find('span',{'class':'hsco-set-currency'}).text for x in divs_h]\n",
    "prod_h_url_t = ['https://herschel.com'+x.find('a',{'class':'js-product-grid-link'})['href'] for x in divs_h]"
   ]
  },
  {
   "cell_type": "markdown",
   "metadata": {},
   "source": [
    "Extend prices, names, and product url lists to ensure they have the same lengths as all of the colors."
   ]
  },
  {
   "cell_type": "code",
   "execution_count": null,
   "metadata": {
    "collapsed": true
   },
   "outputs": [],
   "source": [
    "names_adj_t = []\n",
    "for i in range(len(names_t)):\n",
    "    n = len(h_t_imgs[i])\n",
    "    names_adj_t.extend([names_t[i]]*n)\n",
    "    \n",
    "prices_adj_t =  []\n",
    "for i in range(len(prices_t)):\n",
    "    n = len(h_t_imgs[i])\n",
    "    prices_adj_t.extend([prices_t[i]]*n)\n",
    "1\n",
    "prod_h_url_adj_t =  []\n",
    "for i in range(len(prod_h_url_t)):\n",
    "    n = len(h_t_imgs[i])\n",
    "    prod_h_url_adj_t.extend([prod_h_url_t[i]]*n)"
   ]
  },
  {
   "cell_type": "markdown",
   "metadata": {},
   "source": [
    "Flatten the images and colors lists:"
   ]
  },
  {
   "cell_type": "code",
   "execution_count": null,
   "metadata": {
    "collapsed": true
   },
   "outputs": [],
   "source": [
    "h_t_colors_fl = [color for sublist in h_tote_colors for color in sublist]\n",
    "h_t_img_fl = [img for sublist in h_tote_img for img in sublist]\n",
    "len(h_t_colors_fl),len(h_t_img_fl),len(prod_h_url_adj_t)"
   ]
  },
  {
   "cell_type": "markdown",
   "metadata": {},
   "source": [
    "Create the DataFrame of the Herschel Fannie Packs:"
   ]
  },
  {
   "cell_type": "code",
   "execution_count": null,
   "metadata": {
    "collapsed": true
   },
   "outputs": [],
   "source": [
    "table = [names_adj_t,prices_adj_t,h_t_colors_fl,prod_h_url_adj_t,h_t_img_fl]\n",
    "herschel_df_t = pd.DataFrame(table).transpose()\n",
    "herschel_df_t.rename(columns={0:'product_name', 1: 'product_price',2:'color',3:'URL',4:'img_url'},inplace=True)"
   ]
  },
  {
   "cell_type": "code",
   "execution_count": null,
   "metadata": {
    "collapsed": true
   },
   "outputs": [],
   "source": [
    "herschel_df_t.head()"
   ]
  },
  {
   "cell_type": "markdown",
   "metadata": {},
   "source": [
    "#### Save all images using an apply:"
   ]
  },
  {
   "cell_type": "code",
   "execution_count": null,
   "metadata": {
    "collapsed": true
   },
   "outputs": [],
   "source": [
    "c = 0\n",
    "herschel_df_t['img'] = herschel_df_t.img_url.apply(lambda x: save_src_image_apply('../../data/','herschel_t',x))"
   ]
  },
  {
   "cell_type": "code",
   "execution_count": null,
   "metadata": {
    "collapsed": true
   },
   "outputs": [],
   "source": [
    "herschel_df_t.to_csv('../../herschel_df_t.csv')"
   ]
  },
  {
   "cell_type": "markdown",
   "metadata": {},
   "source": [
    "### Herschel Weekenders:\n"
   ]
  },
  {
   "cell_type": "code",
   "execution_count": null,
   "metadata": {
    "collapsed": true
   },
   "outputs": [],
   "source": [
    "h_page_2 = requests.get(hershel_duffles)\n",
    "h_soup_2 = BeautifulSoup(h_page_2.content, 'lxml')\n",
    "divs_h = h_soup_2.findAll('div', {'class':'col-lg-4 col-md-6 col-xs-12 m-b-2'})"
   ]
  },
  {
   "cell_type": "code",
   "execution_count": null,
   "metadata": {
    "collapsed": true
   },
   "outputs": [],
   "source": [
    "colors_carousel_w = [x.findAll('div',{'class':'carousel'}) if x.findAll('div',{'class':'carousel'}) \n",
    "                   else x.find('div',{'class':'product-image'}) for x in divs_h]\n",
    "h_w_imgs = [i[0].findAll('img',{'class':'swatch'}) if str(type(i)) == \"<class 'bs4.element.ResultSet'>\" \n",
    "             else [i.find('img')] for i in colors_carousel_w]"
   ]
  },
  {
   "cell_type": "code",
   "execution_count": null,
   "metadata": {
    "collapsed": true
   },
   "outputs": [],
   "source": [
    "h_wkndr_colors = [[i['data-color'] if 'data-color' in str(i) else 'NA' for i in x] for x in h_w_imgs]\n",
    "h_wkndr_img = [['https://herschel.com'+i['data-product-image'] if 'data-product-image' in \n",
    "                  str(i) else 'https://herschel.com'+i['data-src'] for i in x] for x in h_w_imgs]\n",
    "names_w = [x.find('div',{'class':'col-xs-6 title-line'}).text for x in divs_h]\n",
    "prices_w = [x.find('span',{'class':'hsco-set-currency'}).text for x in divs_h]\n",
    "prod_h_url_w = ['https://herschel.com'+x.find('a',{'class':'js-product-grid-link'})['href'] for x in divs_h]"
   ]
  },
  {
   "cell_type": "markdown",
   "metadata": {},
   "source": [
    "Extend prices, names, and product url lists to ensure they have the same lengths as all of the colors."
   ]
  },
  {
   "cell_type": "code",
   "execution_count": null,
   "metadata": {
    "collapsed": true
   },
   "outputs": [],
   "source": [
    "names_adj_w = []\n",
    "for i in range(len(names_w)):\n",
    "    n = len(h_w_imgs[i])\n",
    "    names_adj_w.extend([names_w[i]]*n)\n",
    "    \n",
    "prices_adj_w =  []\n",
    "for i in range(len(prices_w)):\n",
    "    n = len(h_w_imgs[i])\n",
    "    prices_adj_w.extend([prices_w[i]]*n)\n",
    "1\n",
    "prod_h_url_adj_w =  []\n",
    "for i in range(len(prod_h_url_w)):\n",
    "    n = len(h_w_imgs[i])\n",
    "    prod_h_url_adj_w.extend([prod_h_url_w[i]]*n)"
   ]
  },
  {
   "cell_type": "markdown",
   "metadata": {},
   "source": [
    "Flatten the images and colors lists:"
   ]
  },
  {
   "cell_type": "code",
   "execution_count": null,
   "metadata": {
    "collapsed": true
   },
   "outputs": [],
   "source": [
    "h_w_colors_fl = [color for sublist in h_wkndr_colors for color in sublist]\n",
    "h_w_img_fl = [img for sublist in h_wkndr_img for img in sublist]\n",
    "len(h_w_colors_fl),len(h_w_img_fl),len(prod_h_url_adj_w)"
   ]
  },
  {
   "cell_type": "markdown",
   "metadata": {},
   "source": [
    "Create the DataFrame of the Herschel Fannie Packs:"
   ]
  },
  {
   "cell_type": "code",
   "execution_count": null,
   "metadata": {
    "collapsed": true
   },
   "outputs": [],
   "source": [
    "table = [names_adj_w,prices_adj_w,h_w_colors_fl,prod_h_url_adj_w,h_w_img_fl]\n",
    "herschel_df_w = pd.DataFrame(table).transpose()\n",
    "herschel_df_w.rename(columns={0:'product_name', 1: 'product_price',2:'color',3:'URL',4:'img_url'},inplace=True)"
   ]
  },
  {
   "cell_type": "code",
   "execution_count": null,
   "metadata": {
    "collapsed": true
   },
   "outputs": [],
   "source": [
    "herschel_df_w.head()"
   ]
  },
  {
   "cell_type": "markdown",
   "metadata": {},
   "source": [
    "#### Save all images using an apply:"
   ]
  },
  {
   "cell_type": "code",
   "execution_count": null,
   "metadata": {
    "collapsed": true
   },
   "outputs": [],
   "source": [
    "c = 0\n",
    "herschel_df_w['img'] = herschel_df_w.img_url.apply(lambda x: save_src_image_apply('../../data/','herschel_w',x))"
   ]
  },
  {
   "cell_type": "code",
   "execution_count": null,
   "metadata": {
    "collapsed": true
   },
   "outputs": [],
   "source": [
    "herschel_df_w.to_csv('../../herschel_df_w.csv')"
   ]
  },
  {
   "cell_type": "markdown",
   "metadata": {},
   "source": [
    "### Nordstrom Circle Bags:"
   ]
  },
  {
   "cell_type": "markdown",
   "metadata": {},
   "source": [
    "Import needed libraries:"
   ]
  },
  {
   "cell_type": "code",
   "execution_count": 5,
   "metadata": {
    "collapsed": true
   },
   "outputs": [],
   "source": [
    "from selenium import webdriver\n",
    "from webdriver_manager.chrome import ChromeDriverManager\n",
    "import time"
   ]
  },
  {
   "cell_type": "markdown",
   "metadata": {},
   "source": [
    "Create the webdriver object and get the base url:"
   ]
  },
  {
   "cell_type": "code",
   "execution_count": null,
   "metadata": {
    "collapsed": true
   },
   "outputs": [],
   "source": [
    "base_url = 'https://shop.nordstrom.com/'\n",
    "#create the chrome driver\n",
    "start_time = time.time()\n",
    "driver = webdriver.Chrome('/Users/elenasm7/.wdm/chromedriver/2.46/mac64/chromedriver') \n",
    "driver.get(base_url)"
   ]
  },
  {
   "cell_type": "markdown",
   "metadata": {},
   "source": [
    "Navigate to the search bar, type in circle bags, and press return:"
   ]
  },
  {
   "cell_type": "code",
   "execution_count": null,
   "metadata": {
    "collapsed": true
   },
   "outputs": [],
   "source": [
    "#now, search for the item we need\n",
    "driver.find_element_by_class_name('ZlVcfv').click()\n",
    "time.sleep(1)\n",
    "real_search = driver.find_element_by_class_name('ZaYgXf')\n",
    "real_search.send_keys('circle bags')\n",
    "time.sleep(1)\n",
    "real_search.submit()\n",
    "time.sleep(1)"
   ]
  },
  {
   "cell_type": "markdown",
   "metadata": {},
   "source": [
    "Create a list of all of the bags:"
   ]
  },
  {
   "cell_type": "code",
   "execution_count": null,
   "metadata": {
    "collapsed": true
   },
   "outputs": [],
   "source": [
    "bags_2 = driver.find_elements_by_class_name('Z1AvvAr')"
   ]
  },
  {
   "cell_type": "markdown",
   "metadata": {},
   "source": [
    "Using a list comprehension grab all of the bag's links:"
   ]
  },
  {
   "cell_type": "code",
   "execution_count": null,
   "metadata": {
    "collapsed": true
   },
   "outputs": [],
   "source": [
    "img_urls = [img_urls.append(i.get_attribute(\"href\")) for i in bags_2]    "
   ]
  },
  {
   "cell_type": "markdown",
   "metadata": {},
   "source": [
    "#now, search for the item we need\n",
    "driver.find_element_by_class_name('ZlVcfv').click()\n",
    "time.sleep(1)\n",
    "real_search = driver.find_element_by_class_name('ZaYgXf')\n",
    "real_search.send_keys('circle bags')\n",
    "time.sleep(1)\n",
    "real_search.submit()\n",
    "time.sleep(1)\n",
    "\n",
    "bags_2 = driver.find_elements_by_class_name('Z1AvvAr')\n",
    "img_urls = []\n",
    "for i in bags_2:\n",
    "    img_urls.append(i.get_attribute(\"href\"))"
   ]
  },
  {
   "cell_type": "markdown",
   "metadata": {},
   "source": [
    "Create a function to get all of the details we need from each bag:"
   ]
  },
  {
   "cell_type": "code",
   "execution_count": 4,
   "metadata": {
    "collapsed": true
   },
   "outputs": [],
   "source": [
    "def get_attributes(image_l,price_l,name_l,color_l,url_l,brand_l,li):\n",
    "    slp = np.random.randint(1,10,size=4)\n",
    "    image_l.append(driver.find_element_by_class_name(li[0]).get_attribute('src'))\n",
    "    price_l.append(driver.find_element_by_class_name(li[1]).text)\n",
    "    time.sleep(slp[0])\n",
    "    name_l.append(driver.find_element_by_class_name(li[2]).text)\n",
    "    #      _2nXdo0 FCcEY _28PBKh ODo94\n",
    "    time.sleep(slp[1])\n",
    "    brand_l.append(driver.find_element_by_class_name(li[3]).text)\n",
    "    time.sleep(slp[2])\n",
    "    color_l.append(driver.find_element_by_class_name(li[4]).get_attribute('aria-label'))\n",
    "#     _2ndY0C _2dAOFI\n",
    "    time.sleep(slp[3])\n",
    "    color_options = driver.find_elements_by_class_name(li[5])\n",
    "    url_l.append(driver.current_url)"
   ]
  },
  {
   "cell_type": "markdown",
   "metadata": {},
   "source": [
    "Now create a for loop and empty lists to save all of the information we need:"
   ]
  },
  {
   "cell_type": "code",
   "execution_count": null,
   "metadata": {
    "collapsed": true
   },
   "outputs": [],
   "source": [
    "class_names_1 = ['_2g1r2h','Z1WEo3w','_6VXnG',\n",
    "                 'LGMSA','_1QT7uJ','Z1MJbnq']\n",
    "price_li = []\n",
    "name_li = []\n",
    "color = []\n",
    "brand = []\n",
    "url_li = []\n",
    "img_li = []\n",
    "\n",
    "for bag in img_urls:\n",
    "    driver.get(bag)\n",
    "    color_options = driver.find_elements_by_class_name('Z1MJbnq')\n",
    "    if len(color_options) > 1:\n",
    "        color_options[0].click()\n",
    "        time.sleep(1)\n",
    "        get_attributes(img_li,price_li,name_li,\n",
    "                       color,url_li,brand,class_names_1)\n",
    "        for i in color_options[1:]:\n",
    "            time.sleep(1)\n",
    "            i.click()\n",
    "            get_attributes(img_li,price_li,name_li,\n",
    "                           color,url_li,brand,class_names_1)\n",
    "    else:\n",
    "        time.sleep(1)\n",
    "        get_attributes(img_li,price_li,name_li,\n",
    "                       color,url_li,brand,class_names_1)\n",
    "        "
   ]
  },
  {
   "cell_type": "markdown",
   "metadata": {},
   "source": [
    "Follow the steps from before. Create a new data frame, and use the apply statement to download and save all of the bag images."
   ]
  },
  {
   "cell_type": "markdown",
   "metadata": {},
   "source": [
    "### Nordstrom fannie packs:\n",
    "following the same steps as before to grab all the fannie packs from Nordstom.\n",
    "\n",
    "In the next cell creating our base_url variable, and startng a new chromedriver session. Then navigating to the Nordstrom page:"
   ]
  },
  {
   "cell_type": "code",
   "execution_count": 105,
   "metadata": {
    "collapsed": true
   },
   "outputs": [],
   "source": [
    "base_url = 'https://shop.nordstrom.com/'\n",
    "#create the chrome driver\n",
    "start_time = time.time()\n",
    "driver = webdriver.Chrome('/Users/elenasm7/.wdm/chromedriver/76.0.3809.126/mac64/chromedriver') \n",
    "driver.get(base_url)\n",
    "# Z1craAD"
   ]
  },
  {
   "cell_type": "markdown",
   "metadata": {},
   "source": [
    "below, we search for fanny packs:"
   ]
  },
  {
   "cell_type": "code",
   "execution_count": 89,
   "metadata": {
    "collapsed": true
   },
   "outputs": [],
   "source": [
    "#now, search for the item we need\n",
    "driver.find_element_by_class_name('_254wwN').click()\n",
    "time.sleep(1)\n",
    "real_search = driver.find_element_by_class_name('_27R4o5')\n",
    "# ZaYgXf\n",
    "real_search.send_keys('fanny packs')\n",
    "time.sleep(1)\n",
    "real_search.submit()\n",
    "time.sleep(1)"
   ]
  },
  {
   "cell_type": "code",
   "execution_count": 8,
   "metadata": {},
   "outputs": [
    {
     "data": {
      "text/plain": [
       "'https://shop.nordstrom.com/s/madewell-the-simple-pouch-belt-bag/5428490?origin=keywordsearch-personalizedsort&breadcrumb=Home%2FAll%20Results&color=english%20saddle'"
      ]
     },
     "execution_count": 8,
     "metadata": {},
     "output_type": "execute_result"
    }
   ],
   "source": []
  },
  {
   "cell_type": "markdown",
   "metadata": {},
   "source": [
    "Next, we go through each page of bags, grab all of their urls, then grab the img urls:"
   ]
  },
  {
   "cell_type": "code",
   "execution_count": 100,
   "metadata": {
    "collapsed": true
   },
   "outputs": [],
   "source": [
    "pages = ['2','3','4','5','6','7']\n",
    "bag_urls = []\n",
    "current_fp = driver.find_elements_by_class_name('Z1AvvAr')\n",
    "bag_urls.extend([i.get_attribute(\"href\") for i in current_fp])\n",
    "\n",
    "for i in pages:\n",
    "    time.sleep(2)\n",
    "    driver.find_element_by_link_text(i).click()\n",
    "    time.sleep(1)\n",
    "    current_fp = driver.find_elements_by_class_name('Z1AvvAr')\n",
    "    bag_urls.extend([i.get_attribute(\"href\") for i in current_fp])\n",
    "    "
   ]
  },
  {
   "cell_type": "markdown",
   "metadata": {},
   "source": [
    "made updates to the get_attributes function above and added parameter li. When using the function you now pass it a list of class names. Below we use the function the same as before by looping through each bag item and getting the features we need."
   ]
  },
  {
   "cell_type": "code",
   "execution_count": 102,
   "metadata": {
    "collapsed": true
   },
   "outputs": [],
   "source": [
    "class_names = ['Z1rpNm4','Z1WEo3w','_2nXdo0','bpCeO','JniDt']"
   ]
  },
  {
   "cell_type": "code",
   "execution_count": 28,
   "metadata": {
    "collapsed": true
   },
   "outputs": [],
   "source": [
    "def get_attributes(image_l,price_l,name_l,color_l,url_l,brand_l,li,c):\n",
    "    slp = np.random.randint(1,5,size=4)\n",
    "    image_l.append(driver.find_element_by_class_name(li[0]).get_attribute('src'))\n",
    "    price_l.append(driver.find_element_by_class_name(li[1]).text)\n",
    "    time.sleep(slp[0])\n",
    "    name_l.append(driver.find_element_by_class_name(li[2]).text)\n",
    "    #      _2nXdo0 FCcEY _28PBKh ODo94\n",
    "    time.sleep(slp[1])\n",
    "    brand_l.append(driver.find_element_by_class_name(li[3]).text)\n",
    "    time.sleep(slp[2])\n",
    "    color_l.append(driver.find_elements_by_class_name(li[4])[c].get_attribute('aria-label'))\n",
    "#     _2ndY0C _2dAOFI\n",
    "    time.sleep(slp[3])\n",
    "    url_l.append(driver.current_url)"
   ]
  },
  {
   "cell_type": "code",
   "execution_count": 107,
   "metadata": {
    "collapsed": true
   },
   "outputs": [],
   "source": [
    "price_li = []\n",
    "name_li = []\n",
    "color = []\n",
    "brand = []\n",
    "url_li = []\n",
    "img_li = []\n",
    "\n",
    "for bag in bag_urls:\n",
    "    driver.get(bag)\n",
    "    color_options = driver.find_elements_by_class_name('Z1MJbnq')\n",
    "    counter = 0\n",
    "    if len(color_options) > 1:\n",
    "        color_options[0].click()\n",
    "        time.sleep(1.5)\n",
    "        get_attributes(img_li,price_li,name_li,color,\n",
    "                       url_li,brand,class_names,counter)\n",
    "        for i in color_options[1:]:\n",
    "            counter += 1\n",
    "            time.sleep(2)\n",
    "            i.click()\n",
    "            get_attributes(img_li,price_li,name_li,color,\n",
    "                           url_li,brand,class_names,counter)\n",
    "    else:\n",
    "        time.sleep(1)\n",
    "        get_attributes(img_li,price_li,name_li,color,\n",
    "                       url_li,brand,class_names,counter)"
   ]
  },
  {
   "cell_type": "code",
   "execution_count": 108,
   "metadata": {
    "collapsed": true
   },
   "outputs": [],
   "source": [
    "nord_fp = pd.DataFrame(list(zip(price_li, name_li, color, brand, url_li, img_li)),\n",
    "                       columns=['price','name','color','brand','url','img_url'])"
   ]
  },
  {
   "cell_type": "code",
   "execution_count": 109,
   "metadata": {},
   "outputs": [
    {
     "data": {
      "text/plain": [
       "(626, 6)"
      ]
     },
     "execution_count": 109,
     "metadata": {},
     "output_type": "execute_result"
    }
   ],
   "source": [
    "nord_fp.shape"
   ]
  },
  {
   "cell_type": "markdown",
   "metadata": {},
   "source": [
    "Pickle the DataFrame:"
   ]
  },
  {
   "cell_type": "code",
   "execution_count": 110,
   "metadata": {
    "collapsed": true
   },
   "outputs": [],
   "source": [
    "nord_fp.to_pickle('nord_fp_df.pkl')"
   ]
  },
  {
   "cell_type": "markdown",
   "metadata": {},
   "source": [
    "Update brand names to make file naming more simple. We followed this by creating a new column of a shortened brand name which we will use:"
   ]
  },
  {
   "cell_type": "code",
   "execution_count": 114,
   "metadata": {
    "collapsed": true
   },
   "outputs": [],
   "source": [
    "nord_fp.brand = nord_fp.brand.apply(lambda x: x.lower().replace('.',''))"
   ]
  },
  {
   "cell_type": "code",
   "execution_count": 125,
   "metadata": {
    "collapsed": true
   },
   "outputs": [],
   "source": [
    "nord_fp['new_name'] = nord_fp.brand.apply(lambda x: x.split(' ')[0])"
   ]
  },
  {
   "cell_type": "markdown",
   "metadata": {},
   "source": [
    "Use the function defined in the scraping script. We use it as an apply on each column (axis=1). We pass it the file location, the column of the brand name, and the image url:"
   ]
  },
  {
   "cell_type": "code",
   "execution_count": null,
   "metadata": {
    "collapsed": true
   },
   "outputs": [],
   "source": [
    "c = 0\n",
    "nord_fp['filename'] = nord_fp.apply(lambda x: save_src_image_apply('../../../../img/fanny_packs/','nord-'+x[6],x[5]),axis=1)\n"
   ]
  },
  {
   "cell_type": "markdown",
   "metadata": {},
   "source": [
    "Update the DataFrame and get rid of the updated brand name:"
   ]
  },
  {
   "cell_type": "code",
   "execution_count": 133,
   "metadata": {
    "collapsed": true
   },
   "outputs": [],
   "source": [
    "nord_fp_new = nord_fp[['price', 'name', 'color', 'brand', 'url', 'img_url',\n",
    "       'filename']]"
   ]
  },
  {
   "cell_type": "markdown",
   "metadata": {},
   "source": [
    "Pickle the final DataFrame:"
   ]
  },
  {
   "cell_type": "code",
   "execution_count": 135,
   "metadata": {
    "collapsed": true
   },
   "outputs": [],
   "source": [
    "nord_fp_new.to_pickle('nord_fp_df.pkl')"
   ]
  },
  {
   "cell_type": "code",
   "execution_count": 137,
   "metadata": {
    "collapsed": true
   },
   "outputs": [],
   "source": [
    "# nord_fp_new"
   ]
  },
  {
   "cell_type": "markdown",
   "metadata": {},
   "source": [
    "print number of files in each subdirectory, using the fuction - *subdir_len* - defined in scraping_scripts:"
   ]
  },
  {
   "cell_type": "code",
   "execution_count": 144,
   "metadata": {},
   "outputs": [
    {
     "name": "stdout",
     "output_type": "stream",
     "text": [
      "278 buckets\n",
      "1011 fanny_packs\n",
      "163 circles\n",
      "1749 shoulder_bags\n",
      "1550 totes\n",
      "281 weekenders\n",
      "345 backpacks\n",
      "486 clutches\n"
     ]
    }
   ],
   "source": [
    "import os\n",
    "# path = '../../../../img/'\n",
    "        \n",
    "subdir_len('../../../../img/')"
   ]
  },
  {
   "cell_type": "markdown",
   "metadata": {},
   "source": [
    "By this we can tell we need more buckets, circles, weekenders, backpacks, and clutches. Since we already scraped circles from Nord%&#\\*m, we will be doing the other ones here.\n",
    "\n",
    "### Buckets:"
   ]
  },
  {
   "cell_type": "code",
   "execution_count": 7,
   "metadata": {
    "collapsed": true
   },
   "outputs": [],
   "source": [
    "base_url = 'https://shop.nordstrom.com/'\n",
    "#create the chrome driver\n",
    "start_time = time.time()\n",
    "driver = webdriver.Chrome('/Users/elenasm7/.wdm/chromedriver/76.0.3809.126/mac64/chromedriver') \n",
    "driver.get(base_url)"
   ]
  },
  {
   "cell_type": "code",
   "execution_count": 8,
   "metadata": {
    "collapsed": true
   },
   "outputs": [],
   "source": [
    "driver.find_element_by_class_name('_2Kwni').click()\n",
    "time.sleep(1)\n",
    "real_search = driver.find_element_by_class_name('_2341R')\n",
    "# ZaYgXf\n",
    "real_search.send_keys('bucket bags')\n",
    "time.sleep(1)\n",
    "real_search.submit()\n",
    "time.sleep(1)"
   ]
  },
  {
   "cell_type": "code",
   "execution_count": 12,
   "metadata": {},
   "outputs": [],
   "source": [
    "pages = ['2','3']\n",
    "bb_urls = []\n",
    "current_bb = driver.find_elements_by_class_name('_1av3_')\n",
    "bb_urls.extend([i.get_attribute(\"href\") for i in current_bb])\n",
    "\n",
    "for i in pages:\n",
    "    slp = np.random.randint(1,10,size=1)\n",
    "    time.sleep(slp[0])\n",
    "    driver.find_element_by_link_text(i).click()\n",
    "    time.sleep(1)\n",
    "    current_bb = driver.find_elements_by_class_name('_1av3_')\n",
    "    bb_urls.extend([i.get_attribute(\"href\") for i in current_bb])"
   ]
  },
  {
   "cell_type": "code",
   "execution_count": 26,
   "metadata": {
    "collapsed": true
   },
   "outputs": [],
   "source": [
    "class_names_bb = ['_1xc1x','_3p7kp','UlMCr','_36bPE','_2fvOm']"
   ]
  },
  {
   "cell_type": "code",
   "execution_count": 52,
   "metadata": {},
   "outputs": [
    {
     "ename": "NoSuchElementException",
     "evalue": "Message: no such element: Unable to locate element: {\"method\":\"css selector\",\"selector\":\"._3p7kp\"}\n  (Session info: chrome=76.0.3809.132)\n",
     "output_type": "error",
     "traceback": [
      "\u001b[0;31m---------------------------------------------------------------------------\u001b[0m",
      "\u001b[0;31mNoSuchElementException\u001b[0m                    Traceback (most recent call last)",
      "\u001b[0;32m<ipython-input-52-528fcdb0f624>\u001b[0m in \u001b[0;36m<module>\u001b[0;34m()\u001b[0m\n\u001b[1;32m     24\u001b[0m         \u001b[0mtime\u001b[0m\u001b[0;34m.\u001b[0m\u001b[0msleep\u001b[0m\u001b[0;34m(\u001b[0m\u001b[0;36m1\u001b[0m\u001b[0;34m)\u001b[0m\u001b[0;34m\u001b[0m\u001b[0;34m\u001b[0m\u001b[0m\n\u001b[1;32m     25\u001b[0m         get_attributes(img_li_bb,price_li_bb,name_li_bb,color_bb,\n\u001b[0;32m---> 26\u001b[0;31m                        url_li_bb,brand_bb,class_names_bb,counter)\n\u001b[0m",
      "\u001b[0;32m<ipython-input-28-7382c09285e5>\u001b[0m in \u001b[0;36mget_attributes\u001b[0;34m(image_l, price_l, name_l, color_l, url_l, brand_l, li, c)\u001b[0m\n\u001b[1;32m      2\u001b[0m     \u001b[0mslp\u001b[0m \u001b[0;34m=\u001b[0m \u001b[0mnp\u001b[0m\u001b[0;34m.\u001b[0m\u001b[0mrandom\u001b[0m\u001b[0;34m.\u001b[0m\u001b[0mrandint\u001b[0m\u001b[0;34m(\u001b[0m\u001b[0;36m1\u001b[0m\u001b[0;34m,\u001b[0m\u001b[0;36m5\u001b[0m\u001b[0;34m,\u001b[0m\u001b[0msize\u001b[0m\u001b[0;34m=\u001b[0m\u001b[0;36m4\u001b[0m\u001b[0;34m)\u001b[0m\u001b[0;34m\u001b[0m\u001b[0;34m\u001b[0m\u001b[0m\n\u001b[1;32m      3\u001b[0m     \u001b[0mimage_l\u001b[0m\u001b[0;34m.\u001b[0m\u001b[0mappend\u001b[0m\u001b[0;34m(\u001b[0m\u001b[0mdriver\u001b[0m\u001b[0;34m.\u001b[0m\u001b[0mfind_element_by_class_name\u001b[0m\u001b[0;34m(\u001b[0m\u001b[0mli\u001b[0m\u001b[0;34m[\u001b[0m\u001b[0;36m0\u001b[0m\u001b[0;34m]\u001b[0m\u001b[0;34m)\u001b[0m\u001b[0;34m.\u001b[0m\u001b[0mget_attribute\u001b[0m\u001b[0;34m(\u001b[0m\u001b[0;34m'src'\u001b[0m\u001b[0;34m)\u001b[0m\u001b[0;34m)\u001b[0m\u001b[0;34m\u001b[0m\u001b[0;34m\u001b[0m\u001b[0m\n\u001b[0;32m----> 4\u001b[0;31m     \u001b[0mprice_l\u001b[0m\u001b[0;34m.\u001b[0m\u001b[0mappend\u001b[0m\u001b[0;34m(\u001b[0m\u001b[0mdriver\u001b[0m\u001b[0;34m.\u001b[0m\u001b[0mfind_element_by_class_name\u001b[0m\u001b[0;34m(\u001b[0m\u001b[0mli\u001b[0m\u001b[0;34m[\u001b[0m\u001b[0;36m1\u001b[0m\u001b[0;34m]\u001b[0m\u001b[0;34m)\u001b[0m\u001b[0;34m.\u001b[0m\u001b[0mtext\u001b[0m\u001b[0;34m)\u001b[0m\u001b[0;34m\u001b[0m\u001b[0;34m\u001b[0m\u001b[0m\n\u001b[0m\u001b[1;32m      5\u001b[0m     \u001b[0mtime\u001b[0m\u001b[0;34m.\u001b[0m\u001b[0msleep\u001b[0m\u001b[0;34m(\u001b[0m\u001b[0mslp\u001b[0m\u001b[0;34m[\u001b[0m\u001b[0;36m0\u001b[0m\u001b[0;34m]\u001b[0m\u001b[0;34m)\u001b[0m\u001b[0;34m\u001b[0m\u001b[0;34m\u001b[0m\u001b[0m\n\u001b[1;32m      6\u001b[0m     \u001b[0mname_l\u001b[0m\u001b[0;34m.\u001b[0m\u001b[0mappend\u001b[0m\u001b[0;34m(\u001b[0m\u001b[0mdriver\u001b[0m\u001b[0;34m.\u001b[0m\u001b[0mfind_element_by_class_name\u001b[0m\u001b[0;34m(\u001b[0m\u001b[0mli\u001b[0m\u001b[0;34m[\u001b[0m\u001b[0;36m2\u001b[0m\u001b[0;34m]\u001b[0m\u001b[0;34m)\u001b[0m\u001b[0;34m.\u001b[0m\u001b[0mtext\u001b[0m\u001b[0;34m)\u001b[0m\u001b[0;34m\u001b[0m\u001b[0;34m\u001b[0m\u001b[0m\n",
      "\u001b[0;32m/Users/elenasm7/anaconda/lib/python3.6/site-packages/selenium/webdriver/remote/webdriver.py\u001b[0m in \u001b[0;36mfind_element_by_class_name\u001b[0;34m(self, name)\u001b[0m\n\u001b[1;32m    562\u001b[0m             \u001b[0melement\u001b[0m \u001b[0;34m=\u001b[0m \u001b[0mdriver\u001b[0m\u001b[0;34m.\u001b[0m\u001b[0mfind_element_by_class_name\u001b[0m\u001b[0;34m(\u001b[0m\u001b[0;34m'foo'\u001b[0m\u001b[0;34m)\u001b[0m\u001b[0;34m\u001b[0m\u001b[0;34m\u001b[0m\u001b[0m\n\u001b[1;32m    563\u001b[0m         \"\"\"\n\u001b[0;32m--> 564\u001b[0;31m         \u001b[0;32mreturn\u001b[0m \u001b[0mself\u001b[0m\u001b[0;34m.\u001b[0m\u001b[0mfind_element\u001b[0m\u001b[0;34m(\u001b[0m\u001b[0mby\u001b[0m\u001b[0;34m=\u001b[0m\u001b[0mBy\u001b[0m\u001b[0;34m.\u001b[0m\u001b[0mCLASS_NAME\u001b[0m\u001b[0;34m,\u001b[0m \u001b[0mvalue\u001b[0m\u001b[0;34m=\u001b[0m\u001b[0mname\u001b[0m\u001b[0;34m)\u001b[0m\u001b[0;34m\u001b[0m\u001b[0;34m\u001b[0m\u001b[0m\n\u001b[0m\u001b[1;32m    565\u001b[0m \u001b[0;34m\u001b[0m\u001b[0m\n\u001b[1;32m    566\u001b[0m     \u001b[0;32mdef\u001b[0m \u001b[0mfind_elements_by_class_name\u001b[0m\u001b[0;34m(\u001b[0m\u001b[0mself\u001b[0m\u001b[0;34m,\u001b[0m \u001b[0mname\u001b[0m\u001b[0;34m)\u001b[0m\u001b[0;34m:\u001b[0m\u001b[0;34m\u001b[0m\u001b[0;34m\u001b[0m\u001b[0m\n",
      "\u001b[0;32m/Users/elenasm7/anaconda/lib/python3.6/site-packages/selenium/webdriver/remote/webdriver.py\u001b[0m in \u001b[0;36mfind_element\u001b[0;34m(self, by, value)\u001b[0m\n\u001b[1;32m    976\u001b[0m         return self.execute(Command.FIND_ELEMENT, {\n\u001b[1;32m    977\u001b[0m             \u001b[0;34m'using'\u001b[0m\u001b[0;34m:\u001b[0m \u001b[0mby\u001b[0m\u001b[0;34m,\u001b[0m\u001b[0;34m\u001b[0m\u001b[0;34m\u001b[0m\u001b[0m\n\u001b[0;32m--> 978\u001b[0;31m             'value': value})['value']\n\u001b[0m\u001b[1;32m    979\u001b[0m \u001b[0;34m\u001b[0m\u001b[0m\n\u001b[1;32m    980\u001b[0m     \u001b[0;32mdef\u001b[0m \u001b[0mfind_elements\u001b[0m\u001b[0;34m(\u001b[0m\u001b[0mself\u001b[0m\u001b[0;34m,\u001b[0m \u001b[0mby\u001b[0m\u001b[0;34m=\u001b[0m\u001b[0mBy\u001b[0m\u001b[0;34m.\u001b[0m\u001b[0mID\u001b[0m\u001b[0;34m,\u001b[0m \u001b[0mvalue\u001b[0m\u001b[0;34m=\u001b[0m\u001b[0;32mNone\u001b[0m\u001b[0;34m)\u001b[0m\u001b[0;34m:\u001b[0m\u001b[0;34m\u001b[0m\u001b[0;34m\u001b[0m\u001b[0m\n",
      "\u001b[0;32m/Users/elenasm7/anaconda/lib/python3.6/site-packages/selenium/webdriver/remote/webdriver.py\u001b[0m in \u001b[0;36mexecute\u001b[0;34m(self, driver_command, params)\u001b[0m\n\u001b[1;32m    319\u001b[0m         \u001b[0mresponse\u001b[0m \u001b[0;34m=\u001b[0m \u001b[0mself\u001b[0m\u001b[0;34m.\u001b[0m\u001b[0mcommand_executor\u001b[0m\u001b[0;34m.\u001b[0m\u001b[0mexecute\u001b[0m\u001b[0;34m(\u001b[0m\u001b[0mdriver_command\u001b[0m\u001b[0;34m,\u001b[0m \u001b[0mparams\u001b[0m\u001b[0;34m)\u001b[0m\u001b[0;34m\u001b[0m\u001b[0;34m\u001b[0m\u001b[0m\n\u001b[1;32m    320\u001b[0m         \u001b[0;32mif\u001b[0m \u001b[0mresponse\u001b[0m\u001b[0;34m:\u001b[0m\u001b[0;34m\u001b[0m\u001b[0;34m\u001b[0m\u001b[0m\n\u001b[0;32m--> 321\u001b[0;31m             \u001b[0mself\u001b[0m\u001b[0;34m.\u001b[0m\u001b[0merror_handler\u001b[0m\u001b[0;34m.\u001b[0m\u001b[0mcheck_response\u001b[0m\u001b[0;34m(\u001b[0m\u001b[0mresponse\u001b[0m\u001b[0;34m)\u001b[0m\u001b[0;34m\u001b[0m\u001b[0;34m\u001b[0m\u001b[0m\n\u001b[0m\u001b[1;32m    322\u001b[0m             response['value'] = self._unwrap_value(\n\u001b[1;32m    323\u001b[0m                 response.get('value', None))\n",
      "\u001b[0;32m/Users/elenasm7/anaconda/lib/python3.6/site-packages/selenium/webdriver/remote/errorhandler.py\u001b[0m in \u001b[0;36mcheck_response\u001b[0;34m(self, response)\u001b[0m\n\u001b[1;32m    240\u001b[0m                 \u001b[0malert_text\u001b[0m \u001b[0;34m=\u001b[0m \u001b[0mvalue\u001b[0m\u001b[0;34m[\u001b[0m\u001b[0;34m'alert'\u001b[0m\u001b[0;34m]\u001b[0m\u001b[0;34m.\u001b[0m\u001b[0mget\u001b[0m\u001b[0;34m(\u001b[0m\u001b[0;34m'text'\u001b[0m\u001b[0;34m)\u001b[0m\u001b[0;34m\u001b[0m\u001b[0;34m\u001b[0m\u001b[0m\n\u001b[1;32m    241\u001b[0m             \u001b[0;32mraise\u001b[0m \u001b[0mexception_class\u001b[0m\u001b[0;34m(\u001b[0m\u001b[0mmessage\u001b[0m\u001b[0;34m,\u001b[0m \u001b[0mscreen\u001b[0m\u001b[0;34m,\u001b[0m \u001b[0mstacktrace\u001b[0m\u001b[0;34m,\u001b[0m \u001b[0malert_text\u001b[0m\u001b[0;34m)\u001b[0m\u001b[0;34m\u001b[0m\u001b[0;34m\u001b[0m\u001b[0m\n\u001b[0;32m--> 242\u001b[0;31m         \u001b[0;32mraise\u001b[0m \u001b[0mexception_class\u001b[0m\u001b[0;34m(\u001b[0m\u001b[0mmessage\u001b[0m\u001b[0;34m,\u001b[0m \u001b[0mscreen\u001b[0m\u001b[0;34m,\u001b[0m \u001b[0mstacktrace\u001b[0m\u001b[0;34m)\u001b[0m\u001b[0;34m\u001b[0m\u001b[0;34m\u001b[0m\u001b[0m\n\u001b[0m\u001b[1;32m    243\u001b[0m \u001b[0;34m\u001b[0m\u001b[0m\n\u001b[1;32m    244\u001b[0m     \u001b[0;32mdef\u001b[0m \u001b[0m_value_or_default\u001b[0m\u001b[0;34m(\u001b[0m\u001b[0mself\u001b[0m\u001b[0;34m,\u001b[0m \u001b[0mobj\u001b[0m\u001b[0;34m,\u001b[0m \u001b[0mkey\u001b[0m\u001b[0;34m,\u001b[0m \u001b[0mdefault\u001b[0m\u001b[0;34m)\u001b[0m\u001b[0;34m:\u001b[0m\u001b[0;34m\u001b[0m\u001b[0;34m\u001b[0m\u001b[0m\n",
      "\u001b[0;31mNoSuchElementException\u001b[0m: Message: no such element: Unable to locate element: {\"method\":\"css selector\",\"selector\":\"._3p7kp\"}\n  (Session info: chrome=76.0.3809.132)\n"
     ]
    }
   ],
   "source": [
    "# price_li_bb = []\n",
    "# name_li_bb = []\n",
    "# color_bb = []\n",
    "# brand_bb = []\n",
    "# url_li_bb = []\n",
    "# img_li_bb = []\n",
    "\n",
    "for bag in bb_urls[26:]:\n",
    "    driver.get(bag)\n",
    "    color_options = driver.find_elements_by_class_name('_3lh0_')\n",
    "    counter = 0\n",
    "    if len(color_options) > 1:\n",
    "        color_options[0].click()\n",
    "        time.sleep(1.5)\n",
    "        get_attributes(img_li_bb,price_li_bb,name_li_bb,color_bb,\n",
    "                       url_li_bb,brand_bb,class_names_bb,counter)\n",
    "        for i in color_options[1:]:\n",
    "            counter += 1\n",
    "            time.sleep(1)\n",
    "            i.click()\n",
    "            get_attributes(img_li_bb,price_li_bb,name_li_bb,color_bb,\n",
    "                           url_li_bb,brand_bb,class_names_bb,counter)\n",
    "    else:\n",
    "        time.sleep(1)\n",
    "        get_attributes(img_li_bb,price_li_bb,name_li_bb,color_bb,\n",
    "                       url_li_bb,brand_bb,class_names_bb,counter)"
   ]
  },
  {
   "cell_type": "code",
   "execution_count": 45,
   "metadata": {
    "collapsed": true
   },
   "outputs": [],
   "source": [
    "price_li_bb = price_li_bb[:48]\n",
    "name_li_bb = name_li_bb[:48]\n",
    "color_bb = color_bb[:48]\n",
    "brand_bb = brand_bb[:48]\n",
    "url_li_bb = url_li_bb[:48]\n",
    "img_li_bb = img_li_bb[:48]"
   ]
  },
  {
   "cell_type": "code",
   "execution_count": 40,
   "metadata": {
    "collapsed": true
   },
   "outputs": [],
   "source": [
    "nord_bb = pd.DataFrame(list(zip(price_li_bb, name_li_bb, color_bb, brand_bb, url_li_bb, img_li_bb)),\n",
    "                       columns=['price','name','color','brand','url','img_url'])"
   ]
  },
  {
   "cell_type": "code",
   "execution_count": 53,
   "metadata": {},
   "outputs": [],
   "source": [
    "nord_bb_2 = pd.DataFrame(list(zip(price_li_bb, name_li_bb, color_bb, brand_bb, url_li_bb, img_li_bb)),\n",
    "                       columns=['price','name','color','brand','url','img_url'])"
   ]
  },
  {
   "cell_type": "code",
   "execution_count": 55,
   "metadata": {},
   "outputs": [],
   "source": [
    "nord_bb_2.to_pickle('nord_bb_2_df.pkl')\n",
    "nord_bb.to_pickle('nord_bb_df.pkl')"
   ]
  },
  {
   "cell_type": "code",
   "execution_count": 42,
   "metadata": {},
   "outputs": [
    {
     "data": {
      "text/html": [
       "<div>\n",
       "<style scoped>\n",
       "    .dataframe tbody tr th:only-of-type {\n",
       "        vertical-align: middle;\n",
       "    }\n",
       "\n",
       "    .dataframe tbody tr th {\n",
       "        vertical-align: top;\n",
       "    }\n",
       "\n",
       "    .dataframe thead th {\n",
       "        text-align: right;\n",
       "    }\n",
       "</style>\n",
       "<table border=\"1\" class=\"dataframe\">\n",
       "  <thead>\n",
       "    <tr style=\"text-align: right;\">\n",
       "      <th></th>\n",
       "      <th>price</th>\n",
       "      <th>name</th>\n",
       "      <th>color</th>\n",
       "      <th>brand</th>\n",
       "      <th>url</th>\n",
       "      <th>img_url</th>\n",
       "    </tr>\n",
       "  </thead>\n",
       "  <tbody>\n",
       "    <tr>\n",
       "      <th>0</th>\n",
       "      <td>$169.00</td>\n",
       "      <td>Delilah Leather Bucket Bag</td>\n",
       "      <td>Black</td>\n",
       "      <td>NORDSTROM</td>\n",
       "      <td>https://shop.nordstrom.com/s/nordstrom-delilah...</td>\n",
       "      <td>https://n.nordstrommedia.com/id/sr3/52660e38-4...</td>\n",
       "    </tr>\n",
       "    <tr>\n",
       "      <th>1</th>\n",
       "      <td>$169.00</td>\n",
       "      <td>Delilah Leather Bucket Bag</td>\n",
       "      <td>Brown Aztec</td>\n",
       "      <td>NORDSTROM</td>\n",
       "      <td>https://shop.nordstrom.com/s/nordstrom-delilah...</td>\n",
       "      <td>https://n.nordstrommedia.com/id/sr3/ae92c04f-a...</td>\n",
       "    </tr>\n",
       "    <tr>\n",
       "      <th>2</th>\n",
       "      <td>$169.00</td>\n",
       "      <td>Delilah Leather Bucket Bag</td>\n",
       "      <td>Yellow Inca</td>\n",
       "      <td>NORDSTROM</td>\n",
       "      <td>https://shop.nordstrom.com/s/nordstrom-delilah...</td>\n",
       "      <td>https://n.nordstrommedia.com/id/sr3/d02a4b1f-9...</td>\n",
       "    </tr>\n",
       "    <tr>\n",
       "      <th>3</th>\n",
       "      <td>$980.00</td>\n",
       "      <td>Mini GG Marmont 2.0 Quilted Leather Bucket Bag</td>\n",
       "      <td>Hibiscus Red</td>\n",
       "      <td>GUCCI</td>\n",
       "      <td>https://shop.nordstrom.com/s/gucci-mini-gg-mar...</td>\n",
       "      <td>https://n.nordstrommedia.com/id/sr3/4b4454e4-9...</td>\n",
       "    </tr>\n",
       "    <tr>\n",
       "      <th>4</th>\n",
       "      <td>$980.00</td>\n",
       "      <td>Mini GG Marmont 2.0 Quilted Leather Bucket Bag</td>\n",
       "      <td>Mystic White</td>\n",
       "      <td>GUCCI</td>\n",
       "      <td>https://shop.nordstrom.com/s/gucci-mini-gg-mar...</td>\n",
       "      <td>https://n.nordstrommedia.com/id/sr3/6629e758-9...</td>\n",
       "    </tr>\n",
       "    <tr>\n",
       "      <th>5</th>\n",
       "      <td>$980.00</td>\n",
       "      <td>Mini GG Marmont 2.0 Quilted Leather Bucket Bag</td>\n",
       "      <td>Nero</td>\n",
       "      <td>GUCCI</td>\n",
       "      <td>https://shop.nordstrom.com/s/gucci-mini-gg-mar...</td>\n",
       "      <td>https://n.nordstrommedia.com/id/sr3/1d6ff9b8-b...</td>\n",
       "    </tr>\n",
       "    <tr>\n",
       "      <th>6</th>\n",
       "      <td>$980.00</td>\n",
       "      <td>Mini GG Marmont 2.0 Quilted Leather Bucket Bag</td>\n",
       "      <td>Porcelain Rose</td>\n",
       "      <td>GUCCI</td>\n",
       "      <td>https://shop.nordstrom.com/s/gucci-mini-gg-mar...</td>\n",
       "      <td>https://n.nordstrommedia.com/id/sr3/2c0f1a22-c...</td>\n",
       "    </tr>\n",
       "    <tr>\n",
       "      <th>7</th>\n",
       "      <td>$178.80</td>\n",
       "      <td>suzy small leather bucket bag</td>\n",
       "      <td>Black</td>\n",
       "      <td>KATE SPADE NEW YORK</td>\n",
       "      <td>https://shop.nordstrom.com/s/kate-spade-new-yo...</td>\n",
       "      <td>https://n.nordstrommedia.com/id/sr3/b7e531ba-c...</td>\n",
       "    </tr>\n",
       "    <tr>\n",
       "      <th>8</th>\n",
       "      <td>$178.80</td>\n",
       "      <td>suzy small leather bucket bag</td>\n",
       "      <td>Blazer Blue</td>\n",
       "      <td>KATE SPADE NEW YORK</td>\n",
       "      <td>https://shop.nordstrom.com/s/kate-spade-new-yo...</td>\n",
       "      <td>https://n.nordstrommedia.com/id/sr3/cf6261da-f...</td>\n",
       "    </tr>\n",
       "    <tr>\n",
       "      <th>9</th>\n",
       "      <td>$178.80</td>\n",
       "      <td>suzy small leather bucket bag</td>\n",
       "      <td>Cinnamon Spice</td>\n",
       "      <td>KATE SPADE NEW YORK</td>\n",
       "      <td>https://shop.nordstrom.com/s/kate-spade-new-yo...</td>\n",
       "      <td>https://n.nordstrommedia.com/id/sr3/1a13979d-c...</td>\n",
       "    </tr>\n",
       "    <tr>\n",
       "      <th>10</th>\n",
       "      <td>$99.49</td>\n",
       "      <td>Campbell Leather &amp; Suede Bucket Bag</td>\n",
       "      <td>Black</td>\n",
       "      <td>TREASURE &amp; BOND</td>\n",
       "      <td>https://shop.nordstrom.com/s/treasure-bond-cam...</td>\n",
       "      <td>https://n.nordstrommedia.com/id/sr3/8a5fc2e4-3...</td>\n",
       "    </tr>\n",
       "    <tr>\n",
       "      <th>11</th>\n",
       "      <td>$99.49</td>\n",
       "      <td>Campbell Leather &amp; Suede Bucket Bag</td>\n",
       "      <td>Brown Morel</td>\n",
       "      <td>TREASURE &amp; BOND</td>\n",
       "      <td>https://shop.nordstrom.com/s/treasure-bond-cam...</td>\n",
       "      <td>https://n.nordstrommedia.com/id/sr3/e195af5a-3...</td>\n",
       "    </tr>\n",
       "    <tr>\n",
       "      <th>12</th>\n",
       "      <td>$348.00</td>\n",
       "      <td>Mini Miller Leather Bucket Bag</td>\n",
       "      <td>Aged Camello</td>\n",
       "      <td>TORY BURCH</td>\n",
       "      <td>https://shop.nordstrom.com/s/tory-burch-mini-m...</td>\n",
       "      <td>https://n.nordstrommedia.com/id/sr3/f008a2a0-5...</td>\n",
       "    </tr>\n",
       "    <tr>\n",
       "      <th>13</th>\n",
       "      <td>$348.00</td>\n",
       "      <td>Mini Miller Leather Bucket Bag</td>\n",
       "      <td>Birch</td>\n",
       "      <td>TORY BURCH</td>\n",
       "      <td>https://shop.nordstrom.com/s/tory-burch-mini-m...</td>\n",
       "      <td>https://n.nordstrommedia.com/id/sr3/a218db9c-e...</td>\n",
       "    </tr>\n",
       "    <tr>\n",
       "      <th>14</th>\n",
       "      <td>$348.00</td>\n",
       "      <td>Mini Miller Leather Bucket Bag</td>\n",
       "      <td>Deep Daffodil</td>\n",
       "      <td>TORY BURCH</td>\n",
       "      <td>https://shop.nordstrom.com/s/tory-burch-mini-m...</td>\n",
       "      <td>https://n.nordstrommedia.com/id/sr3/5c932785-e...</td>\n",
       "    </tr>\n",
       "    <tr>\n",
       "      <th>15</th>\n",
       "      <td>$25.99</td>\n",
       "      <td>Fable Floral Straw Bucket Bag</td>\n",
       "      <td>Nude Multi</td>\n",
       "      <td>TOPSHOP</td>\n",
       "      <td>https://shop.nordstrom.com/s/topshop-fable-flo...</td>\n",
       "      <td>https://n.nordstrommedia.com/id/sr3/d3156967-f...</td>\n",
       "    </tr>\n",
       "    <tr>\n",
       "      <th>16</th>\n",
       "      <td>$498.00</td>\n",
       "      <td>Small Robinson Croc Embossed Leather Bucket Bag</td>\n",
       "      <td>Zinc</td>\n",
       "      <td>TORY BURCH</td>\n",
       "      <td>https://shop.nordstrom.com/s/tory-burch-small-...</td>\n",
       "      <td>https://n.nordstrommedia.com/id/sr3/907a596b-f...</td>\n",
       "    </tr>\n",
       "    <tr>\n",
       "      <th>17</th>\n",
       "      <td>$89.98</td>\n",
       "      <td>Austin Crossbody Bag</td>\n",
       "      <td>Desert Camel</td>\n",
       "      <td>MADEWELL</td>\n",
       "      <td>https://shop.nordstrom.com/s/madewell-austin-c...</td>\n",
       "      <td>https://n.nordstrommedia.com/id/sr3/5bd3699b-1...</td>\n",
       "    </tr>\n",
       "    <tr>\n",
       "      <th>18</th>\n",
       "      <td>$89.98</td>\n",
       "      <td>Austin Crossbody Bag</td>\n",
       "      <td>Lipstick Red</td>\n",
       "      <td>MADEWELL</td>\n",
       "      <td>https://shop.nordstrom.com/s/madewell-austin-c...</td>\n",
       "      <td>https://n.nordstrommedia.com/id/sr3/94195e0e-b...</td>\n",
       "    </tr>\n",
       "    <tr>\n",
       "      <th>19</th>\n",
       "      <td>$89.98</td>\n",
       "      <td>Austin Crossbody Bag</td>\n",
       "      <td>True Black</td>\n",
       "      <td>MADEWELL</td>\n",
       "      <td>https://shop.nordstrom.com/s/madewell-austin-c...</td>\n",
       "      <td>https://n.nordstrommedia.com/id/sr3/b3b841ab-9...</td>\n",
       "    </tr>\n",
       "    <tr>\n",
       "      <th>20</th>\n",
       "      <td>$52.80</td>\n",
       "      <td>Two Lovers Vegan Leather Bucket Bag</td>\n",
       "      <td>Blush</td>\n",
       "      <td>URBAN ORIGINALS</td>\n",
       "      <td>https://shop.nordstrom.com/s/urban-originals-t...</td>\n",
       "      <td>https://n.nordstrommedia.com/id/sr3/fcfe32f6-0...</td>\n",
       "    </tr>\n",
       "    <tr>\n",
       "      <th>21</th>\n",
       "      <td>$475.00</td>\n",
       "      <td>Mini Mini Leather Bucket Bag</td>\n",
       "      <td>Leaf</td>\n",
       "      <td>MANSUR GAVRIEL</td>\n",
       "      <td>https://shop.nordstrom.com/s/mansur-gavriel-mi...</td>\n",
       "      <td>https://n.nordstrommedia.com/id/sr3/39ad74db-e...</td>\n",
       "    </tr>\n",
       "    <tr>\n",
       "      <th>22</th>\n",
       "      <td>$475.00</td>\n",
       "      <td>Mini Mini Leather Bucket Bag</td>\n",
       "      <td>Midnight Blue</td>\n",
       "      <td>MANSUR GAVRIEL</td>\n",
       "      <td>https://shop.nordstrom.com/s/mansur-gavriel-mi...</td>\n",
       "      <td>https://n.nordstrommedia.com/id/sr3/1ee5cd21-0...</td>\n",
       "    </tr>\n",
       "    <tr>\n",
       "      <th>23</th>\n",
       "      <td>$475.00</td>\n",
       "      <td>Mini Mini Leather Bucket Bag</td>\n",
       "      <td>Natural</td>\n",
       "      <td>MANSUR GAVRIEL</td>\n",
       "      <td>https://shop.nordstrom.com/s/mansur-gavriel-mi...</td>\n",
       "      <td>https://n.nordstrommedia.com/id/sr3/0c1b4692-5...</td>\n",
       "    </tr>\n",
       "    <tr>\n",
       "      <th>24</th>\n",
       "      <td>$498.00</td>\n",
       "      <td>Sydney Patchwork Eel Leather Bucket Bag</td>\n",
       "      <td>Multi</td>\n",
       "      <td>TORY BURCH</td>\n",
       "      <td>https://shop.nordstrom.com/s/tory-burch-sydney...</td>\n",
       "      <td>https://n.nordstrommedia.com/id/sr3/6f474a97-b...</td>\n",
       "    </tr>\n",
       "    <tr>\n",
       "      <th>25</th>\n",
       "      <td>$395.00</td>\n",
       "      <td>Mini Mini Leather Bucket Bag</td>\n",
       "      <td>Black/ Flamma</td>\n",
       "      <td>MANSUR GAVRIEL</td>\n",
       "      <td>https://shop.nordstrom.com/s/mansur-gavriel-mi...</td>\n",
       "      <td>https://n.nordstrommedia.com/id/sr3/70cc5b4c-2...</td>\n",
       "    </tr>\n",
       "    <tr>\n",
       "      <th>26</th>\n",
       "      <td>$395.00</td>\n",
       "      <td>Mini Mini Leather Bucket Bag</td>\n",
       "      <td>Cammello/ Rosa</td>\n",
       "      <td>MANSUR GAVRIEL</td>\n",
       "      <td>https://shop.nordstrom.com/s/mansur-gavriel-mi...</td>\n",
       "      <td>https://n.nordstrommedia.com/id/sr3/eaa3caa8-c...</td>\n",
       "    </tr>\n",
       "    <tr>\n",
       "      <th>27</th>\n",
       "      <td>$225.00</td>\n",
       "      <td>Small Embroidered Bucket Bag</td>\n",
       "      <td>Poppy</td>\n",
       "      <td>FRANCES VALENTINE</td>\n",
       "      <td>https://shop.nordstrom.com/s/frances-valentine...</td>\n",
       "      <td>https://n.nordstrommedia.com/id/sr3/b33c15f0-1...</td>\n",
       "    </tr>\n",
       "    <tr>\n",
       "      <th>28</th>\n",
       "      <td>$375.00</td>\n",
       "      <td>Charlie Leather Bucket Bag</td>\n",
       "      <td>1941 Saddle</td>\n",
       "      <td>COACH</td>\n",
       "      <td>https://shop.nordstrom.com/s/coach-charlie-lea...</td>\n",
       "      <td>https://n.nordstrommedia.com/id/sr3/06087eb6-c...</td>\n",
       "    </tr>\n",
       "    <tr>\n",
       "      <th>29</th>\n",
       "      <td>$375.00</td>\n",
       "      <td>Charlie Leather Bucket Bag</td>\n",
       "      <td>Mist</td>\n",
       "      <td>COACH</td>\n",
       "      <td>https://shop.nordstrom.com/s/coach-charlie-lea...</td>\n",
       "      <td>https://n.nordstrommedia.com/id/sr3/49fab0b3-f...</td>\n",
       "    </tr>\n",
       "    <tr>\n",
       "      <th>30</th>\n",
       "      <td>$495.00</td>\n",
       "      <td>Mini Lambskin Leather Drawstring Bag</td>\n",
       "      <td>Black/ Flamma</td>\n",
       "      <td>MANSUR GAVRIEL</td>\n",
       "      <td>https://shop.nordstrom.com/s/mansur-gavriel-mi...</td>\n",
       "      <td>https://n.nordstrommedia.com/id/sr3/1cef56fb-9...</td>\n",
       "    </tr>\n",
       "    <tr>\n",
       "      <th>31</th>\n",
       "      <td>$495.00</td>\n",
       "      <td>Mini Lambskin Leather Drawstring Bag</td>\n",
       "      <td>Coral/ Coral</td>\n",
       "      <td>MANSUR GAVRIEL</td>\n",
       "      <td>https://shop.nordstrom.com/s/mansur-gavriel-mi...</td>\n",
       "      <td>https://n.nordstrommedia.com/id/sr3/b0a1332e-0...</td>\n",
       "    </tr>\n",
       "    <tr>\n",
       "      <th>32</th>\n",
       "      <td>$495.00</td>\n",
       "      <td>Mini Lambskin Leather Drawstring Bag</td>\n",
       "      <td>Rosa/ Blush</td>\n",
       "      <td>MANSUR GAVRIEL</td>\n",
       "      <td>https://shop.nordstrom.com/s/mansur-gavriel-mi...</td>\n",
       "      <td>https://n.nordstrommedia.com/id/sr3/e2b7cdb9-3...</td>\n",
       "    </tr>\n",
       "    <tr>\n",
       "      <th>33</th>\n",
       "      <td>$495.00</td>\n",
       "      <td>Mini Lambskin Leather Drawstring Bag</td>\n",
       "      <td>Sun/ Rosa</td>\n",
       "      <td>MANSUR GAVRIEL</td>\n",
       "      <td>https://shop.nordstrom.com/s/mansur-gavriel-mi...</td>\n",
       "      <td>https://n.nordstrommedia.com/id/sr3/63d8e3a6-d...</td>\n",
       "    </tr>\n",
       "    <tr>\n",
       "      <th>34</th>\n",
       "      <td>$194.98</td>\n",
       "      <td>Mini Bissett Croc Embossed Leather Bucket Bag</td>\n",
       "      <td>Tomato Croc</td>\n",
       "      <td>STAUD</td>\n",
       "      <td>https://shop.nordstrom.com/s/staud-mini-bisset...</td>\n",
       "      <td>https://n.nordstrommedia.com/id/sr3/3f748956-6...</td>\n",
       "    </tr>\n",
       "    <tr>\n",
       "      <th>35</th>\n",
       "      <td>$495.00</td>\n",
       "      <td>Mini Leather Bucket Bag</td>\n",
       "      <td>Black/ Flamma</td>\n",
       "      <td>MANSUR GAVRIEL</td>\n",
       "      <td>https://shop.nordstrom.com/s/mansur-gavriel-mi...</td>\n",
       "      <td>https://n.nordstrommedia.com/id/sr3/e17d4a51-6...</td>\n",
       "    </tr>\n",
       "    <tr>\n",
       "      <th>36</th>\n",
       "      <td>$495.00</td>\n",
       "      <td>Mini Leather Bucket Bag</td>\n",
       "      <td>Bordo</td>\n",
       "      <td>MANSUR GAVRIEL</td>\n",
       "      <td>https://shop.nordstrom.com/s/mansur-gavriel-mi...</td>\n",
       "      <td>https://n.nordstrommedia.com/id/sr3/d1e9cee8-0...</td>\n",
       "    </tr>\n",
       "    <tr>\n",
       "      <th>37</th>\n",
       "      <td>$495.00</td>\n",
       "      <td>Mini Leather Bucket Bag</td>\n",
       "      <td>Cammello/ Rosa</td>\n",
       "      <td>MANSUR GAVRIEL</td>\n",
       "      <td>https://shop.nordstrom.com/s/mansur-gavriel-mi...</td>\n",
       "      <td>https://n.nordstrommedia.com/id/sr3/5e2ea74c-c...</td>\n",
       "    </tr>\n",
       "    <tr>\n",
       "      <th>38</th>\n",
       "      <td>$196.80</td>\n",
       "      <td>small dorie leather bucket bag</td>\n",
       "      <td>Black</td>\n",
       "      <td>KATE SPADE NEW YORK</td>\n",
       "      <td>https://shop.nordstrom.com/s/kate-spade-new-yo...</td>\n",
       "      <td>https://n.nordstrommedia.com/id/sr3/7f8ae731-7...</td>\n",
       "    </tr>\n",
       "    <tr>\n",
       "      <th>39</th>\n",
       "      <td>$248.00</td>\n",
       "      <td>Mini Kate Leather Bucket Bag</td>\n",
       "      <td>Black</td>\n",
       "      <td>REBECCA MINKOFF</td>\n",
       "      <td>https://shop.nordstrom.com/s/rebecca-minkoff-m...</td>\n",
       "      <td>https://n.nordstrommedia.com/id/sr3/174f6abd-e...</td>\n",
       "    </tr>\n",
       "    <tr>\n",
       "      <th>40</th>\n",
       "      <td>$498.00</td>\n",
       "      <td>Miller Stripe Bucket Bag</td>\n",
       "      <td>Miller Stripe</td>\n",
       "      <td>TORY BURCH</td>\n",
       "      <td>https://shop.nordstrom.com/s/tory-burch-miller...</td>\n",
       "      <td>https://n.nordstrommedia.com/id/sr3/886b13d2-c...</td>\n",
       "    </tr>\n",
       "    <tr>\n",
       "      <th>41</th>\n",
       "      <td>$325.50</td>\n",
       "      <td>Johnny Leather Bucket Bag</td>\n",
       "      <td>Black/Beige</td>\n",
       "      <td>DANSE LENTE</td>\n",
       "      <td>https://shop.nordstrom.com/s/danse-lente-johnn...</td>\n",
       "      <td>https://n.nordstrommedia.com/id/sr3/e4cd056d-8...</td>\n",
       "    </tr>\n",
       "    <tr>\n",
       "      <th>42</th>\n",
       "      <td>$695.00</td>\n",
       "      <td>Lambskin Leather Drawstring Bag</td>\n",
       "      <td>Black/ Flamma</td>\n",
       "      <td>MANSUR GAVRIEL</td>\n",
       "      <td>https://shop.nordstrom.com/s/mansur-gavriel-la...</td>\n",
       "      <td>https://n.nordstrommedia.com/id/sr3/4bc2753c-d...</td>\n",
       "    </tr>\n",
       "    <tr>\n",
       "      <th>43</th>\n",
       "      <td>$695.00</td>\n",
       "      <td>Lambskin Leather Drawstring Bag</td>\n",
       "      <td>Rosa/ Blush</td>\n",
       "      <td>MANSUR GAVRIEL</td>\n",
       "      <td>https://shop.nordstrom.com/s/mansur-gavriel-la...</td>\n",
       "      <td>https://n.nordstrommedia.com/id/sr3/7d34303c-6...</td>\n",
       "    </tr>\n",
       "    <tr>\n",
       "      <th>44</th>\n",
       "      <td>$1890.00</td>\n",
       "      <td>Ophidia GG Supreme Bucket Shoulder Bag</td>\n",
       "      <td>Beige Ebony/ New Acero/ Red</td>\n",
       "      <td>GUCCI</td>\n",
       "      <td>https://shop.nordstrom.com/s/gucci-ophidia-gg-...</td>\n",
       "      <td>https://n.nordstrommedia.com/id/sr3/b1b58320-0...</td>\n",
       "    </tr>\n",
       "    <tr>\n",
       "      <th>45</th>\n",
       "      <td>$1850.00</td>\n",
       "      <td>Pannier Top Handle Leather Bucket Bag</td>\n",
       "      <td>Anthracite Dark</td>\n",
       "      <td>MARNI</td>\n",
       "      <td>https://shop.nordstrom.com/s/marni-pannier-top...</td>\n",
       "      <td>https://n.nordstrommedia.com/id/sr3/cb6bb6b7-3...</td>\n",
       "    </tr>\n",
       "    <tr>\n",
       "      <th>46</th>\n",
       "      <td>$99.00</td>\n",
       "      <td>Bethany Leather Bucket Bag</td>\n",
       "      <td>Black</td>\n",
       "      <td>NORDSTROM</td>\n",
       "      <td>https://shop.nordstrom.com/s/nordstrom-bethany...</td>\n",
       "      <td>https://n.nordstrommedia.com/id/sr3/da5ac550-c...</td>\n",
       "    </tr>\n",
       "    <tr>\n",
       "      <th>47</th>\n",
       "      <td>$99.00</td>\n",
       "      <td>Bethany Leather Bucket Bag</td>\n",
       "      <td>Brown Aztec</td>\n",
       "      <td>NORDSTROM</td>\n",
       "      <td>https://shop.nordstrom.com/s/nordstrom-bethany...</td>\n",
       "      <td>https://n.nordstrommedia.com/id/sr3/aa13f3b5-7...</td>\n",
       "    </tr>\n",
       "  </tbody>\n",
       "</table>\n",
       "</div>"
      ],
      "text/plain": [
       "       price                                             name  \\\n",
       "0    $169.00                       Delilah Leather Bucket Bag   \n",
       "1    $169.00                       Delilah Leather Bucket Bag   \n",
       "2    $169.00                       Delilah Leather Bucket Bag   \n",
       "3    $980.00   Mini GG Marmont 2.0 Quilted Leather Bucket Bag   \n",
       "4    $980.00   Mini GG Marmont 2.0 Quilted Leather Bucket Bag   \n",
       "5    $980.00   Mini GG Marmont 2.0 Quilted Leather Bucket Bag   \n",
       "6    $980.00   Mini GG Marmont 2.0 Quilted Leather Bucket Bag   \n",
       "7    $178.80                    suzy small leather bucket bag   \n",
       "8    $178.80                    suzy small leather bucket bag   \n",
       "9    $178.80                    suzy small leather bucket bag   \n",
       "10    $99.49              Campbell Leather & Suede Bucket Bag   \n",
       "11    $99.49              Campbell Leather & Suede Bucket Bag   \n",
       "12   $348.00                   Mini Miller Leather Bucket Bag   \n",
       "13   $348.00                   Mini Miller Leather Bucket Bag   \n",
       "14   $348.00                   Mini Miller Leather Bucket Bag   \n",
       "15    $25.99                    Fable Floral Straw Bucket Bag   \n",
       "16   $498.00  Small Robinson Croc Embossed Leather Bucket Bag   \n",
       "17    $89.98                             Austin Crossbody Bag   \n",
       "18    $89.98                             Austin Crossbody Bag   \n",
       "19    $89.98                             Austin Crossbody Bag   \n",
       "20    $52.80              Two Lovers Vegan Leather Bucket Bag   \n",
       "21   $475.00                     Mini Mini Leather Bucket Bag   \n",
       "22   $475.00                     Mini Mini Leather Bucket Bag   \n",
       "23   $475.00                     Mini Mini Leather Bucket Bag   \n",
       "24   $498.00          Sydney Patchwork Eel Leather Bucket Bag   \n",
       "25   $395.00                     Mini Mini Leather Bucket Bag   \n",
       "26   $395.00                     Mini Mini Leather Bucket Bag   \n",
       "27   $225.00                     Small Embroidered Bucket Bag   \n",
       "28   $375.00                       Charlie Leather Bucket Bag   \n",
       "29   $375.00                       Charlie Leather Bucket Bag   \n",
       "30   $495.00             Mini Lambskin Leather Drawstring Bag   \n",
       "31   $495.00             Mini Lambskin Leather Drawstring Bag   \n",
       "32   $495.00             Mini Lambskin Leather Drawstring Bag   \n",
       "33   $495.00             Mini Lambskin Leather Drawstring Bag   \n",
       "34   $194.98    Mini Bissett Croc Embossed Leather Bucket Bag   \n",
       "35   $495.00                          Mini Leather Bucket Bag   \n",
       "36   $495.00                          Mini Leather Bucket Bag   \n",
       "37   $495.00                          Mini Leather Bucket Bag   \n",
       "38   $196.80                   small dorie leather bucket bag   \n",
       "39   $248.00                     Mini Kate Leather Bucket Bag   \n",
       "40   $498.00                         Miller Stripe Bucket Bag   \n",
       "41   $325.50                        Johnny Leather Bucket Bag   \n",
       "42   $695.00                  Lambskin Leather Drawstring Bag   \n",
       "43   $695.00                  Lambskin Leather Drawstring Bag   \n",
       "44  $1890.00           Ophidia GG Supreme Bucket Shoulder Bag   \n",
       "45  $1850.00            Pannier Top Handle Leather Bucket Bag   \n",
       "46    $99.00                       Bethany Leather Bucket Bag   \n",
       "47    $99.00                       Bethany Leather Bucket Bag   \n",
       "\n",
       "                          color                brand  \\\n",
       "0                         Black            NORDSTROM   \n",
       "1                   Brown Aztec            NORDSTROM   \n",
       "2                   Yellow Inca            NORDSTROM   \n",
       "3                  Hibiscus Red                GUCCI   \n",
       "4                  Mystic White                GUCCI   \n",
       "5                          Nero                GUCCI   \n",
       "6                Porcelain Rose                GUCCI   \n",
       "7                         Black  KATE SPADE NEW YORK   \n",
       "8                   Blazer Blue  KATE SPADE NEW YORK   \n",
       "9                Cinnamon Spice  KATE SPADE NEW YORK   \n",
       "10                        Black      TREASURE & BOND   \n",
       "11                  Brown Morel      TREASURE & BOND   \n",
       "12                 Aged Camello           TORY BURCH   \n",
       "13                        Birch           TORY BURCH   \n",
       "14                Deep Daffodil           TORY BURCH   \n",
       "15                   Nude Multi              TOPSHOP   \n",
       "16                         Zinc           TORY BURCH   \n",
       "17                 Desert Camel             MADEWELL   \n",
       "18                 Lipstick Red             MADEWELL   \n",
       "19                   True Black             MADEWELL   \n",
       "20                        Blush      URBAN ORIGINALS   \n",
       "21                         Leaf       MANSUR GAVRIEL   \n",
       "22                Midnight Blue       MANSUR GAVRIEL   \n",
       "23                      Natural       MANSUR GAVRIEL   \n",
       "24                        Multi           TORY BURCH   \n",
       "25                Black/ Flamma       MANSUR GAVRIEL   \n",
       "26               Cammello/ Rosa       MANSUR GAVRIEL   \n",
       "27                        Poppy    FRANCES VALENTINE   \n",
       "28                  1941 Saddle                COACH   \n",
       "29                         Mist                COACH   \n",
       "30                Black/ Flamma       MANSUR GAVRIEL   \n",
       "31                 Coral/ Coral       MANSUR GAVRIEL   \n",
       "32                  Rosa/ Blush       MANSUR GAVRIEL   \n",
       "33                    Sun/ Rosa       MANSUR GAVRIEL   \n",
       "34                  Tomato Croc                STAUD   \n",
       "35                Black/ Flamma       MANSUR GAVRIEL   \n",
       "36                        Bordo       MANSUR GAVRIEL   \n",
       "37               Cammello/ Rosa       MANSUR GAVRIEL   \n",
       "38                        Black  KATE SPADE NEW YORK   \n",
       "39                        Black      REBECCA MINKOFF   \n",
       "40                Miller Stripe           TORY BURCH   \n",
       "41                  Black/Beige          DANSE LENTE   \n",
       "42                Black/ Flamma       MANSUR GAVRIEL   \n",
       "43                  Rosa/ Blush       MANSUR GAVRIEL   \n",
       "44  Beige Ebony/ New Acero/ Red                GUCCI   \n",
       "45              Anthracite Dark                MARNI   \n",
       "46                        Black            NORDSTROM   \n",
       "47                  Brown Aztec            NORDSTROM   \n",
       "\n",
       "                                                  url  \\\n",
       "0   https://shop.nordstrom.com/s/nordstrom-delilah...   \n",
       "1   https://shop.nordstrom.com/s/nordstrom-delilah...   \n",
       "2   https://shop.nordstrom.com/s/nordstrom-delilah...   \n",
       "3   https://shop.nordstrom.com/s/gucci-mini-gg-mar...   \n",
       "4   https://shop.nordstrom.com/s/gucci-mini-gg-mar...   \n",
       "5   https://shop.nordstrom.com/s/gucci-mini-gg-mar...   \n",
       "6   https://shop.nordstrom.com/s/gucci-mini-gg-mar...   \n",
       "7   https://shop.nordstrom.com/s/kate-spade-new-yo...   \n",
       "8   https://shop.nordstrom.com/s/kate-spade-new-yo...   \n",
       "9   https://shop.nordstrom.com/s/kate-spade-new-yo...   \n",
       "10  https://shop.nordstrom.com/s/treasure-bond-cam...   \n",
       "11  https://shop.nordstrom.com/s/treasure-bond-cam...   \n",
       "12  https://shop.nordstrom.com/s/tory-burch-mini-m...   \n",
       "13  https://shop.nordstrom.com/s/tory-burch-mini-m...   \n",
       "14  https://shop.nordstrom.com/s/tory-burch-mini-m...   \n",
       "15  https://shop.nordstrom.com/s/topshop-fable-flo...   \n",
       "16  https://shop.nordstrom.com/s/tory-burch-small-...   \n",
       "17  https://shop.nordstrom.com/s/madewell-austin-c...   \n",
       "18  https://shop.nordstrom.com/s/madewell-austin-c...   \n",
       "19  https://shop.nordstrom.com/s/madewell-austin-c...   \n",
       "20  https://shop.nordstrom.com/s/urban-originals-t...   \n",
       "21  https://shop.nordstrom.com/s/mansur-gavriel-mi...   \n",
       "22  https://shop.nordstrom.com/s/mansur-gavriel-mi...   \n",
       "23  https://shop.nordstrom.com/s/mansur-gavriel-mi...   \n",
       "24  https://shop.nordstrom.com/s/tory-burch-sydney...   \n",
       "25  https://shop.nordstrom.com/s/mansur-gavriel-mi...   \n",
       "26  https://shop.nordstrom.com/s/mansur-gavriel-mi...   \n",
       "27  https://shop.nordstrom.com/s/frances-valentine...   \n",
       "28  https://shop.nordstrom.com/s/coach-charlie-lea...   \n",
       "29  https://shop.nordstrom.com/s/coach-charlie-lea...   \n",
       "30  https://shop.nordstrom.com/s/mansur-gavriel-mi...   \n",
       "31  https://shop.nordstrom.com/s/mansur-gavriel-mi...   \n",
       "32  https://shop.nordstrom.com/s/mansur-gavriel-mi...   \n",
       "33  https://shop.nordstrom.com/s/mansur-gavriel-mi...   \n",
       "34  https://shop.nordstrom.com/s/staud-mini-bisset...   \n",
       "35  https://shop.nordstrom.com/s/mansur-gavriel-mi...   \n",
       "36  https://shop.nordstrom.com/s/mansur-gavriel-mi...   \n",
       "37  https://shop.nordstrom.com/s/mansur-gavriel-mi...   \n",
       "38  https://shop.nordstrom.com/s/kate-spade-new-yo...   \n",
       "39  https://shop.nordstrom.com/s/rebecca-minkoff-m...   \n",
       "40  https://shop.nordstrom.com/s/tory-burch-miller...   \n",
       "41  https://shop.nordstrom.com/s/danse-lente-johnn...   \n",
       "42  https://shop.nordstrom.com/s/mansur-gavriel-la...   \n",
       "43  https://shop.nordstrom.com/s/mansur-gavriel-la...   \n",
       "44  https://shop.nordstrom.com/s/gucci-ophidia-gg-...   \n",
       "45  https://shop.nordstrom.com/s/marni-pannier-top...   \n",
       "46  https://shop.nordstrom.com/s/nordstrom-bethany...   \n",
       "47  https://shop.nordstrom.com/s/nordstrom-bethany...   \n",
       "\n",
       "                                              img_url  \n",
       "0   https://n.nordstrommedia.com/id/sr3/52660e38-4...  \n",
       "1   https://n.nordstrommedia.com/id/sr3/ae92c04f-a...  \n",
       "2   https://n.nordstrommedia.com/id/sr3/d02a4b1f-9...  \n",
       "3   https://n.nordstrommedia.com/id/sr3/4b4454e4-9...  \n",
       "4   https://n.nordstrommedia.com/id/sr3/6629e758-9...  \n",
       "5   https://n.nordstrommedia.com/id/sr3/1d6ff9b8-b...  \n",
       "6   https://n.nordstrommedia.com/id/sr3/2c0f1a22-c...  \n",
       "7   https://n.nordstrommedia.com/id/sr3/b7e531ba-c...  \n",
       "8   https://n.nordstrommedia.com/id/sr3/cf6261da-f...  \n",
       "9   https://n.nordstrommedia.com/id/sr3/1a13979d-c...  \n",
       "10  https://n.nordstrommedia.com/id/sr3/8a5fc2e4-3...  \n",
       "11  https://n.nordstrommedia.com/id/sr3/e195af5a-3...  \n",
       "12  https://n.nordstrommedia.com/id/sr3/f008a2a0-5...  \n",
       "13  https://n.nordstrommedia.com/id/sr3/a218db9c-e...  \n",
       "14  https://n.nordstrommedia.com/id/sr3/5c932785-e...  \n",
       "15  https://n.nordstrommedia.com/id/sr3/d3156967-f...  \n",
       "16  https://n.nordstrommedia.com/id/sr3/907a596b-f...  \n",
       "17  https://n.nordstrommedia.com/id/sr3/5bd3699b-1...  \n",
       "18  https://n.nordstrommedia.com/id/sr3/94195e0e-b...  \n",
       "19  https://n.nordstrommedia.com/id/sr3/b3b841ab-9...  \n",
       "20  https://n.nordstrommedia.com/id/sr3/fcfe32f6-0...  \n",
       "21  https://n.nordstrommedia.com/id/sr3/39ad74db-e...  \n",
       "22  https://n.nordstrommedia.com/id/sr3/1ee5cd21-0...  \n",
       "23  https://n.nordstrommedia.com/id/sr3/0c1b4692-5...  \n",
       "24  https://n.nordstrommedia.com/id/sr3/6f474a97-b...  \n",
       "25  https://n.nordstrommedia.com/id/sr3/70cc5b4c-2...  \n",
       "26  https://n.nordstrommedia.com/id/sr3/eaa3caa8-c...  \n",
       "27  https://n.nordstrommedia.com/id/sr3/b33c15f0-1...  \n",
       "28  https://n.nordstrommedia.com/id/sr3/06087eb6-c...  \n",
       "29  https://n.nordstrommedia.com/id/sr3/49fab0b3-f...  \n",
       "30  https://n.nordstrommedia.com/id/sr3/1cef56fb-9...  \n",
       "31  https://n.nordstrommedia.com/id/sr3/b0a1332e-0...  \n",
       "32  https://n.nordstrommedia.com/id/sr3/e2b7cdb9-3...  \n",
       "33  https://n.nordstrommedia.com/id/sr3/63d8e3a6-d...  \n",
       "34  https://n.nordstrommedia.com/id/sr3/3f748956-6...  \n",
       "35  https://n.nordstrommedia.com/id/sr3/e17d4a51-6...  \n",
       "36  https://n.nordstrommedia.com/id/sr3/d1e9cee8-0...  \n",
       "37  https://n.nordstrommedia.com/id/sr3/5e2ea74c-c...  \n",
       "38  https://n.nordstrommedia.com/id/sr3/7f8ae731-7...  \n",
       "39  https://n.nordstrommedia.com/id/sr3/174f6abd-e...  \n",
       "40  https://n.nordstrommedia.com/id/sr3/886b13d2-c...  \n",
       "41  https://n.nordstrommedia.com/id/sr3/e4cd056d-8...  \n",
       "42  https://n.nordstrommedia.com/id/sr3/4bc2753c-d...  \n",
       "43  https://n.nordstrommedia.com/id/sr3/7d34303c-6...  \n",
       "44  https://n.nordstrommedia.com/id/sr3/b1b58320-0...  \n",
       "45  https://n.nordstrommedia.com/id/sr3/cb6bb6b7-3...  \n",
       "46  https://n.nordstrommedia.com/id/sr3/da5ac550-c...  \n",
       "47  https://n.nordstrommedia.com/id/sr3/aa13f3b5-7...  "
      ]
     },
     "execution_count": 42,
     "metadata": {},
     "output_type": "execute_result"
    }
   ],
   "source": [
    "nord_bb.iloc[:48,:]"
   ]
  },
  {
   "cell_type": "code",
   "execution_count": 44,
   "metadata": {},
   "outputs": [
    {
     "data": {
      "text/plain": [
       "['Delilah Leather Bucket Bag',\n",
       " 'Delilah Leather Bucket Bag',\n",
       " 'Delilah Leather Bucket Bag',\n",
       " 'Mini GG Marmont 2.0 Quilted Leather Bucket Bag',\n",
       " 'Mini GG Marmont 2.0 Quilted Leather Bucket Bag',\n",
       " 'Mini GG Marmont 2.0 Quilted Leather Bucket Bag',\n",
       " 'Mini GG Marmont 2.0 Quilted Leather Bucket Bag',\n",
       " 'suzy small leather bucket bag',\n",
       " 'suzy small leather bucket bag',\n",
       " 'suzy small leather bucket bag',\n",
       " 'Campbell Leather & Suede Bucket Bag',\n",
       " 'Campbell Leather & Suede Bucket Bag',\n",
       " 'Mini Miller Leather Bucket Bag',\n",
       " 'Mini Miller Leather Bucket Bag',\n",
       " 'Mini Miller Leather Bucket Bag',\n",
       " 'Fable Floral Straw Bucket Bag',\n",
       " 'Small Robinson Croc Embossed Leather Bucket Bag',\n",
       " 'Austin Crossbody Bag',\n",
       " 'Austin Crossbody Bag',\n",
       " 'Austin Crossbody Bag',\n",
       " 'Two Lovers Vegan Leather Bucket Bag',\n",
       " 'Mini Mini Leather Bucket Bag',\n",
       " 'Mini Mini Leather Bucket Bag',\n",
       " 'Mini Mini Leather Bucket Bag',\n",
       " 'Sydney Patchwork Eel Leather Bucket Bag',\n",
       " 'Mini Mini Leather Bucket Bag',\n",
       " 'Mini Mini Leather Bucket Bag',\n",
       " 'Small Embroidered Bucket Bag',\n",
       " 'Charlie Leather Bucket Bag',\n",
       " 'Charlie Leather Bucket Bag',\n",
       " 'Mini Lambskin Leather Drawstring Bag',\n",
       " 'Mini Lambskin Leather Drawstring Bag',\n",
       " 'Mini Lambskin Leather Drawstring Bag',\n",
       " 'Mini Lambskin Leather Drawstring Bag',\n",
       " 'Mini Bissett Croc Embossed Leather Bucket Bag',\n",
       " 'Mini Leather Bucket Bag',\n",
       " 'Mini Leather Bucket Bag',\n",
       " 'Mini Leather Bucket Bag',\n",
       " 'small dorie leather bucket bag',\n",
       " 'Mini Kate Leather Bucket Bag',\n",
       " 'Miller Stripe Bucket Bag',\n",
       " 'Johnny Leather Bucket Bag',\n",
       " 'Lambskin Leather Drawstring Bag',\n",
       " 'Lambskin Leather Drawstring Bag',\n",
       " 'Ophidia GG Supreme Bucket Shoulder Bag',\n",
       " 'Pannier Top Handle Leather Bucket Bag',\n",
       " 'Bethany Leather Bucket Bag',\n",
       " 'Bethany Leather Bucket Bag']"
      ]
     },
     "execution_count": 44,
     "metadata": {},
     "output_type": "execute_result"
    }
   ],
   "source": [
    "name_li_bb[:48]"
   ]
  },
  {
   "cell_type": "code",
   "execution_count": 50,
   "metadata": {},
   "outputs": [
    {
     "data": {
      "text/plain": [
       "'https://shop.nordstrom.com/s/yuzefi-delia-bucket-bag/4953875?origin=keywordsearch-personalizedsort&breadcrumb=Home%2FAll%20Results&color=bruciato%2F%20kaky'"
      ]
     },
     "execution_count": 50,
     "metadata": {},
     "output_type": "execute_result"
    }
   ],
   "source": [
    "bb_urls[26]"
   ]
  },
  {
   "cell_type": "code",
   "execution_count": null,
   "metadata": {
    "collapsed": true
   },
   "outputs": [],
   "source": []
  }
 ],
 "metadata": {
  "kernelspec": {
   "display_name": "Python 3",
   "language": "python",
   "name": "python3"
  },
  "language_info": {
   "codemirror_mode": {
    "name": "ipython",
    "version": 3
   },
   "file_extension": ".py",
   "mimetype": "text/x-python",
   "name": "python",
   "nbconvert_exporter": "python",
   "pygments_lexer": "ipython3",
   "version": "3.6.8"
  }
 },
 "nbformat": 4,
 "nbformat_minor": 2
}
