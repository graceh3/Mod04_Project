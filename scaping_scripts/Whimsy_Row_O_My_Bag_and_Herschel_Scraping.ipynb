{
 "cells": [
  {
   "cell_type": "markdown",
   "metadata": {},
   "source": [
    "# Using Selenium, Beatutiful Soup & Requests: _Hershel, O My Bag & Whimsy and Row_\n",
    "\n",
    "In this section we will be using selenium and beautiful soup to scrape all of the women's bags from Hershel, O My Bag & Whimsy and Row. We will get the: picture,price, product link, and description.\n",
    "\n",
    "Resources used to help in this process can be found in other notebooks.\n",
    "\n",
    "#### Import your needed Libraries:"
   ]
  },
  {
   "cell_type": "code",
   "execution_count": null,
   "metadata": {},
   "outputs": [],
   "source": [
    "import time\n",
    "import requests\n",
    "from selenium import webdriver\n",
    "from webdriver_manager.chrome import ChromeDriverManager\n",
    "from bs4 import BeautifulSoup\n",
    "import cv2\n",
    "import numpy as np \n",
    "import pandas as pd\n",
    "import re\n",
    "from PIL import Image\n",
    "import requests\n",
    "from io import BytesIO\n",
    "from scraping_functions import *\n",
    "%load_ext autoreload\n",
    "%autoreload 2"
   ]
  },
  {
   "cell_type": "markdown",
   "metadata": {},
   "source": [
    "#### Create variables for each of the URL\n",
    "\n",
    "We will do this for each of the pages we will be pulling from on _Hershel, O My Bag & Whimsy and Row_."
   ]
  },
  {
   "cell_type": "code",
   "execution_count": null,
   "metadata": {
    "collapsed": true
   },
   "outputs": [],
   "source": [
    "hershel_backpacks = 'https://herschel.com/shop/womens/backpacks'\n",
    "hershel_fp = 'https://herschel.com/shop/womens/hip-packs'\n",
    "hershel_totes = 'https://herschel.com/shop/womens/totes'\n",
    "hershel_messenger = 'https://herschel.com/shop/womens/messengers'\n",
    "\n",
    "O_my_bag = 'https://www.omybag.nl/product-category/women/women-bags/'\n",
    "\n",
    "#only the first 13-ish bags\n",
    "WR_bags = 'https://whimsyandrow.com/collections/bags-clutches-pouches?sort_by=title-ascending'"
   ]
  },
  {
   "cell_type": "markdown",
   "metadata": {},
   "source": [
    "### O My Bag:\n",
    "\n",
    "Now that we have our page variables set up, we can scrape the bags. After inspecting on the website it appears we can just use beautiful soup for this task."
   ]
  },
  {
   "cell_type": "code",
   "execution_count": null,
   "metadata": {
    "collapsed": true
   },
   "outputs": [],
   "source": [
    "omb_page = requests.get(O_my_bag)\n",
    "omb_soup = BeautifulSoup(omb_page.content, 'lxml')\n",
    "divs_imgs = omb_soup.findAll('div', {'class':'content-product'})"
   ]
  },
  {
   "cell_type": "code",
   "execution_count": null,
   "metadata": {
    "collapsed": true
   },
   "outputs": [],
   "source": [
    "omb_links = omb_soup.findAll('a', {'class':'woocommerce-LoopProduct-link'})\n",
    "omb_href = [x['href'] for x in omb_links]"
   ]
  },
  {
   "cell_type": "markdown",
   "metadata": {},
   "source": [
    "Now let's grab the images:"
   ]
  },
  {
   "cell_type": "code",
   "execution_count": null,
   "metadata": {
    "collapsed": true
   },
   "outputs": [],
   "source": [
    "omb_images_tags = omb_soup.findAll('img', {'class':'attachment-woocommerce_thumbnail'})\n",
    "omb_images = [x['src'] for x in omb_images_tags]"
   ]
  },
  {
   "cell_type": "markdown",
   "metadata": {},
   "source": [
    "Now, let's get into the details like price and name:"
   ]
  },
  {
   "cell_type": "code",
   "execution_count": null,
   "metadata": {
    "collapsed": true
   },
   "outputs": [],
   "source": [
    "omb_prod_details = omb_soup.findAll('div', {'class':'product-details'})"
   ]
  },
  {
   "cell_type": "code",
   "execution_count": null,
   "metadata": {
    "collapsed": true
   },
   "outputs": [],
   "source": [
    "omb_names = [x.find('div', {'class': 'product-title'}).text.strip() for x in omb_prod_details]\n",
    "omb_prices = [x.find('span', {'class': 'price'}).text.strip() for x in omb_prod_details]"
   ]
  },
  {
   "cell_type": "markdown",
   "metadata": {},
   "source": [
    "### Create a DataFrame and use our function to download pictures :\n",
    "\n",
    "Below we will use the lists created above and make a dataframe. Then we will define a function to download the images into our directory, and save the image file name in a new column of the DataFrame."
   ]
  },
  {
   "cell_type": "code",
   "execution_count": null,
   "metadata": {
    "collapsed": true
   },
   "outputs": [],
   "source": [
    "table = [omb_names,omb_prices,omb_href,omb_images]\n",
    "OMB_df = pd.DataFrame(table).transpose()"
   ]
  },
  {
   "cell_type": "code",
   "execution_count": null,
   "metadata": {
    "collapsed": true
   },
   "outputs": [],
   "source": [
    "OMB_df.rename( columns={0:'product_name', 1: 'product_price',2:'URL',3:'img_url'},inplace=True)"
   ]
  },
  {
   "cell_type": "code",
   "execution_count": null,
   "metadata": {},
   "outputs": [],
   "source": [
    "OMB_df.head(3)"
   ]
  },
  {
   "cell_type": "markdown",
   "metadata": {},
   "source": [
    "#### Save all images using an apply"
   ]
  },
  {
   "cell_type": "code",
   "execution_count": null,
   "metadata": {},
   "outputs": [],
   "source": [
    "c = 0\n",
    "OMB_df['img'] = OMB_df.img_url.apply(lambda x: save_src_image_apply('../../data/','omybag_',x))"
   ]
  },
  {
   "cell_type": "code",
   "execution_count": null,
   "metadata": {
    "collapsed": true
   },
   "outputs": [],
   "source": [
    "OMB_df.to_csv('../../omb_df.csv')"
   ]
  },
  {
   "cell_type": "markdown",
   "metadata": {},
   "source": [
    "### Whimsy and Row:"
   ]
  },
  {
   "cell_type": "code",
   "execution_count": null,
   "metadata": {
    "collapsed": true
   },
   "outputs": [],
   "source": [
    "wr_page = requests.get(WR_bags)\n",
    "wr_soup = BeautifulSoup(wr_page.content, 'lxml')\n",
    "divs_wr = wr_soup.findAll('div', {'class':'product-frame'})"
   ]
  },
  {
   "cell_type": "code",
   "execution_count": null,
   "metadata": {
    "collapsed": true
   },
   "outputs": [],
   "source": [
    "wr_url = ['https://whimsyandrow.com' + x.find('a')['href'] for x in divs_wr[:-3]]\n",
    "wr_names = [x.find('a')['title'] for x in divs_wr[:-3]]\n",
    "wr_images_url = ['https:'+x.find('img')['src'] for x in divs_wr[:-3]] "
   ]
  },
  {
   "cell_type": "markdown",
   "metadata": {},
   "source": [
    "Now, let's get the prices which are in a different div:"
   ]
  },
  {
   "cell_type": "code",
   "execution_count": null,
   "metadata": {
    "collapsed": true
   },
   "outputs": [],
   "source": [
    "divs_wr_2 = wr_soup.findAll('div', {'class':'product-title'})\n",
    "prices = [x.find('h6').text for x in divs_wr_2[:-3]]"
   ]
  },
  {
   "cell_type": "markdown",
   "metadata": {},
   "source": [
    "### Create this whimsy and Row DF and save the images:"
   ]
  },
  {
   "cell_type": "code",
   "execution_count": null,
   "metadata": {
    "collapsed": true
   },
   "outputs": [],
   "source": [
    "table = [wr_names,prices,wr_url,wr_images_url]\n",
    "wr_df = pd.DataFrame(table).transpose()\n",
    "wr_df.rename(columns={0:'product_name', 1: 'product_price',2:'URL',3:'img_url'},inplace=True)"
   ]
  },
  {
   "cell_type": "markdown",
   "metadata": {},
   "source": [
    "#### Save all images using an apply:"
   ]
  },
  {
   "cell_type": "code",
   "execution_count": null,
   "metadata": {},
   "outputs": [],
   "source": [
    "c = 0\n",
    "wr_df['img'] = wr_df.img_url.apply(lambda x: save_src_image_apply('../../data/','whimsy_row_',x))"
   ]
  },
  {
   "cell_type": "code",
   "execution_count": null,
   "metadata": {
    "collapsed": true
   },
   "outputs": [],
   "source": [
    "wr_df.to_csv('../../whimsy_row_df.csv')"
   ]
  },
  {
   "cell_type": "markdown",
   "metadata": {},
   "source": [
    "### _Hershel_:"
   ]
  },
  {
   "cell_type": "code",
   "execution_count": null,
   "metadata": {
    "collapsed": true
   },
   "outputs": [],
   "source": [
    "h_page_1 = requests.get(hershel_backpacks)\n",
    "h_soup_1 = BeautifulSoup(h_page_1.content, 'lxml')\n",
    "divs_h = h_soup_1.findAll('div', {'class':'col-lg-4 col-md-6 col-xs-12 m-b-2'})"
   ]
  },
  {
   "cell_type": "code",
   "execution_count": null,
   "metadata": {
    "collapsed": true
   },
   "outputs": [],
   "source": [
    "#three of the bookbags do not have multiple colors\n",
    "colors_carousel = [x.findAll('div',{'class':'carousel'}) if x.findAll('div',{'class':'carousel'}) \n",
    "                   else x.find('div',{'class':'product-image'}) for x in divs_h]\n",
    "\n",
    "h_bb_imgs = [i[0].findAll('img',{'class':'swatch'}) if str(type(i)) == \"<class 'bs4.element.ResultSet'>\" \n",
    "             else [i.find('img')] for i in colors_carousel]"
   ]
  },
  {
   "cell_type": "code",
   "execution_count": null,
   "metadata": {
    "collapsed": true
   },
   "outputs": [],
   "source": [
    "h_bookbag_colors = [[i['data-color'] if 'data-color' in str(i) else 'NA' for i in x] for x in h_bb_imgs]\n",
    "h_bookbag_img = [['https://herschel.com'+i['data-product-image'] if 'data-product-image' in \n",
    "                  str(i) else 'https://herschel.com'+i['data-src'] for i in x] for x in h_bb_imgs]"
   ]
  },
  {
   "cell_type": "code",
   "execution_count": null,
   "metadata": {
    "collapsed": true
   },
   "outputs": [],
   "source": [
    "names = [x.find('div',{'class':'col-xs-6 title-line'}).text for x in divs_h]"
   ]
  },
  {
   "cell_type": "code",
   "execution_count": null,
   "metadata": {},
   "outputs": [],
   "source": [
    "prices = [x.find('span',{'class':'hsco-set-currency'}).text for x in divs_h]\n",
    "prod_h_url = [x.find('a',{'class':'js-product-grid-link'})['href'] for x in divs_h]"
   ]
  },
  {
   "cell_type": "code",
   "execution_count": null,
   "metadata": {
    "collapsed": true
   },
   "outputs": [],
   "source": [
    "names_adj = []\n",
    "for i in range(len(names)):\n",
    "    n = len(h_bb_imgs[i])\n",
    "    names_adj.extend([names[i]]*n)"
   ]
  },
  {
   "cell_type": "code",
   "execution_count": null,
   "metadata": {
    "collapsed": true
   },
   "outputs": [],
   "source": [
    "prices_adj =  []\n",
    "for i in range(len(prices)):\n",
    "    n = len(h_bb_imgs[i])\n",
    "    prices_adj.extend([prices[i]]*n)"
   ]
  },
  {
   "cell_type": "code",
   "execution_count": null,
   "metadata": {
    "collapsed": true
   },
   "outputs": [],
   "source": [
    "prod_h_url_adj =  []\n",
    "for i in range(len(prod_h_url)):\n",
    "    n = len(h_bb_imgs[i])\n",
    "    prod_h_url_adj.extend([prod_h_url[i]]*n)"
   ]
  },
  {
   "cell_type": "code",
   "execution_count": null,
   "metadata": {},
   "outputs": [],
   "source": [
    "len(h_bookbag_img),len(names)"
   ]
  },
  {
   "cell_type": "code",
   "execution_count": null,
   "metadata": {},
   "outputs": [],
   "source": [
    "len(names_adj),len(prices_adj),len(prod_h_url_adj)"
   ]
  },
  {
   "cell_type": "markdown",
   "metadata": {},
   "source": [
    "Let's flatten the lists of colors and images:"
   ]
  },
  {
   "cell_type": "code",
   "execution_count": null,
   "metadata": {
    "collapsed": true
   },
   "outputs": [],
   "source": [
    "h_bookbag_colors_fl = [color for sublist in h_bookbag_colors for color in sublist]\n",
    "h_bookbag_img_fl = [img for sublist in h_bookbag_img for img in sublist]\n",
    "# len(h_bookbag_colors_fl),len(h_bookbag_img_fl)"
   ]
  },
  {
   "cell_type": "markdown",
   "metadata": {},
   "source": [
    "Make the DataFrame:"
   ]
  },
  {
   "cell_type": "code",
   "execution_count": null,
   "metadata": {
    "collapsed": true
   },
   "outputs": [],
   "source": [
    "table = [names_adj,prices_adj,h_bookbag_colors_fl,prod_h_url_adj,h_bookbag_img_fl]\n",
    "herschel_df = pd.DataFrame(table).transpose()\n",
    "herschel_df.rename(columns={0:'product_name', 1: 'product_price',2:'color',3:'URL',4:'img_url'},inplace=True)"
   ]
  },
  {
   "cell_type": "markdown",
   "metadata": {},
   "source": [
    "#### Save all images using an apply:"
   ]
  },
  {
   "cell_type": "code",
   "execution_count": null,
   "metadata": {},
   "outputs": [],
   "source": [
    "c = 0\n",
    "herschel_df['img'] = herschel_df.img_url.apply(lambda x: save_src_image_apply('../../data/','herschel',x))"
   ]
  },
  {
   "cell_type": "code",
   "execution_count": null,
   "metadata": {
    "collapsed": true
   },
   "outputs": [],
   "source": [
    "herschel_df.to_csv('../../herschel_df.csv')"
   ]
  },
  {
   "cell_type": "markdown",
   "metadata": {},
   "source": [
    "### Herschel Fannie Packs:"
   ]
  },
  {
   "cell_type": "code",
   "execution_count": null,
   "metadata": {
    "collapsed": true
   },
   "outputs": [],
   "source": [
    "h_page_1 = requests.get(hershel_fp)\n",
    "h_soup_1 = BeautifulSoup(h_page_1.content, 'lxml')\n",
    "divs_h = h_soup_1.findAll('div', {'class':'col-lg-4 col-md-6 col-xs-12 m-b-2'})"
   ]
  },
  {
   "cell_type": "code",
   "execution_count": null,
   "metadata": {},
   "outputs": [],
   "source": [
    "colors_carousel_fp = [x.findAll('div',{'class':'carousel'}) if x.findAll('div',{'class':'carousel'}) \n",
    "                   else x.find('div',{'class':'product-image'}) for x in divs_h]\n",
    "h_fp_imgs = [i[0].findAll('img',{'class':'swatch'}) if str(type(i)) == \"<class 'bs4.element.ResultSet'>\" \n",
    "             else [i.find('img')] for i in colors_carousel_fp]"
   ]
  },
  {
   "cell_type": "code",
   "execution_count": null,
   "metadata": {},
   "outputs": [],
   "source": [
    "h_fannie_colors = [[i['data-color'] if 'data-color' in str(i) else 'NA' for i in x] for x in h_fp_imgs]\n",
    "h_fannie_img = [['https://herschel.com'+i['data-product-image'] if 'data-product-image' in \n",
    "                  str(i) else 'https://herschel.com'+i['data-src'] for i in x] for x in h_fp_imgs]\n",
    "names_fp = [x.find('div',{'class':'col-xs-6 title-line'}).text for x in divs_h]\n",
    "prices_fp = [x.find('span',{'class':'hsco-set-currency'}).text for x in divs_h]\n",
    "prod_h_url_fp = ['https://herschel.com'+x.find('a',{'class':'js-product-grid-link'})['href'] for x in divs_h]"
   ]
  },
  {
   "cell_type": "markdown",
   "metadata": {},
   "source": [
    "Extend prices, names, and product url lists to ensure they have the same lengths as all of the colors."
   ]
  },
  {
   "cell_type": "code",
   "execution_count": null,
   "metadata": {},
   "outputs": [],
   "source": [
    "names_adj_fp = []\n",
    "for i in range(len(names_fp)):\n",
    "    n = len(h_bb_imgs_fp[i])\n",
    "    names_adj_fp.extend([names_fp[i]]*n)\n",
    "    \n",
    "prices_adj_fp =  []\n",
    "for i in range(len(prices_fp)):\n",
    "    n = len(h_fp_imgs[i])\n",
    "    prices_adj_fp.extend([prices_fp[i]]*n)\n",
    "\n",
    "prod_h_url_adj_fp =  []\n",
    "for i in range(len(prod_h_url_fp)):\n",
    "    n = len(h_fp_imgs[i])\n",
    "    prod_h_url_adj_fp.extend([prod_h_url_fp[i]]*n)"
   ]
  },
  {
   "cell_type": "markdown",
   "metadata": {},
   "source": [
    "Flatten the images and colors lists:"
   ]
  },
  {
   "cell_type": "code",
   "execution_count": null,
   "metadata": {},
   "outputs": [],
   "source": [
    "h_fp_colors_fl = [color for sublist in h_fannie_colors for color in sublist]\n",
    "h_fp_img_fl = [img for sublist in h_fannie_img for img in sublist]\n",
    "len(h_fp_colors_fl),len(h_fp_img_fl),len(prod_h_url_adj_fp)"
   ]
  },
  {
   "cell_type": "markdown",
   "metadata": {},
   "source": [
    "Create the DataFrame of the Herschel Fannie Packs:"
   ]
  },
  {
   "cell_type": "code",
   "execution_count": null,
   "metadata": {
    "collapsed": true
   },
   "outputs": [],
   "source": [
    "table = [names_adj_fp,prices_adj_fp,h_fp_colors_fl,prod_h_url_adj_fp,h_fp_img_fl]\n",
    "herschel_df_fp = pd.DataFrame(table).transpose()\n",
    "herschel_df_fp.rename(columns={0:'product_name', 1: 'product_price',2:'color',3:'URL',4:'img_url'},inplace=True)"
   ]
  },
  {
   "cell_type": "code",
   "execution_count": null,
   "metadata": {},
   "outputs": [],
   "source": [
    "herschel_df_fp.head()"
   ]
  },
  {
   "cell_type": "markdown",
   "metadata": {},
   "source": [
    "#### Save all images using an apply:"
   ]
  },
  {
   "cell_type": "code",
   "execution_count": null,
   "metadata": {},
   "outputs": [],
   "source": [
    "c = 0\n",
    "herschel_df_fp['img'] = herschel_df_fp.img_url.apply(lambda x: save_src_image_apply('../../data/','herschel_fp',x))"
   ]
  },
  {
   "cell_type": "code",
   "execution_count": null,
   "metadata": {
    "collapsed": true
   },
   "outputs": [],
   "source": [
    "herschel_df_fp.to_csv('../../herschel_df_fp.csv')"
   ]
  },
  {
   "cell_type": "markdown",
   "metadata": {},
   "source": [
    "### Herschel Totes:"
   ]
  },
  {
   "cell_type": "code",
   "execution_count": null,
   "metadata": {
    "collapsed": true
   },
   "outputs": [],
   "source": [
    "h_page_1 = requests.get(hershel_totes)\n",
    "h_soup_1 = BeautifulSoup(h_page_1.content, 'lxml')\n",
    "divs_h = h_soup_1.findAll('div', {'class':'col-lg-4 col-md-6 col-xs-12 m-b-2'})"
   ]
  },
  {
   "cell_type": "code",
   "execution_count": null,
   "metadata": {
    "collapsed": true
   },
   "outputs": [],
   "source": [
    "colors_carousel_t = [x.findAll('div',{'class':'carousel'}) if x.findAll('div',{'class':'carousel'}) \n",
    "                   else x.find('div',{'class':'product-image'}) for x in divs_h]\n",
    "h_t_imgs = [i[0].findAll('img',{'class':'swatch'}) if str(type(i)) == \"<class 'bs4.element.ResultSet'>\" \n",
    "             else [i.find('img')] for i in colors_carousel_t]"
   ]
  },
  {
   "cell_type": "code",
   "execution_count": null,
   "metadata": {
    "collapsed": true
   },
   "outputs": [],
   "source": [
    "h_tote_colors = [[i['data-color'] if 'data-color' in str(i) else 'NA' for i in x] for x in h_t_imgs]\n",
    "h_tote_img = [['https://herschel.com'+i['data-product-image'] if 'data-product-image' in \n",
    "                  str(i) else 'https://herschel.com'+i['data-src'] for i in x] for x in h_t_imgs]\n",
    "names_t = [x.find('div',{'class':'col-xs-6 title-line'}).text for x in divs_h]\n",
    "prices_t = [x.find('span',{'class':'hsco-set-currency'}).text for x in divs_h]\n",
    "prod_h_url_t = ['https://herschel.com'+x.find('a',{'class':'js-product-grid-link'})['href'] for x in divs_h]"
   ]
  },
  {
   "cell_type": "markdown",
   "metadata": {},
   "source": [
    "Extend prices, names, and product url lists to ensure they have the same lengths as all of the colors."
   ]
  },
  {
   "cell_type": "code",
   "execution_count": null,
   "metadata": {
    "collapsed": true
   },
   "outputs": [],
   "source": [
    "names_adj_t = []\n",
    "for i in range(len(names_t)):\n",
    "    n = len(h_t_imgs[i])\n",
    "    names_adj_t.extend([names_t[i]]*n)\n",
    "    \n",
    "prices_adj_t =  []\n",
    "for i in range(len(prices_t)):\n",
    "    n = len(h_t_imgs[i])\n",
    "    prices_adj_t.extend([prices_t[i]]*n)\n",
    "1\n",
    "prod_h_url_adj_t =  []\n",
    "for i in range(len(prod_h_url_t)):\n",
    "    n = len(h_t_imgs[i])\n",
    "    prod_h_url_adj_t.extend([prod_h_url_t[i]]*n)"
   ]
  },
  {
   "cell_type": "markdown",
   "metadata": {},
   "source": [
    "Flatten the images and colors lists:"
   ]
  },
  {
   "cell_type": "code",
   "execution_count": null,
   "metadata": {},
   "outputs": [],
   "source": [
    "h_t_colors_fl = [color for sublist in h_tote_colors for color in sublist]\n",
    "h_t_img_fl = [img for sublist in h_tote_img for img in sublist]\n",
    "len(h_t_colors_fl),len(h_t_img_fl),len(prod_h_url_adj_t)"
   ]
  },
  {
   "cell_type": "markdown",
   "metadata": {},
   "source": [
    "Create the DataFrame of the Herschel Fannie Packs:"
   ]
  },
  {
   "cell_type": "code",
   "execution_count": null,
   "metadata": {
    "collapsed": true
   },
   "outputs": [],
   "source": [
    "table = [names_adj_t,prices_adj_t,h_t_colors_fl,prod_h_url_adj_t,h_t_img_fl]\n",
    "herschel_df_t = pd.DataFrame(table).transpose()\n",
    "herschel_df_t.rename(columns={0:'product_name', 1: 'product_price',2:'color',3:'URL',4:'img_url'},inplace=True)"
   ]
  },
  {
   "cell_type": "code",
   "execution_count": null,
   "metadata": {},
   "outputs": [],
   "source": [
    "herschel_df_t.head()"
   ]
  },
  {
   "cell_type": "markdown",
   "metadata": {},
   "source": [
    "#### Save all images using an apply:"
   ]
  },
  {
   "cell_type": "code",
   "execution_count": null,
   "metadata": {},
   "outputs": [],
   "source": [
    "c = 0\n",
    "herschel_df_t['img'] = herschel_df_t.img_url.apply(lambda x: save_src_image_apply('../../data/','herschel_t',x))"
   ]
  },
  {
   "cell_type": "code",
   "execution_count": null,
   "metadata": {
    "collapsed": true
   },
   "outputs": [],
   "source": [
    "herschel_df_t.to_csv('../../herschel_df_t.csv')"
   ]
  },
  {
   "cell_type": "code",
   "execution_count": null,
   "metadata": {
    "collapsed": true
   },
   "outputs": [],
   "source": []
  }
 ],
 "metadata": {
  "kernelspec": {
   "display_name": "Python 3",
   "language": "python",
   "name": "python3"
  },
  "language_info": {
   "codemirror_mode": {
    "name": "ipython",
    "version": 3
   },
   "file_extension": ".py",
   "mimetype": "text/x-python",
   "name": "python",
   "nbconvert_exporter": "python",
   "pygments_lexer": "ipython3",
   "version": "3.6.8"
  }
 },
 "nbformat": 4,
 "nbformat_minor": 2
}
