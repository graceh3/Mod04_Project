{
 "cells": [
  {
   "cell_type": "markdown",
   "metadata": {},
   "source": [
    "# Using Selenium, Beatutiful Soup & Requests: _Hershel, O My Bag & Whimsy and Row_\n",
    "\n",
    "In this section we will be using selenium and beautiful soup to scrape all of the women's bags from Hershel, O My Bag & Whimsy and Row. We will get the: picture,price, product link, and description.\n",
    "\n",
    "Resources used to help in this process can be found in other notebooks.\n",
    "\n",
    "#### Import your needed Libraries:"
   ]
  },
  {
   "cell_type": "code",
   "execution_count": null,
   "metadata": {},
   "outputs": [],
   "source": [
    "import time\n",
    "import requests\n",
    "from selenium import webdriver\n",
    "from webdriver_manager.chrome import ChromeDriverManager\n",
    "from bs4 import BeautifulSoup\n",
    "import cv2\n",
    "import numpy as np \n",
    "import pandas as pd\n",
    "import re\n",
    "from PIL import Image\n",
    "import requests\n",
    "from io import BytesIO\n",
    "from scraping_functions import *\n",
    "%load_ext autoreload\n",
    "%autoreload 2"
   ]
  },
  {
   "cell_type": "markdown",
   "metadata": {},
   "source": [
    "#### Create variables for each of the URL\n",
    "\n",
    "We will do this for each of the pages we will be pulling from on _Hershel, O My Bag & Whimsy and Row_."
   ]
  },
  {
   "cell_type": "code",
   "execution_count": 409,
   "metadata": {
    "collapsed": true
   },
   "outputs": [],
   "source": [
    "hershel_backpacks = 'https://herschel.com/shop/womens/backpacks'\n",
    "hershel_fp = 'https://herschel.com/shop/womens/hip-packs'\n",
    "hershel_totes = 'https://herschel.com/shop/womens/totes'\n",
    "hershel_duffles = 'https://herschel.com/shop/womens/duffles'\n",
    "\n",
    "O_my_bag = 'https://www.omybag.nl/product-category/women/women-bags/'\n",
    "\n",
    "#only the first 13-ish bags\n",
    "WR_bags = 'https://whimsyandrow.com/collections/bags-clutches-pouches?sort_by=title-ascending'"
   ]
  },
  {
   "cell_type": "markdown",
   "metadata": {},
   "source": [
    "### O My Bag:\n",
    "\n",
    "Now that we have our page variables set up, we can scrape the bags. After inspecting on the website it appears we can just use beautiful soup for this task."
   ]
  },
  {
   "cell_type": "code",
   "execution_count": null,
   "metadata": {
    "collapsed": true
   },
   "outputs": [],
   "source": [
    "omb_page = requests.get(O_my_bag)\n",
    "omb_soup = BeautifulSoup(omb_page.content, 'lxml')\n",
    "divs_imgs = omb_soup.findAll('div', {'class':'content-product'})"
   ]
  },
  {
   "cell_type": "code",
   "execution_count": null,
   "metadata": {
    "collapsed": true
   },
   "outputs": [],
   "source": [
    "omb_links = omb_soup.findAll('a', {'class':'woocommerce-LoopProduct-link'})\n",
    "omb_href = [x['href'] for x in omb_links]"
   ]
  },
  {
   "cell_type": "markdown",
   "metadata": {},
   "source": [
    "Now let's grab the images:"
   ]
  },
  {
   "cell_type": "code",
   "execution_count": null,
   "metadata": {
    "collapsed": true
   },
   "outputs": [],
   "source": [
    "omb_images_tags = omb_soup.findAll('img', {'class':'attachment-woocommerce_thumbnail'})\n",
    "omb_images = [x['src'] for x in omb_images_tags]"
   ]
  },
  {
   "cell_type": "markdown",
   "metadata": {},
   "source": [
    "Now, let's get into the details like price and name:"
   ]
  },
  {
   "cell_type": "code",
   "execution_count": null,
   "metadata": {
    "collapsed": true
   },
   "outputs": [],
   "source": [
    "omb_prod_details = omb_soup.findAll('div', {'class':'product-details'})"
   ]
  },
  {
   "cell_type": "code",
   "execution_count": null,
   "metadata": {
    "collapsed": true
   },
   "outputs": [],
   "source": [
    "omb_names = [x.find('div', {'class': 'product-title'}).text.strip() for x in omb_prod_details]\n",
    "omb_prices = [x.find('span', {'class': 'price'}).text.strip() for x in omb_prod_details]"
   ]
  },
  {
   "cell_type": "markdown",
   "metadata": {},
   "source": [
    "### Create a DataFrame and use our function to download pictures :\n",
    "\n",
    "Below we will use the lists created above and make a dataframe. Then we will define a function to download the images into our directory, and save the image file name in a new column of the DataFrame."
   ]
  },
  {
   "cell_type": "code",
   "execution_count": null,
   "metadata": {
    "collapsed": true
   },
   "outputs": [],
   "source": [
    "table = [omb_names,omb_prices,omb_href,omb_images]\n",
    "OMB_df = pd.DataFrame(table).transpose()"
   ]
  },
  {
   "cell_type": "code",
   "execution_count": null,
   "metadata": {
    "collapsed": true
   },
   "outputs": [],
   "source": [
    "OMB_df.rename( columns={0:'product_name', 1: 'product_price',2:'URL',3:'img_url'},inplace=True)"
   ]
  },
  {
   "cell_type": "code",
   "execution_count": null,
   "metadata": {},
   "outputs": [],
   "source": [
    "OMB_df.head(3)"
   ]
  },
  {
   "cell_type": "markdown",
   "metadata": {},
   "source": [
    "#### Save all images using an apply"
   ]
  },
  {
   "cell_type": "code",
   "execution_count": null,
   "metadata": {},
   "outputs": [],
   "source": [
    "c = 0\n",
    "OMB_df['img'] = OMB_df.img_url.apply(lambda x: save_src_image_apply('../../data/','omybag_',x))"
   ]
  },
  {
   "cell_type": "code",
   "execution_count": null,
   "metadata": {
    "collapsed": true
   },
   "outputs": [],
   "source": [
    "OMB_df.to_csv('../../omb_df.csv')"
   ]
  },
  {
   "cell_type": "markdown",
   "metadata": {},
   "source": [
    "### Whimsy and Row:"
   ]
  },
  {
   "cell_type": "code",
   "execution_count": null,
   "metadata": {
    "collapsed": true
   },
   "outputs": [],
   "source": [
    "wr_page = requests.get(WR_bags)\n",
    "wr_soup = BeautifulSoup(wr_page.content, 'lxml')\n",
    "divs_wr = wr_soup.findAll('div', {'class':'product-frame'})"
   ]
  },
  {
   "cell_type": "code",
   "execution_count": null,
   "metadata": {
    "collapsed": true
   },
   "outputs": [],
   "source": [
    "wr_url = ['https://whimsyandrow.com' + x.find('a')['href'] for x in divs_wr[:-3]]\n",
    "wr_names = [x.find('a')['title'] for x in divs_wr[:-3]]\n",
    "wr_images_url = ['https:'+x.find('img')['src'] for x in divs_wr[:-3]] "
   ]
  },
  {
   "cell_type": "markdown",
   "metadata": {},
   "source": [
    "Now, let's get the prices which are in a different div:"
   ]
  },
  {
   "cell_type": "code",
   "execution_count": null,
   "metadata": {
    "collapsed": true
   },
   "outputs": [],
   "source": [
    "divs_wr_2 = wr_soup.findAll('div', {'class':'product-title'})\n",
    "prices = [x.find('h6').text for x in divs_wr_2[:-3]]"
   ]
  },
  {
   "cell_type": "markdown",
   "metadata": {},
   "source": [
    "### Create this whimsy and Row DF and save the images:"
   ]
  },
  {
   "cell_type": "code",
   "execution_count": null,
   "metadata": {
    "collapsed": true
   },
   "outputs": [],
   "source": [
    "table = [wr_names,prices,wr_url,wr_images_url]\n",
    "wr_df = pd.DataFrame(table).transpose()\n",
    "wr_df.rename(columns={0:'product_name', 1: 'product_price',2:'URL',3:'img_url'},inplace=True)"
   ]
  },
  {
   "cell_type": "markdown",
   "metadata": {},
   "source": [
    "#### Save all images using an apply:"
   ]
  },
  {
   "cell_type": "code",
   "execution_count": null,
   "metadata": {},
   "outputs": [],
   "source": [
    "c = 0\n",
    "wr_df['img'] = wr_df.img_url.apply(lambda x: save_src_image_apply('../../data/','whimsy_row_',x))"
   ]
  },
  {
   "cell_type": "code",
   "execution_count": null,
   "metadata": {
    "collapsed": true
   },
   "outputs": [],
   "source": [
    "wr_df.to_csv('../../whimsy_row_df.csv')"
   ]
  },
  {
   "cell_type": "markdown",
   "metadata": {},
   "source": [
    "### _Hershel_:"
   ]
  },
  {
   "cell_type": "code",
   "execution_count": null,
   "metadata": {
    "collapsed": true
   },
   "outputs": [],
   "source": [
    "h_page_1 = requests.get(hershel_backpacks)\n",
    "h_soup_1 = BeautifulSoup(h_page_1.content, 'lxml')\n",
    "divs_h = h_soup_1.findAll('div', {'class':'col-lg-4 col-md-6 col-xs-12 m-b-2'})"
   ]
  },
  {
   "cell_type": "code",
   "execution_count": null,
   "metadata": {
    "collapsed": true
   },
   "outputs": [],
   "source": [
    "#three of the bookbags do not have multiple colors\n",
    "colors_carousel = [x.findAll('div',{'class':'carousel'}) if x.findAll('div',{'class':'carousel'}) \n",
    "                   else x.find('div',{'class':'product-image'}) for x in divs_h]\n",
    "\n",
    "h_bb_imgs = [i[0].findAll('img',{'class':'swatch'}) if str(type(i)) == \"<class 'bs4.element.ResultSet'>\" \n",
    "             else [i.find('img')] for i in colors_carousel]"
   ]
  },
  {
   "cell_type": "code",
   "execution_count": null,
   "metadata": {
    "collapsed": true
   },
   "outputs": [],
   "source": [
    "h_bookbag_colors = [[i['data-color'] if 'data-color' in str(i) else 'NA' for i in x] for x in h_bb_imgs]\n",
    "h_bookbag_img = [['https://herschel.com'+i['data-product-image'] if 'data-product-image' in \n",
    "                  str(i) else 'https://herschel.com'+i['data-src'] for i in x] for x in h_bb_imgs]"
   ]
  },
  {
   "cell_type": "code",
   "execution_count": null,
   "metadata": {
    "collapsed": true
   },
   "outputs": [],
   "source": [
    "names = [x.find('div',{'class':'col-xs-6 title-line'}).text for x in divs_h]"
   ]
  },
  {
   "cell_type": "code",
   "execution_count": null,
   "metadata": {},
   "outputs": [],
   "source": [
    "prices = [x.find('span',{'class':'hsco-set-currency'}).text for x in divs_h]\n",
    "prod_h_url = [x.find('a',{'class':'js-product-grid-link'})['href'] for x in divs_h]"
   ]
  },
  {
   "cell_type": "code",
   "execution_count": null,
   "metadata": {
    "collapsed": true
   },
   "outputs": [],
   "source": [
    "names_adj = []\n",
    "for i in range(len(names)):\n",
    "    n = len(h_bb_imgs[i])\n",
    "    names_adj.extend([names[i]]*n)"
   ]
  },
  {
   "cell_type": "code",
   "execution_count": null,
   "metadata": {
    "collapsed": true
   },
   "outputs": [],
   "source": [
    "prices_adj =  []\n",
    "for i in range(len(prices)):\n",
    "    n = len(h_bb_imgs[i])\n",
    "    prices_adj.extend([prices[i]]*n)"
   ]
  },
  {
   "cell_type": "code",
   "execution_count": null,
   "metadata": {
    "collapsed": true
   },
   "outputs": [],
   "source": [
    "prod_h_url_adj =  []\n",
    "for i in range(len(prod_h_url)):\n",
    "    n = len(h_bb_imgs[i])\n",
    "    prod_h_url_adj.extend([prod_h_url[i]]*n)"
   ]
  },
  {
   "cell_type": "code",
   "execution_count": null,
   "metadata": {},
   "outputs": [],
   "source": [
    "len(h_bookbag_img),len(names)"
   ]
  },
  {
   "cell_type": "code",
   "execution_count": null,
   "metadata": {},
   "outputs": [],
   "source": [
    "len(names_adj),len(prices_adj),len(prod_h_url_adj)"
   ]
  },
  {
   "cell_type": "markdown",
   "metadata": {},
   "source": [
    "Let's flatten the lists of colors and images:"
   ]
  },
  {
   "cell_type": "code",
   "execution_count": null,
   "metadata": {
    "collapsed": true
   },
   "outputs": [],
   "source": [
    "h_bookbag_colors_fl = [color for sublist in h_bookbag_colors for color in sublist]\n",
    "h_bookbag_img_fl = [img for sublist in h_bookbag_img for img in sublist]\n",
    "# len(h_bookbag_colors_fl),len(h_bookbag_img_fl)"
   ]
  },
  {
   "cell_type": "markdown",
   "metadata": {},
   "source": [
    "Make the DataFrame:"
   ]
  },
  {
   "cell_type": "code",
   "execution_count": null,
   "metadata": {
    "collapsed": true
   },
   "outputs": [],
   "source": [
    "table = [names_adj,prices_adj,h_bookbag_colors_fl,prod_h_url_adj,h_bookbag_img_fl]\n",
    "herschel_df = pd.DataFrame(table).transpose()\n",
    "herschel_df.rename(columns={0:'product_name', 1: 'product_price',2:'color',3:'URL',4:'img_url'},inplace=True)"
   ]
  },
  {
   "cell_type": "markdown",
   "metadata": {},
   "source": [
    "#### Save all images using an apply:"
   ]
  },
  {
   "cell_type": "code",
   "execution_count": null,
   "metadata": {},
   "outputs": [],
   "source": [
    "c = 0\n",
    "herschel_df['img'] = herschel_df.img_url.apply(lambda x: save_src_image_apply('../../data/','herschel',x))"
   ]
  },
  {
   "cell_type": "code",
   "execution_count": null,
   "metadata": {
    "collapsed": true
   },
   "outputs": [],
   "source": [
    "herschel_df.to_csv('../../herschel_df.csv')"
   ]
  },
  {
   "cell_type": "markdown",
   "metadata": {},
   "source": [
    "### Herschel Fannie Packs:"
   ]
  },
  {
   "cell_type": "code",
   "execution_count": null,
   "metadata": {
    "collapsed": true
   },
   "outputs": [],
   "source": [
    "h_page_1 = requests.get(hershel_fp)\n",
    "h_soup_1 = BeautifulSoup(h_page_1.content, 'lxml')\n",
    "divs_h = h_soup_1.findAll('div', {'class':'col-lg-4 col-md-6 col-xs-12 m-b-2'})"
   ]
  },
  {
   "cell_type": "code",
   "execution_count": null,
   "metadata": {},
   "outputs": [],
   "source": [
    "colors_carousel_fp = [x.findAll('div',{'class':'carousel'}) if x.findAll('div',{'class':'carousel'}) \n",
    "                   else x.find('div',{'class':'product-image'}) for x in divs_h]\n",
    "h_fp_imgs = [i[0].findAll('img',{'class':'swatch'}) if str(type(i)) == \"<class 'bs4.element.ResultSet'>\" \n",
    "             else [i.find('img')] for i in colors_carousel_fp]"
   ]
  },
  {
   "cell_type": "code",
   "execution_count": null,
   "metadata": {},
   "outputs": [],
   "source": [
    "h_fannie_colors = [[i['data-color'] if 'data-color' in str(i) else 'NA' for i in x] for x in h_fp_imgs]\n",
    "h_fannie_img = [['https://herschel.com'+i['data-product-image'] if 'data-product-image' in \n",
    "                  str(i) else 'https://herschel.com'+i['data-src'] for i in x] for x in h_fp_imgs]\n",
    "names_fp = [x.find('div',{'class':'col-xs-6 title-line'}).text for x in divs_h]\n",
    "prices_fp = [x.find('span',{'class':'hsco-set-currency'}).text for x in divs_h]\n",
    "prod_h_url_fp = ['https://herschel.com'+x.find('a',{'class':'js-product-grid-link'})['href'] for x in divs_h]"
   ]
  },
  {
   "cell_type": "markdown",
   "metadata": {},
   "source": [
    "Extend prices, names, and product url lists to ensure they have the same lengths as all of the colors."
   ]
  },
  {
   "cell_type": "code",
   "execution_count": null,
   "metadata": {},
   "outputs": [],
   "source": [
    "names_adj_fp = []\n",
    "for i in range(len(names_fp)):\n",
    "    n = len(h_bb_imgs_fp[i])\n",
    "    names_adj_fp.extend([names_fp[i]]*n)\n",
    "    \n",
    "prices_adj_fp =  []\n",
    "for i in range(len(prices_fp)):\n",
    "    n = len(h_fp_imgs[i])\n",
    "    prices_adj_fp.extend([prices_fp[i]]*n)\n",
    "\n",
    "prod_h_url_adj_fp =  []\n",
    "for i in range(len(prod_h_url_fp)):\n",
    "    n = len(h_fp_imgs[i])\n",
    "    prod_h_url_adj_fp.extend([prod_h_url_fp[i]]*n)"
   ]
  },
  {
   "cell_type": "markdown",
   "metadata": {},
   "source": [
    "Flatten the images and colors lists:"
   ]
  },
  {
   "cell_type": "code",
   "execution_count": null,
   "metadata": {},
   "outputs": [],
   "source": [
    "h_fp_colors_fl = [color for sublist in h_fannie_colors for color in sublist]\n",
    "h_fp_img_fl = [img for sublist in h_fannie_img for img in sublist]\n",
    "len(h_fp_colors_fl),len(h_fp_img_fl),len(prod_h_url_adj_fp)"
   ]
  },
  {
   "cell_type": "markdown",
   "metadata": {},
   "source": [
    "Create the DataFrame of the Herschel Fannie Packs:"
   ]
  },
  {
   "cell_type": "code",
   "execution_count": null,
   "metadata": {
    "collapsed": true
   },
   "outputs": [],
   "source": [
    "table = [names_adj_fp,prices_adj_fp,h_fp_colors_fl,prod_h_url_adj_fp,h_fp_img_fl]\n",
    "herschel_df_fp = pd.DataFrame(table).transpose()\n",
    "herschel_df_fp.rename(columns={0:'product_name', 1: 'product_price',2:'color',3:'URL',4:'img_url'},inplace=True)"
   ]
  },
  {
   "cell_type": "code",
   "execution_count": null,
   "metadata": {},
   "outputs": [],
   "source": [
    "herschel_df_fp.head()"
   ]
  },
  {
   "cell_type": "markdown",
   "metadata": {},
   "source": [
    "#### Save all images using an apply:"
   ]
  },
  {
   "cell_type": "code",
   "execution_count": null,
   "metadata": {},
   "outputs": [],
   "source": [
    "c = 0\n",
    "herschel_df_fp['img'] = herschel_df_fp.img_url.apply(lambda x: save_src_image_apply('../../data/','herschel_fp',x))"
   ]
  },
  {
   "cell_type": "code",
   "execution_count": null,
   "metadata": {
    "collapsed": true
   },
   "outputs": [],
   "source": [
    "herschel_df_fp.to_csv('../../herschel_df_fp.csv')"
   ]
  },
  {
   "cell_type": "markdown",
   "metadata": {},
   "source": [
    "### Herschel Totes:"
   ]
  },
  {
   "cell_type": "code",
   "execution_count": null,
   "metadata": {
    "collapsed": true
   },
   "outputs": [],
   "source": [
    "h_page_1 = requests.get(hershel_totes)\n",
    "h_soup_1 = BeautifulSoup(h_page_1.content, 'lxml')\n",
    "divs_h = h_soup_1.findAll('div', {'class':'col-lg-4 col-md-6 col-xs-12 m-b-2'})"
   ]
  },
  {
   "cell_type": "code",
   "execution_count": null,
   "metadata": {
    "collapsed": true
   },
   "outputs": [],
   "source": [
    "colors_carousel_t = [x.findAll('div',{'class':'carousel'}) if x.findAll('div',{'class':'carousel'}) \n",
    "                   else x.find('div',{'class':'product-image'}) for x in divs_h]\n",
    "h_t_imgs = [i[0].findAll('img',{'class':'swatch'}) if str(type(i)) == \"<class 'bs4.element.ResultSet'>\" \n",
    "             else [i.find('img')] for i in colors_carousel_t]"
   ]
  },
  {
   "cell_type": "code",
   "execution_count": null,
   "metadata": {
    "collapsed": true
   },
   "outputs": [],
   "source": [
    "h_tote_colors = [[i['data-color'] if 'data-color' in str(i) else 'NA' for i in x] for x in h_t_imgs]\n",
    "h_tote_img = [['https://herschel.com'+i['data-product-image'] if 'data-product-image' in \n",
    "                  str(i) else 'https://herschel.com'+i['data-src'] for i in x] for x in h_t_imgs]\n",
    "names_t = [x.find('div',{'class':'col-xs-6 title-line'}).text for x in divs_h]\n",
    "prices_t = [x.find('span',{'class':'hsco-set-currency'}).text for x in divs_h]\n",
    "prod_h_url_t = ['https://herschel.com'+x.find('a',{'class':'js-product-grid-link'})['href'] for x in divs_h]"
   ]
  },
  {
   "cell_type": "markdown",
   "metadata": {},
   "source": [
    "Extend prices, names, and product url lists to ensure they have the same lengths as all of the colors."
   ]
  },
  {
   "cell_type": "code",
   "execution_count": null,
   "metadata": {
    "collapsed": true
   },
   "outputs": [],
   "source": [
    "names_adj_t = []\n",
    "for i in range(len(names_t)):\n",
    "    n = len(h_t_imgs[i])\n",
    "    names_adj_t.extend([names_t[i]]*n)\n",
    "    \n",
    "prices_adj_t =  []\n",
    "for i in range(len(prices_t)):\n",
    "    n = len(h_t_imgs[i])\n",
    "    prices_adj_t.extend([prices_t[i]]*n)\n",
    "1\n",
    "prod_h_url_adj_t =  []\n",
    "for i in range(len(prod_h_url_t)):\n",
    "    n = len(h_t_imgs[i])\n",
    "    prod_h_url_adj_t.extend([prod_h_url_t[i]]*n)"
   ]
  },
  {
   "cell_type": "markdown",
   "metadata": {},
   "source": [
    "Flatten the images and colors lists:"
   ]
  },
  {
   "cell_type": "code",
   "execution_count": null,
   "metadata": {},
   "outputs": [],
   "source": [
    "h_t_colors_fl = [color for sublist in h_tote_colors for color in sublist]\n",
    "h_t_img_fl = [img for sublist in h_tote_img for img in sublist]\n",
    "len(h_t_colors_fl),len(h_t_img_fl),len(prod_h_url_adj_t)"
   ]
  },
  {
   "cell_type": "markdown",
   "metadata": {},
   "source": [
    "Create the DataFrame of the Herschel Fannie Packs:"
   ]
  },
  {
   "cell_type": "code",
   "execution_count": null,
   "metadata": {
    "collapsed": true
   },
   "outputs": [],
   "source": [
    "table = [names_adj_t,prices_adj_t,h_t_colors_fl,prod_h_url_adj_t,h_t_img_fl]\n",
    "herschel_df_t = pd.DataFrame(table).transpose()\n",
    "herschel_df_t.rename(columns={0:'product_name', 1: 'product_price',2:'color',3:'URL',4:'img_url'},inplace=True)"
   ]
  },
  {
   "cell_type": "code",
   "execution_count": null,
   "metadata": {},
   "outputs": [],
   "source": [
    "herschel_df_t.head()"
   ]
  },
  {
   "cell_type": "markdown",
   "metadata": {},
   "source": [
    "#### Save all images using an apply:"
   ]
  },
  {
   "cell_type": "code",
   "execution_count": null,
   "metadata": {},
   "outputs": [],
   "source": [
    "c = 0\n",
    "herschel_df_t['img'] = herschel_df_t.img_url.apply(lambda x: save_src_image_apply('../../data/','herschel_t',x))"
   ]
  },
  {
   "cell_type": "code",
   "execution_count": null,
   "metadata": {
    "collapsed": true
   },
   "outputs": [],
   "source": [
    "herschel_df_t.to_csv('../../herschel_df_t.csv')"
   ]
  },
  {
   "cell_type": "markdown",
   "metadata": {},
   "source": [
    "### Herschel Weekenders:\n"
   ]
  },
  {
   "cell_type": "code",
   "execution_count": 410,
   "metadata": {
    "collapsed": true
   },
   "outputs": [],
   "source": [
    "h_page_2 = requests.get(hershel_duffles)\n",
    "h_soup_2 = BeautifulSoup(h_page_2.content, 'lxml')\n",
    "divs_h = h_soup_2.findAll('div', {'class':'col-lg-4 col-md-6 col-xs-12 m-b-2'})"
   ]
  },
  {
   "cell_type": "code",
   "execution_count": 411,
   "metadata": {
    "collapsed": true
   },
   "outputs": [],
   "source": [
    "colors_carousel_w = [x.findAll('div',{'class':'carousel'}) if x.findAll('div',{'class':'carousel'}) \n",
    "                   else x.find('div',{'class':'product-image'}) for x in divs_h]\n",
    "h_w_imgs = [i[0].findAll('img',{'class':'swatch'}) if str(type(i)) == \"<class 'bs4.element.ResultSet'>\" \n",
    "             else [i.find('img')] for i in colors_carousel_w]"
   ]
  },
  {
   "cell_type": "code",
   "execution_count": 412,
   "metadata": {
    "collapsed": true
   },
   "outputs": [],
   "source": [
    "h_wkndr_colors = [[i['data-color'] if 'data-color' in str(i) else 'NA' for i in x] for x in h_w_imgs]\n",
    "h_wkndr_img = [['https://herschel.com'+i['data-product-image'] if 'data-product-image' in \n",
    "                  str(i) else 'https://herschel.com'+i['data-src'] for i in x] for x in h_w_imgs]\n",
    "names_w = [x.find('div',{'class':'col-xs-6 title-line'}).text for x in divs_h]\n",
    "prices_w = [x.find('span',{'class':'hsco-set-currency'}).text for x in divs_h]\n",
    "prod_h_url_w = ['https://herschel.com'+x.find('a',{'class':'js-product-grid-link'})['href'] for x in divs_h]"
   ]
  },
  {
   "cell_type": "markdown",
   "metadata": {},
   "source": [
    "Extend prices, names, and product url lists to ensure they have the same lengths as all of the colors."
   ]
  },
  {
   "cell_type": "code",
   "execution_count": 413,
   "metadata": {
    "collapsed": true
   },
   "outputs": [],
   "source": [
    "names_adj_w = []\n",
    "for i in range(len(names_w)):\n",
    "    n = len(h_w_imgs[i])\n",
    "    names_adj_w.extend([names_w[i]]*n)\n",
    "    \n",
    "prices_adj_w =  []\n",
    "for i in range(len(prices_w)):\n",
    "    n = len(h_w_imgs[i])\n",
    "    prices_adj_w.extend([prices_w[i]]*n)\n",
    "1\n",
    "prod_h_url_adj_w =  []\n",
    "for i in range(len(prod_h_url_w)):\n",
    "    n = len(h_w_imgs[i])\n",
    "    prod_h_url_adj_w.extend([prod_h_url_w[i]]*n)"
   ]
  },
  {
   "cell_type": "markdown",
   "metadata": {},
   "source": [
    "Flatten the images and colors lists:"
   ]
  },
  {
   "cell_type": "code",
   "execution_count": 414,
   "metadata": {},
   "outputs": [
    {
     "data": {
      "text/plain": [
       "(219, 219, 219)"
      ]
     },
     "execution_count": 414,
     "metadata": {},
     "output_type": "execute_result"
    }
   ],
   "source": [
    "h_w_colors_fl = [color for sublist in h_wkndr_colors for color in sublist]\n",
    "h_w_img_fl = [img for sublist in h_wkndr_img for img in sublist]\n",
    "len(h_w_colors_fl),len(h_w_img_fl),len(prod_h_url_adj_w)"
   ]
  },
  {
   "cell_type": "markdown",
   "metadata": {},
   "source": [
    "Create the DataFrame of the Herschel Fannie Packs:"
   ]
  },
  {
   "cell_type": "code",
   "execution_count": 415,
   "metadata": {
    "collapsed": true
   },
   "outputs": [],
   "source": [
    "table = [names_adj_w,prices_adj_w,h_w_colors_fl,prod_h_url_adj_w,h_w_img_fl]\n",
    "herschel_df_w = pd.DataFrame(table).transpose()\n",
    "herschel_df_w.rename(columns={0:'product_name', 1: 'product_price',2:'color',3:'URL',4:'img_url'},inplace=True)"
   ]
  },
  {
   "cell_type": "code",
   "execution_count": 416,
   "metadata": {},
   "outputs": [
    {
     "data": {
      "text/html": [
       "<div>\n",
       "<style scoped>\n",
       "    .dataframe tbody tr th:only-of-type {\n",
       "        vertical-align: middle;\n",
       "    }\n",
       "\n",
       "    .dataframe tbody tr th {\n",
       "        vertical-align: top;\n",
       "    }\n",
       "\n",
       "    .dataframe thead th {\n",
       "        text-align: right;\n",
       "    }\n",
       "</style>\n",
       "<table border=\"1\" class=\"dataframe\">\n",
       "  <thead>\n",
       "    <tr style=\"text-align: right;\">\n",
       "      <th></th>\n",
       "      <th>product_name</th>\n",
       "      <th>product_price</th>\n",
       "      <th>color</th>\n",
       "      <th>URL</th>\n",
       "      <th>img_url</th>\n",
       "    </tr>\n",
       "  </thead>\n",
       "  <tbody>\n",
       "    <tr>\n",
       "      <th>0</th>\n",
       "      <td>Novel Duffle</td>\n",
       "      <td>84.99</td>\n",
       "      <td>Black/Tan Synthetic Leather</td>\n",
       "      <td>https://herschel.com/shop/duffles/novel-duffle...</td>\n",
       "      <td>https://herschel.com/content/dam/herschel/prod...</td>\n",
       "    </tr>\n",
       "    <tr>\n",
       "      <th>1</th>\n",
       "      <td>Novel Duffle</td>\n",
       "      <td>84.99</td>\n",
       "      <td>Black/Black Synthetic Leather</td>\n",
       "      <td>https://herschel.com/shop/duffles/novel-duffle...</td>\n",
       "      <td>https://herschel.com/content/dam/herschel/prod...</td>\n",
       "    </tr>\n",
       "    <tr>\n",
       "      <th>2</th>\n",
       "      <td>Novel Duffle</td>\n",
       "      <td>84.99</td>\n",
       "      <td>Raven Crosshatch</td>\n",
       "      <td>https://herschel.com/shop/duffles/novel-duffle...</td>\n",
       "      <td>https://herschel.com/content/dam/herschel/prod...</td>\n",
       "    </tr>\n",
       "    <tr>\n",
       "      <th>3</th>\n",
       "      <td>Novel Duffle</td>\n",
       "      <td>84.99</td>\n",
       "      <td>Grey/Tan Synthetic Leather</td>\n",
       "      <td>https://herschel.com/shop/duffles/novel-duffle...</td>\n",
       "      <td>https://herschel.com/content/dam/herschel/prod...</td>\n",
       "    </tr>\n",
       "    <tr>\n",
       "      <th>4</th>\n",
       "      <td>Novel Duffle</td>\n",
       "      <td>84.99</td>\n",
       "      <td>Navy/Tan Synthetic Leather</td>\n",
       "      <td>https://herschel.com/shop/duffles/novel-duffle...</td>\n",
       "      <td>https://herschel.com/content/dam/herschel/prod...</td>\n",
       "    </tr>\n",
       "  </tbody>\n",
       "</table>\n",
       "</div>"
      ],
      "text/plain": [
       "   product_name product_price                          color  \\\n",
       "0  Novel Duffle         84.99    Black/Tan Synthetic Leather   \n",
       "1  Novel Duffle         84.99  Black/Black Synthetic Leather   \n",
       "2  Novel Duffle         84.99               Raven Crosshatch   \n",
       "3  Novel Duffle         84.99     Grey/Tan Synthetic Leather   \n",
       "4  Novel Duffle         84.99     Navy/Tan Synthetic Leather   \n",
       "\n",
       "                                                 URL  \\\n",
       "0  https://herschel.com/shop/duffles/novel-duffle...   \n",
       "1  https://herschel.com/shop/duffles/novel-duffle...   \n",
       "2  https://herschel.com/shop/duffles/novel-duffle...   \n",
       "3  https://herschel.com/shop/duffles/novel-duffle...   \n",
       "4  https://herschel.com/shop/duffles/novel-duffle...   \n",
       "\n",
       "                                             img_url  \n",
       "0  https://herschel.com/content/dam/herschel/prod...  \n",
       "1  https://herschel.com/content/dam/herschel/prod...  \n",
       "2  https://herschel.com/content/dam/herschel/prod...  \n",
       "3  https://herschel.com/content/dam/herschel/prod...  \n",
       "4  https://herschel.com/content/dam/herschel/prod...  "
      ]
     },
     "execution_count": 416,
     "metadata": {},
     "output_type": "execute_result"
    }
   ],
   "source": [
    "herschel_df_w.head()"
   ]
  },
  {
   "cell_type": "markdown",
   "metadata": {},
   "source": [
    "#### Save all images using an apply:"
   ]
  },
  {
   "cell_type": "code",
   "execution_count": 417,
   "metadata": {},
   "outputs": [
    {
     "name": "stdout",
     "output_type": "stream",
     "text": [
      "Saved herschel_w_1.png\n",
      "Saved herschel_w_2.png\n",
      "Saved herschel_w_3.png\n",
      "Saved herschel_w_4.png\n",
      "Saved herschel_w_5.png\n",
      "Saved herschel_w_6.png\n",
      "Saved herschel_w_7.png\n",
      "Saved herschel_w_8.png\n",
      "Saved herschel_w_9.png\n",
      "Saved herschel_w_10.png\n",
      "Saved herschel_w_11.png\n",
      "Saved herschel_w_12.png\n",
      "Saved herschel_w_13.png\n",
      "Saved herschel_w_14.png\n",
      "Saved herschel_w_15.png\n",
      "Saved herschel_w_16.png\n",
      "Saved herschel_w_17.png\n",
      "Saved herschel_w_18.png\n",
      "Saved herschel_w_19.png\n",
      "Saved herschel_w_20.png\n",
      "Saved herschel_w_21.png\n",
      "Saved herschel_w_22.png\n",
      "Saved herschel_w_23.png\n",
      "Saved herschel_w_24.png\n",
      "Saved herschel_w_25.png\n",
      "Saved herschel_w_26.png\n",
      "Saved herschel_w_27.png\n",
      "Saved herschel_w_28.png\n",
      "Saved herschel_w_29.png\n",
      "Saved herschel_w_30.png\n",
      "Saved herschel_w_31.png\n",
      "Saved herschel_w_32.png\n",
      "Saved herschel_w_33.png\n",
      "Saved herschel_w_34.png\n",
      "Saved herschel_w_35.png\n",
      "Saved herschel_w_36.png\n",
      "Saved herschel_w_37.png\n",
      "Saved herschel_w_38.png\n",
      "Saved herschel_w_39.png\n",
      "Saved herschel_w_40.png\n",
      "Saved herschel_w_41.png\n",
      "Saved herschel_w_42.png\n",
      "Saved herschel_w_43.png\n",
      "Saved herschel_w_44.png\n",
      "Saved herschel_w_45.png\n",
      "Saved herschel_w_46.png\n",
      "Saved herschel_w_47.png\n",
      "Saved herschel_w_48.png\n",
      "Saved herschel_w_49.png\n",
      "Saved herschel_w_50.png\n",
      "Saved herschel_w_51.png\n",
      "Saved herschel_w_52.png\n",
      "Saved herschel_w_53.png\n",
      "Saved herschel_w_54.png\n",
      "Saved herschel_w_55.png\n",
      "Saved herschel_w_56.png\n",
      "Saved herschel_w_57.png\n",
      "Saved herschel_w_58.png\n",
      "Saved herschel_w_59.png\n",
      "Saved herschel_w_60.png\n",
      "Saved herschel_w_61.png\n",
      "Saved herschel_w_62.png\n",
      "Saved herschel_w_63.png\n",
      "Saved herschel_w_64.png\n",
      "Saved herschel_w_65.png\n",
      "Saved herschel_w_66.png\n",
      "Saved herschel_w_67.png\n",
      "Saved herschel_w_68.png\n",
      "Saved herschel_w_69.png\n",
      "Saved herschel_w_70.png\n",
      "Saved herschel_w_71.png\n",
      "Saved herschel_w_72.png\n",
      "Saved herschel_w_73.png\n",
      "Saved herschel_w_74.png\n",
      "Saved herschel_w_75.png\n",
      "Saved herschel_w_76.png\n",
      "Saved herschel_w_77.png\n",
      "Saved herschel_w_78.png\n",
      "Saved herschel_w_79.png\n",
      "Saved herschel_w_80.png\n",
      "Saved herschel_w_81.png\n",
      "Saved herschel_w_82.png\n",
      "Saved herschel_w_83.png\n",
      "Saved herschel_w_84.png\n",
      "Saved herschel_w_85.png\n",
      "Saved herschel_w_86.png\n",
      "Saved herschel_w_87.png\n",
      "Saved herschel_w_88.png\n",
      "Saved herschel_w_89.png\n",
      "Saved herschel_w_90.png\n",
      "Saved herschel_w_91.png\n",
      "Saved herschel_w_92.png\n",
      "Saved herschel_w_93.png\n",
      "Saved herschel_w_94.png\n",
      "Saved herschel_w_95.png\n",
      "Saved herschel_w_96.png\n",
      "Saved herschel_w_97.png\n",
      "Saved herschel_w_98.png\n",
      "Saved herschel_w_99.png\n",
      "Saved herschel_w_100.png\n",
      "Saved herschel_w_101.png\n",
      "Saved herschel_w_102.png\n",
      "Saved herschel_w_103.png\n",
      "Saved herschel_w_104.png\n",
      "Saved herschel_w_105.png\n",
      "Saved herschel_w_106.png\n",
      "Saved herschel_w_107.png\n",
      "Saved herschel_w_108.png\n",
      "Saved herschel_w_109.png\n",
      "Saved herschel_w_110.png\n",
      "Saved herschel_w_111.png\n",
      "Saved herschel_w_112.png\n",
      "Saved herschel_w_113.png\n",
      "Saved herschel_w_114.png\n",
      "Saved herschel_w_115.png\n",
      "Saved herschel_w_116.png\n",
      "Saved herschel_w_117.png\n",
      "Saved herschel_w_118.png\n",
      "Saved herschel_w_119.png\n",
      "Saved herschel_w_120.png\n",
      "Saved herschel_w_121.png\n",
      "Saved herschel_w_122.png\n",
      "Saved herschel_w_123.png\n",
      "Saved herschel_w_124.png\n",
      "Saved herschel_w_125.png\n",
      "Saved herschel_w_126.png\n",
      "Saved herschel_w_127.png\n",
      "Saved herschel_w_128.png\n",
      "Saved herschel_w_129.png\n",
      "Saved herschel_w_130.png\n",
      "Saved herschel_w_131.png\n",
      "Saved herschel_w_132.png\n",
      "Saved herschel_w_133.png\n",
      "Saved herschel_w_134.png\n",
      "Saved herschel_w_135.png\n",
      "Saved herschel_w_136.png\n",
      "Saved herschel_w_137.png\n",
      "Saved herschel_w_138.png\n",
      "Saved herschel_w_139.png\n",
      "Saved herschel_w_140.png\n",
      "Saved herschel_w_141.png\n",
      "Saved herschel_w_142.png\n",
      "Saved herschel_w_143.png\n",
      "Saved herschel_w_144.png\n",
      "Saved herschel_w_145.png\n",
      "Saved herschel_w_146.png\n",
      "Saved herschel_w_147.png\n",
      "Saved herschel_w_148.png\n",
      "Saved herschel_w_149.png\n",
      "Saved herschel_w_150.png\n",
      "Saved herschel_w_151.png\n",
      "Saved herschel_w_152.png\n",
      "Saved herschel_w_153.png\n",
      "Saved herschel_w_154.png\n",
      "Saved herschel_w_155.png\n",
      "Saved herschel_w_156.png\n",
      "Saved herschel_w_157.png\n",
      "Saved herschel_w_158.png\n",
      "Saved herschel_w_159.png\n",
      "Saved herschel_w_160.png\n",
      "Saved herschel_w_161.png\n",
      "Saved herschel_w_162.png\n",
      "Saved herschel_w_163.png\n",
      "Saved herschel_w_164.png\n",
      "Saved herschel_w_165.png\n",
      "Saved herschel_w_166.png\n",
      "Saved herschel_w_167.png\n",
      "Saved herschel_w_168.png\n",
      "Saved herschel_w_169.png\n",
      "Saved herschel_w_170.png\n",
      "Saved herschel_w_171.png\n",
      "Saved herschel_w_172.png\n",
      "Saved herschel_w_173.png\n",
      "Saved herschel_w_174.png\n",
      "Saved herschel_w_175.png\n",
      "Saved herschel_w_176.png\n",
      "Saved herschel_w_177.png\n",
      "Saved herschel_w_178.png\n",
      "Saved herschel_w_179.png\n",
      "Saved herschel_w_180.png\n",
      "Saved herschel_w_181.png\n",
      "Saved herschel_w_182.png\n",
      "Saved herschel_w_183.png\n",
      "Saved herschel_w_184.png\n",
      "Saved herschel_w_185.png\n",
      "Saved herschel_w_186.png\n",
      "Saved herschel_w_187.png\n",
      "Saved herschel_w_188.png\n",
      "Saved herschel_w_189.png\n",
      "Saved herschel_w_190.png\n",
      "Saved herschel_w_191.png\n",
      "Saved herschel_w_192.png\n",
      "Saved herschel_w_193.png\n",
      "Saved herschel_w_194.png\n",
      "Saved herschel_w_195.png\n",
      "Saved herschel_w_196.png\n",
      "Saved herschel_w_197.png\n",
      "Saved herschel_w_198.png\n",
      "Saved herschel_w_199.png\n",
      "Saved herschel_w_200.png\n",
      "Saved herschel_w_201.png\n",
      "Saved herschel_w_202.png\n",
      "Saved herschel_w_203.png\n",
      "Saved herschel_w_204.png\n",
      "Saved herschel_w_205.png\n",
      "Saved herschel_w_206.png\n",
      "Saved herschel_w_207.png\n",
      "Saved herschel_w_208.png\n",
      "Saved herschel_w_209.png\n",
      "Saved herschel_w_210.png\n",
      "Saved herschel_w_211.png\n",
      "Saved herschel_w_212.png\n",
      "Saved herschel_w_213.png\n",
      "Saved herschel_w_214.png\n",
      "Saved herschel_w_215.png\n",
      "Saved herschel_w_216.png\n",
      "Saved herschel_w_217.png\n",
      "Saved herschel_w_218.png\n",
      "Saved herschel_w_219.png\n"
     ]
    }
   ],
   "source": [
    "c = 0\n",
    "herschel_df_w['img'] = herschel_df_w.img_url.apply(lambda x: save_src_image_apply('../../data/','herschel_w',x))"
   ]
  },
  {
   "cell_type": "code",
   "execution_count": 418,
   "metadata": {
    "collapsed": true
   },
   "outputs": [],
   "source": [
    "herschel_df_w.to_csv('../../herschel_df_w.csv')"
   ]
  },
  {
   "cell_type": "markdown",
   "metadata": {},
   "source": [
    "### Nordstrom Circle Bags:"
   ]
  },
  {
   "cell_type": "code",
   "execution_count": 465,
   "metadata": {
    "collapsed": true
   },
   "outputs": [],
   "source": [
    "from selenium import webdriver\n",
    "from webdriver_manager.chrome import ChromeDriverManager\n",
    "import time"
   ]
  },
  {
   "cell_type": "code",
   "execution_count": 466,
   "metadata": {
    "collapsed": true
   },
   "outputs": [],
   "source": [
    "base_url = 'https://shop.nordstrom.com/'\n",
    "#create the chrome driver\n",
    "start_time = time.time()\n",
    "driver = webdriver.Chrome('/Users/elenasm7/.wdm/chromedriver/2.46/mac64/chromedriver') \n",
    "driver.get(base_url)"
   ]
  },
  {
   "cell_type": "code",
   "execution_count": 467,
   "metadata": {},
   "outputs": [],
   "source": [
    "#now, search for the item we need\n",
    "driver.find_element_by_class_name('ZlVcfv').click()\n",
    "time.sleep(1)\n",
    "real_search = driver.find_element_by_class_name('ZaYgXf')\n",
    "real_search.send_keys('circle bags')\n",
    "time.sleep(1)\n",
    "real_search.submit()\n",
    "time.sleep(1)"
   ]
  },
  {
   "cell_type": "code",
   "execution_count": 468,
   "metadata": {},
   "outputs": [],
   "source": [
    "#create a list of all of the products, and create and empty dictionary\n",
    "bags = driver.find_elements_by_class_name('_2gErDB')"
   ]
  },
  {
   "cell_type": "code",
   "execution_count": 469,
   "metadata": {},
   "outputs": [],
   "source": [
    "bags_2 = driver.find_elements_by_class_name('Z1AvvAr')"
   ]
  },
  {
   "cell_type": "code",
   "execution_count": null,
   "metadata": {
    "collapsed": true
   },
   "outputs": [],
   "source": [
    "img_urls = []\n",
    "for i in bags_2:\n",
    "    img_urls.append(i.get_attribute(\"href\"))"
   ]
  },
  {
   "cell_type": "code",
   "execution_count": 498,
   "metadata": {
    "collapsed": true
   },
   "outputs": [],
   "source": [
    "#now, search for the item we need\n",
    "driver.find_element_by_class_name('ZlVcfv').click()\n",
    "time.sleep(1)\n",
    "real_search = driver.find_element_by_class_name('ZaYgXf')\n",
    "real_search.send_keys('circle bags')\n",
    "time.sleep(1)\n",
    "real_search.submit()\n",
    "time.sleep(1)\n",
    "\n",
    "bags_2 = driver.find_elements_by_class_name('Z1AvvAr')\n",
    "img_urls = []\n",
    "for i in bags_2:\n",
    "    img_urls.append(i.get_attribute(\"href\"))"
   ]
  },
  {
   "cell_type": "code",
   "execution_count": 505,
   "metadata": {},
   "outputs": [],
   "source": [
    "#len(bags_2)"
   ]
  },
  {
   "cell_type": "code",
   "execution_count": null,
   "metadata": {},
   "outputs": [],
   "source": [
    "def get_attributes(image_l,price_l,name_l,color_l,url_l,brand_l):\n",
    "    image_l.append(driver.find_element_by_class_name('_2g1r2h').get_attribute('src'))\n",
    "    price_l.append(driver.find_element_by_class_name('Z1WEo3w').text)\n",
    "    time.sleep(0.5)\n",
    "    name_l.append(driver.find_element_by_class_name('_6VXnG').text)\n",
    "    time.sleep(0.5)\n",
    "    brand_l.append(driver.find_element_by_class_name('LGMSA').text)\n",
    "    time.sleep(0.5)\n",
    "    color_l.append(driver.find_element_by_class_name('_1QT7uJ').text)\n",
    "    time.sleep(0.5)\n",
    "    color_options = driver.find_elements_by_class_name('Z1MJbnq')\n",
    "    url_l.append(driver.current_url)"
   ]
  },
  {
   "cell_type": "code",
   "execution_count": null,
   "metadata": {},
   "outputs": [],
   "source": [
    "price_li = []\n",
    "name_li = []\n",
    "color = []\n",
    "brand = []\n",
    "url_li = []\n",
    "img_li = []\n",
    "\n",
    "for bag in img_urls:\n",
    "    driver.get(bag)\n",
    "    color_options = driver.find_elements_by_class_name('Z1MJbnq')\n",
    "    if len(color_options) > 1:\n",
    "        color_options[0].click()\n",
    "        time.sleep(1)\n",
    "        get_attributes(img_li,price_li,name_li,color,url_li,brand)\n",
    "        for i in color_options[1:]:\n",
    "            time.sleep(1)\n",
    "            i.click()\n",
    "            get_attributes(img_li,price_li,name_li,color,url_li,brand)\n",
    "    else:\n",
    "        time.sleep(1)\n",
    "        get_attributes(img_li,price_li,name_li,color,url_li,brand)\n",
    "        "
   ]
  }
 ],
 "metadata": {
  "kernelspec": {
   "display_name": "Python 3",
   "language": "python",
   "name": "python3"
  },
  "language_info": {
   "codemirror_mode": {
    "name": "ipython",
    "version": 3
   },
   "file_extension": ".py",
   "mimetype": "text/x-python",
   "name": "python",
   "nbconvert_exporter": "python",
   "pygments_lexer": "ipython3",
   "version": "3.6.8"
  }
 },
 "nbformat": 4,
 "nbformat_minor": 2
}
