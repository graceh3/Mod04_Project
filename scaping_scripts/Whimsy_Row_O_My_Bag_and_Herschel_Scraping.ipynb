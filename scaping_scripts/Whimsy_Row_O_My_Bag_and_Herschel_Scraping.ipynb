{
 "cells": [
  {
   "cell_type": "markdown",
   "metadata": {},
   "source": [
    "# Using Selenium, Beatutiful Soup & Requests: _Hershel, O My Bag & Whimsy and Row_\n",
    "\n",
    "In this section we will be using selenium and beautiful soup to scrape all of the women's bags from Hershel, O My Bag & Whimsy and Row. We will get the: picture,price, product link, and description.\n",
    "\n",
    "Resources used to help in this process can be found in other notebooks.\n",
    "\n",
    "#### Import your needed Libraries:"
   ]
  },
  {
   "cell_type": "code",
   "execution_count": 140,
   "metadata": {},
   "outputs": [
    {
     "name": "stdout",
     "output_type": "stream",
     "text": [
      "The autoreload extension is already loaded. To reload it, use:\n",
      "  %reload_ext autoreload\n"
     ]
    }
   ],
   "source": [
    "import time\n",
    "import requests\n",
    "from selenium import webdriver\n",
    "from webdriver_manager.chrome import ChromeDriverManager\n",
    "from bs4 import BeautifulSoup\n",
    "import cv2\n",
    "import numpy as np \n",
    "import pandas as pd\n",
    "import re\n",
    "from PIL import Image\n",
    "import requests\n",
    "from io import BytesIO\n",
    "from scraping_functions import *\n",
    "%load_ext autoreload\n",
    "%autoreload 2"
   ]
  },
  {
   "cell_type": "markdown",
   "metadata": {},
   "source": [
    "#### Create variables for each of the URL\n",
    "\n",
    "We will do this for each of the pages we will be pulling from on _Hershel, O My Bag & Whimsy and Row_."
   ]
  },
  {
   "cell_type": "code",
   "execution_count": null,
   "metadata": {
    "collapsed": true
   },
   "outputs": [],
   "source": [
    "hershel_backpacks = 'https://herschel.com/shop/womens/backpacks'\n",
    "hershel_fp = 'https://herschel.com/shop/womens/hip-packs'\n",
    "hershel_totes = 'https://herschel.com/shop/womens/totes'\n",
    "hershel_duffles = 'https://herschel.com/shop/womens/duffles'\n",
    "\n",
    "O_my_bag = 'https://www.omybag.nl/product-category/women/women-bags/'\n",
    "\n",
    "#only the first 13-ish bags\n",
    "WR_bags = 'https://whimsyandrow.com/collections/bags-clutches-pouches?sort_by=title-ascending'"
   ]
  },
  {
   "cell_type": "markdown",
   "metadata": {},
   "source": [
    "### O My Bag:\n",
    "\n",
    "Now that we have our page variables set up, we can scrape the bags. After inspecting on the website it appears we can just use beautiful soup for this task."
   ]
  },
  {
   "cell_type": "code",
   "execution_count": null,
   "metadata": {
    "collapsed": true
   },
   "outputs": [],
   "source": [
    "omb_page = requests.get(O_my_bag)\n",
    "omb_soup = BeautifulSoup(omb_page.content, 'lxml')\n",
    "divs_imgs = omb_soup.findAll('div', {'class':'content-product'})"
   ]
  },
  {
   "cell_type": "code",
   "execution_count": null,
   "metadata": {
    "collapsed": true
   },
   "outputs": [],
   "source": [
    "omb_links = omb_soup.findAll('a', {'class':'woocommerce-LoopProduct-link'})\n",
    "omb_href = [x['href'] for x in omb_links]"
   ]
  },
  {
   "cell_type": "markdown",
   "metadata": {},
   "source": [
    "Now let's grab the images:"
   ]
  },
  {
   "cell_type": "code",
   "execution_count": null,
   "metadata": {
    "collapsed": true
   },
   "outputs": [],
   "source": [
    "omb_images_tags = omb_soup.findAll('img', {'class':'attachment-woocommerce_thumbnail'})\n",
    "omb_images = [x['src'] for x in omb_images_tags]"
   ]
  },
  {
   "cell_type": "markdown",
   "metadata": {},
   "source": [
    "Now, let's get into the details like price and name:"
   ]
  },
  {
   "cell_type": "code",
   "execution_count": null,
   "metadata": {
    "collapsed": true
   },
   "outputs": [],
   "source": [
    "omb_prod_details = omb_soup.findAll('div', {'class':'product-details'})"
   ]
  },
  {
   "cell_type": "code",
   "execution_count": null,
   "metadata": {
    "collapsed": true
   },
   "outputs": [],
   "source": [
    "omb_names = [x.find('div', {'class': 'product-title'}).text.strip() for x in omb_prod_details]\n",
    "omb_prices = [x.find('span', {'class': 'price'}).text.strip() for x in omb_prod_details]"
   ]
  },
  {
   "cell_type": "markdown",
   "metadata": {},
   "source": [
    "### Create a DataFrame and use our function to download pictures :\n",
    "\n",
    "Below we will use the lists created above and make a dataframe. Then we will define a function to download the images into our directory, and save the image file name in a new column of the DataFrame."
   ]
  },
  {
   "cell_type": "code",
   "execution_count": null,
   "metadata": {
    "collapsed": true
   },
   "outputs": [],
   "source": [
    "table = [omb_names,omb_prices,omb_href,omb_images]\n",
    "OMB_df = pd.DataFrame(table).transpose()"
   ]
  },
  {
   "cell_type": "code",
   "execution_count": null,
   "metadata": {
    "collapsed": true
   },
   "outputs": [],
   "source": [
    "OMB_df.rename( columns={0:'product_name', 1: 'product_price',2:'URL',3:'img_url'},inplace=True)"
   ]
  },
  {
   "cell_type": "code",
   "execution_count": null,
   "metadata": {
    "collapsed": true
   },
   "outputs": [],
   "source": [
    "OMB_df.head(3)"
   ]
  },
  {
   "cell_type": "markdown",
   "metadata": {},
   "source": [
    "#### Save all images using an apply"
   ]
  },
  {
   "cell_type": "code",
   "execution_count": null,
   "metadata": {
    "collapsed": true
   },
   "outputs": [],
   "source": [
    "c = 0\n",
    "OMB_df['img'] = OMB_df.img_url.apply(lambda x: save_src_image_apply('../../data/','omybag_',x))"
   ]
  },
  {
   "cell_type": "code",
   "execution_count": null,
   "metadata": {
    "collapsed": true
   },
   "outputs": [],
   "source": [
    "OMB_df.to_csv('../../omb_df.csv')"
   ]
  },
  {
   "cell_type": "markdown",
   "metadata": {},
   "source": [
    "### Whimsy and Row:"
   ]
  },
  {
   "cell_type": "code",
   "execution_count": null,
   "metadata": {
    "collapsed": true
   },
   "outputs": [],
   "source": [
    "wr_page = requests.get(WR_bags)\n",
    "wr_soup = BeautifulSoup(wr_page.content, 'lxml')\n",
    "divs_wr = wr_soup.findAll('div', {'class':'product-frame'})"
   ]
  },
  {
   "cell_type": "code",
   "execution_count": null,
   "metadata": {
    "collapsed": true
   },
   "outputs": [],
   "source": [
    "wr_url = ['https://whimsyandrow.com' + x.find('a')['href'] for x in divs_wr[:-3]]\n",
    "wr_names = [x.find('a')['title'] for x in divs_wr[:-3]]\n",
    "wr_images_url = ['https:'+x.find('img')['src'] for x in divs_wr[:-3]] "
   ]
  },
  {
   "cell_type": "markdown",
   "metadata": {},
   "source": [
    "Now, let's get the prices which are in a different div:"
   ]
  },
  {
   "cell_type": "code",
   "execution_count": null,
   "metadata": {
    "collapsed": true
   },
   "outputs": [],
   "source": [
    "divs_wr_2 = wr_soup.findAll('div', {'class':'product-title'})\n",
    "prices = [x.find('h6').text for x in divs_wr_2[:-3]]"
   ]
  },
  {
   "cell_type": "markdown",
   "metadata": {},
   "source": [
    "### Create this whimsy and Row DF and save the images:"
   ]
  },
  {
   "cell_type": "code",
   "execution_count": null,
   "metadata": {
    "collapsed": true
   },
   "outputs": [],
   "source": [
    "table = [wr_names,prices,wr_url,wr_images_url]\n",
    "wr_df = pd.DataFrame(table).transpose()\n",
    "wr_df.rename(columns={0:'product_name', 1: 'product_price',2:'URL',3:'img_url'},inplace=True)"
   ]
  },
  {
   "cell_type": "markdown",
   "metadata": {},
   "source": [
    "#### Save all images using an apply:"
   ]
  },
  {
   "cell_type": "code",
   "execution_count": null,
   "metadata": {
    "collapsed": true
   },
   "outputs": [],
   "source": [
    "c = 0\n",
    "wr_df['img'] = wr_df.img_url.apply(lambda x: save_src_image_apply('../../data/','whimsy_row_',x))"
   ]
  },
  {
   "cell_type": "code",
   "execution_count": null,
   "metadata": {
    "collapsed": true
   },
   "outputs": [],
   "source": [
    "wr_df.to_csv('../../whimsy_row_df.csv')"
   ]
  },
  {
   "cell_type": "markdown",
   "metadata": {},
   "source": [
    "### _Hershel_:"
   ]
  },
  {
   "cell_type": "code",
   "execution_count": null,
   "metadata": {
    "collapsed": true
   },
   "outputs": [],
   "source": [
    "h_page_1 = requests.get(hershel_backpacks)\n",
    "h_soup_1 = BeautifulSoup(h_page_1.content, 'lxml')\n",
    "divs_h = h_soup_1.findAll('div', {'class':'col-lg-4 col-md-6 col-xs-12 m-b-2'})"
   ]
  },
  {
   "cell_type": "code",
   "execution_count": null,
   "metadata": {
    "collapsed": true
   },
   "outputs": [],
   "source": [
    "#three of the bookbags do not have multiple colors\n",
    "colors_carousel = [x.findAll('div',{'class':'carousel'}) if x.findAll('div',{'class':'carousel'}) \n",
    "                   else x.find('div',{'class':'product-image'}) for x in divs_h]\n",
    "\n",
    "h_bb_imgs = [i[0].findAll('img',{'class':'swatch'}) if str(type(i)) == \"<class 'bs4.element.ResultSet'>\" \n",
    "             else [i.find('img')] for i in colors_carousel]"
   ]
  },
  {
   "cell_type": "code",
   "execution_count": null,
   "metadata": {
    "collapsed": true
   },
   "outputs": [],
   "source": [
    "h_bookbag_colors = [[i['data-color'] if 'data-color' in str(i) else 'NA' for i in x] for x in h_bb_imgs]\n",
    "h_bookbag_img = [['https://herschel.com'+i['data-product-image'] if 'data-product-image' in \n",
    "                  str(i) else 'https://herschel.com'+i['data-src'] for i in x] for x in h_bb_imgs]"
   ]
  },
  {
   "cell_type": "code",
   "execution_count": null,
   "metadata": {
    "collapsed": true
   },
   "outputs": [],
   "source": [
    "names = [x.find('div',{'class':'col-xs-6 title-line'}).text for x in divs_h]"
   ]
  },
  {
   "cell_type": "code",
   "execution_count": null,
   "metadata": {
    "collapsed": true
   },
   "outputs": [],
   "source": [
    "prices = [x.find('span',{'class':'hsco-set-currency'}).text for x in divs_h]\n",
    "prod_h_url = [x.find('a',{'class':'js-product-grid-link'})['href'] for x in divs_h]"
   ]
  },
  {
   "cell_type": "code",
   "execution_count": null,
   "metadata": {
    "collapsed": true
   },
   "outputs": [],
   "source": [
    "names_adj = []\n",
    "for i in range(len(names)):\n",
    "    n = len(h_bb_imgs[i])\n",
    "    names_adj.extend([names[i]]*n)"
   ]
  },
  {
   "cell_type": "code",
   "execution_count": null,
   "metadata": {
    "collapsed": true
   },
   "outputs": [],
   "source": [
    "prices_adj =  []\n",
    "for i in range(len(prices)):\n",
    "    n = len(h_bb_imgs[i])\n",
    "    prices_adj.extend([prices[i]]*n)"
   ]
  },
  {
   "cell_type": "code",
   "execution_count": null,
   "metadata": {
    "collapsed": true
   },
   "outputs": [],
   "source": [
    "prod_h_url_adj =  []\n",
    "for i in range(len(prod_h_url)):\n",
    "    n = len(h_bb_imgs[i])\n",
    "    prod_h_url_adj.extend([prod_h_url[i]]*n)"
   ]
  },
  {
   "cell_type": "code",
   "execution_count": null,
   "metadata": {
    "collapsed": true
   },
   "outputs": [],
   "source": [
    "len(h_bookbag_img),len(names)"
   ]
  },
  {
   "cell_type": "code",
   "execution_count": null,
   "metadata": {
    "collapsed": true
   },
   "outputs": [],
   "source": [
    "len(names_adj),len(prices_adj),len(prod_h_url_adj)"
   ]
  },
  {
   "cell_type": "markdown",
   "metadata": {},
   "source": [
    "Let's flatten the lists of colors and images:"
   ]
  },
  {
   "cell_type": "code",
   "execution_count": null,
   "metadata": {
    "collapsed": true
   },
   "outputs": [],
   "source": [
    "h_bookbag_colors_fl = [color for sublist in h_bookbag_colors for color in sublist]\n",
    "h_bookbag_img_fl = [img for sublist in h_bookbag_img for img in sublist]\n",
    "# len(h_bookbag_colors_fl),len(h_bookbag_img_fl)"
   ]
  },
  {
   "cell_type": "markdown",
   "metadata": {},
   "source": [
    "Make the DataFrame:"
   ]
  },
  {
   "cell_type": "code",
   "execution_count": null,
   "metadata": {
    "collapsed": true
   },
   "outputs": [],
   "source": [
    "table = [names_adj,prices_adj,h_bookbag_colors_fl,prod_h_url_adj,h_bookbag_img_fl]\n",
    "herschel_df = pd.DataFrame(table).transpose()\n",
    "herschel_df.rename(columns={0:'product_name', 1: 'product_price',2:'color',3:'URL',4:'img_url'},inplace=True)"
   ]
  },
  {
   "cell_type": "markdown",
   "metadata": {},
   "source": [
    "#### Save all images using an apply:"
   ]
  },
  {
   "cell_type": "code",
   "execution_count": null,
   "metadata": {
    "collapsed": true
   },
   "outputs": [],
   "source": [
    "c = 0\n",
    "herschel_df['img'] = herschel_df.img_url.apply(lambda x: save_src_image_apply('../../data/','herschel',x))"
   ]
  },
  {
   "cell_type": "code",
   "execution_count": null,
   "metadata": {
    "collapsed": true
   },
   "outputs": [],
   "source": [
    "herschel_df.to_csv('../../herschel_df.csv')"
   ]
  },
  {
   "cell_type": "markdown",
   "metadata": {},
   "source": [
    "### Herschel Fannie Packs:"
   ]
  },
  {
   "cell_type": "code",
   "execution_count": null,
   "metadata": {
    "collapsed": true
   },
   "outputs": [],
   "source": [
    "h_page_1 = requests.get(hershel_fp)\n",
    "h_soup_1 = BeautifulSoup(h_page_1.content, 'lxml')\n",
    "divs_h = h_soup_1.findAll('div', {'class':'col-lg-4 col-md-6 col-xs-12 m-b-2'})"
   ]
  },
  {
   "cell_type": "code",
   "execution_count": null,
   "metadata": {
    "collapsed": true
   },
   "outputs": [],
   "source": [
    "colors_carousel_fp = [x.findAll('div',{'class':'carousel'}) if x.findAll('div',{'class':'carousel'}) \n",
    "                   else x.find('div',{'class':'product-image'}) for x in divs_h]\n",
    "h_fp_imgs = [i[0].findAll('img',{'class':'swatch'}) if str(type(i)) == \"<class 'bs4.element.ResultSet'>\" \n",
    "             else [i.find('img')] for i in colors_carousel_fp]"
   ]
  },
  {
   "cell_type": "code",
   "execution_count": null,
   "metadata": {
    "collapsed": true
   },
   "outputs": [],
   "source": [
    "h_fannie_colors = [[i['data-color'] if 'data-color' in str(i) else 'NA' for i in x] for x in h_fp_imgs]\n",
    "h_fannie_img = [['https://herschel.com'+i['data-product-image'] if 'data-product-image' in \n",
    "                  str(i) else 'https://herschel.com'+i['data-src'] for i in x] for x in h_fp_imgs]\n",
    "names_fp = [x.find('div',{'class':'col-xs-6 title-line'}).text for x in divs_h]\n",
    "prices_fp = [x.find('span',{'class':'hsco-set-currency'}).text for x in divs_h]\n",
    "prod_h_url_fp = ['https://herschel.com'+x.find('a',{'class':'js-product-grid-link'})['href'] for x in divs_h]"
   ]
  },
  {
   "cell_type": "markdown",
   "metadata": {},
   "source": [
    "Extend prices, names, and product url lists to ensure they have the same lengths as all of the colors."
   ]
  },
  {
   "cell_type": "code",
   "execution_count": null,
   "metadata": {
    "collapsed": true
   },
   "outputs": [],
   "source": [
    "names_adj_fp = []\n",
    "for i in range(len(names_fp)):\n",
    "    n = len(h_bb_imgs_fp[i])\n",
    "    names_adj_fp.extend([names_fp[i]]*n)\n",
    "    \n",
    "prices_adj_fp =  []\n",
    "for i in range(len(prices_fp)):\n",
    "    n = len(h_fp_imgs[i])\n",
    "    prices_adj_fp.extend([prices_fp[i]]*n)\n",
    "\n",
    "prod_h_url_adj_fp =  []\n",
    "for i in range(len(prod_h_url_fp)):\n",
    "    n = len(h_fp_imgs[i])\n",
    "    prod_h_url_adj_fp.extend([prod_h_url_fp[i]]*n)"
   ]
  },
  {
   "cell_type": "markdown",
   "metadata": {},
   "source": [
    "Flatten the images and colors lists:"
   ]
  },
  {
   "cell_type": "code",
   "execution_count": null,
   "metadata": {
    "collapsed": true
   },
   "outputs": [],
   "source": [
    "h_fp_colors_fl = [color for sublist in h_fannie_colors for color in sublist]\n",
    "h_fp_img_fl = [img for sublist in h_fannie_img for img in sublist]\n",
    "len(h_fp_colors_fl),len(h_fp_img_fl),len(prod_h_url_adj_fp)"
   ]
  },
  {
   "cell_type": "markdown",
   "metadata": {},
   "source": [
    "Create the DataFrame of the Herschel Fannie Packs:"
   ]
  },
  {
   "cell_type": "code",
   "execution_count": null,
   "metadata": {
    "collapsed": true
   },
   "outputs": [],
   "source": [
    "table = [names_adj_fp,prices_adj_fp,h_fp_colors_fl,prod_h_url_adj_fp,h_fp_img_fl]\n",
    "herschel_df_fp = pd.DataFrame(table).transpose()\n",
    "herschel_df_fp.rename(columns={0:'product_name', 1: 'product_price',2:'color',3:'URL',4:'img_url'},inplace=True)"
   ]
  },
  {
   "cell_type": "code",
   "execution_count": null,
   "metadata": {
    "collapsed": true
   },
   "outputs": [],
   "source": [
    "herschel_df_fp.head()"
   ]
  },
  {
   "cell_type": "markdown",
   "metadata": {},
   "source": [
    "#### Save all images using an apply:"
   ]
  },
  {
   "cell_type": "code",
   "execution_count": null,
   "metadata": {
    "collapsed": true
   },
   "outputs": [],
   "source": [
    "c = 0\n",
    "herschel_df_fp['img'] = herschel_df_fp.img_url.apply(lambda x: save_src_image_apply('../../data/','herschel_fp',x))"
   ]
  },
  {
   "cell_type": "code",
   "execution_count": null,
   "metadata": {
    "collapsed": true
   },
   "outputs": [],
   "source": [
    "herschel_df_fp.to_csv('../../herschel_df_fp.csv')"
   ]
  },
  {
   "cell_type": "markdown",
   "metadata": {},
   "source": [
    "### Herschel Totes:"
   ]
  },
  {
   "cell_type": "code",
   "execution_count": null,
   "metadata": {
    "collapsed": true
   },
   "outputs": [],
   "source": [
    "h_page_1 = requests.get(hershel_totes)\n",
    "h_soup_1 = BeautifulSoup(h_page_1.content, 'lxml')\n",
    "divs_h = h_soup_1.findAll('div', {'class':'col-lg-4 col-md-6 col-xs-12 m-b-2'})"
   ]
  },
  {
   "cell_type": "code",
   "execution_count": null,
   "metadata": {
    "collapsed": true
   },
   "outputs": [],
   "source": [
    "colors_carousel_t = [x.findAll('div',{'class':'carousel'}) if x.findAll('div',{'class':'carousel'}) \n",
    "                   else x.find('div',{'class':'product-image'}) for x in divs_h]\n",
    "h_t_imgs = [i[0].findAll('img',{'class':'swatch'}) if str(type(i)) == \"<class 'bs4.element.ResultSet'>\" \n",
    "             else [i.find('img')] for i in colors_carousel_t]"
   ]
  },
  {
   "cell_type": "code",
   "execution_count": null,
   "metadata": {
    "collapsed": true
   },
   "outputs": [],
   "source": [
    "h_tote_colors = [[i['data-color'] if 'data-color' in str(i) else 'NA' for i in x] for x in h_t_imgs]\n",
    "h_tote_img = [['https://herschel.com'+i['data-product-image'] if 'data-product-image' in \n",
    "                  str(i) else 'https://herschel.com'+i['data-src'] for i in x] for x in h_t_imgs]\n",
    "names_t = [x.find('div',{'class':'col-xs-6 title-line'}).text for x in divs_h]\n",
    "prices_t = [x.find('span',{'class':'hsco-set-currency'}).text for x in divs_h]\n",
    "prod_h_url_t = ['https://herschel.com'+x.find('a',{'class':'js-product-grid-link'})['href'] for x in divs_h]"
   ]
  },
  {
   "cell_type": "markdown",
   "metadata": {},
   "source": [
    "Extend prices, names, and product url lists to ensure they have the same lengths as all of the colors."
   ]
  },
  {
   "cell_type": "code",
   "execution_count": null,
   "metadata": {
    "collapsed": true
   },
   "outputs": [],
   "source": [
    "names_adj_t = []\n",
    "for i in range(len(names_t)):\n",
    "    n = len(h_t_imgs[i])\n",
    "    names_adj_t.extend([names_t[i]]*n)\n",
    "    \n",
    "prices_adj_t =  []\n",
    "for i in range(len(prices_t)):\n",
    "    n = len(h_t_imgs[i])\n",
    "    prices_adj_t.extend([prices_t[i]]*n)\n",
    "1\n",
    "prod_h_url_adj_t =  []\n",
    "for i in range(len(prod_h_url_t)):\n",
    "    n = len(h_t_imgs[i])\n",
    "    prod_h_url_adj_t.extend([prod_h_url_t[i]]*n)"
   ]
  },
  {
   "cell_type": "markdown",
   "metadata": {},
   "source": [
    "Flatten the images and colors lists:"
   ]
  },
  {
   "cell_type": "code",
   "execution_count": null,
   "metadata": {
    "collapsed": true
   },
   "outputs": [],
   "source": [
    "h_t_colors_fl = [color for sublist in h_tote_colors for color in sublist]\n",
    "h_t_img_fl = [img for sublist in h_tote_img for img in sublist]\n",
    "len(h_t_colors_fl),len(h_t_img_fl),len(prod_h_url_adj_t)"
   ]
  },
  {
   "cell_type": "markdown",
   "metadata": {},
   "source": [
    "Create the DataFrame of the Herschel Fannie Packs:"
   ]
  },
  {
   "cell_type": "code",
   "execution_count": null,
   "metadata": {
    "collapsed": true
   },
   "outputs": [],
   "source": [
    "table = [names_adj_t,prices_adj_t,h_t_colors_fl,prod_h_url_adj_t,h_t_img_fl]\n",
    "herschel_df_t = pd.DataFrame(table).transpose()\n",
    "herschel_df_t.rename(columns={0:'product_name', 1: 'product_price',2:'color',3:'URL',4:'img_url'},inplace=True)"
   ]
  },
  {
   "cell_type": "code",
   "execution_count": null,
   "metadata": {
    "collapsed": true
   },
   "outputs": [],
   "source": [
    "herschel_df_t.head()"
   ]
  },
  {
   "cell_type": "markdown",
   "metadata": {},
   "source": [
    "#### Save all images using an apply:"
   ]
  },
  {
   "cell_type": "code",
   "execution_count": null,
   "metadata": {
    "collapsed": true
   },
   "outputs": [],
   "source": [
    "c = 0\n",
    "herschel_df_t['img'] = herschel_df_t.img_url.apply(lambda x: save_src_image_apply('../../data/','herschel_t',x))"
   ]
  },
  {
   "cell_type": "code",
   "execution_count": null,
   "metadata": {
    "collapsed": true
   },
   "outputs": [],
   "source": [
    "herschel_df_t.to_csv('../../herschel_df_t.csv')"
   ]
  },
  {
   "cell_type": "markdown",
   "metadata": {},
   "source": [
    "### Herschel Weekenders:\n"
   ]
  },
  {
   "cell_type": "code",
   "execution_count": null,
   "metadata": {
    "collapsed": true
   },
   "outputs": [],
   "source": [
    "h_page_2 = requests.get(hershel_duffles)\n",
    "h_soup_2 = BeautifulSoup(h_page_2.content, 'lxml')\n",
    "divs_h = h_soup_2.findAll('div', {'class':'col-lg-4 col-md-6 col-xs-12 m-b-2'})"
   ]
  },
  {
   "cell_type": "code",
   "execution_count": null,
   "metadata": {
    "collapsed": true
   },
   "outputs": [],
   "source": [
    "colors_carousel_w = [x.findAll('div',{'class':'carousel'}) if x.findAll('div',{'class':'carousel'}) \n",
    "                   else x.find('div',{'class':'product-image'}) for x in divs_h]\n",
    "h_w_imgs = [i[0].findAll('img',{'class':'swatch'}) if str(type(i)) == \"<class 'bs4.element.ResultSet'>\" \n",
    "             else [i.find('img')] for i in colors_carousel_w]"
   ]
  },
  {
   "cell_type": "code",
   "execution_count": null,
   "metadata": {
    "collapsed": true
   },
   "outputs": [],
   "source": [
    "h_wkndr_colors = [[i['data-color'] if 'data-color' in str(i) else 'NA' for i in x] for x in h_w_imgs]\n",
    "h_wkndr_img = [['https://herschel.com'+i['data-product-image'] if 'data-product-image' in \n",
    "                  str(i) else 'https://herschel.com'+i['data-src'] for i in x] for x in h_w_imgs]\n",
    "names_w = [x.find('div',{'class':'col-xs-6 title-line'}).text for x in divs_h]\n",
    "prices_w = [x.find('span',{'class':'hsco-set-currency'}).text for x in divs_h]\n",
    "prod_h_url_w = ['https://herschel.com'+x.find('a',{'class':'js-product-grid-link'})['href'] for x in divs_h]"
   ]
  },
  {
   "cell_type": "markdown",
   "metadata": {},
   "source": [
    "Extend prices, names, and product url lists to ensure they have the same lengths as all of the colors."
   ]
  },
  {
   "cell_type": "code",
   "execution_count": null,
   "metadata": {
    "collapsed": true
   },
   "outputs": [],
   "source": [
    "names_adj_w = []\n",
    "for i in range(len(names_w)):\n",
    "    n = len(h_w_imgs[i])\n",
    "    names_adj_w.extend([names_w[i]]*n)\n",
    "    \n",
    "prices_adj_w =  []\n",
    "for i in range(len(prices_w)):\n",
    "    n = len(h_w_imgs[i])\n",
    "    prices_adj_w.extend([prices_w[i]]*n)\n",
    "1\n",
    "prod_h_url_adj_w =  []\n",
    "for i in range(len(prod_h_url_w)):\n",
    "    n = len(h_w_imgs[i])\n",
    "    prod_h_url_adj_w.extend([prod_h_url_w[i]]*n)"
   ]
  },
  {
   "cell_type": "markdown",
   "metadata": {},
   "source": [
    "Flatten the images and colors lists:"
   ]
  },
  {
   "cell_type": "code",
   "execution_count": null,
   "metadata": {
    "collapsed": true
   },
   "outputs": [],
   "source": [
    "h_w_colors_fl = [color for sublist in h_wkndr_colors for color in sublist]\n",
    "h_w_img_fl = [img for sublist in h_wkndr_img for img in sublist]\n",
    "len(h_w_colors_fl),len(h_w_img_fl),len(prod_h_url_adj_w)"
   ]
  },
  {
   "cell_type": "markdown",
   "metadata": {},
   "source": [
    "Create the DataFrame of the Herschel Fannie Packs:"
   ]
  },
  {
   "cell_type": "code",
   "execution_count": null,
   "metadata": {
    "collapsed": true
   },
   "outputs": [],
   "source": [
    "table = [names_adj_w,prices_adj_w,h_w_colors_fl,prod_h_url_adj_w,h_w_img_fl]\n",
    "herschel_df_w = pd.DataFrame(table).transpose()\n",
    "herschel_df_w.rename(columns={0:'product_name', 1: 'product_price',2:'color',3:'URL',4:'img_url'},inplace=True)"
   ]
  },
  {
   "cell_type": "code",
   "execution_count": null,
   "metadata": {
    "collapsed": true
   },
   "outputs": [],
   "source": [
    "herschel_df_w.head()"
   ]
  },
  {
   "cell_type": "markdown",
   "metadata": {},
   "source": [
    "#### Save all images using an apply:"
   ]
  },
  {
   "cell_type": "code",
   "execution_count": null,
   "metadata": {
    "collapsed": true
   },
   "outputs": [],
   "source": [
    "c = 0\n",
    "herschel_df_w['img'] = herschel_df_w.img_url.apply(lambda x: save_src_image_apply('../../data/','herschel_w',x))"
   ]
  },
  {
   "cell_type": "code",
   "execution_count": null,
   "metadata": {
    "collapsed": true
   },
   "outputs": [],
   "source": [
    "herschel_df_w.to_csv('../../herschel_df_w.csv')"
   ]
  },
  {
   "cell_type": "markdown",
   "metadata": {},
   "source": [
    "### Nordstrom Circle Bags:"
   ]
  },
  {
   "cell_type": "markdown",
   "metadata": {},
   "source": [
    "Import needed libraries:"
   ]
  },
  {
   "cell_type": "code",
   "execution_count": 3,
   "metadata": {
    "collapsed": true
   },
   "outputs": [],
   "source": [
    "from selenium import webdriver\n",
    "from webdriver_manager.chrome import ChromeDriverManager\n",
    "import time"
   ]
  },
  {
   "cell_type": "markdown",
   "metadata": {},
   "source": [
    "Create the webdriver object and get the base url:"
   ]
  },
  {
   "cell_type": "code",
   "execution_count": null,
   "metadata": {
    "collapsed": true
   },
   "outputs": [],
   "source": [
    "base_url = 'https://shop.nordstrom.com/'\n",
    "#create the chrome driver\n",
    "start_time = time.time()\n",
    "driver = webdriver.Chrome('/Users/elenasm7/.wdm/chromedriver/2.46/mac64/chromedriver') \n",
    "driver.get(base_url)"
   ]
  },
  {
   "cell_type": "markdown",
   "metadata": {},
   "source": [
    "Navigate to the search bar, type in circle bags, and press return:"
   ]
  },
  {
   "cell_type": "code",
   "execution_count": null,
   "metadata": {
    "collapsed": true
   },
   "outputs": [],
   "source": [
    "#now, search for the item we need\n",
    "driver.find_element_by_class_name('ZlVcfv').click()\n",
    "time.sleep(1)\n",
    "real_search = driver.find_element_by_class_name('ZaYgXf')\n",
    "real_search.send_keys('circle bags')\n",
    "time.sleep(1)\n",
    "real_search.submit()\n",
    "time.sleep(1)"
   ]
  },
  {
   "cell_type": "markdown",
   "metadata": {},
   "source": [
    "Create a list of all of the bags:"
   ]
  },
  {
   "cell_type": "code",
   "execution_count": null,
   "metadata": {
    "collapsed": true
   },
   "outputs": [],
   "source": [
    "bags_2 = driver.find_elements_by_class_name('Z1AvvAr')"
   ]
  },
  {
   "cell_type": "markdown",
   "metadata": {},
   "source": [
    "Using a list comprehension grab all of the bag's links:"
   ]
  },
  {
   "cell_type": "code",
   "execution_count": null,
   "metadata": {
    "collapsed": true
   },
   "outputs": [],
   "source": [
    "img_urls = [img_urls.append(i.get_attribute(\"href\")) for i in bags_2]    "
   ]
  },
  {
   "cell_type": "markdown",
   "metadata": {},
   "source": [
    "#now, search for the item we need\n",
    "driver.find_element_by_class_name('ZlVcfv').click()\n",
    "time.sleep(1)\n",
    "real_search = driver.find_element_by_class_name('ZaYgXf')\n",
    "real_search.send_keys('circle bags')\n",
    "time.sleep(1)\n",
    "real_search.submit()\n",
    "time.sleep(1)\n",
    "\n",
    "bags_2 = driver.find_elements_by_class_name('Z1AvvAr')\n",
    "img_urls = []\n",
    "for i in bags_2:\n",
    "    img_urls.append(i.get_attribute(\"href\"))"
   ]
  },
  {
   "cell_type": "markdown",
   "metadata": {},
   "source": [
    "Create a function to get all of the details we need from each bag:"
   ]
  },
  {
   "cell_type": "code",
   "execution_count": 31,
   "metadata": {
    "collapsed": true
   },
   "outputs": [],
   "source": [
    "def get_attributes(image_l,price_l,name_l,color_l,url_l,brand_l,li):\n",
    "    image_l.append(driver.find_element_by_class_name(li[0]).get_attribute('src'))\n",
    "    price_l.append(driver.find_element_by_class_name(li[1]).text)\n",
    "    time.sleep(0.5)\n",
    "    name_l.append(driver.find_element_by_class_name(li[2]).text)\n",
    "    #      _2nXdo0 FCcEY _28PBKh ODo94\n",
    "    time.sleep(0.5)\n",
    "    brand_l.append(driver.find_element_by_class_name(li[3]).text)\n",
    "    time.sleep(0.5)\n",
    "    color_l.append(driver.find_element_by_class_name(li[4]).get_attribute('aria-label'))\n",
    "#     _2ndY0C _2dAOFI\n",
    "    time.sleep(0.5)\n",
    "    color_options = driver.find_elements_by_class_name(li[5])\n",
    "    url_l.append(driver.current_url)"
   ]
  },
  {
   "cell_type": "markdown",
   "metadata": {},
   "source": [
    "Now create a for loop and empty lists to save all of the information we need:"
   ]
  },
  {
   "cell_type": "code",
   "execution_count": null,
   "metadata": {
    "collapsed": true
   },
   "outputs": [],
   "source": [
    "class_names_1 = ['_2g1r2h','Z1WEo3w','_6VXnG',\n",
    "                 'LGMSA','_1QT7uJ','Z1MJbnq']\n",
    "price_li = []\n",
    "name_li = []\n",
    "color = []\n",
    "brand = []\n",
    "url_li = []\n",
    "img_li = []\n",
    "\n",
    "for bag in img_urls:\n",
    "    driver.get(bag)\n",
    "    color_options = driver.find_elements_by_class_name('Z1MJbnq')\n",
    "    if len(color_options) > 1:\n",
    "        color_options[0].click()\n",
    "        time.sleep(1)\n",
    "        get_attributes(img_li,price_li,name_li,\n",
    "                       color,url_li,brand,class_names_1)\n",
    "        for i in color_options[1:]:\n",
    "            time.sleep(1)\n",
    "            i.click()\n",
    "            get_attributes(img_li,price_li,name_li,\n",
    "                           color,url_li,brand,class_names_1)\n",
    "    else:\n",
    "        time.sleep(1)\n",
    "        get_attributes(img_li,price_li,name_li,\n",
    "                       color,url_li,brand,class_names_1)\n",
    "        "
   ]
  },
  {
   "cell_type": "markdown",
   "metadata": {},
   "source": [
    "Follow the steps from before. Create a new data frame, and use the apply statement to download and save all of the bag images."
   ]
  },
  {
   "cell_type": "markdown",
   "metadata": {},
   "source": [
    "### Nordstrom fannie packs:\n",
    "following the same steps as before to grab all the fannie packs from Nordstom.\n",
    "\n",
    "In the next cell creating our base_url variable, and startng a new chromedriver session. Then navigating to the Nordstrom page:"
   ]
  },
  {
   "cell_type": "code",
   "execution_count": 105,
   "metadata": {
    "collapsed": true
   },
   "outputs": [],
   "source": [
    "base_url = 'https://shop.nordstrom.com/'\n",
    "#create the chrome driver\n",
    "start_time = time.time()\n",
    "driver = webdriver.Chrome('/Users/elenasm7/.wdm/chromedriver/76.0.3809.126/mac64/chromedriver') \n",
    "driver.get(base_url)\n",
    "# Z1craAD"
   ]
  },
  {
   "cell_type": "markdown",
   "metadata": {},
   "source": [
    "below, we search for fanny packs:"
   ]
  },
  {
   "cell_type": "code",
   "execution_count": 89,
   "metadata": {
    "collapsed": true
   },
   "outputs": [],
   "source": [
    "#now, search for the item we need\n",
    "driver.find_element_by_class_name('_254wwN').click()\n",
    "time.sleep(1)\n",
    "real_search = driver.find_element_by_class_name('_27R4o5')\n",
    "# ZaYgXf\n",
    "real_search.send_keys('fanny packs')\n",
    "time.sleep(1)\n",
    "real_search.submit()\n",
    "time.sleep(1)"
   ]
  },
  {
   "cell_type": "code",
   "execution_count": 8,
   "metadata": {},
   "outputs": [
    {
     "data": {
      "text/plain": [
       "'https://shop.nordstrom.com/s/madewell-the-simple-pouch-belt-bag/5428490?origin=keywordsearch-personalizedsort&breadcrumb=Home%2FAll%20Results&color=english%20saddle'"
      ]
     },
     "execution_count": 8,
     "metadata": {},
     "output_type": "execute_result"
    }
   ],
   "source": []
  },
  {
   "cell_type": "markdown",
   "metadata": {},
   "source": [
    "Next, we go through each page of bags, grab all of their urls, then grab the img urls:"
   ]
  },
  {
   "cell_type": "code",
   "execution_count": 100,
   "metadata": {
    "collapsed": true
   },
   "outputs": [],
   "source": [
    "pages = ['2','3','4','5','6','7']\n",
    "bag_urls = []\n",
    "current_fp = driver.find_elements_by_class_name('Z1AvvAr')\n",
    "bag_urls.extend([i.get_attribute(\"href\") for i in current_fp])\n",
    "\n",
    "for i in pages:\n",
    "    time.sleep(2)\n",
    "    driver.find_element_by_link_text(i).click()\n",
    "    time.sleep(1)\n",
    "    current_fp = driver.find_elements_by_class_name('Z1AvvAr')\n",
    "    bag_urls.extend([i.get_attribute(\"href\") for i in current_fp])\n",
    "    "
   ]
  },
  {
   "cell_type": "markdown",
   "metadata": {},
   "source": [
    "made updates to the get_attributes function above and added parameter li. When using the function you now pass it a list of class names. Below we use the function the same as before by looping through each bag item and getting the features we need."
   ]
  },
  {
   "cell_type": "code",
   "execution_count": 102,
   "metadata": {
    "collapsed": true
   },
   "outputs": [],
   "source": [
    "class_names = ['Z1rpNm4','Z1WEo3w','_2nXdo0','bpCeO','JniDt']"
   ]
  },
  {
   "cell_type": "code",
   "execution_count": 103,
   "metadata": {
    "collapsed": true
   },
   "outputs": [],
   "source": [
    "def get_attributes(image_l,price_l,name_l,color_l,url_l,brand_l,li,c):\n",
    "    image_l.append(driver.find_element_by_class_name(li[0]).get_attribute('src'))\n",
    "    price_l.append(driver.find_element_by_class_name(li[1]).text)\n",
    "    time.sleep(0.5)\n",
    "    name_l.append(driver.find_element_by_class_name(li[2]).text)\n",
    "    #      _2nXdo0 FCcEY _28PBKh ODo94\n",
    "    time.sleep(0.5)\n",
    "    brand_l.append(driver.find_element_by_class_name(li[3]).text)\n",
    "    time.sleep(0.5)\n",
    "    color_l.append(driver.find_elements_by_class_name(li[4])[c].get_attribute('aria-label'))\n",
    "#     _2ndY0C _2dAOFI\n",
    "    time.sleep(0.5)\n",
    "    url_l.append(driver.current_url)"
   ]
  },
  {
   "cell_type": "code",
   "execution_count": 107,
   "metadata": {
    "collapsed": true
   },
   "outputs": [],
   "source": [
    "price_li = []\n",
    "name_li = []\n",
    "color = []\n",
    "brand = []\n",
    "url_li = []\n",
    "img_li = []\n",
    "\n",
    "for bag in bag_urls:\n",
    "    driver.get(bag)\n",
    "    color_options = driver.find_elements_by_class_name('Z1MJbnq')\n",
    "    counter = 0\n",
    "    if len(color_options) > 1:\n",
    "        color_options[0].click()\n",
    "        time.sleep(1.5)\n",
    "        get_attributes(img_li,price_li,name_li,color,\n",
    "                       url_li,brand,class_names,counter)\n",
    "        for i in color_options[1:]:\n",
    "            counter += 1\n",
    "            time.sleep(2)\n",
    "            i.click()\n",
    "            get_attributes(img_li,price_li,name_li,color,\n",
    "                           url_li,brand,class_names,counter)\n",
    "    else:\n",
    "        time.sleep(1)\n",
    "        get_attributes(img_li,price_li,name_li,color,\n",
    "                       url_li,brand,class_names,counter)"
   ]
  },
  {
   "cell_type": "code",
   "execution_count": 108,
   "metadata": {
    "collapsed": true
   },
   "outputs": [],
   "source": [
    "nord_fp = pd.DataFrame(list(zip(price_li, name_li, color, brand, url_li, img_li)),\n",
    "                       columns=['price','name','color','brand','url','img_url'])"
   ]
  },
  {
   "cell_type": "code",
   "execution_count": 109,
   "metadata": {},
   "outputs": [
    {
     "data": {
      "text/plain": [
       "(626, 6)"
      ]
     },
     "execution_count": 109,
     "metadata": {},
     "output_type": "execute_result"
    }
   ],
   "source": [
    "nord_fp.shape"
   ]
  },
  {
   "cell_type": "markdown",
   "metadata": {},
   "source": [
    "Pickle the DataFrame:"
   ]
  },
  {
   "cell_type": "code",
   "execution_count": 110,
   "metadata": {
    "collapsed": true
   },
   "outputs": [],
   "source": [
    "nord_fp.to_pickle('nord_fp_df.pkl')"
   ]
  },
  {
   "cell_type": "markdown",
   "metadata": {},
   "source": [
    "Update brand names to make file naming more simple. We followed this by creating a new column of a shortened brand name which we will use:"
   ]
  },
  {
   "cell_type": "code",
   "execution_count": 114,
   "metadata": {
    "collapsed": true
   },
   "outputs": [],
   "source": [
    "nord_fp.brand = nord_fp.brand.apply(lambda x: x.lower().replace('.',''))"
   ]
  },
  {
   "cell_type": "code",
   "execution_count": 125,
   "metadata": {
    "collapsed": true
   },
   "outputs": [],
   "source": [
    "nord_fp['new_name'] = nord_fp.brand.apply(lambda x: x.split(' ')[0])"
   ]
  },
  {
   "cell_type": "markdown",
   "metadata": {},
   "source": [
    "Use the function defined in the scraping script. We use it as an apply on each column (axis=1). We pass it the file location, the column of the brand name, and the image url:"
   ]
  },
  {
   "cell_type": "code",
   "execution_count": null,
   "metadata": {
    "collapsed": true
   },
   "outputs": [],
   "source": [
    "c = 0\n",
    "nord_fp['filename'] = nord_fp.apply(lambda x: save_src_image_apply('../../../../img/fanny_packs/','nord-'+x[6],x[5]),axis=1)\n"
   ]
  },
  {
   "cell_type": "markdown",
   "metadata": {},
   "source": [
    "Update the DataFrame and get rid of the updated brand name:"
   ]
  },
  {
   "cell_type": "code",
   "execution_count": 133,
   "metadata": {
    "collapsed": true
   },
   "outputs": [],
   "source": [
    "nord_fp_new = nord_fp[['price', 'name', 'color', 'brand', 'url', 'img_url',\n",
    "       'filename']]"
   ]
  },
  {
   "cell_type": "markdown",
   "metadata": {},
   "source": [
    "Pickle the final DataFrame:"
   ]
  },
  {
   "cell_type": "code",
   "execution_count": 135,
   "metadata": {
    "collapsed": true
   },
   "outputs": [],
   "source": [
    "nord_fp_new.to_pickle('nord_fp_df.pkl')"
   ]
  },
  {
   "cell_type": "code",
   "execution_count": 137,
   "metadata": {
    "collapsed": true
   },
   "outputs": [],
   "source": [
    "# nord_fp_new"
   ]
  },
  {
   "cell_type": "markdown",
   "metadata": {},
   "source": [
    "print number of files in each subdirectory, using the fuction - *subdir_len* - defined in scraping_scripts:"
   ]
  },
  {
   "cell_type": "code",
   "execution_count": 144,
   "metadata": {},
   "outputs": [
    {
     "name": "stdout",
     "output_type": "stream",
     "text": [
      "278 buckets\n",
      "1011 fanny_packs\n",
      "163 circles\n",
      "1749 shoulder_bags\n",
      "1550 totes\n",
      "281 weekenders\n",
      "345 backpacks\n",
      "486 clutches\n"
     ]
    }
   ],
   "source": [
    "import os\n",
    "# path = '../../../../img/'\n",
    "        \n",
    "subdir_len('../../../../img/')"
   ]
  },
  {
   "cell_type": "markdown",
   "metadata": {},
   "source": [
    "By this we can tell we need more buckets, circles, weekenders, backpacks, and clutches. Since we already scraped circles from Nord%&#\\*m, we will be doing the other ones here.\n",
    "\n",
    "### Buckets:"
   ]
  },
  {
   "cell_type": "code",
   "execution_count": 155,
   "metadata": {
    "collapsed": true
   },
   "outputs": [],
   "source": [
    "base_url = 'https://shop.nordstrom.com/'\n",
    "#create the chrome driver\n",
    "start_time = time.time()\n",
    "driver = webdriver.Chrome('/Users/elenasm7/.wdm/chromedriver/76.0.3809.126/mac64/chromedriver') \n",
    "driver.get(base_url)"
   ]
  },
  {
   "cell_type": "code",
   "execution_count": 156,
   "metadata": {},
   "outputs": [],
   "source": [
    "driver.find_element_by_class_name('_2Kwni').click()\n",
    "time.sleep(1)\n",
    "real_search = driver.find_element_by_class_name('_2341R')\n",
    "# ZaYgXf\n",
    "real_search.send_keys('bucket bags')\n",
    "time.sleep(1)\n",
    "real_search.submit()\n",
    "time.sleep(1)"
   ]
  },
  {
   "cell_type": "code",
   "execution_count": null,
   "metadata": {},
   "outputs": [],
   "source": [
    "pages = ['2','3']\n",
    "bb_urls = []\n",
    "current_bb = driver.find_elements_by_class_name('_1av3_')\n",
    "bb_urls.extend([i.get_attribute(\"href\") for i in current_bb])\n",
    "\n",
    "for i in pages:\n",
    "    time.sleep(2)\n",
    "    driver.find_element_by_link_text(i).click()\n",
    "    time.sleep(1)\n",
    "    current_bb = driver.find_elements_by_class_name('_1av3_')\n",
    "    bb_urls.extend([i.get_attribute(\"href\") for i in current_fp])"
   ]
  },
  {
   "cell_type": "code",
   "execution_count": 153,
   "metadata": {
    "collapsed": true
   },
   "outputs": [],
   "source": [
    "class_names = ['_1xc1x','_3p7kp','_1OdhS','_2OFk4','_2fvOm']"
   ]
  },
  {
   "cell_type": "code",
   "execution_count": null,
   "metadata": {},
   "outputs": [],
   "source": [
    "price_li_bb = []\n",
    "name_li_bb = []\n",
    "color_bb = []\n",
    "brand_bb = []\n",
    "url_li_bb = []\n",
    "img_li_bb = []\n",
    "\n",
    "for bag in bag_urls:\n",
    "    driver.get(bag)\n",
    "    color_options = driver.find_elements_by_class_name('_25QPq')\n",
    "    counter = 0\n",
    "    if len(color_options) > 1:\n",
    "        color_options[0].click()\n",
    "        time.sleep(1.5)\n",
    "        get_attributes(img_li_bb,price_li_bb,name_li_bb,color_bb,\n",
    "                       url_li_bb,brand_bb,class_names_bb,counter)\n",
    "        for i in color_options[1:]:\n",
    "            counter += 1\n",
    "            time.sleep(2)\n",
    "            i.click()\n",
    "            get_attributes(img_li_bb,price_li,name_li_bb,color_bb,\n",
    "                           url_li_bb,brand_bb,class_names_bb,counter)\n",
    "    else:\n",
    "        time.sleep(1)\n",
    "        get_attributes(img_li_bb,price_li_bb,name_li_bb,color_bb,\n",
    "                       url_li_bb,brand_bb,class_names_bb,counter)"
   ]
  },
  {
   "cell_type": "code",
   "execution_count": null,
   "metadata": {
    "collapsed": true
   },
   "outputs": [],
   "source": []
  }
 ],
 "metadata": {
  "kernelspec": {
   "display_name": "Python 3",
   "language": "python",
   "name": "python3"
  },
  "language_info": {
   "codemirror_mode": {
    "name": "ipython",
    "version": 3
   },
   "file_extension": ".py",
   "mimetype": "text/x-python",
   "name": "python",
   "nbconvert_exporter": "python",
   "pygments_lexer": "ipython3",
   "version": "3.6.8"
  }
 },
 "nbformat": 4,
 "nbformat_minor": 2
}
