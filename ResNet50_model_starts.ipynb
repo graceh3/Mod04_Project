{
 "cells": [
  {
   "cell_type": "markdown",
   "metadata": {},
   "source": [
    "Import libraries:"
   ]
  },
  {
   "cell_type": "code",
   "execution_count": 3,
   "metadata": {},
   "outputs": [
    {
     "name": "stderr",
     "output_type": "stream",
     "text": [
      "/Users/elenasm7/anaconda/lib/python3.6/site-packages/h5py/__init__.py:36: FutureWarning: Conversion of the second argument of issubdtype from `float` to `np.floating` is deprecated. In future, it will be treated as `np.float64 == np.dtype(float).type`.\n",
      "  from ._conv import register_converters as _register_converters\n",
      "Using TensorFlow backend.\n"
     ]
    }
   ],
   "source": [
    "import pandas as pd\n",
    "from keras.applications.vgg16 import VGG16\n",
    "from keras.preprocessing import image\n",
    "from keras.applications.vgg16 import preprocess_input\n",
    "import numpy as np\n",
    "import pandas as pd\n",
    "import matplotlib.pyplot as plt\n",
    "from sklearn.cluster import KMeans\n",
    "%matplotlib inline\n",
    "import time"
   ]
  },
  {
   "cell_type": "markdown",
   "metadata": {},
   "source": [
    "Read in the data:"
   ]
  },
  {
   "cell_type": "code",
   "execution_count": 4,
   "metadata": {
    "collapsed": true
   },
   "outputs": [],
   "source": [
    "loc = '../../Mod_4/Mod_4_project/'\n",
    "eth_1 = pd.read_csv(loc+'data/full_sets/ethical_brands_elena.csv')\n",
    "eth_2 = pd.read_csv(loc+'data/full_sets/full_ethical_df_grace.csv')\n",
    "uneth_1 = pd.read_csv(loc+'data/full_sets/full_unethical_df_grace.csv')\n",
    "uneth_2 = pd.read_csv(loc+'data/full_sets/unethical_brands_elena.csv')"
   ]
  },
  {
   "cell_type": "markdown",
   "metadata": {},
   "source": [
    "Drop old axes: "
   ]
  },
  {
   "cell_type": "code",
   "execution_count": 7,
   "metadata": {
    "collapsed": true
   },
   "outputs": [],
   "source": [
    "eth_1.drop(['Unnamed: 0'],axis=1,inplace=True)\n",
    "eth_2.drop(['Unnamed: 0'],axis=1,inplace=True)\n",
    "uneth_1.drop(['Unnamed: 0'],axis=1,inplace=True)\n",
    "uneth_2.drop(['Unnamed: 0'],axis=1,inplace=True)"
   ]
  },
  {
   "cell_type": "code",
   "execution_count": 8,
   "metadata": {
    "collapsed": true
   },
   "outputs": [],
   "source": [
    "full_df = pd.concat([eth_1,eth_2,uneth_1,uneth_2])\n",
    "full_df.reset_index(drop=True,inplace=True)"
   ]
  },
  {
   "cell_type": "code",
   "execution_count": 13,
   "metadata": {},
   "outputs": [
    {
     "data": {
      "text/plain": [
       "brand             0\n",
       "description       0\n",
       "href           1280\n",
       "img-file          0\n",
       "is_ethical        0\n",
       "link            149\n",
       "price             0\n",
       "dtype: int64"
      ]
     },
     "execution_count": 13,
     "metadata": {},
     "output_type": "execute_result"
    }
   ],
   "source": [
    "full_df.isnull().sum()"
   ]
  },
  {
   "cell_type": "code",
   "execution_count": null,
   "metadata": {
    "collapsed": true
   },
   "outputs": [],
   "source": []
  },
  {
   "cell_type": "code",
   "execution_count": null,
   "metadata": {
    "collapsed": true
   },
   "outputs": [],
   "source": []
  },
  {
   "cell_type": "markdown",
   "metadata": {},
   "source": []
  },
  {
   "cell_type": "code",
   "execution_count": 17,
   "metadata": {
    "collapsed": true
   },
   "outputs": [],
   "source": [
    "import os, shutil"
   ]
  },
  {
   "cell_type": "code",
   "execution_count": 18,
   "metadata": {
    "collapsed": true
   },
   "outputs": [],
   "source": [
    "backpacks_dir = '../data/backpacks/'\n",
    "buckets_dir = '../data/buckets/'\n",
    "circles_dir = '../data/circles/'\n",
    "clutch_dir = '../data/clutch/'\n",
    "fanny_packs_dir = '../data/fanny_packs/'\n",
    "shoulder_bags_dir = '../data/shoulder_bags/'\n",
    "totes_dir = '../data/totes/'\n",
    "new_dir = '../split/'"
   ]
  },
  {
   "cell_type": "code",
   "execution_count": 20,
   "metadata": {},
   "outputs": [],
   "source": [
    "imgs_backpacks = [file for file in os.listdir(backpacks_dir) if (file.endswith('.jpg')) or (file.endswith('.png'))]\n",
    "imgs_buckets = [file for file in os.listdir(buckets_dir) if (file.endswith('.jpg')) or (file.endswith('.png'))]\n",
    "imgs_circles = [file for file in os.listdir(circles_dir) if (file.endswith('.jpg')) or (file.endswith('.png'))]\n",
    "imgs_clutch = [file for file in os.listdir(clutch_dir) if (file.endswith('.jpg')) or (file.endswith('.png'))]\n",
    "imgs_fanny_packs = [file for file in os.listdir(fanny_packs_dir) if (file.endswith('.jpg')) or (file.endswith('.png'))]\n",
    "imgs_shoulder_bags = [file for file in os.listdir(shoulder_bags_dir) if (file.endswith('.jpg')) or (file.endswith('.png'))]\n",
    "imgs_totes = [file for file in os.listdir(totes_dir) if (file.endswith('.jpg')) or (file.endswith('.png'))]"
   ]
  },
  {
   "cell_type": "code",
   "execution_count": 22,
   "metadata": {
    "collapsed": true
   },
   "outputs": [],
   "source": [
    "os.mkdir(new_dir)"
   ]
  },
  {
   "cell_type": "code",
   "execution_count": null,
   "metadata": {
    "collapsed": true
   },
   "outputs": [],
   "source": [
    "train_folder = os.path.join(new_dir, 'train')\n",
    "train_santa = os.path.join(train_folder, 'santa')\n",
    "train_not_santa = os.path.join(train_folder, 'not_santa')\n",
    "train_santa = os.path.join(train_folder, 'santa')\n",
    "train_santa = os.path.join(train_folder, 'santa')\n",
    "train_santa = os.path.join(train_folder, 'santa')\n",
    "train_santa = os.path.join(train_folder, 'santa')\n",
    "train_santa = os.path.join(train_folder, 'santa')\n",
    "\n",
    "\n",
    "test_folder = os.path.join(new_dir, 'test')\n",
    "test_santa = os.path.join(test_folder, 'santa')\n",
    "test_not_santa = os.path.join(test_folder, 'not_santa')\n",
    "test_santa = os.path.join(test_folder, 'santa')\n",
    "test_santa = os.path.join(test_folder, 'santa')\n",
    "test_santa = os.path.join(test_folder, 'santa')\n",
    "test_santa = os.path.join(test_folder, 'santa')\n",
    "test_santa = os.path.join(test_folder, 'santa')"
   ]
  },
  {
   "cell_type": "code",
   "execution_count": null,
   "metadata": {
    "collapsed": true
   },
   "outputs": [],
   "source": []
  },
  {
   "cell_type": "code",
   "execution_count": null,
   "metadata": {
    "collapsed": true
   },
   "outputs": [],
   "source": []
  },
  {
   "cell_type": "code",
   "execution_count": 51,
   "metadata": {
    "collapsed": true
   },
   "outputs": [],
   "source": [
    "import os\n",
    "import random\n",
    "from shutil import copyfile\n",
    "\n",
    "def img_train_test_split(img_source_dir, train_size, random_seed):\n",
    "    \"\"\"\n",
    "    Randomly splits images over a train and validation folder, while preserving the folder structure\n",
    "    \n",
    "    Parameters\n",
    "    ----------\n",
    "    img_source_dir : string\n",
    "        Path to the folder with the images to be split. Can be absolute or relative path   \n",
    "        \n",
    "    train_size : float\n",
    "        Proportion of the original images that need to be copied in the subdirectory in the train folder\n",
    "    \"\"\"    \n",
    "    if not (isinstance(img_source_dir, str)):\n",
    "        raise AttributeError('img_source_dir must be a string')\n",
    "        \n",
    "    if not os.path.exists(img_source_dir):\n",
    "        raise OSError('img_source_dir does not exist')\n",
    "        \n",
    "    if not (isinstance(train_size, float)):\n",
    "        raise AttributeError('train_size must be a float')\n",
    "        \n",
    "    # Set up empty folder structure if not exists\n",
    "    if not os.path.exists('data'):\n",
    "        os.makedirs('data')\n",
    "    else:\n",
    "        if not os.path.exists('data/train'):\n",
    "            os.makedirs('data/train')\n",
    "        if not os.path.exists('data/validation'):\n",
    "            os.makedirs('data/validation')\n",
    "            \n",
    "    # Get the subdirectories in the main image folder\n",
    "    subdirs = [subdir for subdir in os.listdir(img_source_dir) if os.path.isdir(os.path.join(img_source_dir, subdir))]\n",
    "\n",
    "    for subdir in subdirs:\n",
    "        subdir_fullpath = os.path.join(img_source_dir, subdir)\n",
    "        if len(os.listdir(subdir_fullpath)) == 0:\n",
    "            print(subdir_fullpath + ' is empty')\n",
    "            break\n",
    "\n",
    "        train_subdir = os.path.join('data/train', subdir)\n",
    "        validation_subdir = os.path.join('data/validation', subdir)\n",
    "\n",
    "        # Create subdirectories in train and validation folders\n",
    "        if not os.path.exists(train_subdir):\n",
    "            os.makedirs(train_subdir)\n",
    "\n",
    "        if not os.path.exists(validation_subdir):\n",
    "            os.makedirs(validation_subdir)\n",
    "\n",
    "        train_counter = 0\n",
    "        validation_counter = 0\n",
    "        \n",
    "        np.random.seed(random_seed)\n",
    "        # Randomly assign an image to train or validation folder\n",
    "        for filename in os.listdir(subdir_fullpath):\n",
    "            if filename.endswith(\".jpg\") or filename.endswith(\".png\"): \n",
    "                fileparts = filename.split('.')\n",
    "\n",
    "                if random.uniform(0, 1) <= train_size:\n",
    "                    copyfile(os.path.join(subdir_fullpath, filename), os.path.join(train_subdir, fileparts[0] + '.' + fileparts[1]))\n",
    "                    train_counter += 1\n",
    "                else:\n",
    "                    copyfile(os.path.join(subdir_fullpath, filename), os.path.join(validation_subdir, fileparts[0] + '.' + fileparts[1]))\n",
    "                    validation_counter += 1\n",
    "                    \n",
    "        print('Copied ' + str(train_counter) + ' images to data/train/' + subdir)\n",
    "        print('Copied ' + str(validation_counter) + ' images to data/validation/' + subdir)"
   ]
  },
  {
   "cell_type": "code",
   "execution_count": 47,
   "metadata": {},
   "outputs": [],
   "source": [
    "subdirs = [subdir for subdir in os.listdir('../data_2') if os.path.isdir(os.path.join('../data_2', subdir))]"
   ]
  },
  {
   "cell_type": "code",
   "execution_count": 48,
   "metadata": {},
   "outputs": [
    {
     "data": {
      "text/plain": [
       "['buckets',\n",
       " 'fanny_packs',\n",
       " 'circles',\n",
       " 'shoulder_bags',\n",
       " 'totes',\n",
       " 'backpacks',\n",
       " 'clutch']"
      ]
     },
     "execution_count": 48,
     "metadata": {},
     "output_type": "execute_result"
    }
   ],
   "source": [
    "subdirs"
   ]
  },
  {
   "cell_type": "code",
   "execution_count": 52,
   "metadata": {},
   "outputs": [
    {
     "name": "stdout",
     "output_type": "stream",
     "text": [
      "Copied 88 images to data/train/buckets\n",
      "Copied 15 images to data/validation/buckets\n",
      "Copied 87 images to data/train/fanny_packs\n",
      "Copied 20 images to data/validation/fanny_packs\n",
      "Copied 64 images to data/train/circles\n",
      "Copied 17 images to data/validation/circles\n",
      "Copied 405 images to data/train/shoulder_bags\n",
      "Copied 96 images to data/validation/shoulder_bags\n",
      "Copied 386 images to data/train/totes\n",
      "Copied 104 images to data/validation/totes\n",
      "Copied 397 images to data/train/backpacks\n",
      "Copied 87 images to data/validation/backpacks\n",
      "Copied 76 images to data/train/clutch\n",
      "Copied 17 images to data/validation/clutch\n"
     ]
    }
   ],
   "source": [
    "# https://gist.github.com/bertcarremans/679624f369ed9270472e37f8333244f5\n",
    "img_train_test_split('../data_2', 0.8, 42)"
   ]
  },
  {
   "cell_type": "markdown",
   "metadata": {},
   "source": [
    "### Import the model from Keras: "
   ]
  },
  {
   "cell_type": "code",
   "execution_count": 54,
   "metadata": {},
   "outputs": [
    {
     "name": "stdout",
     "output_type": "stream",
     "text": [
      "WARNING:tensorflow:From /Users/elenasm7/anaconda/lib/python3.6/site-packages/tensorflow/python/framework/op_def_library.py:263: colocate_with (from tensorflow.python.framework.ops) is deprecated and will be removed in a future version.\n",
      "Instructions for updating:\n",
      "Colocations handled automatically by placer.\n"
     ]
    },
    {
     "name": "stderr",
     "output_type": "stream",
     "text": [
      "/Users/elenasm7/anaconda/lib/python3.6/site-packages/keras_applications/resnet50.py:265: UserWarning: The output shape of `ResNet50(include_top=False)` has been changed since Keras 2.2.0.\n",
      "  warnings.warn('The output shape of `ResNet50(include_top=False)` '\n"
     ]
    },
    {
     "name": "stdout",
     "output_type": "stream",
     "text": [
      "Downloading data from https://github.com/fchollet/deep-learning-models/releases/download/v0.2/resnet50_weights_tf_dim_ordering_tf_kernels_notop.h5\n",
      "94658560/94653016 [==============================] - 33s 0us/step\n"
     ]
    }
   ],
   "source": [
    "from keras.applications import ResNet50\n",
    "#Load the VGG model\n",
    "ResNet50 = ResNet50(weights='imagenet', include_top=False, input_shape=(224, 224, 3))"
   ]
  },
  {
   "cell_type": "code",
   "execution_count": 55,
   "metadata": {},
   "outputs": [
    {
     "name": "stdout",
     "output_type": "stream",
     "text": [
      "__________________________________________________________________________________________________\n",
      "Layer (type)                    Output Shape         Param #     Connected to                     \n",
      "==================================================================================================\n",
      "input_1 (InputLayer)            (None, 224, 224, 3)  0                                            \n",
      "__________________________________________________________________________________________________\n",
      "conv1_pad (ZeroPadding2D)       (None, 230, 230, 3)  0           input_1[0][0]                    \n",
      "__________________________________________________________________________________________________\n",
      "conv1 (Conv2D)                  (None, 112, 112, 64) 9472        conv1_pad[0][0]                  \n",
      "__________________________________________________________________________________________________\n",
      "bn_conv1 (BatchNormalization)   (None, 112, 112, 64) 256         conv1[0][0]                      \n",
      "__________________________________________________________________________________________________\n",
      "activation_1 (Activation)       (None, 112, 112, 64) 0           bn_conv1[0][0]                   \n",
      "__________________________________________________________________________________________________\n",
      "pool1_pad (ZeroPadding2D)       (None, 114, 114, 64) 0           activation_1[0][0]               \n",
      "__________________________________________________________________________________________________\n",
      "max_pooling2d_1 (MaxPooling2D)  (None, 56, 56, 64)   0           pool1_pad[0][0]                  \n",
      "__________________________________________________________________________________________________\n",
      "res2a_branch2a (Conv2D)         (None, 56, 56, 64)   4160        max_pooling2d_1[0][0]            \n",
      "__________________________________________________________________________________________________\n",
      "bn2a_branch2a (BatchNormalizati (None, 56, 56, 64)   256         res2a_branch2a[0][0]             \n",
      "__________________________________________________________________________________________________\n",
      "activation_2 (Activation)       (None, 56, 56, 64)   0           bn2a_branch2a[0][0]              \n",
      "__________________________________________________________________________________________________\n",
      "res2a_branch2b (Conv2D)         (None, 56, 56, 64)   36928       activation_2[0][0]               \n",
      "__________________________________________________________________________________________________\n",
      "bn2a_branch2b (BatchNormalizati (None, 56, 56, 64)   256         res2a_branch2b[0][0]             \n",
      "__________________________________________________________________________________________________\n",
      "activation_3 (Activation)       (None, 56, 56, 64)   0           bn2a_branch2b[0][0]              \n",
      "__________________________________________________________________________________________________\n",
      "res2a_branch2c (Conv2D)         (None, 56, 56, 256)  16640       activation_3[0][0]               \n",
      "__________________________________________________________________________________________________\n",
      "res2a_branch1 (Conv2D)          (None, 56, 56, 256)  16640       max_pooling2d_1[0][0]            \n",
      "__________________________________________________________________________________________________\n",
      "bn2a_branch2c (BatchNormalizati (None, 56, 56, 256)  1024        res2a_branch2c[0][0]             \n",
      "__________________________________________________________________________________________________\n",
      "bn2a_branch1 (BatchNormalizatio (None, 56, 56, 256)  1024        res2a_branch1[0][0]              \n",
      "__________________________________________________________________________________________________\n",
      "add_1 (Add)                     (None, 56, 56, 256)  0           bn2a_branch2c[0][0]              \n",
      "                                                                 bn2a_branch1[0][0]               \n",
      "__________________________________________________________________________________________________\n",
      "activation_4 (Activation)       (None, 56, 56, 256)  0           add_1[0][0]                      \n",
      "__________________________________________________________________________________________________\n",
      "res2b_branch2a (Conv2D)         (None, 56, 56, 64)   16448       activation_4[0][0]               \n",
      "__________________________________________________________________________________________________\n",
      "bn2b_branch2a (BatchNormalizati (None, 56, 56, 64)   256         res2b_branch2a[0][0]             \n",
      "__________________________________________________________________________________________________\n",
      "activation_5 (Activation)       (None, 56, 56, 64)   0           bn2b_branch2a[0][0]              \n",
      "__________________________________________________________________________________________________\n",
      "res2b_branch2b (Conv2D)         (None, 56, 56, 64)   36928       activation_5[0][0]               \n",
      "__________________________________________________________________________________________________\n",
      "bn2b_branch2b (BatchNormalizati (None, 56, 56, 64)   256         res2b_branch2b[0][0]             \n",
      "__________________________________________________________________________________________________\n",
      "activation_6 (Activation)       (None, 56, 56, 64)   0           bn2b_branch2b[0][0]              \n",
      "__________________________________________________________________________________________________\n",
      "res2b_branch2c (Conv2D)         (None, 56, 56, 256)  16640       activation_6[0][0]               \n",
      "__________________________________________________________________________________________________\n",
      "bn2b_branch2c (BatchNormalizati (None, 56, 56, 256)  1024        res2b_branch2c[0][0]             \n",
      "__________________________________________________________________________________________________\n",
      "add_2 (Add)                     (None, 56, 56, 256)  0           bn2b_branch2c[0][0]              \n",
      "                                                                 activation_4[0][0]               \n",
      "__________________________________________________________________________________________________\n",
      "activation_7 (Activation)       (None, 56, 56, 256)  0           add_2[0][0]                      \n",
      "__________________________________________________________________________________________________\n",
      "res2c_branch2a (Conv2D)         (None, 56, 56, 64)   16448       activation_7[0][0]               \n",
      "__________________________________________________________________________________________________\n",
      "bn2c_branch2a (BatchNormalizati (None, 56, 56, 64)   256         res2c_branch2a[0][0]             \n",
      "__________________________________________________________________________________________________\n",
      "activation_8 (Activation)       (None, 56, 56, 64)   0           bn2c_branch2a[0][0]              \n",
      "__________________________________________________________________________________________________\n",
      "res2c_branch2b (Conv2D)         (None, 56, 56, 64)   36928       activation_8[0][0]               \n",
      "__________________________________________________________________________________________________\n",
      "bn2c_branch2b (BatchNormalizati (None, 56, 56, 64)   256         res2c_branch2b[0][0]             \n",
      "__________________________________________________________________________________________________\n",
      "activation_9 (Activation)       (None, 56, 56, 64)   0           bn2c_branch2b[0][0]              \n",
      "__________________________________________________________________________________________________\n",
      "res2c_branch2c (Conv2D)         (None, 56, 56, 256)  16640       activation_9[0][0]               \n",
      "__________________________________________________________________________________________________\n",
      "bn2c_branch2c (BatchNormalizati (None, 56, 56, 256)  1024        res2c_branch2c[0][0]             \n",
      "__________________________________________________________________________________________________\n",
      "add_3 (Add)                     (None, 56, 56, 256)  0           bn2c_branch2c[0][0]              \n",
      "                                                                 activation_7[0][0]               \n",
      "__________________________________________________________________________________________________\n",
      "activation_10 (Activation)      (None, 56, 56, 256)  0           add_3[0][0]                      \n",
      "__________________________________________________________________________________________________\n",
      "res3a_branch2a (Conv2D)         (None, 28, 28, 128)  32896       activation_10[0][0]              \n",
      "__________________________________________________________________________________________________\n",
      "bn3a_branch2a (BatchNormalizati (None, 28, 28, 128)  512         res3a_branch2a[0][0]             \n",
      "__________________________________________________________________________________________________\n",
      "activation_11 (Activation)      (None, 28, 28, 128)  0           bn3a_branch2a[0][0]              \n",
      "__________________________________________________________________________________________________\n",
      "res3a_branch2b (Conv2D)         (None, 28, 28, 128)  147584      activation_11[0][0]              \n",
      "__________________________________________________________________________________________________\n",
      "bn3a_branch2b (BatchNormalizati (None, 28, 28, 128)  512         res3a_branch2b[0][0]             \n",
      "__________________________________________________________________________________________________\n",
      "activation_12 (Activation)      (None, 28, 28, 128)  0           bn3a_branch2b[0][0]              \n",
      "__________________________________________________________________________________________________\n",
      "res3a_branch2c (Conv2D)         (None, 28, 28, 512)  66048       activation_12[0][0]              \n",
      "__________________________________________________________________________________________________\n",
      "res3a_branch1 (Conv2D)          (None, 28, 28, 512)  131584      activation_10[0][0]              \n",
      "__________________________________________________________________________________________________\n",
      "bn3a_branch2c (BatchNormalizati (None, 28, 28, 512)  2048        res3a_branch2c[0][0]             \n",
      "__________________________________________________________________________________________________\n",
      "bn3a_branch1 (BatchNormalizatio (None, 28, 28, 512)  2048        res3a_branch1[0][0]              \n",
      "__________________________________________________________________________________________________\n",
      "add_4 (Add)                     (None, 28, 28, 512)  0           bn3a_branch2c[0][0]              \n",
      "                                                                 bn3a_branch1[0][0]               \n",
      "__________________________________________________________________________________________________\n",
      "activation_13 (Activation)      (None, 28, 28, 512)  0           add_4[0][0]                      \n",
      "__________________________________________________________________________________________________\n",
      "res3b_branch2a (Conv2D)         (None, 28, 28, 128)  65664       activation_13[0][0]              \n",
      "__________________________________________________________________________________________________\n",
      "bn3b_branch2a (BatchNormalizati (None, 28, 28, 128)  512         res3b_branch2a[0][0]             \n",
      "__________________________________________________________________________________________________\n",
      "activation_14 (Activation)      (None, 28, 28, 128)  0           bn3b_branch2a[0][0]              \n",
      "__________________________________________________________________________________________________\n",
      "res3b_branch2b (Conv2D)         (None, 28, 28, 128)  147584      activation_14[0][0]              \n",
      "__________________________________________________________________________________________________\n",
      "bn3b_branch2b (BatchNormalizati (None, 28, 28, 128)  512         res3b_branch2b[0][0]             \n",
      "__________________________________________________________________________________________________\n",
      "activation_15 (Activation)      (None, 28, 28, 128)  0           bn3b_branch2b[0][0]              \n",
      "__________________________________________________________________________________________________\n",
      "res3b_branch2c (Conv2D)         (None, 28, 28, 512)  66048       activation_15[0][0]              \n",
      "__________________________________________________________________________________________________\n",
      "bn3b_branch2c (BatchNormalizati (None, 28, 28, 512)  2048        res3b_branch2c[0][0]             \n",
      "__________________________________________________________________________________________________\n",
      "add_5 (Add)                     (None, 28, 28, 512)  0           bn3b_branch2c[0][0]              \n",
      "                                                                 activation_13[0][0]              \n",
      "__________________________________________________________________________________________________\n",
      "activation_16 (Activation)      (None, 28, 28, 512)  0           add_5[0][0]                      \n",
      "__________________________________________________________________________________________________\n",
      "res3c_branch2a (Conv2D)         (None, 28, 28, 128)  65664       activation_16[0][0]              \n",
      "__________________________________________________________________________________________________\n",
      "bn3c_branch2a (BatchNormalizati (None, 28, 28, 128)  512         res3c_branch2a[0][0]             \n",
      "__________________________________________________________________________________________________\n",
      "activation_17 (Activation)      (None, 28, 28, 128)  0           bn3c_branch2a[0][0]              \n",
      "__________________________________________________________________________________________________\n",
      "res3c_branch2b (Conv2D)         (None, 28, 28, 128)  147584      activation_17[0][0]              \n",
      "__________________________________________________________________________________________________\n",
      "bn3c_branch2b (BatchNormalizati (None, 28, 28, 128)  512         res3c_branch2b[0][0]             \n",
      "__________________________________________________________________________________________________\n",
      "activation_18 (Activation)      (None, 28, 28, 128)  0           bn3c_branch2b[0][0]              \n",
      "__________________________________________________________________________________________________\n",
      "res3c_branch2c (Conv2D)         (None, 28, 28, 512)  66048       activation_18[0][0]              \n",
      "__________________________________________________________________________________________________\n",
      "bn3c_branch2c (BatchNormalizati (None, 28, 28, 512)  2048        res3c_branch2c[0][0]             \n",
      "__________________________________________________________________________________________________\n",
      "add_6 (Add)                     (None, 28, 28, 512)  0           bn3c_branch2c[0][0]              \n",
      "                                                                 activation_16[0][0]              \n",
      "__________________________________________________________________________________________________\n",
      "activation_19 (Activation)      (None, 28, 28, 512)  0           add_6[0][0]                      \n",
      "__________________________________________________________________________________________________\n",
      "res3d_branch2a (Conv2D)         (None, 28, 28, 128)  65664       activation_19[0][0]              \n",
      "__________________________________________________________________________________________________\n",
      "bn3d_branch2a (BatchNormalizati (None, 28, 28, 128)  512         res3d_branch2a[0][0]             \n",
      "__________________________________________________________________________________________________\n",
      "activation_20 (Activation)      (None, 28, 28, 128)  0           bn3d_branch2a[0][0]              \n",
      "__________________________________________________________________________________________________\n",
      "res3d_branch2b (Conv2D)         (None, 28, 28, 128)  147584      activation_20[0][0]              \n",
      "__________________________________________________________________________________________________\n",
      "bn3d_branch2b (BatchNormalizati (None, 28, 28, 128)  512         res3d_branch2b[0][0]             \n",
      "__________________________________________________________________________________________________\n",
      "activation_21 (Activation)      (None, 28, 28, 128)  0           bn3d_branch2b[0][0]              \n",
      "__________________________________________________________________________________________________\n",
      "res3d_branch2c (Conv2D)         (None, 28, 28, 512)  66048       activation_21[0][0]              \n",
      "__________________________________________________________________________________________________\n",
      "bn3d_branch2c (BatchNormalizati (None, 28, 28, 512)  2048        res3d_branch2c[0][0]             \n",
      "__________________________________________________________________________________________________\n",
      "add_7 (Add)                     (None, 28, 28, 512)  0           bn3d_branch2c[0][0]              \n",
      "                                                                 activation_19[0][0]              \n",
      "__________________________________________________________________________________________________\n",
      "activation_22 (Activation)      (None, 28, 28, 512)  0           add_7[0][0]                      \n",
      "__________________________________________________________________________________________________\n",
      "res4a_branch2a (Conv2D)         (None, 14, 14, 256)  131328      activation_22[0][0]              \n",
      "__________________________________________________________________________________________________\n",
      "bn4a_branch2a (BatchNormalizati (None, 14, 14, 256)  1024        res4a_branch2a[0][0]             \n",
      "__________________________________________________________________________________________________\n",
      "activation_23 (Activation)      (None, 14, 14, 256)  0           bn4a_branch2a[0][0]              \n",
      "__________________________________________________________________________________________________\n",
      "res4a_branch2b (Conv2D)         (None, 14, 14, 256)  590080      activation_23[0][0]              \n",
      "__________________________________________________________________________________________________\n",
      "bn4a_branch2b (BatchNormalizati (None, 14, 14, 256)  1024        res4a_branch2b[0][0]             \n",
      "__________________________________________________________________________________________________\n",
      "activation_24 (Activation)      (None, 14, 14, 256)  0           bn4a_branch2b[0][0]              \n",
      "__________________________________________________________________________________________________\n",
      "res4a_branch2c (Conv2D)         (None, 14, 14, 1024) 263168      activation_24[0][0]              \n",
      "__________________________________________________________________________________________________\n",
      "res4a_branch1 (Conv2D)          (None, 14, 14, 1024) 525312      activation_22[0][0]              \n",
      "__________________________________________________________________________________________________\n",
      "bn4a_branch2c (BatchNormalizati (None, 14, 14, 1024) 4096        res4a_branch2c[0][0]             \n",
      "__________________________________________________________________________________________________\n",
      "bn4a_branch1 (BatchNormalizatio (None, 14, 14, 1024) 4096        res4a_branch1[0][0]              \n",
      "__________________________________________________________________________________________________\n",
      "add_8 (Add)                     (None, 14, 14, 1024) 0           bn4a_branch2c[0][0]              \n",
      "                                                                 bn4a_branch1[0][0]               \n",
      "__________________________________________________________________________________________________\n",
      "activation_25 (Activation)      (None, 14, 14, 1024) 0           add_8[0][0]                      \n",
      "__________________________________________________________________________________________________\n",
      "res4b_branch2a (Conv2D)         (None, 14, 14, 256)  262400      activation_25[0][0]              \n",
      "__________________________________________________________________________________________________\n",
      "bn4b_branch2a (BatchNormalizati (None, 14, 14, 256)  1024        res4b_branch2a[0][0]             \n",
      "__________________________________________________________________________________________________\n",
      "activation_26 (Activation)      (None, 14, 14, 256)  0           bn4b_branch2a[0][0]              \n",
      "__________________________________________________________________________________________________\n",
      "res4b_branch2b (Conv2D)         (None, 14, 14, 256)  590080      activation_26[0][0]              \n",
      "__________________________________________________________________________________________________\n",
      "bn4b_branch2b (BatchNormalizati (None, 14, 14, 256)  1024        res4b_branch2b[0][0]             \n",
      "__________________________________________________________________________________________________\n",
      "activation_27 (Activation)      (None, 14, 14, 256)  0           bn4b_branch2b[0][0]              \n",
      "__________________________________________________________________________________________________\n",
      "res4b_branch2c (Conv2D)         (None, 14, 14, 1024) 263168      activation_27[0][0]              \n",
      "__________________________________________________________________________________________________\n",
      "bn4b_branch2c (BatchNormalizati (None, 14, 14, 1024) 4096        res4b_branch2c[0][0]             \n"
     ]
    },
    {
     "name": "stdout",
     "output_type": "stream",
     "text": [
      "__________________________________________________________________________________________________\n",
      "add_9 (Add)                     (None, 14, 14, 1024) 0           bn4b_branch2c[0][0]              \n",
      "                                                                 activation_25[0][0]              \n",
      "__________________________________________________________________________________________________\n",
      "activation_28 (Activation)      (None, 14, 14, 1024) 0           add_9[0][0]                      \n",
      "__________________________________________________________________________________________________\n",
      "res4c_branch2a (Conv2D)         (None, 14, 14, 256)  262400      activation_28[0][0]              \n",
      "__________________________________________________________________________________________________\n",
      "bn4c_branch2a (BatchNormalizati (None, 14, 14, 256)  1024        res4c_branch2a[0][0]             \n",
      "__________________________________________________________________________________________________\n",
      "activation_29 (Activation)      (None, 14, 14, 256)  0           bn4c_branch2a[0][0]              \n",
      "__________________________________________________________________________________________________\n",
      "res4c_branch2b (Conv2D)         (None, 14, 14, 256)  590080      activation_29[0][0]              \n",
      "__________________________________________________________________________________________________\n",
      "bn4c_branch2b (BatchNormalizati (None, 14, 14, 256)  1024        res4c_branch2b[0][0]             \n",
      "__________________________________________________________________________________________________\n",
      "activation_30 (Activation)      (None, 14, 14, 256)  0           bn4c_branch2b[0][0]              \n",
      "__________________________________________________________________________________________________\n",
      "res4c_branch2c (Conv2D)         (None, 14, 14, 1024) 263168      activation_30[0][0]              \n",
      "__________________________________________________________________________________________________\n",
      "bn4c_branch2c (BatchNormalizati (None, 14, 14, 1024) 4096        res4c_branch2c[0][0]             \n",
      "__________________________________________________________________________________________________\n",
      "add_10 (Add)                    (None, 14, 14, 1024) 0           bn4c_branch2c[0][0]              \n",
      "                                                                 activation_28[0][0]              \n",
      "__________________________________________________________________________________________________\n",
      "activation_31 (Activation)      (None, 14, 14, 1024) 0           add_10[0][0]                     \n",
      "__________________________________________________________________________________________________\n",
      "res4d_branch2a (Conv2D)         (None, 14, 14, 256)  262400      activation_31[0][0]              \n",
      "__________________________________________________________________________________________________\n",
      "bn4d_branch2a (BatchNormalizati (None, 14, 14, 256)  1024        res4d_branch2a[0][0]             \n",
      "__________________________________________________________________________________________________\n",
      "activation_32 (Activation)      (None, 14, 14, 256)  0           bn4d_branch2a[0][0]              \n",
      "__________________________________________________________________________________________________\n",
      "res4d_branch2b (Conv2D)         (None, 14, 14, 256)  590080      activation_32[0][0]              \n",
      "__________________________________________________________________________________________________\n",
      "bn4d_branch2b (BatchNormalizati (None, 14, 14, 256)  1024        res4d_branch2b[0][0]             \n",
      "__________________________________________________________________________________________________\n",
      "activation_33 (Activation)      (None, 14, 14, 256)  0           bn4d_branch2b[0][0]              \n",
      "__________________________________________________________________________________________________\n",
      "res4d_branch2c (Conv2D)         (None, 14, 14, 1024) 263168      activation_33[0][0]              \n",
      "__________________________________________________________________________________________________\n",
      "bn4d_branch2c (BatchNormalizati (None, 14, 14, 1024) 4096        res4d_branch2c[0][0]             \n",
      "__________________________________________________________________________________________________\n",
      "add_11 (Add)                    (None, 14, 14, 1024) 0           bn4d_branch2c[0][0]              \n",
      "                                                                 activation_31[0][0]              \n",
      "__________________________________________________________________________________________________\n",
      "activation_34 (Activation)      (None, 14, 14, 1024) 0           add_11[0][0]                     \n",
      "__________________________________________________________________________________________________\n",
      "res4e_branch2a (Conv2D)         (None, 14, 14, 256)  262400      activation_34[0][0]              \n",
      "__________________________________________________________________________________________________\n",
      "bn4e_branch2a (BatchNormalizati (None, 14, 14, 256)  1024        res4e_branch2a[0][0]             \n",
      "__________________________________________________________________________________________________\n",
      "activation_35 (Activation)      (None, 14, 14, 256)  0           bn4e_branch2a[0][0]              \n",
      "__________________________________________________________________________________________________\n",
      "res4e_branch2b (Conv2D)         (None, 14, 14, 256)  590080      activation_35[0][0]              \n",
      "__________________________________________________________________________________________________\n",
      "bn4e_branch2b (BatchNormalizati (None, 14, 14, 256)  1024        res4e_branch2b[0][0]             \n",
      "__________________________________________________________________________________________________\n",
      "activation_36 (Activation)      (None, 14, 14, 256)  0           bn4e_branch2b[0][0]              \n",
      "__________________________________________________________________________________________________\n",
      "res4e_branch2c (Conv2D)         (None, 14, 14, 1024) 263168      activation_36[0][0]              \n",
      "__________________________________________________________________________________________________\n",
      "bn4e_branch2c (BatchNormalizati (None, 14, 14, 1024) 4096        res4e_branch2c[0][0]             \n",
      "__________________________________________________________________________________________________\n",
      "add_12 (Add)                    (None, 14, 14, 1024) 0           bn4e_branch2c[0][0]              \n",
      "                                                                 activation_34[0][0]              \n",
      "__________________________________________________________________________________________________\n",
      "activation_37 (Activation)      (None, 14, 14, 1024) 0           add_12[0][0]                     \n",
      "__________________________________________________________________________________________________\n",
      "res4f_branch2a (Conv2D)         (None, 14, 14, 256)  262400      activation_37[0][0]              \n",
      "__________________________________________________________________________________________________\n",
      "bn4f_branch2a (BatchNormalizati (None, 14, 14, 256)  1024        res4f_branch2a[0][0]             \n",
      "__________________________________________________________________________________________________\n",
      "activation_38 (Activation)      (None, 14, 14, 256)  0           bn4f_branch2a[0][0]              \n",
      "__________________________________________________________________________________________________\n",
      "res4f_branch2b (Conv2D)         (None, 14, 14, 256)  590080      activation_38[0][0]              \n",
      "__________________________________________________________________________________________________\n",
      "bn4f_branch2b (BatchNormalizati (None, 14, 14, 256)  1024        res4f_branch2b[0][0]             \n",
      "__________________________________________________________________________________________________\n",
      "activation_39 (Activation)      (None, 14, 14, 256)  0           bn4f_branch2b[0][0]              \n",
      "__________________________________________________________________________________________________\n",
      "res4f_branch2c (Conv2D)         (None, 14, 14, 1024) 263168      activation_39[0][0]              \n",
      "__________________________________________________________________________________________________\n",
      "bn4f_branch2c (BatchNormalizati (None, 14, 14, 1024) 4096        res4f_branch2c[0][0]             \n",
      "__________________________________________________________________________________________________\n",
      "add_13 (Add)                    (None, 14, 14, 1024) 0           bn4f_branch2c[0][0]              \n",
      "                                                                 activation_37[0][0]              \n",
      "__________________________________________________________________________________________________\n",
      "activation_40 (Activation)      (None, 14, 14, 1024) 0           add_13[0][0]                     \n",
      "__________________________________________________________________________________________________\n",
      "res5a_branch2a (Conv2D)         (None, 7, 7, 512)    524800      activation_40[0][0]              \n",
      "__________________________________________________________________________________________________\n",
      "bn5a_branch2a (BatchNormalizati (None, 7, 7, 512)    2048        res5a_branch2a[0][0]             \n",
      "__________________________________________________________________________________________________\n",
      "activation_41 (Activation)      (None, 7, 7, 512)    0           bn5a_branch2a[0][0]              \n",
      "__________________________________________________________________________________________________\n",
      "res5a_branch2b (Conv2D)         (None, 7, 7, 512)    2359808     activation_41[0][0]              \n",
      "__________________________________________________________________________________________________\n",
      "bn5a_branch2b (BatchNormalizati (None, 7, 7, 512)    2048        res5a_branch2b[0][0]             \n",
      "__________________________________________________________________________________________________\n",
      "activation_42 (Activation)      (None, 7, 7, 512)    0           bn5a_branch2b[0][0]              \n",
      "__________________________________________________________________________________________________\n",
      "res5a_branch2c (Conv2D)         (None, 7, 7, 2048)   1050624     activation_42[0][0]              \n",
      "__________________________________________________________________________________________________\n",
      "res5a_branch1 (Conv2D)          (None, 7, 7, 2048)   2099200     activation_40[0][0]              \n",
      "__________________________________________________________________________________________________\n",
      "bn5a_branch2c (BatchNormalizati (None, 7, 7, 2048)   8192        res5a_branch2c[0][0]             \n",
      "__________________________________________________________________________________________________\n",
      "bn5a_branch1 (BatchNormalizatio (None, 7, 7, 2048)   8192        res5a_branch1[0][0]              \n",
      "__________________________________________________________________________________________________\n",
      "add_14 (Add)                    (None, 7, 7, 2048)   0           bn5a_branch2c[0][0]              \n",
      "                                                                 bn5a_branch1[0][0]               \n",
      "__________________________________________________________________________________________________\n",
      "activation_43 (Activation)      (None, 7, 7, 2048)   0           add_14[0][0]                     \n",
      "__________________________________________________________________________________________________\n",
      "res5b_branch2a (Conv2D)         (None, 7, 7, 512)    1049088     activation_43[0][0]              \n",
      "__________________________________________________________________________________________________\n",
      "bn5b_branch2a (BatchNormalizati (None, 7, 7, 512)    2048        res5b_branch2a[0][0]             \n",
      "__________________________________________________________________________________________________\n",
      "activation_44 (Activation)      (None, 7, 7, 512)    0           bn5b_branch2a[0][0]              \n",
      "__________________________________________________________________________________________________\n",
      "res5b_branch2b (Conv2D)         (None, 7, 7, 512)    2359808     activation_44[0][0]              \n",
      "__________________________________________________________________________________________________\n",
      "bn5b_branch2b (BatchNormalizati (None, 7, 7, 512)    2048        res5b_branch2b[0][0]             \n",
      "__________________________________________________________________________________________________\n",
      "activation_45 (Activation)      (None, 7, 7, 512)    0           bn5b_branch2b[0][0]              \n",
      "__________________________________________________________________________________________________\n",
      "res5b_branch2c (Conv2D)         (None, 7, 7, 2048)   1050624     activation_45[0][0]              \n",
      "__________________________________________________________________________________________________\n",
      "bn5b_branch2c (BatchNormalizati (None, 7, 7, 2048)   8192        res5b_branch2c[0][0]             \n",
      "__________________________________________________________________________________________________\n",
      "add_15 (Add)                    (None, 7, 7, 2048)   0           bn5b_branch2c[0][0]              \n",
      "                                                                 activation_43[0][0]              \n",
      "__________________________________________________________________________________________________\n",
      "activation_46 (Activation)      (None, 7, 7, 2048)   0           add_15[0][0]                     \n",
      "__________________________________________________________________________________________________\n",
      "res5c_branch2a (Conv2D)         (None, 7, 7, 512)    1049088     activation_46[0][0]              \n",
      "__________________________________________________________________________________________________\n",
      "bn5c_branch2a (BatchNormalizati (None, 7, 7, 512)    2048        res5c_branch2a[0][0]             \n",
      "__________________________________________________________________________________________________\n",
      "activation_47 (Activation)      (None, 7, 7, 512)    0           bn5c_branch2a[0][0]              \n",
      "__________________________________________________________________________________________________\n",
      "res5c_branch2b (Conv2D)         (None, 7, 7, 512)    2359808     activation_47[0][0]              \n",
      "__________________________________________________________________________________________________\n",
      "bn5c_branch2b (BatchNormalizati (None, 7, 7, 512)    2048        res5c_branch2b[0][0]             \n",
      "__________________________________________________________________________________________________\n",
      "activation_48 (Activation)      (None, 7, 7, 512)    0           bn5c_branch2b[0][0]              \n",
      "__________________________________________________________________________________________________\n",
      "res5c_branch2c (Conv2D)         (None, 7, 7, 2048)   1050624     activation_48[0][0]              \n",
      "__________________________________________________________________________________________________\n",
      "bn5c_branch2c (BatchNormalizati (None, 7, 7, 2048)   8192        res5c_branch2c[0][0]             \n",
      "__________________________________________________________________________________________________\n",
      "add_16 (Add)                    (None, 7, 7, 2048)   0           bn5c_branch2c[0][0]              \n",
      "                                                                 activation_46[0][0]              \n",
      "__________________________________________________________________________________________________\n",
      "activation_49 (Activation)      (None, 7, 7, 2048)   0           add_16[0][0]                     \n",
      "==================================================================================================\n",
      "Total params: 23,587,712\n",
      "Trainable params: 23,534,592\n",
      "Non-trainable params: 53,120\n",
      "__________________________________________________________________________________________________\n"
     ]
    }
   ],
   "source": [
    "ResNet50.summary()"
   ]
  },
  {
   "cell_type": "markdown",
   "metadata": {},
   "source": [
    "### Freeze Layers\n",
    "After doing some research, I decided to freeze all of the layers of the pretrained model before adding on any more layers. So, this is what I do in the next cell. If you look at the output all cannot be trained:"
   ]
  },
  {
   "cell_type": "code",
   "execution_count": 59,
   "metadata": {},
   "outputs": [
    {
     "name": "stdout",
     "output_type": "stream",
     "text": [
      "<keras.engine.input_layer.InputLayer object at 0x1a3b6c7f98> False\n",
      "<keras.layers.convolutional.ZeroPadding2D object at 0x1a3b69b588> False\n",
      "<keras.layers.convolutional.Conv2D object at 0x1a3b69b2b0> False\n",
      "<keras.layers.normalization.BatchNormalization object at 0x1a3b69b828> False\n",
      "<keras.layers.core.Activation object at 0x1a3b69b9e8> False\n",
      "<keras.layers.convolutional.ZeroPadding2D object at 0x1a3b707278> False\n",
      "<keras.layers.pooling.MaxPooling2D object at 0x1a3b71d4e0> False\n",
      "<keras.layers.convolutional.Conv2D object at 0x1a3b6e3278> False\n",
      "<keras.layers.normalization.BatchNormalization object at 0x1a3b8fb048> False\n",
      "<keras.layers.core.Activation object at 0x1a3b8fba20> False\n",
      "<keras.layers.convolutional.Conv2D object at 0x1a3b915f60> False\n",
      "<keras.layers.normalization.BatchNormalization object at 0x1a3b981550> False\n",
      "<keras.layers.core.Activation object at 0x1a3b9b8518> False\n",
      "<keras.layers.convolutional.Conv2D object at 0x1a3ba30f28> False\n",
      "<keras.layers.convolutional.Conv2D object at 0x1a3ba87908> False\n",
      "<keras.layers.normalization.BatchNormalization object at 0x1a3ba689e8> False\n",
      "<keras.layers.normalization.BatchNormalization object at 0x1a3bb90940> False\n",
      "<keras.layers.merge.Add object at 0x1a3bbc5898> False\n",
      "<keras.layers.core.Activation object at 0x1a3bc22c88> False\n",
      "<keras.layers.convolutional.Conv2D object at 0x1a3bc7bac8> False\n",
      "<keras.layers.normalization.BatchNormalization object at 0x1a3bd0a710> False\n",
      "<keras.layers.core.Activation object at 0x1a3bd2a9e8> False\n",
      "<keras.layers.convolutional.Conv2D object at 0x1a3bd79eb8> False\n",
      "<keras.layers.normalization.BatchNormalization object at 0x1a3bd5a9b0> False\n",
      "<keras.layers.core.Activation object at 0x1a3bd98da0> False\n",
      "<keras.layers.convolutional.Conv2D object at 0x1a3be4d198> False\n",
      "<keras.layers.normalization.BatchNormalization object at 0x1a3be67b70> False\n",
      "<keras.layers.merge.Add object at 0x1a3bea45c0> False\n",
      "<keras.layers.core.Activation object at 0x1a3bf54a90> False\n",
      "<keras.layers.convolutional.Conv2D object at 0x1a3bfa24a8> False\n",
      "<keras.layers.normalization.BatchNormalization object at 0x1a3bfbf240> False\n",
      "<keras.layers.core.Activation object at 0x1a3c010a58> False\n",
      "<keras.layers.convolutional.Conv2D object at 0x1a3c0568d0> False\n",
      "<keras.layers.normalization.BatchNormalization object at 0x1a3c0a1940> False\n",
      "<keras.layers.core.Activation object at 0x1a3c0c1668> False\n",
      "<keras.layers.convolutional.Conv2D object at 0x1a3c18aa90> False\n",
      "<keras.layers.normalization.BatchNormalization object at 0x1a3c169898> False\n",
      "<keras.layers.merge.Add object at 0x1a3c1a49b0> False\n",
      "<keras.layers.core.Activation object at 0x1a3c235828> False\n",
      "<keras.layers.convolutional.Conv2D object at 0x1a3c235f60> False\n",
      "<keras.layers.normalization.BatchNormalization object at 0x1a3c2a2c18> False\n",
      "<keras.layers.core.Activation object at 0x1a3c318358> False\n",
      "<keras.layers.convolutional.Conv2D object at 0x1a3c357208> False\n",
      "<keras.layers.normalization.BatchNormalization object at 0x1a3c36ebe0> False\n",
      "<keras.layers.core.Activation object at 0x1a3c3ab630> False\n",
      "<keras.layers.convolutional.Conv2D object at 0x1a3c45d4e0> False\n",
      "<keras.layers.convolutional.Conv2D object at 0x1a3c4cb240> False\n",
      "<keras.layers.normalization.BatchNormalization object at 0x1a3c4ab518> False\n",
      "<keras.layers.normalization.BatchNormalization object at 0x1a3c576ef0> False\n",
      "<keras.layers.merge.Add object at 0x1a3c5ad940> False\n",
      "<keras.layers.core.Activation object at 0x1a3c663e10> False\n",
      "<keras.layers.convolutional.Conv2D object at 0x1a3c6b7828> False\n",
      "<keras.layers.normalization.BatchNormalization object at 0x1a3c6d45c0> False\n",
      "<keras.layers.core.Activation object at 0x1a3c723dd8> False\n",
      "<keras.layers.convolutional.Conv2D object at 0x1a3c7b8c18> False\n",
      "<keras.layers.normalization.BatchNormalization object at 0x1a3c7997b8> False\n",
      "<keras.layers.core.Activation object at 0x1a3c7d7c18> False\n",
      "<keras.layers.convolutional.Conv2D object at 0x1a3c8bafd0> False\n",
      "<keras.layers.normalization.BatchNormalization object at 0x1a3c89fa90> False\n",
      "<keras.layers.merge.Add object at 0x1a3c8dddd8> False\n",
      "<keras.layers.core.Activation object at 0x1a3c98d8d0> False\n",
      "<keras.layers.convolutional.Conv2D object at 0x1a3c98d9e8> False\n",
      "<keras.layers.normalization.BatchNormalization object at 0x1a3c9fe160> False\n",
      "<keras.layers.core.Activation object at 0x1a3ca4d898> False\n",
      "<keras.layers.convolutional.Conv2D object at 0x1a3ca99e48> False\n",
      "<keras.layers.normalization.BatchNormalization object at 0x1a3cae0780> False\n",
      "<keras.layers.core.Activation object at 0x1a3caff4a8> False\n",
      "<keras.layers.convolutional.Conv2D object at 0x1a3cbe8a58> False\n",
      "<keras.layers.normalization.BatchNormalization object at 0x1a3cbce860> False\n",
      "<keras.layers.merge.Add object at 0x1a3cc09978> False\n",
      "<keras.layers.core.Activation object at 0x1a3cc9a7f0> False\n",
      "<keras.layers.convolutional.Conv2D object at 0x1a3cc9ab70> False\n",
      "<keras.layers.normalization.BatchNormalization object at 0x1a3cd61a90> False\n",
      "<keras.layers.core.Activation object at 0x1a3cda52e8> False\n",
      "<keras.layers.convolutional.Conv2D object at 0x1a3cde01d0> False\n",
      "<keras.layers.normalization.BatchNormalization object at 0x1a3cdfaba8> False\n",
      "<keras.layers.core.Activation object at 0x1a3ce355f8> False\n",
      "<keras.layers.convolutional.Conv2D object at 0x1a3cee94a8> False\n",
      "<keras.layers.normalization.BatchNormalization object at 0x1a3cf814e0> False\n",
      "<keras.layers.merge.Add object at 0x1a3cfa1208> False\n",
      "<keras.layers.core.Activation object at 0x1a3d03a2e8> False\n",
      "<keras.layers.convolutional.Conv2D object at 0x1a3d0867b8> False\n",
      "<keras.layers.normalization.BatchNormalization object at 0x1a3d0a4550> False\n",
      "<keras.layers.core.Activation object at 0x1a3d0f0d68> False\n",
      "<keras.layers.convolutional.Conv2D object at 0x1a3d186f60> False\n",
      "<keras.layers.normalization.BatchNormalization object at 0x1a3d169a58> False\n",
      "<keras.layers.core.Activation object at 0x1a3d1abb70> False\n",
      "<keras.layers.convolutional.Conv2D object at 0x1a3d28af28> False\n",
      "<keras.layers.convolutional.Conv2D object at 0x1a3d2a9e10> False\n",
      "<keras.layers.normalization.BatchNormalization object at 0x1a3d26d9e8> False\n",
      "<keras.layers.normalization.BatchNormalization object at 0x1a3d3751d0> False\n",
      "<keras.layers.merge.Add object at 0x1a3d3b26a0> False\n",
      "<keras.layers.core.Activation object at 0x1a3d45fdd8> False\n",
      "<keras.layers.convolutional.Conv2D object at 0x1a3d4af7f0> False\n",
      "<keras.layers.normalization.BatchNormalization object at 0x1a3d4ce588> False\n",
      "<keras.layers.core.Activation object at 0x1a3d545320> False\n",
      "<keras.layers.convolutional.Conv2D object at 0x1a3d583208> False\n",
      "<keras.layers.normalization.BatchNormalization object at 0x1a3d599be0> False\n",
      "<keras.layers.core.Activation object at 0x1a3d5d5630> False\n",
      "<keras.layers.convolutional.Conv2D object at 0x1a3d6854e0> False\n",
      "<keras.layers.normalization.BatchNormalization object at 0x1a3d6d6518> False\n",
      "<keras.layers.merge.Add object at 0x1a3d6f5240> False\n",
      "<keras.layers.core.Activation object at 0x1a3d7922b0> False\n",
      "<keras.layers.convolutional.Conv2D object at 0x1a3d7dc7f0> False\n",
      "<keras.layers.normalization.BatchNormalization object at 0x1a3d7f9588> False\n",
      "<keras.layers.core.Activation object at 0x1a3d86e320> False\n",
      "<keras.layers.convolutional.Conv2D object at 0x1a3d8ae1d0> False\n",
      "<keras.layers.normalization.BatchNormalization object at 0x1a3d8c3ba8> False\n",
      "<keras.layers.core.Activation object at 0x1a3d8ff5f8> False\n",
      "<keras.layers.convolutional.Conv2D object at 0x1a3d9b14a8> False\n",
      "<keras.layers.normalization.BatchNormalization object at 0x1a3da024e0> False\n",
      "<keras.layers.merge.Add object at 0x1a3da22208> False\n",
      "<keras.layers.core.Activation object at 0x1a3dab72e8> False\n",
      "<keras.layers.convolutional.Conv2D object at 0x1a3db047b8> False\n",
      "<keras.layers.normalization.BatchNormalization object at 0x1a3db20550> False\n",
      "<keras.layers.core.Activation object at 0x1a3db9a2e8> False\n",
      "<keras.layers.convolutional.Conv2D object at 0x1a3dbd5198> False\n",
      "<keras.layers.normalization.BatchNormalization object at 0x1a3dbecb70> False\n",
      "<keras.layers.core.Activation object at 0x1a3dc275c0> False\n",
      "<keras.layers.convolutional.Conv2D object at 0x1a3dcd9470> False\n",
      "<keras.layers.normalization.BatchNormalization object at 0x1a3dd284a8> False\n",
      "<keras.layers.merge.Add object at 0x1a3dd47278> False\n",
      "<keras.layers.core.Activation object at 0x1a3dde22b0> False\n",
      "<keras.layers.convolutional.Conv2D object at 0x1a3de2b780> False\n",
      "<keras.layers.normalization.BatchNormalization object at 0x1a3de4a518> False\n",
      "<keras.layers.core.Activation object at 0x1a3debf2b0> False\n",
      "<keras.layers.convolutional.Conv2D object at 0x1a3defd160> False\n",
      "<keras.layers.normalization.BatchNormalization object at 0x1a3df12b38> False\n",
      "<keras.layers.core.Activation object at 0x1a3df50fd0> False\n",
      "<keras.layers.convolutional.Conv2D object at 0x1a3e001438> False\n",
      "<keras.layers.normalization.BatchNormalization object at 0x1a3e052470> False\n",
      "<keras.layers.merge.Add object at 0x1a3e071240> False\n",
      "<keras.layers.core.Activation object at 0x1a3e10ad30> False\n",
      "<keras.layers.convolutional.Conv2D object at 0x1a3e155748> False\n",
      "<keras.layers.normalization.BatchNormalization object at 0x1a3e1734e0> False\n",
      "<keras.layers.core.Activation object at 0x1a3e1e9278> False\n",
      "<keras.layers.convolutional.Conv2D object at 0x1a3e227128> False\n",
      "<keras.layers.normalization.BatchNormalization object at 0x1a3e23cb00> False\n",
      "<keras.layers.core.Activation object at 0x1a3e279e10> False\n",
      "<keras.layers.convolutional.Conv2D object at 0x1a3e374400> False\n",
      "<keras.layers.normalization.BatchNormalization object at 0x1a3e3c2438> False\n",
      "<keras.layers.merge.Add object at 0x1a3e3e2208> False\n",
      "<keras.layers.core.Activation object at 0x1a3e479cf8> False\n",
      "<keras.layers.convolutional.Conv2D object at 0x1a3e4c6710> False\n",
      "<keras.layers.normalization.BatchNormalization object at 0x1a3e4e54a8> False\n",
      "<keras.layers.core.Activation object at 0x1a3e55a240> False\n",
      "<keras.layers.convolutional.Conv2D object at 0x1a3e5970f0> False\n",
      "<keras.layers.normalization.BatchNormalization object at 0x1a3e5afac8> False\n",
      "<keras.layers.core.Activation object at 0x1a3e5e8fd0> False\n",
      "<keras.layers.convolutional.Conv2D object at 0x1a3e69d3c8> False\n",
      "<keras.layers.convolutional.Conv2D object at 0x1a3e79c1d0> False\n",
      "<keras.layers.normalization.BatchNormalization object at 0x1a3e780400> False\n",
      "<keras.layers.normalization.BatchNormalization object at 0x1a3e84b9b0> False\n",
      "<keras.layers.merge.Add object at 0x1a3e881828> False\n",
      "<keras.layers.core.Activation object at 0x1a3e934da0> False\n",
      "<keras.layers.convolutional.Conv2D object at 0x1a3e934f98> False\n",
      "<keras.layers.normalization.BatchNormalization object at 0x1a3e9acb00> False\n",
      "<keras.layers.core.Activation object at 0x1a3ea16780> False\n",
      "<keras.layers.convolutional.Conv2D object at 0x1a3ea5ad68> False\n",
      "<keras.layers.normalization.BatchNormalization object at 0x1a3eb19c50> False\n",
      "<keras.layers.core.Activation object at 0x1a3ead91d0> False\n",
      "<keras.layers.convolutional.Conv2D object at 0x1a3eb5eac8> False\n",
      "<keras.layers.normalization.BatchNormalization object at 0x1a3ebac978> False\n",
      "<keras.layers.merge.Add object at 0x1a3ebcd6a0> False\n",
      "<keras.layers.core.Activation object at 0x1a3ec60710> False\n",
      "<keras.layers.convolutional.Conv2D object at 0x1a3ec60f98> False\n",
      "<keras.layers.normalization.BatchNormalization object at 0x1a3ecd1b00> False\n",
      "<keras.layers.core.Activation object at 0x1a3ed3c780> False\n",
      "<keras.layers.convolutional.Conv2D object at 0x1a3ed85d30> False\n",
      "<keras.layers.normalization.BatchNormalization object at 0x1a3edd3668> False\n",
      "<keras.layers.core.Activation object at 0x1a3edee390> False\n",
      "<keras.layers.convolutional.Conv2D object at 0x1a3ee848d0> False\n",
      "<keras.layers.normalization.BatchNormalization object at 0x1a3eed4940> False\n",
      "<keras.layers.merge.Add object at 0x1a3eef3668> False\n",
      "<keras.layers.core.Activation object at 0x1a3ef886d8> False\n"
     ]
    }
   ],
   "source": [
    "# Freeze the layers except the last 4 layers\n",
    "for layer in ResNet50.layers:\n",
    "    layer.trainable = False\n",
    "\n",
    "#Check the trainable status of the individual layers\n",
    "for layer in ResNet50.layers:\n",
    "    print(layer, layer.trainable)"
   ]
  },
  {
   "cell_type": "markdown",
   "metadata": {},
   "source": [
    "### Create a new model:\n",
    "Below we are adding two fully connected layers to the ResNet50 layers we froze in the last part. At the end we also add a softmax activation layer. For this layer we specified 7, becuase that is that number of categories we will be classifying: backpacks, buckets, circles, clutches, fanny packs, shoulder bags, an totes. "
   ]
  },
  {
   "cell_type": "code",
   "execution_count": 62,
   "metadata": {},
   "outputs": [
    {
     "name": "stdout",
     "output_type": "stream",
     "text": [
      "_________________________________________________________________\n",
      "Layer (type)                 Output Shape              Param #   \n",
      "=================================================================\n",
      "resnet50 (Model)             (None, 7, 7, 2048)        23587712  \n",
      "_________________________________________________________________\n",
      "flatten_4 (Flatten)          (None, 100352)            0         \n",
      "_________________________________________________________________\n",
      "dense_5 (Dense)              (None, 1024)              102761472 \n",
      "_________________________________________________________________\n",
      "dropout_4 (Dropout)          (None, 1024)              0         \n",
      "_________________________________________________________________\n",
      "dense_6 (Dense)              (None, 1024)              1049600   \n",
      "_________________________________________________________________\n",
      "dropout_5 (Dropout)          (None, 1024)              0         \n",
      "_________________________________________________________________\n",
      "dense_7 (Dense)              (None, 7)                 7175      \n",
      "=================================================================\n",
      "Total params: 127,405,959\n",
      "Trainable params: 103,818,247\n",
      "Non-trainable params: 23,587,712\n",
      "_________________________________________________________________\n"
     ]
    }
   ],
   "source": [
    "from keras import models\n",
    "from keras import layers\n",
    "from keras import optimizers\n",
    " \n",
    "#Create the model\n",
    "model = models.Sequential()\n",
    " \n",
    "#Add the vgg convolutional base model\n",
    "model.add(ResNet50)\n",
    " \n",
    "#Add new layers\n",
    "model.add(layers.Flatten())\n",
    "model.add(layers.Dense(1024, activation='relu'))\n",
    "model.add(layers.Dropout(0.5))\n",
    "model.add(layers.Dense(1024, activation='relu'))\n",
    "model.add(layers.Dropout(0.5))\n",
    "model.add(layers.Dense(7, activation='softmax'))\n",
    " \n",
    "#Show a summary of the model. Check the number of trainable parameters\n",
    "model.summary()"
   ]
  },
  {
   "cell_type": "markdown",
   "metadata": {},
   "source": [
    "### Data Generators:\n",
    "\n",
    "Create the data generators using keras' ImageDataGenerator. We will use the training and validation directories we created earlier to do this."
   ]
  },
  {
   "cell_type": "code",
   "execution_count": 64,
   "metadata": {},
   "outputs": [
    {
     "name": "stdout",
     "output_type": "stream",
     "text": [
      "Found 1503 images belonging to 7 classes.\n",
      "Found 356 images belonging to 7 classes.\n"
     ]
    }
   ],
   "source": [
    "from keras.preprocessing.image import ImageDataGenerator\n",
    "train_datagen = ImageDataGenerator(\n",
    "      rescale=1./255,\n",
    "      rotation_range=20,\n",
    "      width_shift_range=0.2,\n",
    "      height_shift_range=0.2,\n",
    "      horizontal_flip=True,\n",
    "      fill_mode='nearest')\n",
    " \n",
    "validation_datagen = ImageDataGenerator(rescale=1./255)\n",
    " \n",
    "# Change the batchsize according to your system RAM\n",
    "train_batchsize = 100\n",
    "val_batchsize = 10\n",
    " \n",
    "train_generator = train_datagen.flow_from_directory(\n",
    "        '../data/train',\n",
    "        target_size=(224, 224),\n",
    "        batch_size=train_batchsize,\n",
    "        class_mode='categorical')\n",
    " \n",
    "validation_generator = validation_datagen.flow_from_directory(\n",
    "        '../data/validation',\n",
    "        target_size=(224, 224),\n",
    "        batch_size=val_batchsize,\n",
    "        class_mode='categorical',\n",
    "        shuffle=False)"
   ]
  },
  {
   "cell_type": "markdown",
   "metadata": {},
   "source": [
    "### Train:\n",
    "\n",
    "Now that we have everything in place we can train our new model. So, below we will do this now by first complining our new model, fitting it on our training data, and then saving it."
   ]
  },
  {
   "cell_type": "code",
   "execution_count": 65,
   "metadata": {},
   "outputs": [
    {
     "name": "stdout",
     "output_type": "stream",
     "text": [
      "WARNING:tensorflow:From /Users/elenasm7/anaconda/lib/python3.6/site-packages/tensorflow/python/ops/math_ops.py:3066: to_int32 (from tensorflow.python.ops.math_ops) is deprecated and will be removed in a future version.\n",
      "Instructions for updating:\n",
      "Use tf.cast instead.\n",
      "Epoch 1/30\n",
      "16/15 [===============================] - 636s 40s/step - loss: 5.8486 - acc: 0.3992 - val_loss: 1.9760 - val_acc: 0.2697\n",
      "Epoch 2/30\n",
      "16/15 [===============================] - 470s 29s/step - loss: 2.4069 - acc: 0.5222 - val_loss: 1.9184 - val_acc: 0.2921\n",
      "Epoch 3/30\n",
      "16/15 [===============================] - 428s 27s/step - loss: 1.9482 - acc: 0.5761 - val_loss: 2.0755 - val_acc: 0.0506\n",
      "Epoch 4/30\n",
      "16/15 [===============================] - 427s 27s/step - loss: 1.5124 - acc: 0.6027 - val_loss: 1.9163 - val_acc: 0.2669\n",
      "Epoch 5/30\n",
      "16/15 [===============================] - 483s 30s/step - loss: 1.2404 - acc: 0.6491 - val_loss: 1.9841 - val_acc: 0.1039\n",
      "Epoch 6/30\n",
      "16/15 [===============================] - 453s 28s/step - loss: 1.1862 - acc: 0.6547 - val_loss: 1.9637 - val_acc: 0.1320\n",
      "Epoch 7/30\n",
      "16/15 [===============================] - 435s 27s/step - loss: 1.2362 - acc: 0.6424 - val_loss: 1.8329 - val_acc: 0.2893\n",
      "Epoch 8/30\n",
      "16/15 [===============================] - 426s 27s/step - loss: 1.1084 - acc: 0.6646 - val_loss: 1.9245 - val_acc: 0.1994\n",
      "Epoch 9/30\n",
      "16/15 [===============================] - 434s 27s/step - loss: 1.0827 - acc: 0.6646 - val_loss: 1.8855 - val_acc: 0.2753\n",
      "Epoch 10/30\n",
      "16/15 [===============================] - 433s 27s/step - loss: 1.0145 - acc: 0.6916 - val_loss: 1.9130 - val_acc: 0.1601\n",
      "Epoch 11/30\n",
      "16/15 [===============================] - 440s 27s/step - loss: 0.8559 - acc: 0.7319 - val_loss: 1.8132 - val_acc: 0.2921\n",
      "Epoch 12/30\n",
      "16/15 [===============================] - 464s 29s/step - loss: 0.8415 - acc: 0.7420 - val_loss: 1.8683 - val_acc: 0.1573\n",
      "Epoch 13/30\n",
      "16/15 [===============================] - 437s 27s/step - loss: 0.8484 - acc: 0.7603 - val_loss: 1.8767 - val_acc: 0.1798\n",
      "Epoch 14/30\n",
      "16/15 [===============================] - 434s 27s/step - loss: 0.8074 - acc: 0.7558 - val_loss: 1.9446 - val_acc: 0.0955\n",
      "Epoch 15/30\n",
      "16/15 [===============================] - 431s 27s/step - loss: 0.7851 - acc: 0.7595 - val_loss: 1.9082 - val_acc: 0.2753\n",
      "Epoch 16/30\n",
      "16/15 [===============================] - 421s 26s/step - loss: 0.7453 - acc: 0.7727 - val_loss: 2.1454 - val_acc: 0.0478\n",
      "Epoch 17/30\n",
      "16/15 [===============================] - 438s 27s/step - loss: 0.7314 - acc: 0.7746 - val_loss: 1.9860 - val_acc: 0.2612\n",
      "Epoch 18/30\n",
      "16/15 [===============================] - 414s 26s/step - loss: 0.8422 - acc: 0.7721 - val_loss: 2.0000 - val_acc: 0.2921\n",
      "Epoch 19/30\n",
      "16/15 [===============================] - 472s 29s/step - loss: 0.7382 - acc: 0.7752 - val_loss: 2.0750 - val_acc: 0.1713\n",
      "Epoch 20/30\n",
      "16/15 [===============================] - 466s 29s/step - loss: 0.6973 - acc: 0.7554 - val_loss: 2.1436 - val_acc: 0.2809\n",
      "Epoch 21/30\n",
      "16/15 [===============================] - 446s 28s/step - loss: 0.7811 - acc: 0.8066 - val_loss: 1.9312 - val_acc: 0.1376\n",
      "Epoch 22/30\n",
      "16/15 [===============================] - 442s 28s/step - loss: 0.6038 - acc: 0.8141 - val_loss: 1.9333 - val_acc: 0.1910\n",
      "Epoch 23/30\n",
      "16/15 [===============================] - 479s 30s/step - loss: 0.6323 - acc: 0.8281 - val_loss: 2.0689 - val_acc: 0.0955\n",
      "Epoch 24/30\n",
      "16/15 [===============================] - 439s 27s/step - loss: 0.6995 - acc: 0.8066 - val_loss: 1.9808 - val_acc: 0.2472\n",
      "Epoch 25/30\n",
      "16/15 [===============================] - 479s 30s/step - loss: 0.6562 - acc: 0.8103 - val_loss: 2.1105 - val_acc: 0.2865\n",
      "Epoch 26/30\n",
      "16/15 [===============================] - 437s 27s/step - loss: 0.6123 - acc: 0.8152 - val_loss: 1.9884 - val_acc: 0.2669\n",
      "Epoch 27/30\n",
      "16/15 [===============================] - 427s 27s/step - loss: 0.6224 - acc: 0.8026 - val_loss: 2.1324 - val_acc: 0.2921\n",
      "Epoch 28/30\n",
      "16/15 [===============================] - 423s 26s/step - loss: 0.5972 - acc: 0.8329 - val_loss: 2.1042 - val_acc: 0.2921\n",
      "Epoch 29/30\n",
      "16/15 [===============================] - 444s 28s/step - loss: 0.6106 - acc: 0.8241 - val_loss: 2.0977 - val_acc: 0.1742\n",
      "Epoch 30/30\n",
      "16/15 [===============================] - 426s 27s/step - loss: 0.5018 - acc: 0.8486 - val_loss: 2.0386 - val_acc: 0.2921\n"
     ]
    }
   ],
   "source": [
    "# Compile the model\n",
    "model.compile(loss='categorical_crossentropy',\n",
    "              optimizer=optimizers.RMSprop(lr=1e-4),\n",
    "              metrics=['acc'])\n",
    "# Train the model\n",
    "history = model.fit_generator(\n",
    "      train_generator,\n",
    "      steps_per_epoch=train_generator.samples/train_generator.batch_size ,\n",
    "      epochs=30,\n",
    "      validation_data=validation_generator,\n",
    "      validation_steps=validation_generator.samples/validation_generator.batch_size,\n",
    "      verbose=1)\n",
    " \n",
    "# Save the model\n",
    "model.save('small_last4.h5')"
   ]
  },
  {
   "cell_type": "markdown",
   "metadata": {},
   "source": [
    "### Check Preformance:\n",
    "\n",
    "Let us check how well this model preformed. We will displaying a few graphs below:"
   ]
  },
  {
   "cell_type": "code",
   "execution_count": 66,
   "metadata": {},
   "outputs": [
    {
     "data": {
      "image/png": "[encoded data removed]",
      "text/plain": [
       "<Figure size 432x288 with 1 Axes>"
      ]
     },
     "metadata": {},
     "output_type": "display_data"
    },
    {
     "data": {
      "image/png": "[encoded data removed]",
      "text/plain": [
       "<Figure size 432x288 with 1 Axes>"
      ]
     },
     "metadata": {},
     "output_type": "display_data"
    }
   ],
   "source": [
    "acc = history.history['acc']\n",
    "val_acc = history.history['val_acc']\n",
    "loss = history.history['loss']\n",
    "val_loss = history.history['val_loss']\n",
    " \n",
    "epochs = range(len(acc))\n",
    " \n",
    "plt.plot(epochs, acc, 'b', label='Training acc')\n",
    "plt.plot(epochs, val_acc, 'r', label='Validation acc')\n",
    "plt.title('Training and validation accuracy')\n",
    "plt.legend()\n",
    " \n",
    "plt.figure()\n",
    " \n",
    "plt.plot(epochs, loss, 'b', label='Training loss')\n",
    "plt.plot(epochs, val_loss, 'r', label='Validation loss')\n",
    "plt.title('Training and validation loss')\n",
    "plt.legend()\n",
    " \n",
    "plt.show()"
   ]
  },
  {
   "cell_type": "markdown",
   "metadata": {},
   "source": [
    "### Model 2:\n",
    "\n",
    "It looks like our model overfit on our training data, so we will try to help with this. One resource I found suggested getting rid of some of the Dense fully connected layers, using data augmentation, and including more drop layers. So, we will try these below."
   ]
  },
  {
   "cell_type": "code",
   "execution_count": 67,
   "metadata": {},
   "outputs": [
    {
     "name": "stdout",
     "output_type": "stream",
     "text": [
      "_________________________________________________________________\n",
      "Layer (type)                 Output Shape              Param #   \n",
      "=================================================================\n",
      "resnet50 (Model)             (None, 7, 7, 2048)        23587712  \n",
      "_________________________________________________________________\n",
      "flatten_5 (Flatten)          (None, 100352)            0         \n",
      "_________________________________________________________________\n",
      "dropout_6 (Dropout)          (None, 100352)            0         \n",
      "_________________________________________________________________\n",
      "dense_8 (Dense)              (None, 1024)              102761472 \n",
      "_________________________________________________________________\n",
      "dropout_7 (Dropout)          (None, 1024)              0         \n",
      "_________________________________________________________________\n",
      "dense_9 (Dense)              (None, 7)                 7175      \n",
      "=================================================================\n",
      "Total params: 126,356,359\n",
      "Trainable params: 102,768,647\n",
      "Non-trainable params: 23,587,712\n",
      "_________________________________________________________________\n"
     ]
    }
   ],
   "source": [
    "from keras import models\n",
    "from keras import layers\n",
    "from keras import optimizers\n",
    " \n",
    "#Create the model\n",
    "model_2 = models.Sequential()\n",
    " \n",
    "#Add the vgg convolutional base model\n",
    "model_2.add(ResNet50)\n",
    " \n",
    "#Add new layers\n",
    "model_2.add(layers.Flatten())\n",
    "model_2.add(layers.Dropout(0.5))\n",
    "model_2.add(layers.Dense(1024, activation='relu'))\n",
    "model_2.add(layers.Dropout(0.5))\n",
    "model_2.add(layers.Dense(7, activation='softmax'))\n",
    " \n",
    "#Show a summary of the model. Check the number of trainable parameters\n",
    "model_2.summary()"
   ]
  },
  {
   "cell_type": "markdown",
   "metadata": {},
   "source": [
    "### New Data Generators:"
   ]
  },
  {
   "cell_type": "code",
   "execution_count": 68,
   "metadata": {},
   "outputs": [
    {
     "name": "stdout",
     "output_type": "stream",
     "text": [
      "Found 1503 images belonging to 7 classes.\n",
      "Found 356 images belonging to 7 classes.\n"
     ]
    }
   ],
   "source": [
    "train_datagen_2 = ImageDataGenerator(\n",
    "    rescale=1./255,\n",
    "    zoom_range=0.15,\n",
    "    rotation_range=20,\n",
    "    width_shift_range=0.2,\n",
    "    height_shift_range=0.2,\n",
    "    horizontal_flip=True,\n",
    "    fill_mode='nearest')\n",
    " \n",
    "validation_datagen_2 = ImageDataGenerator(rescale=1./255)\n",
    " \n",
    "# Change the batchsize according to your system RAM\n",
    "train_batchsize = 100\n",
    "val_batchsize = 10\n",
    " \n",
    "train_generator_2 = train_datagen_2.flow_from_directory(\n",
    "    '../data/train',\n",
    "    target_size=(224, 224),\n",
    "    batch_size=train_batchsize,\n",
    "    class_mode='categorical')\n",
    " \n",
    "validation_generator_2 = validation_datagen_2.flow_from_directory(\n",
    "    '../data/validation',\n",
    "    target_size=(224, 224),\n",
    "    batch_size=val_batchsize,\n",
    "    class_mode='categorical',\n",
    "    shuffle=False)"
   ]
  },
  {
   "cell_type": "markdown",
   "metadata": {},
   "source": [
    "### Train New Model"
   ]
  },
  {
   "cell_type": "code",
   "execution_count": 69,
   "metadata": {},
   "outputs": [
    {
     "name": "stdout",
     "output_type": "stream",
     "text": [
      "Epoch 1/30\n",
      "16/15 [===============================] - 565s 35s/step - loss: 8.2027 - acc: 0.3996 - val_loss: 7.3175 - val_acc: 0.2921\n",
      "Epoch 2/30\n",
      "16/15 [===============================] - 454s 28s/step - loss: 7.6597 - acc: 0.4751 - val_loss: 6.4745 - val_acc: 0.2921\n",
      "Epoch 3/30\n",
      "16/15 [===============================] - 456s 28s/step - loss: 5.6291 - acc: 0.5732 - val_loss: 6.1234 - val_acc: 0.2697\n",
      "Epoch 4/30\n",
      "16/15 [===============================] - 448s 28s/step - loss: 4.2758 - acc: 0.5985 - val_loss: 3.7272 - val_acc: 0.3315\n",
      "Epoch 5/30\n",
      "16/15 [===============================] - 451s 28s/step - loss: 3.7855 - acc: 0.6267 - val_loss: 3.5048 - val_acc: 0.2753\n",
      "Epoch 6/30\n",
      "16/15 [===============================] - 440s 28s/step - loss: 2.8048 - acc: 0.7033 - val_loss: 3.2595 - val_acc: 0.2921\n",
      "Epoch 7/30\n",
      "16/15 [===============================] - 450s 28s/step - loss: 2.5342 - acc: 0.6543 - val_loss: 2.7429 - val_acc: 0.2921\n",
      "Epoch 8/30\n",
      "16/15 [===============================] - 443s 28s/step - loss: 1.5755 - acc: 0.6807 - val_loss: 2.4911 - val_acc: 0.2921\n",
      "Epoch 9/30\n",
      "16/15 [===============================] - 433s 27s/step - loss: 1.1333 - acc: 0.7200 - val_loss: 1.9900 - val_acc: 0.3006\n",
      "Epoch 10/30\n",
      "16/15 [===============================] - 430s 27s/step - loss: 0.8824 - acc: 0.7691 - val_loss: 2.1182 - val_acc: 0.2921\n",
      "Epoch 11/30\n",
      "16/15 [===============================] - 439s 27s/step - loss: 0.8760 - acc: 0.7589 - val_loss: 1.9595 - val_acc: 0.2921\n",
      "Epoch 12/30\n",
      "16/15 [===============================] - 443s 28s/step - loss: 0.7239 - acc: 0.7917 - val_loss: 2.1181 - val_acc: 0.2921\n",
      "Epoch 13/30\n",
      "16/15 [===============================] - 430s 27s/step - loss: 0.7408 - acc: 0.7834 - val_loss: 2.1521 - val_acc: 0.2921\n",
      "Epoch 14/30\n",
      "16/15 [===============================] - 434s 27s/step - loss: 0.6820 - acc: 0.8124 - val_loss: 2.2693 - val_acc: 0.2781\n",
      "Epoch 15/30\n",
      "16/15 [===============================] - 428s 27s/step - loss: 0.6560 - acc: 0.8193 - val_loss: 2.2568 - val_acc: 0.2893\n",
      "Epoch 16/30\n",
      "16/15 [===============================] - 435s 27s/step - loss: 0.6820 - acc: 0.8156 - val_loss: 2.1475 - val_acc: 0.2921\n",
      "Epoch 17/30\n",
      "16/15 [===============================] - 436s 27s/step - loss: 0.8078 - acc: 0.7459 - val_loss: 2.2254 - val_acc: 0.2921\n",
      "Epoch 18/30\n",
      "16/15 [===============================] - 435s 27s/step - loss: 0.6931 - acc: 0.8166 - val_loss: 2.2769 - val_acc: 0.2921\n",
      "Epoch 19/30\n",
      "16/15 [===============================] - 429s 27s/step - loss: 0.7104 - acc: 0.8083 - val_loss: 2.1492 - val_acc: 0.2921\n",
      "Epoch 20/30\n",
      "16/15 [===============================] - 428s 27s/step - loss: 0.5390 - acc: 0.8438 - val_loss: 2.3977 - val_acc: 0.2893\n",
      "Epoch 21/30\n",
      "16/15 [===============================] - 431s 27s/step - loss: 0.5969 - acc: 0.8363 - val_loss: 2.4650 - val_acc: 0.2107\n",
      "Epoch 22/30\n",
      "16/15 [===============================] - 443s 28s/step - loss: 0.5283 - acc: 0.8398 - val_loss: 2.4979 - val_acc: 0.0478\n",
      "Epoch 23/30\n",
      "16/15 [===============================] - 432s 27s/step - loss: 0.6638 - acc: 0.8139 - val_loss: 2.6327 - val_acc: 0.0674\n",
      "Epoch 24/30\n",
      "16/15 [===============================] - 443s 28s/step - loss: 0.6063 - acc: 0.8455 - val_loss: 2.5004 - val_acc: 0.1489\n",
      "Epoch 25/30\n",
      "16/15 [===============================] - 439s 27s/step - loss: 0.6065 - acc: 0.7842 - val_loss: 3.0490 - val_acc: 0.0646\n",
      "Epoch 26/30\n",
      "16/15 [===============================] - 437s 27s/step - loss: 0.5933 - acc: 0.8618 - val_loss: 3.0073 - val_acc: 0.2051\n",
      "Epoch 27/30\n",
      "16/15 [===============================] - 433s 27s/step - loss: 0.4699 - acc: 0.8839 - val_loss: 3.1406 - val_acc: 0.1124\n",
      "Epoch 28/30\n",
      "16/15 [===============================] - 433s 27s/step - loss: 0.4300 - acc: 0.8852 - val_loss: 2.9602 - val_acc: 0.3034\n",
      "Epoch 29/30\n",
      "16/15 [===============================] - 434s 27s/step - loss: 0.3810 - acc: 0.8946 - val_loss: 3.0426 - val_acc: 0.1039\n",
      "Epoch 30/30\n",
      "16/15 [===============================] - 435s 27s/step - loss: 0.5124 - acc: 0.8699 - val_loss: 3.3081 - val_acc: 0.2949\n"
     ]
    }
   ],
   "source": [
    "# Compile the model\n",
    "model_2.compile(loss='categorical_crossentropy',\n",
    "              optimizer=optimizers.RMSprop(lr=1e-4),\n",
    "              metrics=['acc'])\n",
    "# Train the model\n",
    "history_2 = model_2.fit_generator(\n",
    "      train_generator_2,\n",
    "      steps_per_epoch=train_generator_2.samples/train_generator_2.batch_size ,\n",
    "      epochs=30,\n",
    "      validation_data=validation_generator_2,\n",
    "      validation_steps=validation_generator_2.samples/validation_generator_2.batch_size,\n",
    "      verbose=1)\n",
    " \n",
    "# Save the model\n",
    "model_2.save('../model_2.h5')"
   ]
  },
  {
   "cell_type": "code",
   "execution_count": 76,
   "metadata": {},
   "outputs": [
    {
     "data": {
      "image/png": "[encoded data removed]",
      "text/plain": [
       "<Figure size 432x288 with 1 Axes>"
      ]
     },
     "metadata": {},
     "output_type": "display_data"
    },
    {
     "data": {
      "image/png": "[encoded data removed]",
      "text/plain": [
       "<Figure size 432x288 with 1 Axes>"
      ]
     },
     "metadata": {},
     "output_type": "display_data"
    }
   ],
   "source": [
    "acc = history_2.history['acc']\n",
    "val_acc = history_2.history['val_acc']\n",
    "loss = history_2.history['loss']\n",
    "val_loss = history_2.history['val_loss']\n",
    " \n",
    "epochs = range(len(acc))\n",
    " \n",
    "plt.plot(epochs, acc, 'b', label='Training acc')\n",
    "plt.plot(epochs, val_acc, 'r', label='Validation acc')\n",
    "plt.title('Training and validation accuracy')\n",
    "plt.legend()\n",
    " \n",
    "plt.figure()\n",
    " \n",
    "plt.plot(epochs, loss, 'b', label='Training loss')\n",
    "plt.plot(epochs, val_loss, 'r', label='Validation loss')\n",
    "plt.title('Training and validation loss')\n",
    "plt.legend()\n",
    " \n",
    "plt.show()"
   ]
  },
  {
   "cell_type": "markdown",
   "metadata": {},
   "source": [
    "### Model 3:\n"
   ]
  },
  {
   "cell_type": "code",
   "execution_count": 78,
   "metadata": {},
   "outputs": [
    {
     "name": "stdout",
     "output_type": "stream",
     "text": [
      "_________________________________________________________________\n",
      "Layer (type)                 Output Shape              Param #   \n",
      "=================================================================\n",
      "resnet50 (Model)             (None, 7, 7, 2048)        23587712  \n",
      "_________________________________________________________________\n",
      "flatten_7 (Flatten)          (None, 100352)            0         \n",
      "_________________________________________________________________\n",
      "dropout_10 (Dropout)         (None, 100352)            0         \n",
      "_________________________________________________________________\n",
      "dense_12 (Dense)             (None, 14)                1404942   \n",
      "_________________________________________________________________\n",
      "dropout_11 (Dropout)         (None, 14)                0         \n",
      "_________________________________________________________________\n",
      "dense_13 (Dense)             (None, 7)                 105       \n",
      "=================================================================\n",
      "Total params: 24,992,759\n",
      "Trainable params: 1,405,047\n",
      "Non-trainable params: 23,587,712\n",
      "_________________________________________________________________\n"
     ]
    }
   ],
   "source": [
    "#Create the model\n",
    "model_3 = models.Sequential()\n",
    " \n",
    "#Add the vgg convolutional base model\n",
    "model_3.add(ResNet50)\n",
    " \n",
    "#Add new layers\n",
    "model_3.add(layers.Flatten())\n",
    "model_3.add(layers.Dropout(0.5))\n",
    "model_3.add(layers.Dense(14, activation='relu'))\n",
    "model_3.add(layers.Dropout(0.5))\n",
    "model_3.add(layers.Dense(7, activation='softmax'))\n",
    " \n",
    "#Show a summary of the model. Check the number of trainable parameters\n",
    "model_3.summary()"
   ]
  },
  {
   "cell_type": "markdown",
   "metadata": {},
   "source": [
    "### New Data Generators 3:"
   ]
  },
  {
   "cell_type": "code",
   "execution_count": 79,
   "metadata": {},
   "outputs": [
    {
     "name": "stdout",
     "output_type": "stream",
     "text": [
      "Found 1503 images belonging to 7 classes.\n",
      "Found 356 images belonging to 7 classes.\n"
     ]
    }
   ],
   "source": [
    "train_datagen_3 = ImageDataGenerator(\n",
    "    rescale=1./255,\n",
    "    zoom_range=0.15,\n",
    "    rotation_range=20,\n",
    "    width_shift_range=0.2,\n",
    "    height_shift_range=0.2,\n",
    "    horizontal_flip=True,\n",
    "    fill_mode='nearest')\n",
    " \n",
    "validation_datagen_3 = ImageDataGenerator(rescale=1./255)\n",
    " \n",
    "# Change the batchsize according to your system RAM\n",
    "train_batchsize = 100\n",
    "val_batchsize = 10\n",
    " \n",
    "train_generator_3 = train_datagen_3.flow_from_directory(\n",
    "    '../data/train',\n",
    "    target_size=(224, 224),\n",
    "    batch_size=train_batchsize,\n",
    "    class_mode='categorical')\n",
    " \n",
    "validation_generator_3 = validation_datagen_3.flow_from_directory(\n",
    "    '../data/validation',\n",
    "    target_size=(224, 224),\n",
    "    batch_size=val_batchsize,\n",
    "    class_mode='categorical',\n",
    "    shuffle=False)"
   ]
  },
  {
   "cell_type": "markdown",
   "metadata": {},
   "source": [
    "### Train Model 3:"
   ]
  },
  {
   "cell_type": "code",
   "execution_count": 80,
   "metadata": {},
   "outputs": [
    {
     "name": "stdout",
     "output_type": "stream",
     "text": [
      "Epoch 1/20\n",
      "16/15 [===============================] - 463s 29s/step - loss: 2.1050 - acc: 0.2764 - val_loss: 1.8526 - val_acc: 0.2865\n",
      "Epoch 2/20\n",
      "16/15 [===============================] - 376s 24s/step - loss: 1.7788 - acc: 0.2817 - val_loss: 1.8248 - val_acc: 0.2921\n",
      "Epoch 3/20\n",
      "16/15 [===============================] - 379s 24s/step - loss: 1.6579 - acc: 0.3760 - val_loss: 1.9102 - val_acc: 0.2781\n",
      "Epoch 4/20\n",
      "16/15 [===============================] - 378s 24s/step - loss: 1.6720 - acc: 0.4005 - val_loss: 1.8450 - val_acc: 0.2921\n",
      "Epoch 5/20\n",
      "16/15 [===============================] - 377s 24s/step - loss: 1.6722 - acc: 0.3911 - val_loss: 1.9153 - val_acc: 0.2275\n",
      "Epoch 6/20\n",
      "16/15 [===============================] - 376s 24s/step - loss: 1.6524 - acc: 0.3714 - val_loss: 1.9263 - val_acc: 0.1461\n",
      "Epoch 7/20\n",
      "16/15 [===============================] - 376s 23s/step - loss: 1.5915 - acc: 0.3967 - val_loss: 1.9058 - val_acc: 0.2809\n",
      "Epoch 8/20\n",
      "16/15 [===============================] - 384s 24s/step - loss: 1.7267 - acc: 0.4097 - val_loss: 1.8640 - val_acc: 0.2921\n",
      "Epoch 9/20\n",
      "16/15 [===============================] - 421s 26s/step - loss: 1.5724 - acc: 0.4481 - val_loss: 1.8935 - val_acc: 0.2725\n",
      "Epoch 10/20\n",
      "16/15 [===============================] - 397s 25s/step - loss: 1.6163 - acc: 0.4634 - val_loss: 1.8925 - val_acc: 0.2865\n",
      "Epoch 11/20\n",
      "16/15 [===============================] - 454s 28s/step - loss: 1.5109 - acc: 0.4810 - val_loss: 1.9070 - val_acc: 0.2725\n",
      "Epoch 12/20\n",
      "16/15 [===============================] - 395s 25s/step - loss: 1.5423 - acc: 0.4341 - val_loss: 1.8416 - val_acc: 0.2978\n",
      "Epoch 13/20\n",
      "16/15 [===============================] - 397s 25s/step - loss: 1.4455 - acc: 0.4615 - val_loss: 1.7927 - val_acc: 0.2949\n",
      "Epoch 14/20\n",
      "16/15 [===============================] - 394s 25s/step - loss: 1.4792 - acc: 0.4550 - val_loss: 1.7950 - val_acc: 0.2949\n",
      "Epoch 15/20\n",
      "16/15 [===============================] - 392s 25s/step - loss: 1.4746 - acc: 0.5106 - val_loss: 1.7983 - val_acc: 0.2865\n",
      "Epoch 16/20\n",
      "16/15 [===============================] - 393s 25s/step - loss: 1.5355 - acc: 0.4423 - val_loss: 1.7986 - val_acc: 0.2612\n",
      "Epoch 17/20\n",
      "16/15 [===============================] - 393s 25s/step - loss: 1.4509 - acc: 0.4699 - val_loss: 1.8422 - val_acc: 0.1798\n",
      "Epoch 18/20\n",
      "16/15 [===============================] - 391s 24s/step - loss: 1.3825 - acc: 0.5286 - val_loss: 1.8478 - val_acc: 0.2978\n",
      "Epoch 19/20\n",
      "16/15 [===============================] - 390s 24s/step - loss: 1.3776 - acc: 0.5046 - val_loss: 1.8017 - val_acc: 0.2781\n",
      "Epoch 20/20\n",
      "16/15 [===============================] - 397s 25s/step - loss: 1.4566 - acc: 0.4768 - val_loss: 1.8362 - val_acc: 0.2921\n"
     ]
    }
   ],
   "source": [
    "# Compile the model\n",
    "model_3.compile(loss='categorical_crossentropy',\n",
    "              optimizer=optimizers.RMSprop(lr=1e-4),\n",
    "              metrics=['acc'])\n",
    "# Train the model\n",
    "history_3 = model_3.fit_generator(\n",
    "      train_generator_3,\n",
    "      steps_per_epoch=train_generator_3.samples/train_generator_3.batch_size ,\n",
    "      epochs=20,\n",
    "      validation_data=validation_generator_3,\n",
    "      validation_steps=validation_generator_3.samples/validation_generator_3.batch_size,\n",
    "      verbose=1)\n",
    " \n",
    "# Save the model\n",
    "model_3.save('../model_3.h5')"
   ]
  },
  {
   "cell_type": "markdown",
   "metadata": {},
   "source": [
    "### Next Steps:\n",
    "Due to these resutls, I believe the best way to improve these results is simply to scrape more bags from different shops online."
   ]
  }
 ],
 "metadata": {
  "kernelspec": {
   "display_name": "Python 3",
   "language": "python",
   "name": "python3"
  },
  "language_info": {
   "codemirror_mode": {
    "name": "ipython",
    "version": 3
   },
   "file_extension": ".py",
   "mimetype": "text/x-python",
   "name": "python",
   "nbconvert_exporter": "python",
   "pygments_lexer": "ipython3",
   "version": "3.6.8"
  }
 },
 "nbformat": 4,
 "nbformat_minor": 2
}
